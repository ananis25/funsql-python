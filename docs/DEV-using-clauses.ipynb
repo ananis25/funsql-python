{
 "cells": [
  {
   "cell_type": "markdown",
   "id": "5a9d34ab",
   "metadata": {},
   "source": [
    "NOTE: This notebook gets rendered with all cells executed in the `docs` directory.     "
   ]
  },
  {
   "cell_type": "markdown",
   "id": "7c2f99cf",
   "metadata": {},
   "source": [
    "FunSQL internally represents the SQL syntax using clause objects. This notebook shows how they get compiled to SQL strings and is used to test different dialects. Users don't interact with this API directly. "
   ]
  },
  {
   "cell_type": "markdown",
   "id": "1c800dc3",
   "metadata": {},
   "source": [
    "## Working with clauses"
   ]
  },
  {
   "cell_type": "markdown",
   "id": "569ece8a",
   "metadata": {},
   "source": [
    "SQLClause objects correspond directly to the syntax of the SQL language. A SQL query can be assembled by constructing clauses and chaining them. The final object can then be rendered to a string."
   ]
  },
  {
   "cell_type": "code",
   "execution_count": 1,
   "id": "f9cd52f0-e7da-42c9-8c54-27ecfe01db06",
   "metadata": {
    "execution": {
     "iopub.execute_input": "2022-07-01T19:32:38.402173Z",
     "iopub.status.busy": "2022-07-01T19:32:38.401588Z",
     "iopub.status.idle": "2022-07-01T19:32:38.422903Z",
     "shell.execute_reply": "2022-07-01T19:32:38.423233Z"
    }
   },
   "outputs": [],
   "source": [
    "from funsql.common import S\n",
    "from funsql.clausedefs import *\n",
    "from funsql.render import dialect_default\n",
    "from funsql.compiler.serialize import SerializationContext, serialize"
   ]
  },
  {
   "cell_type": "markdown",
   "id": "61b0d2c3",
   "metadata": {},
   "source": [
    "The serialization of a query depends on the database dialect selected. This document uses `Sqlite`. "
   ]
  },
  {
   "cell_type": "code",
   "execution_count": 2,
   "id": "73a6b7da-1eb7-407d-be81-3b8a8cc4a42c",
   "metadata": {
    "execution": {
     "iopub.execute_input": "2022-07-01T19:32:38.426987Z",
     "iopub.status.busy": "2022-07-01T19:32:38.426543Z",
     "iopub.status.idle": "2022-07-01T19:32:38.428067Z",
     "shell.execute_reply": "2022-07-01T19:32:38.428378Z"
    }
   },
   "outputs": [],
   "source": [
    "def test_render(clause, only_query = False) -> None:\n",
    "    if not only_query:\n",
    "        print(\"clause: \\n\", clause, \"\\n\", sep=\"\")\n",
    "        print(\"-\" * 80)\n",
    "\n",
    "    ctx = SerializationContext(dialect_default())\n",
    "    serialize(clause, ctx)\n",
    "    print(ctx.render())"
   ]
  },
  {
   "cell_type": "markdown",
   "id": "ab1e3a46-1fed-4db3-b26b-f53ba9650706",
   "metadata": {},
   "source": [
    "Constructing a query and serializing it."
   ]
  },
  {
   "cell_type": "code",
   "execution_count": 3,
   "id": "4fe5a61e-a52d-4c8b-be8a-c2443667d6ec",
   "metadata": {
    "execution": {
     "iopub.execute_input": "2022-07-01T19:32:38.431761Z",
     "iopub.status.busy": "2022-07-01T19:32:38.431271Z",
     "iopub.status.idle": "2022-07-01T19:32:38.433030Z",
     "shell.execute_reply": "2022-07-01T19:32:38.433291Z"
    }
   },
   "outputs": [
    {
     "name": "stdout",
     "output_type": "stream",
     "text": [
      "clause: \n",
      "ID(person) >> FROM() >> SELECT(ID(person_id), ID(date_of_birth))\n",
      "\n",
      "--------------------------------------------------------------------------------\n",
      "query: \n",
      "SELECT\n",
      "  \"person_id\", \n",
      "  \"date_of_birth\"\n",
      "FROM \"person\"\n"
     ]
    }
   ],
   "source": [
    "c = FROM(S.person) >> SELECT(S.person_id, S.date_of_birth)\n",
    "test_render(c)"
   ]
  },
  {
   "cell_type": "markdown",
   "id": "fbd28f59",
   "metadata": {},
   "source": [
    "#### Symbols"
   ]
  },
  {
   "cell_type": "markdown",
   "id": "88da2481",
   "metadata": {},
   "source": [
    "We need python strings to represent\n",
    "* identifiers (say, table/column/function names) \n",
    "* and also, literal values in SQL (say, values in the `user_name` column of type `TEXT`)\n",
    "\n",
    "To make it easy for clause constructors to distinguish between the two, we wrap identifiers in `Symbol` objects, which can be created using the shorthand `S`. So, \n",
    "* `SELECT(S(\"user_name\"))` corresponds to: `SELECT user_name`\n",
    "* `SELECT(\"user_name\")` corresponds to: `SELECT 'user_name'`"
   ]
  },
  {
   "cell_type": "markdown",
   "id": "ad2e4271",
   "metadata": {},
   "source": [
    "The fluent syntax also works, that is"
   ]
  },
  {
   "cell_type": "code",
   "execution_count": 4,
   "id": "eb84a8ae",
   "metadata": {
    "execution": {
     "iopub.execute_input": "2022-07-01T19:32:38.439457Z",
     "iopub.status.busy": "2022-07-01T19:32:38.438991Z",
     "iopub.status.idle": "2022-07-01T19:32:38.440681Z",
     "shell.execute_reply": "2022-07-01T19:32:38.440944Z"
    }
   },
   "outputs": [
    {
     "data": {
      "text/plain": [
       "funsql.common.Symbol"
      ]
     },
     "execution_count": 4,
     "metadata": {},
     "output_type": "execute_result"
    }
   ],
   "source": [
    "S.user_name == S(\"user_name\")\n",
    "type(S.user_name)"
   ]
  },
  {
   "cell_type": "markdown",
   "id": "84a2f66b",
   "metadata": {},
   "source": [
    "And to chain multiple symbols, use the utility method `qual` (for \"qualifier\"). FunSQL translates it to chained `ID` clauses."
   ]
  },
  {
   "cell_type": "code",
   "execution_count": 5,
   "id": "ee21ba6d",
   "metadata": {
    "execution": {
     "iopub.execute_input": "2022-07-01T19:32:38.443784Z",
     "iopub.status.busy": "2022-07-01T19:32:38.443435Z",
     "iopub.status.idle": "2022-07-01T19:32:38.445059Z",
     "shell.execute_reply": "2022-07-01T19:32:38.445288Z"
    }
   },
   "outputs": [
    {
     "data": {
      "text/plain": [
       "ID(schema_name) >> ID(table_name) >> ID(col_name)"
      ]
     },
     "execution_count": 5,
     "metadata": {},
     "output_type": "execute_result"
    }
   ],
   "source": [
    "qual(S.schema_name, S.table_name, S.col_name)"
   ]
  },
  {
   "cell_type": "markdown",
   "id": "7a8eaf23-9cef-4f12-b236-1addd0aedf22",
   "metadata": {
    "tags": []
   },
   "source": [
    "#### Literals"
   ]
  },
  {
   "cell_type": "markdown",
   "id": "4cbc21b1",
   "metadata": {},
   "source": [
    "These represent SQL literals and can be constructed using the `LIT` clause. "
   ]
  },
  {
   "cell_type": "code",
   "execution_count": 6,
   "id": "fe1c29be-24f1-41a0-956a-8437cafae22c",
   "metadata": {
    "execution": {
     "iopub.execute_input": "2022-07-01T19:32:38.447699Z",
     "iopub.status.busy": "2022-07-01T19:32:38.447287Z",
     "iopub.status.idle": "2022-07-01T19:32:38.448741Z",
     "shell.execute_reply": "2022-07-01T19:32:38.448970Z"
    }
   },
   "outputs": [
    {
     "data": {
      "text/plain": [
       "LIT(\"SQL is funny!\")"
      ]
     },
     "execution_count": 6,
     "metadata": {},
     "output_type": "execute_result"
    }
   ],
   "source": [
    "c = LIT(\"SQL is funny!\")\n",
    "c"
   ]
  },
  {
   "cell_type": "markdown",
   "id": "7c87d1d6",
   "metadata": {},
   "source": [
    "The common python types are converted to SQL literals when used with a clause. "
   ]
  },
  {
   "cell_type": "code",
   "execution_count": 7,
   "id": "0cc4b10e-97fe-4620-8a83-16efb0cca58c",
   "metadata": {
    "execution": {
     "iopub.execute_input": "2022-07-01T19:32:38.451432Z",
     "iopub.status.busy": "2022-07-01T19:32:38.451103Z",
     "iopub.status.idle": "2022-07-01T19:32:38.452198Z",
     "shell.execute_reply": "2022-07-01T19:32:38.452537Z"
    }
   },
   "outputs": [
    {
     "name": "stdout",
     "output_type": "stream",
     "text": [
      "clause: \n",
      "SELECT(LIT(NULL),\n",
      "       LIT(True),\n",
      "       LIT(100),\n",
      "       LIT(200.2),\n",
      "       LIT(\"FunSQL\"),\n",
      "       LIT(DATE '2022-02-01'))\n",
      "\n",
      "--------------------------------------------------------------------------------\n",
      "query: \n",
      "SELECT\n",
      "  NULL, \n",
      "  TRUE, \n",
      "  100, \n",
      "  200.2, \n",
      "  'FunSQL', \n",
      "  DATE '2022-02-01'\n"
     ]
    }
   ],
   "source": [
    "import datetime\n",
    "\n",
    "c = SELECT(None, True, 100, 200.2, \"FunSQL\", datetime.date(2022, 2, 1))\n",
    "test_render(c)"
   ]
  },
  {
   "cell_type": "markdown",
   "id": "37f8d733-c77c-4481-8bd2-3b88e45241c6",
   "metadata": {
    "tags": [],
    "toc-hr-collapsed": true
   },
   "source": [
    "#### Identifiers"
   ]
  },
  {
   "cell_type": "markdown",
   "id": "c4e60aa6",
   "metadata": {},
   "source": [
    "A SQL identifier is constructed using the `ID` clause."
   ]
  },
  {
   "cell_type": "code",
   "execution_count": 8,
   "id": "ad67e6a7-7f6b-49c3-a360-d3ce7711318b",
   "metadata": {
    "execution": {
     "iopub.execute_input": "2022-07-01T19:32:38.454847Z",
     "iopub.status.busy": "2022-07-01T19:32:38.454501Z",
     "iopub.status.idle": "2022-07-01T19:32:38.455929Z",
     "shell.execute_reply": "2022-07-01T19:32:38.456193Z"
    }
   },
   "outputs": [
    {
     "data": {
      "text/plain": [
       "ID(person)"
      ]
     },
     "execution_count": 8,
     "metadata": {},
     "output_type": "execute_result"
    }
   ],
   "source": [
    "c = ID(S.person)\n",
    "c"
   ]
  },
  {
   "cell_type": "code",
   "execution_count": 9,
   "id": "9cf1d2bf-24a6-4035-8744-29f19d05aead",
   "metadata": {
    "execution": {
     "iopub.execute_input": "2022-07-01T19:32:38.458414Z",
     "iopub.status.busy": "2022-07-01T19:32:38.458039Z",
     "iopub.status.idle": "2022-07-01T19:32:38.459334Z",
     "shell.execute_reply": "2022-07-01T19:32:38.459533Z"
    }
   },
   "outputs": [
    {
     "data": {
      "text/plain": [
       "ID(person) >> ID(email_addr)"
      ]
     },
     "execution_count": 9,
     "metadata": {},
     "output_type": "execute_result"
    }
   ],
   "source": [
    "c = ID(S.person) >> ID(S.email_addr)\n",
    "c"
   ]
  },
  {
   "cell_type": "code",
   "execution_count": 10,
   "id": "c3c59f51-69cd-48bf-a173-c4442680596e",
   "metadata": {
    "execution": {
     "iopub.execute_input": "2022-07-01T19:32:38.461453Z",
     "iopub.status.busy": "2022-07-01T19:32:38.461133Z",
     "iopub.status.idle": "2022-07-01T19:32:38.462424Z",
     "shell.execute_reply": "2022-07-01T19:32:38.462624Z"
    }
   },
   "outputs": [
    {
     "name": "stdout",
     "output_type": "stream",
     "text": [
      "clause: \n",
      "ID(person) >> ID(person_id)\n",
      "\n",
      "--------------------------------------------------------------------------------\n",
      "query: \n",
      "\"person\".\"person_id\"\n"
     ]
    }
   ],
   "source": [
    "c = ID(S.person_id, over=ID(S.person))\n",
    "test_render(c)"
   ]
  },
  {
   "cell_type": "markdown",
   "id": "d6260394-176a-4310-bd11-b925202e6049",
   "metadata": {},
   "source": [
    "When used in the context of a SQL clause, `Symbol` objects are converted to `ID` clauses."
   ]
  },
  {
   "cell_type": "code",
   "execution_count": 11,
   "id": "ce9a45c2",
   "metadata": {
    "execution": {
     "iopub.execute_input": "2022-07-01T19:32:38.464830Z",
     "iopub.status.busy": "2022-07-01T19:32:38.464511Z",
     "iopub.status.idle": "2022-07-01T19:32:38.465931Z",
     "shell.execute_reply": "2022-07-01T19:32:38.466133Z"
    }
   },
   "outputs": [
    {
     "data": {
      "text/plain": [
       "ID(person) >> FROM() >> SELECT(ID(person_id), ID(date_of_birth))"
      ]
     },
     "execution_count": 11,
     "metadata": {},
     "output_type": "execute_result"
    }
   ],
   "source": [
    "FROM(S.person) >> SELECT(S.person_id, S.date_of_birth)"
   ]
  },
  {
   "cell_type": "markdown",
   "id": "3558fabf-b53a-4e30-a45a-95bb35a4862b",
   "metadata": {
    "tags": [],
    "toc-hr-collapsed": true
   },
   "source": [
    "#### Variables"
   ]
  },
  {
   "cell_type": "markdown",
   "id": "39a36ab6",
   "metadata": {},
   "source": [
    "SQL placeholder parameters are represented using the `VAR` clause. "
   ]
  },
  {
   "cell_type": "code",
   "execution_count": 12,
   "id": "b1e06de9-b6b3-4d32-bc32-0448fd7c58d2",
   "metadata": {
    "execution": {
     "iopub.execute_input": "2022-07-01T19:32:38.468126Z",
     "iopub.status.busy": "2022-07-01T19:32:38.467783Z",
     "iopub.status.idle": "2022-07-01T19:32:38.469207Z",
     "shell.execute_reply": "2022-07-01T19:32:38.469371Z"
    }
   },
   "outputs": [
    {
     "data": {
      "text/plain": [
       "VAR(year)"
      ]
     },
     "execution_count": 12,
     "metadata": {},
     "output_type": "execute_result"
    }
   ],
   "source": [
    "c=VAR(S.year)\n",
    "c"
   ]
  },
  {
   "cell_type": "markdown",
   "id": "da4d6eff",
   "metadata": {},
   "source": [
    "Serializing a clause yields a `SQLString` object which also contains a list of the variables used. They can be bound to values when executing the query."
   ]
  },
  {
   "cell_type": "code",
   "execution_count": 13,
   "id": "71fbaa57",
   "metadata": {
    "execution": {
     "iopub.execute_input": "2022-07-01T19:32:38.471686Z",
     "iopub.status.busy": "2022-07-01T19:32:38.471379Z",
     "iopub.status.idle": "2022-07-01T19:32:38.472554Z",
     "shell.execute_reply": "2022-07-01T19:32:38.472797Z"
    }
   },
   "outputs": [
    {
     "name": "stdout",
     "output_type": "stream",
     "text": [
      "query: \n",
      "SELECT \"flight_id\"\n",
      "FROM \"flights\"\n",
      "WHERE ((\"origin\" = $1) OR (\"dest\" = $1))\n",
      "\n",
      "vars: [city]\n"
     ]
    }
   ],
   "source": [
    "c = (\n",
    "    FROM(S.flights) >> \n",
    "    WHERE(OP(\"OR\", OP(\"=\", S.origin, VAR(S.city)), OP(\"=\", S.dest, VAR(S.city)))) >> \n",
    "    SELECT(S.flight_id)\n",
    ")\n",
    "test_render(c, only_query=True)"
   ]
  },
  {
   "cell_type": "markdown",
   "id": "2adb9831-1601-44f6-a839-03b46d62f422",
   "metadata": {
    "tags": [],
    "toc-hr-collapsed": true
   },
   "source": [
    "#### Operator"
   ]
  },
  {
   "cell_type": "markdown",
   "id": "030bb598",
   "metadata": {},
   "source": [
    "A SQL operator can be used using the `OP` clause."
   ]
  },
  {
   "cell_type": "code",
   "execution_count": 14,
   "id": "71031e74-ae72-4d82-9b81-225afec410bb",
   "metadata": {
    "execution": {
     "iopub.execute_input": "2022-07-01T19:32:38.474940Z",
     "iopub.status.busy": "2022-07-01T19:32:38.474625Z",
     "iopub.status.idle": "2022-07-01T19:32:38.475700Z",
     "shell.execute_reply": "2022-07-01T19:32:38.475951Z"
    }
   },
   "outputs": [
    {
     "name": "stdout",
     "output_type": "stream",
     "text": [
      "clause: \n",
      "OP(\"NOT\", OP(\"=\", ID(zip), LIT(42000)))\n",
      "\n",
      "--------------------------------------------------------------------------------\n",
      "query: \n",
      "(NOT (\"zip\" = 42000))\n"
     ]
    }
   ],
   "source": [
    "c = OP(S.NOT, OP(\"=\", S.zip, 42000))\n",
    "test_render(c)"
   ]
  },
  {
   "cell_type": "code",
   "execution_count": 15,
   "id": "f8191a15-881e-4ee5-900c-69516990c14e",
   "metadata": {
    "execution": {
     "iopub.execute_input": "2022-07-01T19:32:38.477708Z",
     "iopub.status.busy": "2022-07-01T19:32:38.477422Z",
     "iopub.status.idle": "2022-07-01T19:32:38.478475Z",
     "shell.execute_reply": "2022-07-01T19:32:38.478652Z"
    }
   },
   "outputs": [
    {
     "name": "stdout",
     "output_type": "stream",
     "text": [
      "clause: \n",
      "OP(\"CURRENT_TIMESTAMP\")\n",
      "\n",
      "--------------------------------------------------------------------------------\n",
      "query: \n",
      "CURRENT_TIMESTAMP\n"
     ]
    }
   ],
   "source": [
    "c = OP(S.CURRENT_TIMESTAMP)\n",
    "test_render(c)"
   ]
  },
  {
   "cell_type": "markdown",
   "id": "19917c65",
   "metadata": {},
   "source": [
    "Composite operators can be constructed using the `KW` clause."
   ]
  },
  {
   "cell_type": "code",
   "execution_count": 16,
   "id": "93395317-8276-404e-ad14-2f67d0374c7e",
   "metadata": {
    "execution": {
     "iopub.execute_input": "2022-07-01T19:32:38.480392Z",
     "iopub.status.busy": "2022-07-01T19:32:38.480110Z",
     "iopub.status.idle": "2022-07-01T19:32:38.481535Z",
     "shell.execute_reply": "2022-07-01T19:32:38.481694Z"
    }
   },
   "outputs": [
    {
     "name": "stdout",
     "output_type": "stream",
     "text": [
      "clause: \n",
      "OP(\"BETWEEN\", ID(year_of_birth), LIT(2000), LIT(2020) >> KW(AND))\n",
      "\n",
      "--------------------------------------------------------------------------------\n",
      "query: \n",
      "(\"year_of_birth\" BETWEEN 2000 AND 2020)\n"
     ]
    }
   ],
   "source": [
    "c = OP(\"BETWEEN\", S.year_of_birth, 2000, KW(S.AND, 2020))\n",
    "test_render(c)"
   ]
  },
  {
   "cell_type": "markdown",
   "id": "463015d4-5f11-4d97-b5fb-3dde674247b5",
   "metadata": {
    "tags": [],
    "toc-hr-collapsed": true
   },
   "source": [
    "#### Case"
   ]
  },
  {
   "cell_type": "markdown",
   "id": "c42d6489",
   "metadata": {},
   "source": [
    "Case expressions are constructed using the `CASE` clause. The arguments to the constructor is an interleaved sequence of conditions (`WHEN`) and corresponding values (`THEN`). \n",
    "\n",
    "When the total number of args is odd, the last argument is used as the default value."
   ]
  },
  {
   "cell_type": "code",
   "execution_count": 17,
   "id": "783f546d-808c-4766-8cac-efd46a7bdf20",
   "metadata": {
    "execution": {
     "iopub.execute_input": "2022-07-01T19:32:38.483640Z",
     "iopub.status.busy": "2022-07-01T19:32:38.483356Z",
     "iopub.status.idle": "2022-07-01T19:32:38.484654Z",
     "shell.execute_reply": "2022-07-01T19:32:38.484828Z"
    }
   },
   "outputs": [
    {
     "name": "stdout",
     "output_type": "stream",
     "text": [
      "clause: \n",
      "CASE(OP(\">\", ID(year_of_birth), LIT(2000)), LIT(\"youngling\"))\n",
      "\n",
      "--------------------------------------------------------------------------------\n",
      "query: \n",
      "(CASE WHEN (\"year_of_birth\" > 2000) THEN 'youngling' END)\n"
     ]
    }
   ],
   "source": [
    "c = CASE(OP(\">\", S.year_of_birth, 2000), \"youngling\")\n",
    "test_render(c)"
   ]
  },
  {
   "cell_type": "code",
   "execution_count": 18,
   "id": "dc472885-517b-4afc-9e0d-de158f6df702",
   "metadata": {
    "execution": {
     "iopub.execute_input": "2022-07-01T19:32:38.486712Z",
     "iopub.status.busy": "2022-07-01T19:32:38.486384Z",
     "iopub.status.idle": "2022-07-01T19:32:38.487534Z",
     "shell.execute_reply": "2022-07-01T19:32:38.487690Z"
    }
   },
   "outputs": [
    {
     "name": "stdout",
     "output_type": "stream",
     "text": [
      "clause: \n",
      "CASE(OP(\">\", ID(year_of_birth), LIT(2000)), LIT(\"youngling\"), LIT(\"millenial\"))\n",
      "\n",
      "--------------------------------------------------------------------------------\n",
      "query: \n",
      "(CASE WHEN (\"year_of_birth\" > 2000) THEN 'youngling' ELSE 'millenial' END)\n"
     ]
    }
   ],
   "source": [
    "c = CASE(OP(\">\", S.year_of_birth, 2000), \"youngling\", \"millenial\")\n",
    "test_render(c)"
   ]
  },
  {
   "cell_type": "markdown",
   "id": "98d60649-0cb7-495e-988d-e0dc55d3537b",
   "metadata": {
    "tags": [],
    "toc-hr-collapsed": true
   },
   "source": [
    "#### AS"
   ]
  },
  {
   "cell_type": "markdown",
   "id": "d6339e1c",
   "metadata": {},
   "source": [
    "A SQL `AS` expression is constructed using the `AS` clause.\n"
   ]
  },
  {
   "cell_type": "code",
   "execution_count": 19,
   "id": "277c4694-b6f1-4b5b-ba55-1bd988620ba2",
   "metadata": {
    "execution": {
     "iopub.execute_input": "2022-07-01T19:32:38.489538Z",
     "iopub.status.busy": "2022-07-01T19:32:38.489238Z",
     "iopub.status.idle": "2022-07-01T19:32:38.490554Z",
     "shell.execute_reply": "2022-07-01T19:32:38.490715Z"
    }
   },
   "outputs": [
    {
     "name": "stdout",
     "output_type": "stream",
     "text": [
      "clause: \n",
      "ID(person) >> AS(p)\n",
      "\n",
      "--------------------------------------------------------------------------------\n",
      "query: \n",
      "\"person\" AS \"p\"\n"
     ]
    }
   ],
   "source": [
    "c = ID(S.person) >> AS(S.p)\n",
    "test_render(c)"
   ]
  },
  {
   "cell_type": "code",
   "execution_count": 20,
   "id": "c56cebf4-8a11-4cd5-b2d4-cf8dfffc5216",
   "metadata": {
    "execution": {
     "iopub.execute_input": "2022-07-01T19:32:38.492689Z",
     "iopub.status.busy": "2022-07-01T19:32:38.492399Z",
     "iopub.status.idle": "2022-07-01T19:32:38.493535Z",
     "shell.execute_reply": "2022-07-01T19:32:38.493686Z"
    }
   },
   "outputs": [
    {
     "name": "stdout",
     "output_type": "stream",
     "text": [
      "clause: \n",
      "ID(person) >> AS(p) >> FROM() >> SELECT(ID(p) >> ID(person_id))\n",
      "\n",
      "--------------------------------------------------------------------------------\n",
      "query: \n",
      "SELECT \"p\".\"person_id\"\n",
      "FROM \"person\" AS \"p\"\n"
     ]
    }
   ],
   "source": [
    "c = FROM(alias(\"person\", \"p\")) >> SELECT(qual(\"p\", \"person_id\"))\n",
    "test_render(c)"
   ]
  },
  {
   "cell_type": "markdown",
   "id": "15608ef1-67b8-4daf-a9ab-b1a262be1eb4",
   "metadata": {
    "tags": [],
    "toc-hr-collapsed": true
   },
   "source": [
    "#### Function"
   ]
  },
  {
   "cell_type": "markdown",
   "id": "dc910bd3",
   "metadata": {},
   "source": [
    "SQL functions are represented using the `FUN` clause, with the first arg being the function name.  "
   ]
  },
  {
   "cell_type": "code",
   "execution_count": 21,
   "id": "d548be02-a799-49b3-95a1-15a8eefbd4a6",
   "metadata": {
    "execution": {
     "iopub.execute_input": "2022-07-01T19:32:38.495681Z",
     "iopub.status.busy": "2022-07-01T19:32:38.495399Z",
     "iopub.status.idle": "2022-07-01T19:32:38.496485Z",
     "shell.execute_reply": "2022-07-01T19:32:38.496631Z"
    }
   },
   "outputs": [
    {
     "name": "stdout",
     "output_type": "stream",
     "text": [
      "clause: \n",
      "FUN(\"CONCAT\", ID(city), LIT(\", \"), ID(state))\n",
      "\n",
      "--------------------------------------------------------------------------------\n",
      "query: \n",
      "CONCAT(\"city\", ', ', \"state\")\n"
     ]
    }
   ],
   "source": [
    "c = FUN(\"CONCAT\", S.city, \", \", S.state)\n",
    "test_render(c)"
   ]
  },
  {
   "cell_type": "markdown",
   "id": "ad90a855",
   "metadata": {},
   "source": [
    "Function with keyword arguments are constructed using the `KW` clause."
   ]
  },
  {
   "cell_type": "code",
   "execution_count": 22,
   "id": "44ba76bd-4d33-4bf3-bbd3-0c6e1b538de3",
   "metadata": {
    "execution": {
     "iopub.execute_input": "2022-07-01T19:32:38.498624Z",
     "iopub.status.busy": "2022-07-01T19:32:38.498307Z",
     "iopub.status.idle": "2022-07-01T19:32:38.499359Z",
     "shell.execute_reply": "2022-07-01T19:32:38.499534Z"
    }
   },
   "outputs": [
    {
     "name": "stdout",
     "output_type": "stream",
     "text": [
      "clause: \n",
      "FUN(\"SUBSTRING\", ID(zip), LIT(1) >> KW(FROM), LIT(3) >> KW(FOR))\n",
      "\n",
      "--------------------------------------------------------------------------------\n",
      "query: \n",
      "SUBSTRING(\"zip\" FROM 1 FOR 3)\n"
     ]
    }
   ],
   "source": [
    "c = FUN(\"SUBSTRING\", S.zip, KW(\"FROM\", 1), KW(\"FOR\", 3))\n",
    "test_render(c)"
   ]
  },
  {
   "cell_type": "markdown",
   "id": "683f1e3d",
   "metadata": {},
   "source": [
    "Function without any arguments"
   ]
  },
  {
   "cell_type": "code",
   "execution_count": 23,
   "id": "a8872553-71f4-4bdd-ad35-1840ae132384",
   "metadata": {
    "execution": {
     "iopub.execute_input": "2022-07-01T19:32:38.501204Z",
     "iopub.status.busy": "2022-07-01T19:32:38.500932Z",
     "iopub.status.idle": "2022-07-01T19:32:38.502276Z",
     "shell.execute_reply": "2022-07-01T19:32:38.502118Z"
    }
   },
   "outputs": [
    {
     "name": "stdout",
     "output_type": "stream",
     "text": [
      "clause: \n",
      "FUN(\"NOW\")\n",
      "\n",
      "--------------------------------------------------------------------------------\n",
      "query: \n",
      "NOW()\n"
     ]
    }
   ],
   "source": [
    "c = FUN(\"NOW\")\n",
    "test_render(c)"
   ]
  },
  {
   "cell_type": "markdown",
   "id": "c1da0120-047c-42d0-92e6-3842fd8e2bcf",
   "metadata": {
    "tags": [],
    "toc-hr-collapsed": true
   },
   "source": [
    "#### Aggregates"
   ]
  },
  {
   "cell_type": "markdown",
   "id": "6cef6f08",
   "metadata": {},
   "source": [
    "Aggregates are defined using the `AGG` clause."
   ]
  },
  {
   "cell_type": "code",
   "execution_count": 24,
   "id": "501e1f27-1074-4c91-8f85-230ce5e46718",
   "metadata": {
    "execution": {
     "iopub.execute_input": "2022-07-01T19:32:38.504091Z",
     "iopub.status.busy": "2022-07-01T19:32:38.503811Z",
     "iopub.status.idle": "2022-07-01T19:32:38.504901Z",
     "shell.execute_reply": "2022-07-01T19:32:38.505073Z"
    }
   },
   "outputs": [
    {
     "name": "stdout",
     "output_type": "stream",
     "text": [
      "clause: \n",
      "AGG(\"COUNT\", OP(\"*\"))\n",
      "\n",
      "--------------------------------------------------------------------------------\n",
      "query: \n",
      "COUNT(*)\n"
     ]
    }
   ],
   "source": [
    "c = AGG(\"COUNT\", S(\"*\"))\n",
    "test_render(c)"
   ]
  },
  {
   "cell_type": "markdown",
   "id": "46b964f1",
   "metadata": {},
   "source": [
    "With a `DISTINCT` modifier"
   ]
  },
  {
   "cell_type": "code",
   "execution_count": 25,
   "id": "20f53dc1-ba97-4225-b1dd-eaef6bafb3fe",
   "metadata": {
    "execution": {
     "iopub.execute_input": "2022-07-01T19:32:38.506917Z",
     "iopub.status.busy": "2022-07-01T19:32:38.506623Z",
     "iopub.status.idle": "2022-07-01T19:32:38.507657Z",
     "shell.execute_reply": "2022-07-01T19:32:38.507824Z"
    }
   },
   "outputs": [
    {
     "name": "stdout",
     "output_type": "stream",
     "text": [
      "clause: \n",
      "AGG(\"COUNT\", distinct = True, ID(birth_year))\n",
      "\n",
      "--------------------------------------------------------------------------------\n",
      "query: \n",
      "COUNT(DISTINCT \"birth_year\")\n"
     ]
    }
   ],
   "source": [
    "c = AGG(\"COUNT\", S.birth_year, distinct=True)\n",
    "test_render(c)"
   ]
  },
  {
   "cell_type": "markdown",
   "id": "c2949004",
   "metadata": {},
   "source": [
    "With a `FILTER` modifier"
   ]
  },
  {
   "cell_type": "code",
   "execution_count": 26,
   "id": "4552c36f-801c-4b22-ad1e-434de8c6df09",
   "metadata": {
    "execution": {
     "iopub.execute_input": "2022-07-01T19:32:38.509704Z",
     "iopub.status.busy": "2022-07-01T19:32:38.509406Z",
     "iopub.status.idle": "2022-07-01T19:32:38.510527Z",
     "shell.execute_reply": "2022-07-01T19:32:38.510701Z"
    }
   },
   "outputs": [
    {
     "name": "stdout",
     "output_type": "stream",
     "text": [
      "clause: \n",
      "AGG(\"COUNT\", OP(\"*\"), filter = OP(\"=\", ID(year_of_birth), LIT(1970)))\n",
      "\n",
      "--------------------------------------------------------------------------------\n",
      "query: \n",
      "(COUNT(*) FILTER (WHERE (\"year_of_birth\" = 1970)))\n"
     ]
    }
   ],
   "source": [
    "c = AGG(\"COUNT\", S(\"*\"), filter_=OP(\"=\", S.year_of_birth, 1970))\n",
    "test_render(c)"
   ]
  },
  {
   "cell_type": "markdown",
   "id": "4588a577-b047-492a-b037-61a7ab85108e",
   "metadata": {
    "tags": [],
    "toc-hr-collapsed": true
   },
   "source": [
    "#### Partition"
   ]
  },
  {
   "cell_type": "markdown",
   "id": "2d74f64a",
   "metadata": {},
   "source": [
    "Window functions can be constructed by chaining a `PARTITION` clause to an `AGG` clause. \n"
   ]
  },
  {
   "cell_type": "code",
   "execution_count": 27,
   "id": "da93171a-26b3-4803-b575-9246710fb336",
   "metadata": {
    "execution": {
     "iopub.execute_input": "2022-07-01T19:32:38.512701Z",
     "iopub.status.busy": "2022-07-01T19:32:38.512401Z",
     "iopub.status.idle": "2022-07-01T19:32:38.513556Z",
     "shell.execute_reply": "2022-07-01T19:32:38.513734Z"
    }
   },
   "outputs": [
    {
     "name": "stdout",
     "output_type": "stream",
     "text": [
      "clause: \n",
      "AGG(\"ROW_NUMBER\",\n",
      "    over = PARTITION(ID(year_of_birth),\n",
      "                     order_by = [ID(month_of_birth), ID(day_of_birth)]))\n",
      "\n",
      "--------------------------------------------------------------------------------\n",
      "query: \n",
      "(ROW_NUMBER() OVER (PARTITION BY \"year_of_birth\" ORDER BY \"month_of_birth\", \"day_of_birth\"))\n"
     ]
    }
   ],
   "source": [
    "c = PARTITION(S.year_of_birth, order_by = [S.month_of_birth, S.day_of_birth]) >> AGG(\"ROW_NUMBER\")\n",
    "test_render(c)"
   ]
  },
  {
   "cell_type": "markdown",
   "id": "b15c7261",
   "metadata": {},
   "source": [
    "The `frame` argument is a `Frame` object to specify the aggregation window explicitly. Unlike regular SQL, you must specify the start/end of the window explicitly. "
   ]
  },
  {
   "cell_type": "code",
   "execution_count": 28,
   "id": "c492c3fc-e3ff-47b4-bae3-3fddf2bf14d7",
   "metadata": {
    "execution": {
     "iopub.execute_input": "2022-07-01T19:32:38.515780Z",
     "iopub.status.busy": "2022-07-01T19:32:38.515504Z",
     "iopub.status.idle": "2022-07-01T19:32:38.516571Z",
     "shell.execute_reply": "2022-07-01T19:32:38.516802Z"
    }
   },
   "outputs": [
    {
     "name": "stdout",
     "output_type": "stream",
     "text": [
      "clause: \n",
      "PARTITION(order_by = [ID(year_of_birth)],\n",
      "          frame = [mode = GROUPS, start = PRECEDING(2), end = CURRENT_ROW])\n",
      "\n",
      "--------------------------------------------------------------------------------\n",
      "query: \n",
      "ORDER BY \"year_of_birth\" GROUPS BETWEEN 2 PRECEDING AND CURRENT ROW\n"
     ]
    }
   ],
   "source": [
    "c = PARTITION(\n",
    "    order_by = [S.year_of_birth], \n",
    "    frame = Frame(\n",
    "        FrameMode.GROUPS, \n",
    "        start=FrameEdge(FrameEdgeSide.PRECEDING, 2), \n",
    "        end=FrameEdge(FrameEdgeSide.CURRENT_ROW)\n",
    "    )\n",
    ")\n",
    "test_render(c)"
   ]
  },
  {
   "cell_type": "code",
   "execution_count": 29,
   "id": "8d7aee64-5999-425c-96a4-55e67f3a2508",
   "metadata": {
    "execution": {
     "iopub.execute_input": "2022-07-01T19:32:38.518820Z",
     "iopub.status.busy": "2022-07-01T19:32:38.518536Z",
     "iopub.status.idle": "2022-07-01T19:32:38.519777Z",
     "shell.execute_reply": "2022-07-01T19:32:38.519602Z"
    }
   },
   "outputs": [
    {
     "name": "stdout",
     "output_type": "stream",
     "text": [
      "query: \n",
      "ORDER BY \"year_of_birth\" ROWS BETWEEN 2 PRECEDING AND 2 FOLLOWING EXCLUDE CURRENT ROW\n"
     ]
    }
   ],
   "source": [
    "c = PARTITION(\n",
    "    order_by = [S.year_of_birth], \n",
    "    frame = Frame(\n",
    "        FrameMode.ROWS, \n",
    "        start=FrameEdge(FrameEdgeSide.PRECEDING, 2), \n",
    "        end=FrameEdge(FrameEdgeSide.FOLLOWING, 2), \n",
    "        exclude=FrameExclude.CURRENT_ROW\n",
    "    )\n",
    ")\n",
    "test_render(c, only_query=True)"
   ]
  },
  {
   "cell_type": "code",
   "execution_count": 30,
   "id": "9f923988-31d1-41cd-a55a-c177cdc06e04",
   "metadata": {
    "execution": {
     "iopub.execute_input": "2022-07-01T19:32:38.521652Z",
     "iopub.status.busy": "2022-07-01T19:32:38.521357Z",
     "iopub.status.idle": "2022-07-01T19:32:38.522409Z",
     "shell.execute_reply": "2022-07-01T19:32:38.522624Z"
    }
   },
   "outputs": [
    {
     "name": "stdout",
     "output_type": "stream",
     "text": [
      "query: \n",
      "ORDER BY \"year_of_birth\" RANGE BETWEEN UNBOUNDED PRECEDING AND CURRENT ROW\n"
     ]
    }
   ],
   "source": [
    "c = PARTITION(\n",
    "    order_by = [S.year_of_birth], \n",
    "    frame = Frame(FrameMode.RANGE, start=FrameEdge(FrameEdgeSide.PRECEDING), end=FrameEdge(FrameEdgeSide.CURRENT_ROW))\n",
    ")\n",
    "test_render(c, only_query=True)"
   ]
  },
  {
   "cell_type": "code",
   "execution_count": 31,
   "id": "34d28f12-020f-43fd-848f-7dbb39c7e4ac",
   "metadata": {
    "execution": {
     "iopub.execute_input": "2022-07-01T19:32:38.524496Z",
     "iopub.status.busy": "2022-07-01T19:32:38.524220Z",
     "iopub.status.idle": "2022-07-01T19:32:38.525327Z",
     "shell.execute_reply": "2022-07-01T19:32:38.525512Z"
    }
   },
   "outputs": [
    {
     "name": "stdout",
     "output_type": "stream",
     "text": [
      "query: \n",
      "ORDER BY \"year_of_birth\" RANGE BETWEEN UNBOUNDED PRECEDING AND UNBOUNDED FOLLOWING EXCLUDE TIES\n"
     ]
    }
   ],
   "source": [
    "c = PARTITION(\n",
    "    order_by = [S.year_of_birth], \n",
    "    frame = Frame(\n",
    "        FrameMode.RANGE, \n",
    "        start=FrameEdge(FrameEdgeSide.PRECEDING), \n",
    "        end=FrameEdge(FrameEdgeSide.FOLLOWING), \n",
    "        exclude=FrameExclude.TIES\n",
    "    )\n",
    ")\n",
    "test_render(c, only_query=True)"
   ]
  },
  {
   "cell_type": "markdown",
   "id": "efd285c7-23c9-4e8d-a49e-5f8cc6ff3708",
   "metadata": {
    "tags": [],
    "toc-hr-collapsed": true
   },
   "source": [
    "#### Where"
   ]
  },
  {
   "cell_type": "markdown",
   "id": "e79b37ba",
   "metadata": {},
   "source": [
    "The SQL `WHERE` expression is constructed using the `WHERE` clause."
   ]
  },
  {
   "cell_type": "code",
   "execution_count": 32,
   "id": "3264d0d0-1d4a-4e21-acea-ab682872a2e4",
   "metadata": {
    "execution": {
     "iopub.execute_input": "2022-07-01T19:32:38.527614Z",
     "iopub.status.busy": "2022-07-01T19:32:38.527319Z",
     "iopub.status.idle": "2022-07-01T19:32:38.528460Z",
     "shell.execute_reply": "2022-07-01T19:32:38.528606Z"
    }
   },
   "outputs": [
    {
     "name": "stdout",
     "output_type": "stream",
     "text": [
      "clause: \n",
      "ID(person) >> FROM() >> WHERE(OP(\"<\", ID(year_of_birth), LIT(2000))) >>\n",
      "SELECT(ID(person_id))\n",
      "\n",
      "--------------------------------------------------------------------------------\n",
      "query: \n",
      "SELECT \"person_id\"\n",
      "FROM \"person\"\n",
      "WHERE (\"year_of_birth\" < 2000)\n"
     ]
    }
   ],
   "source": [
    "c = FROM(S.person) >> WHERE(OP(\"<\", S.year_of_birth, 2000)) >> SELECT(S.person_id)\n",
    "test_render(c)"
   ]
  },
  {
   "cell_type": "markdown",
   "id": "d1bafb6b-92c2-40bb-8b7d-7a39377bcd5b",
   "metadata": {
    "tags": [],
    "toc-hr-collapsed": true
   },
   "source": [
    "#### Limit"
   ]
  },
  {
   "cell_type": "markdown",
   "id": "61d81bf7",
   "metadata": {},
   "source": [
    "A `LIMIT/OFFSET` expression is constructed using the `LIMIT` clause."
   ]
  },
  {
   "cell_type": "code",
   "execution_count": 33,
   "id": "4c4f5c58-9aba-4458-a9d3-61a21fda981a",
   "metadata": {
    "execution": {
     "iopub.execute_input": "2022-07-01T19:32:38.530375Z",
     "iopub.status.busy": "2022-07-01T19:32:38.530101Z",
     "iopub.status.idle": "2022-07-01T19:32:38.531416Z",
     "shell.execute_reply": "2022-07-01T19:32:38.531243Z"
    }
   },
   "outputs": [
    {
     "name": "stdout",
     "output_type": "stream",
     "text": [
      "query: \n",
      "\n",
      "FROM \"person\"\n",
      "LIMIT 100\n"
     ]
    }
   ],
   "source": [
    "c = FROM(S.person) >> LIMIT(100)\n",
    "test_render(c, only_query=True)"
   ]
  },
  {
   "cell_type": "code",
   "execution_count": 34,
   "id": "03de17e3-8f67-4acc-9560-984cfdbfc09c",
   "metadata": {
    "execution": {
     "iopub.execute_input": "2022-07-01T19:32:38.533085Z",
     "iopub.status.busy": "2022-07-01T19:32:38.532802Z",
     "iopub.status.idle": "2022-07-01T19:32:38.534114Z",
     "shell.execute_reply": "2022-07-01T19:32:38.534331Z"
    }
   },
   "outputs": [
    {
     "name": "stdout",
     "output_type": "stream",
     "text": [
      "query: \n",
      "SELECT \"person_id\"\n",
      "FROM \"person\"\n",
      "LIMIT 100\n",
      "OFFSET 20\n"
     ]
    }
   ],
   "source": [
    "c = FROM(S.person) >> LIMIT(100, offset=20) >> SELECT(S.person_id)\n",
    "test_render(c, only_query=True)"
   ]
  },
  {
   "cell_type": "markdown",
   "id": "79db2038",
   "metadata": {},
   "source": [
    "An offset can be specified without a limit value. "
   ]
  },
  {
   "cell_type": "code",
   "execution_count": 35,
   "id": "3ce26d6a-9e10-4a44-895a-a4b0ca7690db",
   "metadata": {
    "execution": {
     "iopub.execute_input": "2022-07-01T19:32:38.536253Z",
     "iopub.status.busy": "2022-07-01T19:32:38.535976Z",
     "iopub.status.idle": "2022-07-01T19:32:38.537127Z",
     "shell.execute_reply": "2022-07-01T19:32:38.537275Z"
    }
   },
   "outputs": [
    {
     "name": "stdout",
     "output_type": "stream",
     "text": [
      "query: \n",
      "SELECT \"person_id\"\n",
      "FROM \"person\"\n",
      "ORDER BY \"year_of_birth\"\n",
      "LIMIT -1\n",
      "OFFSET 100\n"
     ]
    }
   ],
   "source": [
    "c = FROM(S.person) >> ORDER(S.year_of_birth) >> SELECT(S.person_id) >> LIMIT(offset=100) \n",
    "test_render(c, only_query=True)"
   ]
  },
  {
   "cell_type": "markdown",
   "id": "3d44e542-25b6-484a-b544-f5783d841e3e",
   "metadata": {
    "tags": [],
    "toc-hr-collapsed": true
   },
   "source": [
    "#### Join"
   ]
  },
  {
   "cell_type": "markdown",
   "id": "cb84024b",
   "metadata": {},
   "source": [
    "The SQL join operation can be expressed using the `JOIN` clause.\n"
   ]
  },
  {
   "cell_type": "code",
   "execution_count": 36,
   "id": "b623b7b8-7187-4ca4-9392-93ec47c313d3",
   "metadata": {
    "execution": {
     "iopub.execute_input": "2022-07-01T19:32:38.539673Z",
     "iopub.status.busy": "2022-07-01T19:32:38.539393Z",
     "iopub.status.idle": "2022-07-01T19:32:38.540682Z",
     "shell.execute_reply": "2022-07-01T19:32:38.540860Z"
    }
   },
   "outputs": [
    {
     "name": "stdout",
     "output_type": "stream",
     "text": [
      "clause: \n",
      "ID(person) >> AS(p) >> FROM() >>\n",
      "JOIN(ID(location) >> AS(l),\n",
      "     OP(\"=\", ID(p) >> ID(location_id), ID(l) >> ID(location_id)),\n",
      "     left = True)\n",
      "\n",
      "--------------------------------------------------------------------------------\n",
      "query: \n",
      "\n",
      "FROM \"person\" AS \"p\"\n",
      "LEFT JOIN \"location\" AS \"l\" ON (\"p\".\"location_id\" = \"l\".\"location_id\")\n"
     ]
    }
   ],
   "source": [
    "c = (\n",
    "    FROM(alias(S.person, S.p)) >> \n",
    "    JOIN(\n",
    "        alias(S.location, S.l), \n",
    "        on=OP(\"=\", qual(S.p, S.location_id), qual(S.l, S.location_id)), \n",
    "        left = True\n",
    "    )\n",
    ")\n",
    "test_render(c)"
   ]
  },
  {
   "cell_type": "markdown",
   "id": "abbf6d7b",
   "metadata": {},
   "source": [
    "Different types of Joins can be expressed using the available args to the `JOIN` clause. "
   ]
  },
  {
   "cell_type": "code",
   "execution_count": 37,
   "id": "82609542-fdbf-45be-9549-25c105538610",
   "metadata": {
    "execution": {
     "iopub.execute_input": "2022-07-01T19:32:38.543185Z",
     "iopub.status.busy": "2022-07-01T19:32:38.542873Z",
     "iopub.status.idle": "2022-07-01T19:32:38.544114Z",
     "shell.execute_reply": "2022-07-01T19:32:38.544326Z"
    }
   },
   "outputs": [
    {
     "name": "stdout",
     "output_type": "stream",
     "text": [
      "clause: \n",
      "ID(person) >> AS(p) >>\n",
      "JOIN(ID(provider) >> AS(pr),\n",
      "     OP(\"=\", ID(p) >> ID(provider_id), ID(pr) >> ID(id)),\n",
      "     left = True,\n",
      "     right = True)\n",
      "\n",
      "--------------------------------------------------------------------------------\n",
      "query: \n",
      "\"person\" AS \"p\"\n",
      "FULL JOIN \"provider\" AS \"pr\" ON (\"p\".\"provider_id\" = \"pr\".\"id\")\n"
     ]
    }
   ],
   "source": [
    "t1 = alias(S.person, \"p\")\n",
    "t2 = alias(S.provider, \"pr\")\n",
    "c = t1 >> JOIN(t2, OP(\"=\", qual(\"p\", \"provider_id\"), qual(\"pr\", \"id\")), left=True, right=True)\n",
    "\n",
    "test_render(c)"
   ]
  },
  {
   "cell_type": "markdown",
   "id": "4156151b",
   "metadata": {},
   "source": [
    "A cross join can be constructed by setting the `on` argument to True."
   ]
  },
  {
   "cell_type": "code",
   "execution_count": 38,
   "id": "67ad6148-7053-4810-84d2-910fbff8f94c",
   "metadata": {
    "execution": {
     "iopub.execute_input": "2022-07-01T19:32:38.546455Z",
     "iopub.status.busy": "2022-07-01T19:32:38.546116Z",
     "iopub.status.idle": "2022-07-01T19:32:38.547245Z",
     "shell.execute_reply": "2022-07-01T19:32:38.547415Z"
    }
   },
   "outputs": [
    {
     "name": "stdout",
     "output_type": "stream",
     "text": [
      "clause: \n",
      "ID(person) >> AS(p) >> JOIN(ID(provider) >> AS(pr), LIT(True))\n",
      "\n",
      "--------------------------------------------------------------------------------\n",
      "query: \n",
      "\"person\" AS \"p\"\n",
      "CROSS JOIN \"provider\" AS \"pr\"\n"
     ]
    }
   ],
   "source": [
    "t1 = alias(S.person, \"p\")\n",
    "t2 = alias(S.provider, \"pr\")\n",
    "c = t1 >> JOIN(t2, on=True)\n",
    "\n",
    "test_render(c)"
   ]
  },
  {
   "cell_type": "markdown",
   "id": "00527f6c",
   "metadata": {},
   "source": [
    "Writing a lateral join"
   ]
  },
  {
   "cell_type": "code",
   "execution_count": 39,
   "id": "6886ed85-1565-4f57-b59a-eda5a46f7c5f",
   "metadata": {
    "execution": {
     "iopub.execute_input": "2022-07-01T19:32:38.550034Z",
     "iopub.status.busy": "2022-07-01T19:32:38.549753Z",
     "iopub.status.idle": "2022-07-01T19:32:38.550872Z",
     "shell.execute_reply": "2022-07-01T19:32:38.551157Z"
    }
   },
   "outputs": [
    {
     "name": "stdout",
     "output_type": "stream",
     "text": [
      "query: \n",
      "SELECT\n",
      "  \"p\".\"person_id\", \n",
      "  \"vo\".\"visit_start_date\"\n",
      "FROM \"person\" AS \"p\"\n",
      "LEFT JOIN LATERAL (\n",
      "  SELECT \"vo\".\"visit_start_date\"\n",
      "  FROM \"visit_occurence\" AS \"vo\"\n",
      "  WHERE (\"p\".\"person_id\" = \"vo\".\"person_id\")\n",
      "  ORDER BY \"vo\".\"start_date\" DESC\n",
      "  LIMIT 1\n",
      ") AS \"vo\" ON TRUE\n"
     ]
    }
   ],
   "source": [
    "t1 = FROM(alias(\"person\", \"p\"))\n",
    "t2 = (\n",
    "    FROM(alias(\"visit_occurence\", \"vo\")) >> \n",
    "    WHERE(OP(\"=\", qual(\"p\", \"person_id\"), qual(\"vo\", \"person_id\"))) >>\n",
    "    ORDER(qual(\"vo\", \"start_date\") >> SORT(ValueOrder.DESC)) >>\n",
    "    LIMIT(1) >>\n",
    "    SELECT(qual(\"vo\", \"visit_start_date\")) >>\n",
    "    AS(S(\"vo\"))\n",
    ")\n",
    "c = t1 >> JOIN(t2, on=True, left=True, lateral=True) >> SELECT(qual(\"p\", \"person_id\"), qual(\"vo\", \"visit_start_date\"))\n",
    "\n",
    "test_render(c, only_query=True)"
   ]
  },
  {
   "cell_type": "markdown",
   "id": "07e488da-06fe-40d5-a325-277c2ef9af47",
   "metadata": {
    "tags": [],
    "toc-hr-collapsed": true
   },
   "source": [
    "#### Group"
   ]
  },
  {
   "cell_type": "markdown",
   "id": "95bc58bd",
   "metadata": {},
   "source": [
    "A SQL `Group By` expression is constructed with the `GROUP` clause."
   ]
  },
  {
   "cell_type": "code",
   "execution_count": 40,
   "id": "aa813611-86df-4ba2-8d8c-cfef78b5ebf0",
   "metadata": {
    "execution": {
     "iopub.execute_input": "2022-07-01T19:32:38.553252Z",
     "iopub.status.busy": "2022-07-01T19:32:38.552953Z",
     "iopub.status.idle": "2022-07-01T19:32:38.553989Z",
     "shell.execute_reply": "2022-07-01T19:32:38.554209Z"
    }
   },
   "outputs": [
    {
     "name": "stdout",
     "output_type": "stream",
     "text": [
      "clause: \n",
      "ID(person) >> FROM() >> GROUP(ID(year_of_birth)) >>\n",
      "SELECT(ID(year_of_birth), AGG(\"COUNT\", OP(\"*\")))\n",
      "\n",
      "--------------------------------------------------------------------------------\n",
      "query: \n",
      "SELECT\n",
      "  \"year_of_birth\", \n",
      "  COUNT(*)\n",
      "FROM \"person\"\n",
      "GROUP BY \"year_of_birth\"\n"
     ]
    }
   ],
   "source": [
    "c = FROM(S.person) >> GROUP(S.year_of_birth) >> SELECT(S.year_of_birth, AGG(\"COUNT\", S(\"*\")))\n",
    "test_render(c)"
   ]
  },
  {
   "cell_type": "markdown",
   "id": "1880db8d-f73b-4bba-9f64-19b351c7ff9c",
   "metadata": {
    "tags": [],
    "toc-hr-collapsed": true
   },
   "source": [
    "#### Having"
   ]
  },
  {
   "cell_type": "markdown",
   "id": "0f8b0e55",
   "metadata": {},
   "source": [
    "The SQL `Having` expression is constructed using the `HAVING` clause."
   ]
  },
  {
   "cell_type": "code",
   "execution_count": 41,
   "id": "58bfe8ec-bc5a-49f3-8871-e0fb992c082c",
   "metadata": {
    "execution": {
     "iopub.execute_input": "2022-07-01T19:32:38.556424Z",
     "iopub.status.busy": "2022-07-01T19:32:38.556126Z",
     "iopub.status.idle": "2022-07-01T19:32:38.557119Z",
     "shell.execute_reply": "2022-07-01T19:32:38.557338Z"
    }
   },
   "outputs": [
    {
     "name": "stdout",
     "output_type": "stream",
     "text": [
      "clause: \n",
      "ID(person) >> FROM() >> GROUP(ID(year_of_birth)) >>\n",
      "HAVING(OP(\">\", AGG(\"COUNT\", OP(\"*\")), LIT(10))) >>\n",
      "SELECT(ID(year_of_birth))\n",
      "\n",
      "--------------------------------------------------------------------------------\n",
      "query: \n",
      "SELECT \"year_of_birth\"\n",
      "FROM \"person\"\n",
      "GROUP BY \"year_of_birth\"\n",
      "HAVING (COUNT(*) > 10)\n"
     ]
    }
   ],
   "source": [
    "c = FROM(S.person) >> GROUP(S.year_of_birth) >> HAVING(OP(\">\", AGG(\"COUNT\", S(\"*\")), 10)) >> SELECT(S.year_of_birth)\n",
    "test_render(c)"
   ]
  },
  {
   "cell_type": "markdown",
   "id": "18cb31b7-5119-4509-9daa-f568e74cff9a",
   "metadata": {
    "tags": [],
    "toc-hr-collapsed": true
   },
   "source": [
    "#### Order"
   ]
  },
  {
   "cell_type": "markdown",
   "id": "bb885a1e",
   "metadata": {},
   "source": [
    "An `ORDER BY` expression is constructed using the `ORDER` clause. The order of values in a column is specified using a `SORT` object. "
   ]
  },
  {
   "cell_type": "code",
   "execution_count": 42,
   "id": "d3edba00",
   "metadata": {
    "execution": {
     "iopub.execute_input": "2022-07-01T19:32:38.559394Z",
     "iopub.status.busy": "2022-07-01T19:32:38.559132Z",
     "iopub.status.idle": "2022-07-01T19:32:38.560375Z",
     "shell.execute_reply": "2022-07-01T19:32:38.560551Z"
    }
   },
   "outputs": [
    {
     "name": "stdout",
     "output_type": "stream",
     "text": [
      "clause: \n",
      "ID(person) >> FROM() >> ORDER(ID(year_of_birth) >> SORT(ASC), ID(person_id)) >>\n",
      "SELECT(ID(person_id))\n",
      "\n",
      "--------------------------------------------------------------------------------\n",
      "query: \n",
      "SELECT \"person_id\"\n",
      "FROM \"person\"\n",
      "ORDER BY\n",
      "  \"year_of_birth\" ASC, \n",
      "  \"person_id\"\n"
     ]
    }
   ],
   "source": [
    "c = FROM(S.person) >> ORDER(\n",
    "    S.year_of_birth >> SORT(ValueOrder.ASC), \n",
    "    S.person_id\n",
    ") >> SELECT(S.person_id)\n",
    "test_render(c)"
   ]
  },
  {
   "cell_type": "markdown",
   "id": "1263b12d",
   "metadata": {},
   "source": [
    "`ASC` and `DESC` are shorthands for the `SORT` object. "
   ]
  },
  {
   "cell_type": "code",
   "execution_count": 43,
   "id": "d9090f0c-d163-4441-977d-8904931d4075",
   "metadata": {
    "execution": {
     "iopub.execute_input": "2022-07-01T19:32:38.562546Z",
     "iopub.status.busy": "2022-07-01T19:32:38.562264Z",
     "iopub.status.idle": "2022-07-01T19:32:38.563435Z",
     "shell.execute_reply": "2022-07-01T19:32:38.563606Z"
    }
   },
   "outputs": [
    {
     "name": "stdout",
     "output_type": "stream",
     "text": [
      "query: \n",
      "SELECT \"person_id\"\n",
      "FROM \"person\"\n",
      "ORDER BY\n",
      "  \"year_of_birth\" DESC NULLS FIRST, \n",
      "  \"city\" ASC, \n",
      "  \"person_id\"\n"
     ]
    }
   ],
   "source": [
    "c = FROM(S.person) >> ORDER(\n",
    "    S.year_of_birth >> SORT(ValueOrder.DESC, nulls=NullsOrder.FIRST), \n",
    "    S.city >> SORT(ValueOrder.ASC),\n",
    "    S.person_id\n",
    ") >> SELECT(S.person_id)\n",
    "test_render(c, only_query=True)"
   ]
  },
  {
   "cell_type": "markdown",
   "id": "3f933860-9251-4479-a3d4-a44bb8c93927",
   "metadata": {
    "tags": [],
    "toc-hr-collapsed": true
   },
   "source": [
    "#### Union"
   ]
  },
  {
   "cell_type": "markdown",
   "id": "d46168a9",
   "metadata": {},
   "source": [
    "`UNION` expressions are constructed using the `UNION` clause."
   ]
  },
  {
   "cell_type": "code",
   "execution_count": 44,
   "id": "7b4e76a3-db17-4425-93b6-2f179dbb8417",
   "metadata": {
    "execution": {
     "iopub.execute_input": "2022-07-01T19:32:38.565774Z",
     "iopub.status.busy": "2022-07-01T19:32:38.565500Z",
     "iopub.status.idle": "2022-07-01T19:32:38.566625Z",
     "shell.execute_reply": "2022-07-01T19:32:38.566803Z"
    }
   },
   "outputs": [
    {
     "name": "stdout",
     "output_type": "stream",
     "text": [
      "query: \n",
      "SELECT\n",
      "  \"person_id\", \n",
      "  \"measurement_date\" AS \"date\"\n",
      "FROM \"measurement\"\n",
      "UNION\n",
      "SELECT\n",
      "  \"person_id\", \n",
      "  \"observation_date\" AS \"date\"\n",
      "FROM \"observation\"\n"
     ]
    }
   ],
   "source": [
    "t1 = FROM(S.measurement) >> SELECT(S.person_id, alias(\"measurement_date\", \"date\"))\n",
    "t2 = FROM(S.observation) >> SELECT(S.person_id, alias(\"observation_date\", \"date\"))\n",
    "c = t1 >> UNION(t2)\n",
    "\n",
    "test_render(c, only_query=True)"
   ]
  },
  {
   "cell_type": "markdown",
   "id": "547b1c4d",
   "metadata": {},
   "source": [
    "Using the `all_` keyword arg to construct a `UNION ALL` expression."
   ]
  },
  {
   "cell_type": "code",
   "execution_count": 45,
   "id": "8ed3c47c-70e5-46fb-8305-3cb04050aaa5",
   "metadata": {
    "execution": {
     "iopub.execute_input": "2022-07-01T19:32:38.568914Z",
     "iopub.status.busy": "2022-07-01T19:32:38.568608Z",
     "iopub.status.idle": "2022-07-01T19:32:38.569767Z",
     "shell.execute_reply": "2022-07-01T19:32:38.569914Z"
    }
   },
   "outputs": [
    {
     "name": "stdout",
     "output_type": "stream",
     "text": [
      "query: \n",
      "SELECT\n",
      "  \"person_id\", \n",
      "  \"measurement_date\" AS \"date\"\n",
      "FROM \"measurement\"\n",
      "UNION ALL\n",
      "SELECT\n",
      "  \"person_id\", \n",
      "  \"observation_date\" AS \"date\"\n",
      "FROM \"observation\"\n"
     ]
    }
   ],
   "source": [
    "t1 = FROM(S.measurement) >> SELECT(S.person_id, alias(\"measurement_date\", \"date\"))\n",
    "t2 = FROM(S.observation) >> SELECT(S.person_id, alias(\"observation_date\", \"date\"))\n",
    "c = t1 >> UNION(t2, all_=True)\n",
    "\n",
    "test_render(c, only_query=True)"
   ]
  },
  {
   "cell_type": "markdown",
   "id": "d91d65d5",
   "metadata": {},
   "source": [
    "Example of a nested UNION clause"
   ]
  },
  {
   "cell_type": "code",
   "execution_count": 46,
   "id": "35ec25b4-5741-4a4e-b365-f8ba690936c9",
   "metadata": {
    "execution": {
     "iopub.execute_input": "2022-07-01T19:32:38.572346Z",
     "iopub.status.busy": "2022-07-01T19:32:38.572041Z",
     "iopub.status.idle": "2022-07-01T19:32:38.573185Z",
     "shell.execute_reply": "2022-07-01T19:32:38.573403Z"
    }
   },
   "outputs": [
    {
     "name": "stdout",
     "output_type": "stream",
     "text": [
      "query: \n",
      "SELECT \"person_id\"\n",
      "FROM (\n",
      "  SELECT\n",
      "    \"person_id\", \n",
      "    \"measurement_date\" AS \"date\"\n",
      "  FROM \"measurement\"\n",
      "  UNION ALL\n",
      "  SELECT\n",
      "    \"person_id\", \n",
      "    \"observation_date\" AS \"date\"\n",
      "  FROM \"observation\"\n",
      ") AS \"union\"\n",
      "WHERE (\"date\" > DATE '2000-01-01')\n"
     ]
    }
   ],
   "source": [
    "import datetime\n",
    "\n",
    "t1 = FROM(S.measurement) >> SELECT(S.person_id, alias(\"measurement_date\", \"date\"))\n",
    "t2 = FROM(S.observation) >> SELECT(S.person_id, alias(\"observation_date\", \"date\"))\n",
    "c = t1 >> UNION(t2, all_=True) >> FROM() >> AS(S.union) >> WHERE(OP(\">\", S.date, datetime.date(2000, 1, 1))) >> SELECT(S.person_id)\n",
    "\n",
    "test_render(c, only_query=True)"
   ]
  },
  {
   "cell_type": "markdown",
   "id": "b6550543-9122-4af8-a8c9-cfe4fff463aa",
   "metadata": {
    "tags": [],
    "toc-hr-collapsed": true
   },
   "source": [
    "#### Values"
   ]
  },
  {
   "cell_type": "markdown",
   "id": "ba1ae41a",
   "metadata": {},
   "source": [
    "`VALUES` expressions are constructed using the `VALUES` clause. The common python data types are cast as SQL literals. "
   ]
  },
  {
   "cell_type": "code",
   "execution_count": 47,
   "id": "8b01cb18-a6c4-4fd4-a4a0-2620ee3949ad",
   "metadata": {
    "execution": {
     "iopub.execute_input": "2022-07-01T19:32:38.575265Z",
     "iopub.status.busy": "2022-07-01T19:32:38.574970Z",
     "iopub.status.idle": "2022-07-01T19:32:38.576098Z",
     "shell.execute_reply": "2022-07-01T19:32:38.576258Z"
    }
   },
   "outputs": [
    {
     "name": "stdout",
     "output_type": "stream",
     "text": [
      "query: \n",
      "VALUES\n",
      "  ('SQL', 1974),\n",
      "  ('Julia', 2012),\n",
      "  ('FunSQL', 2021)\n"
     ]
    }
   ],
   "source": [
    "c = VALUES([(\"SQL\", 1974), (\"Julia\", 2012), (\"FunSQL\", 2021)])\n",
    "test_render(c, only_query=True)"
   ]
  },
  {
   "cell_type": "markdown",
   "id": "a15c45bf",
   "metadata": {},
   "source": [
    "With only a single row of values"
   ]
  },
  {
   "cell_type": "code",
   "execution_count": 48,
   "id": "45fc2398-f296-4f39-86ed-f53bfc9e4c67",
   "metadata": {
    "execution": {
     "iopub.execute_input": "2022-07-01T19:32:38.577990Z",
     "iopub.status.busy": "2022-07-01T19:32:38.577681Z",
     "iopub.status.idle": "2022-07-01T19:32:38.578781Z",
     "shell.execute_reply": "2022-07-01T19:32:38.578952Z"
    }
   },
   "outputs": [
    {
     "name": "stdout",
     "output_type": "stream",
     "text": [
      "query: \n",
      "VALUES ('SQL', 'Julia', 'FunSQL')\n"
     ]
    }
   ],
   "source": [
    "c = VALUES([(\"SQL\", \"Julia\", \"FunSQL\")])\n",
    "test_render(c, only_query=True)"
   ]
  },
  {
   "cell_type": "markdown",
   "id": "d1a75de5",
   "metadata": {},
   "source": [
    "Nested `Values` expression in a `FROM` clause"
   ]
  },
  {
   "cell_type": "code",
   "execution_count": 49,
   "id": "26a57ef0-2ce1-4772-a2de-2b020c9c70e5",
   "metadata": {
    "execution": {
     "iopub.execute_input": "2022-07-01T19:32:38.580968Z",
     "iopub.status.busy": "2022-07-01T19:32:38.580663Z",
     "iopub.status.idle": "2022-07-01T19:32:38.581800Z",
     "shell.execute_reply": "2022-07-01T19:32:38.581968Z"
    }
   },
   "outputs": [
    {
     "name": "stdout",
     "output_type": "stream",
     "text": [
      "query: \n",
      "SELECT *\n",
      "FROM (\n",
      "  VALUES\n",
      "    ('SQL', 1974),\n",
      "    ('Julia', 2012),\n",
      "    ('FunSQL', 2021)\n",
      ") AS \"values\" (\"name\", \"year\") \n"
     ]
    }
   ],
   "source": [
    "c = (\n",
    "    VALUES([(\"SQL\", 1974), (\"Julia\", 2012), (\"FunSQL\", 2021)]) >> \n",
    "    AS(S.values, columns = [S.name, S.year]) >>\n",
    "    FROM() >>\n",
    "    SELECT(OP(\"*\"))\n",
    ")\n",
    "\n",
    "test_render(c, only_query=True)"
   ]
  },
  {
   "cell_type": "markdown",
   "id": "397c7d9d-70ad-4462-abd0-94dd1d6a1a26",
   "metadata": {
    "tags": [],
    "toc-hr-collapsed": true
   },
   "source": [
    "#### Window"
   ]
  },
  {
   "cell_type": "markdown",
   "id": "d96233ab",
   "metadata": {},
   "source": [
    "Window expressions are constructed using the `WINDOW` clause."
   ]
  },
  {
   "cell_type": "code",
   "execution_count": 50,
   "id": "e99ca204-fb1f-43fd-a72d-d648d5dafd44",
   "metadata": {
    "execution": {
     "iopub.execute_input": "2022-07-01T19:32:38.584044Z",
     "iopub.status.busy": "2022-07-01T19:32:38.583724Z",
     "iopub.status.idle": "2022-07-01T19:32:38.585464Z",
     "shell.execute_reply": "2022-07-01T19:32:38.585614Z"
    }
   },
   "outputs": [
    {
     "name": "stdout",
     "output_type": "stream",
     "text": [
      "clause: \n",
      "ID(person) >> FROM() >>\n",
      "WINDOW(PARTITION(ID(gender)) >> AS(w1),\n",
      "       ID(w1) >>\n",
      "       PARTITION(ID(year_of_birth),\n",
      "                 order_by = [ID(month_of_birth), ID(date_of_birth)]) >>\n",
      "       AS(w2)) >>\n",
      "SELECT(AGG(\"ROW_NUMBER\", over = ID(w1)), AGG(\"ROW_NUMBER\", over = ID(w2)))\n",
      "\n",
      "--------------------------------------------------------------------------------\n",
      "query: \n",
      "SELECT\n",
      "  (ROW_NUMBER() OVER (\"w1\")), \n",
      "  (ROW_NUMBER() OVER (\"w2\"))\n",
      "FROM \"person\"\n",
      "WINDOW\n",
      "  \"w1\" AS (PARTITION BY \"gender\"), \n",
      "  \"w2\" AS (\"w1\" PARTITION BY \"year_of_birth\" ORDER BY \"month_of_birth\", \"date_of_birth\")\n"
     ]
    }
   ],
   "source": [
    "t1 = PARTITION(S.gender) >> AS(S.w1)\n",
    "t2 = S.w1 >> PARTITION(S.year_of_birth, order_by=[S.month_of_birth, S.date_of_birth]) >> AS(S.w2)\n",
    "\n",
    "c = FROM(S.person) >> WINDOW(t1, t2) >> SELECT(S.w1 >> AGG(\"ROW_NUMBER\"), S.w2 >> AGG(\"ROW_NUMBER\"))\n",
    "test_render(c)"
   ]
  },
  {
   "cell_type": "markdown",
   "id": "5bf8ed3f-1cc2-4b07-a01f-5efb195c7d0e",
   "metadata": {
    "tags": [],
    "toc-hr-collapsed": true
   },
   "source": [
    "#### With"
   ]
  },
  {
   "cell_type": "markdown",
   "id": "9aafaf94",
   "metadata": {},
   "source": [
    "`CTE` (Common Table Expression) clauses are constructed using the `WITH` clause."
   ]
  },
  {
   "cell_type": "code",
   "execution_count": 51,
   "id": "13241c4a-a0fb-406c-97e3-449b46f09415",
   "metadata": {
    "execution": {
     "iopub.execute_input": "2022-07-01T19:32:38.587778Z",
     "iopub.status.busy": "2022-07-01T19:32:38.587349Z",
     "iopub.status.idle": "2022-07-01T19:32:38.588912Z",
     "shell.execute_reply": "2022-07-01T19:32:38.589062Z"
    }
   },
   "outputs": [
    {
     "name": "stdout",
     "output_type": "stream",
     "text": [
      "clause: \n",
      "ID(flights_from_mumbai) >> FROM() >> SELECT(OP(\"*\")) >>\n",
      "WITH(ID(flights) >> FROM() >> WHERE(OP(\"=\", ID(dest), LIT(\"Mumbai\"))) >>\n",
      "     SELECT(ID(flight_id), ID(airline)) >>\n",
      "     AS(flights_to_mumbai))\n",
      "\n",
      "--------------------------------------------------------------------------------\n",
      "query: \n",
      "WITH \"flights_to_mumbai\" AS (\n",
      "  SELECT\n",
      "    \"flight_id\", \n",
      "    \"airline\"\n",
      "  FROM \"flights\"\n",
      "  WHERE (\"dest\" = 'Mumbai')\n",
      ")\n",
      "SELECT *\n",
      "FROM \"flights_from_mumbai\"\n"
     ]
    }
   ],
   "source": [
    "cte = (\n",
    "    FROM(S.flights) >> \n",
    "    WHERE(OP(\"=\", S.dest, \"Mumbai\")) >>\n",
    "    SELECT(S.flight_id, S.airline) >>\n",
    "    AS(S.flights_to_mumbai)\n",
    ")\n",
    "\n",
    "c = FROM(S.flights_from_mumbai) >> SELECT(S(\"*\")) >> WITH(cte)\n",
    "test_render(c)"
   ]
  },
  {
   "cell_type": "markdown",
   "id": "122c78a2-7ca8-4534-814f-60782fdc572d",
   "metadata": {},
   "source": [
    "The `WITH` clause can also be used to construct a recursive CTE."
   ]
  },
  {
   "cell_type": "code",
   "execution_count": 52,
   "id": "04d12aff-1a71-4e41-a62a-0dfe520fa284",
   "metadata": {
    "execution": {
     "iopub.execute_input": "2022-07-01T19:32:38.591042Z",
     "iopub.status.busy": "2022-07-01T19:32:38.590758Z",
     "iopub.status.idle": "2022-07-01T19:32:38.592325Z",
     "shell.execute_reply": "2022-07-01T19:32:38.592477Z"
    }
   },
   "outputs": [
    {
     "name": "stdout",
     "output_type": "stream",
     "text": [
      "clause: \n",
      "ID(counter) >> FROM() >> SELECT(ID(x)) >>\n",
      "WITH(recursive = True,\n",
      "     SELECT(LIT(1)) >> UNION(SELECT(OP(\"+\", ID(x), LIT(1))) >> LIMIT(100)) >>\n",
      "     AS(counter, columns = [x]))\n",
      "\n",
      "--------------------------------------------------------------------------------\n",
      "query: \n",
      "WITH RECURSIVE \"counter\" (\"x\")  AS (\n",
      "  SELECT 1\n",
      "  UNION\n",
      "  SELECT (\"x\" + 1)\n",
      "  LIMIT 100\n",
      ")\n",
      "SELECT \"x\"\n",
      "FROM \"counter\"\n"
     ]
    }
   ],
   "source": [
    "cte = SELECT(1) >> UNION(SELECT(OP(\"+\", S.x, 1)) >> LIMIT(100)) >> AS(S.counter, columns=[S.x])\n",
    "\n",
    "c = FROM(S.counter) >> SELECT(S.x) >> WITH(cte, recursive=True)\n",
    "test_render(c)"
   ]
  },
  {
   "cell_type": "code",
   "execution_count": null,
   "id": "311b6a1e",
   "metadata": {},
   "outputs": [],
   "source": []
  }
 ],
 "metadata": {
  "kernelspec": {
   "display_name": "Python 3",
   "language": "python",
   "name": "python3"
  },
  "language_info": {
   "codemirror_mode": {
    "name": "ipython",
    "version": 3
   },
   "file_extension": ".py",
   "mimetype": "text/x-python",
   "name": "python",
   "nbconvert_exporter": "python",
   "pygments_lexer": "ipython3",
   "version": "3.9.5"
  }
 },
 "nbformat": 4,
 "nbformat_minor": 5
}
