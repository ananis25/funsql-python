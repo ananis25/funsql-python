{
 "cells": [
  {
   "cell_type": "markdown",
   "metadata": {},
   "source": [
    "NOTE: This notebook gets rendered with all cells executed in the `docs` directory.     "
   ]
  },
  {
   "cell_type": "markdown",
   "metadata": {},
   "source": [
    "## Working with Nodes"
   ]
  },
  {
   "cell_type": "code",
   "execution_count": 1,
   "metadata": {
    "execution": {
     "iopub.execute_input": "2022-07-18T08:08:54.958471Z",
     "iopub.status.busy": "2022-07-18T08:08:54.957688Z",
     "iopub.status.idle": "2022-07-18T08:08:54.975172Z",
     "shell.execute_reply": "2022-07-18T08:08:54.975551Z"
    }
   },
   "outputs": [],
   "source": [
    "from funsql import *"
   ]
  },
  {
   "cell_type": "markdown",
   "metadata": {},
   "source": [
    "To start constructing queries, we first need specify the database model - the tables and schemas we write queries against. "
   ]
  },
  {
   "cell_type": "code",
   "execution_count": 2,
   "metadata": {
    "execution": {
     "iopub.execute_input": "2022-07-18T08:08:54.981356Z",
     "iopub.status.busy": "2022-07-18T08:08:54.980844Z",
     "iopub.status.idle": "2022-07-18T08:08:54.982515Z",
     "shell.execute_reply": "2022-07-18T08:08:54.982849Z"
    }
   },
   "outputs": [],
   "source": [
    "concept = SQLTable(S.concept, [S.concept_id, S.vocab_id, S.concept_code])\n",
    "\n",
    "location = SQLTable(S.location, [S.location_id, S.city, S.state])\n",
    "\n",
    "person = SQLTable(\n",
    "    S.person,\n",
    "    [\n",
    "        S.person_id,\n",
    "        S.year_of_birth,\n",
    "        S.month_of_birth,\n",
    "        S.day_of_birth,\n",
    "        S.birth_datetime,\n",
    "        S.location_id,\n",
    "    ],\n",
    ")\n",
    "\n",
    "visit_occurence = SQLTable(\n",
    "    S.visit_occurence,\n",
    "    [S.visit_occurence_id, S.person_id, S.visit_start_date, S.visit_end_date],\n",
    ")\n",
    "\n",
    "measurement = SQLTable(\n",
    "    S.measurement,\n",
    "    [S.measurement_id, S.person_id, S.measurement_concept_id, S.measurement_date],\n",
    ")\n",
    "\n",
    "observation = SQLTable(\n",
    "    S.observation,\n",
    "    [S.observation_id, S.person_id, S.observation_concept_id, S.observation_date],\n",
    ")"
   ]
  },
  {
   "cell_type": "markdown",
   "metadata": {},
   "source": [
    "FunSQL code has a lot of objects of the form - `S.{...}`, which is a shorthand to create `Symbol` objects. A `Symbol` is a wrapper around a string, so we can distinguish between identifiers (table/column/function names)\n",
    "and literal strings values (say, values in the TEXT column _user_name_). So, \n",
    "* `SELECT(S(\"user_name\"))` corresponds to: SELECT user_name\n",
    "* `SELECT(\"user_name\")` corresponds to: SELECT 'user_name'\n",
    "\n"
   ]
  },
  {
   "cell_type": "markdown",
   "metadata": {},
   "source": [
    "However, most class constructors accept both strings and Symbols if it is clear that an identifier is expected. "
   ]
  },
  {
   "cell_type": "markdown",
   "metadata": {
    "tags": []
   },
   "source": [
    "### Writing a query"
   ]
  },
  {
   "cell_type": "markdown",
   "metadata": {},
   "source": [
    "FunSQL generates SQL queries by constructing a tree of SQL nodes. The node objects correspond to regular SQL words (or, close to it), and are connected together using the `>>` (rshift) operator. "
   ]
  },
  {
   "cell_type": "code",
   "execution_count": 3,
   "metadata": {
    "execution": {
     "iopub.execute_input": "2022-07-18T08:08:54.991231Z",
     "iopub.status.busy": "2022-07-18T08:08:54.990690Z",
     "iopub.status.idle": "2022-07-18T08:08:54.993366Z",
     "shell.execute_reply": "2022-07-18T08:08:54.993662Z"
    }
   },
   "outputs": [
    {
     "data": {
      "text/plain": [
       "let person = SQLTable(person, ...),\n",
       "    q1 = From(person),\n",
       "    q2 = q1 >> Where(Fun.\">\"(Get.year_of_birth, Lit(2000))),\n",
       "    q3 = q2 >> Select(Get.person_id),\n",
       "    q3\n",
       "end"
      ]
     },
     "execution_count": 3,
     "metadata": {},
     "output_type": "execute_result"
    }
   ],
   "source": [
    "q = From(person) >> Where(Fun(\">\", Get.year_of_birth, 2000)) >> Select(Get.person_id)\n",
    "q"
   ]
  },
  {
   "cell_type": "markdown",
   "metadata": {},
   "source": [
    "The SQL query can be generated using the `render` function. "
   ]
  },
  {
   "cell_type": "code",
   "execution_count": 4,
   "metadata": {
    "execution": {
     "iopub.execute_input": "2022-07-18T08:08:54.997434Z",
     "iopub.status.busy": "2022-07-18T08:08:54.997031Z",
     "iopub.status.idle": "2022-07-18T08:08:54.998737Z",
     "shell.execute_reply": "2022-07-18T08:08:54.999010Z"
    }
   },
   "outputs": [
    {
     "data": {
      "text/plain": [
       "query: \n",
       "SELECT \"person_1\".\"person_id\"\n",
       "FROM \"person\" AS \"person_1\"\n",
       "WHERE (\"person_1\".\"year_of_birth\" > 2000)"
      ]
     },
     "execution_count": 4,
     "metadata": {},
     "output_type": "execute_result"
    }
   ],
   "source": [
    "q = From(person) >> Where(Fun(\">\", Get.year_of_birth, 2000)) >> Select(Get.person_id)\n",
    "render(q, depth=RenderDepth.SERIALIZE)"
   ]
  },
  {
   "cell_type": "markdown",
   "metadata": {},
   "source": [
    "Queries with a parameter are rendered with a placeholder in the query string and a list of all the parameter names. "
   ]
  },
  {
   "cell_type": "code",
   "execution_count": 5,
   "metadata": {
    "execution": {
     "iopub.execute_input": "2022-07-18T08:08:55.002329Z",
     "iopub.status.busy": "2022-07-18T08:08:55.001887Z",
     "iopub.status.idle": "2022-07-18T08:08:55.003463Z",
     "shell.execute_reply": "2022-07-18T08:08:55.003792Z"
    }
   },
   "outputs": [
    {
     "data": {
      "text/plain": [
       "query: \n",
       "SELECT \"location_1\".\"state\"\n",
       "FROM \"location\" AS \"location_1\"\n",
       "WHERE (\"location_1\".\"city\" - $1)\n",
       "\n",
       "vars: [CITY_INPUT]"
      ]
     },
     "execution_count": 5,
     "metadata": {},
     "output_type": "execute_result"
    }
   ],
   "source": [
    "q = From(location) >> Where(Fun(\"-\", Get.city, Var.CITY_INPUT)) >> Select(Get.state)\n",
    "render(q, depth=RenderDepth.SERIALIZE)"
   ]
  },
  {
   "cell_type": "markdown",
   "metadata": {},
   "source": [
    "Ill formed queries raise an error. "
   ]
  },
  {
   "cell_type": "code",
   "execution_count": 6,
   "metadata": {
    "execution": {
     "iopub.execute_input": "2022-07-18T08:08:55.006041Z",
     "iopub.status.busy": "2022-07-18T08:08:55.005688Z",
     "iopub.status.idle": "2022-07-18T08:08:55.006955Z",
     "shell.execute_reply": "2022-07-18T08:08:55.007194Z"
    }
   },
   "outputs": [],
   "source": [
    "q = From(person) >> Agg.Count() >> Select(Get.person_id)\n",
    "# render(q)"
   ]
  },
  {
   "cell_type": "markdown",
   "metadata": {
    "tags": []
   },
   "source": [
    "## Node definitions"
   ]
  },
  {
   "cell_type": "markdown",
   "metadata": {
    "tags": []
   },
   "source": [
    "### Literals"
   ]
  },
  {
   "cell_type": "markdown",
   "metadata": {},
   "source": [
    "The `Lit` node is used to create SQL values. "
   ]
  },
  {
   "cell_type": "code",
   "execution_count": 7,
   "metadata": {
    "execution": {
     "iopub.execute_input": "2022-07-18T08:08:55.009597Z",
     "iopub.status.busy": "2022-07-18T08:08:55.009181Z",
     "iopub.status.idle": "2022-07-18T08:08:55.010726Z",
     "shell.execute_reply": "2022-07-18T08:08:55.011039Z"
    }
   },
   "outputs": [
    {
     "data": {
      "text/plain": [
       "Lit(\"SQL is fun!\")"
      ]
     },
     "execution_count": 7,
     "metadata": {},
     "output_type": "execute_result"
    }
   ],
   "source": [
    "q = Lit(\"SQL is fun!\")\n",
    "q"
   ]
  },
  {
   "cell_type": "markdown",
   "metadata": {},
   "source": [
    "In a `SELECT` clause, literal expressions without a name, get the alias `_`."
   ]
  },
  {
   "cell_type": "code",
   "execution_count": 8,
   "metadata": {
    "execution": {
     "iopub.execute_input": "2022-07-18T08:08:55.013461Z",
     "iopub.status.busy": "2022-07-18T08:08:55.013094Z",
     "iopub.status.idle": "2022-07-18T08:08:55.014362Z",
     "shell.execute_reply": "2022-07-18T08:08:55.014709Z"
    }
   },
   "outputs": [
    {
     "data": {
      "text/plain": [
       "query: \n",
       "SELECT 'SQL is fun!' AS \"_\""
      ]
     },
     "execution_count": 8,
     "metadata": {},
     "output_type": "execute_result"
    }
   ],
   "source": [
    "q = Select(\"SQL is fun!\")\n",
    "render(q)"
   ]
  },
  {
   "cell_type": "markdown",
   "metadata": {},
   "source": [
    "The regular python datatypes are automatically converted to a SQL literal, when used in the context of a SQL node. "
   ]
  },
  {
   "cell_type": "code",
   "execution_count": 9,
   "metadata": {
    "execution": {
     "iopub.execute_input": "2022-07-18T08:08:55.017707Z",
     "iopub.status.busy": "2022-07-18T08:08:55.017349Z",
     "iopub.status.idle": "2022-07-18T08:08:55.018837Z",
     "shell.execute_reply": "2022-07-18T08:08:55.019130Z"
    }
   },
   "outputs": [
    {
     "data": {
      "text/plain": [
       "Select(Lit(NULL) >> As(null),\n",
       "       Lit(10) >> As(number),\n",
       "       Lit(\"funsql\") >> As(string),\n",
       "       Lit(TIMESTAMP '2020-01-01T00:00:00') >> As(time))"
      ]
     },
     "execution_count": 9,
     "metadata": {},
     "output_type": "execute_result"
    }
   ],
   "source": [
    "import datetime\n",
    "\n",
    "q = Select(\n",
    "    aka(None, \"null\"),\n",
    "    aka(10, S.number),\n",
    "    aka(\"funsql\", S.string),\n",
    "    aka(datetime.datetime(2020, 1, 1, 0, 0, 0), \"time\"),\n",
    ")\n",
    "q"
   ]
  },
  {
   "cell_type": "markdown",
   "metadata": {
    "tags": []
   },
   "source": [
    "### Attributes"
   ]
  },
  {
   "cell_type": "markdown",
   "metadata": {
    "tags": []
   },
   "source": [
    "#### Creating references"
   ]
  },
  {
   "cell_type": "markdown",
   "metadata": {},
   "source": [
    "The `Get` node is used to create table/column references. "
   ]
  },
  {
   "cell_type": "code",
   "execution_count": 10,
   "metadata": {
    "execution": {
     "iopub.execute_input": "2022-07-18T08:08:55.021397Z",
     "iopub.status.busy": "2022-07-18T08:08:55.021033Z",
     "iopub.status.idle": "2022-07-18T08:08:55.022473Z",
     "shell.execute_reply": "2022-07-18T08:08:55.022678Z"
    }
   },
   "outputs": [
    {
     "data": {
      "text/plain": [
       "Get.person_id"
      ]
     },
     "execution_count": 10,
     "metadata": {},
     "output_type": "execute_result"
    }
   ],
   "source": [
    "q = Get(S.person_id)\n",
    "q"
   ]
  },
  {
   "cell_type": "markdown",
   "metadata": {},
   "source": [
    "Hierarchical references can also be created. "
   ]
  },
  {
   "cell_type": "code",
   "execution_count": 11,
   "metadata": {
    "execution": {
     "iopub.execute_input": "2022-07-18T08:08:55.024758Z",
     "iopub.status.busy": "2022-07-18T08:08:55.024431Z",
     "iopub.status.idle": "2022-07-18T08:08:55.025776Z",
     "shell.execute_reply": "2022-07-18T08:08:55.026113Z"
    }
   },
   "outputs": [
    {
     "data": {
      "text/plain": [
       "Get.person.person_id"
      ]
     },
     "execution_count": 11,
     "metadata": {},
     "output_type": "execute_result"
    }
   ],
   "source": [
    "q = Get.person.person_id  # equivalent to: Get.person >> Get.person_id\n",
    "q"
   ]
  },
  {
   "cell_type": "markdown",
   "metadata": {},
   "source": [
    "For reference names starting with an underscore, use the function call syntax instead of the `.` accessor. This is just so we don't get name conflicts with python internal methods."
   ]
  },
  {
   "cell_type": "code",
   "execution_count": 12,
   "metadata": {
    "execution": {
     "iopub.execute_input": "2022-07-18T08:08:55.028208Z",
     "iopub.status.busy": "2022-07-18T08:08:55.027857Z",
     "iopub.status.idle": "2022-07-18T08:08:55.029048Z",
     "shell.execute_reply": "2022-07-18T08:08:55.029291Z"
    }
   },
   "outputs": [
    {
     "data": {
      "text/plain": [
       "Get._person"
      ]
     },
     "execution_count": 12,
     "metadata": {},
     "output_type": "execute_result"
    }
   ],
   "source": [
    "Get(\"_person\")"
   ]
  },
  {
   "cell_type": "markdown",
   "metadata": {},
   "source": [
    "`Get` can also be used to create bound references. "
   ]
  },
  {
   "cell_type": "code",
   "execution_count": 13,
   "metadata": {
    "execution": {
     "iopub.execute_input": "2022-07-18T08:08:55.031700Z",
     "iopub.status.busy": "2022-07-18T08:08:55.031360Z",
     "iopub.status.idle": "2022-07-18T08:08:55.032595Z",
     "shell.execute_reply": "2022-07-18T08:08:55.032787Z"
    }
   },
   "outputs": [
    {
     "data": {
      "text/plain": [
       "Where(Fun.\"=\"(From(SQLTable(person, ...)) >> Get.year_of_birth, Lit(2000))) >>\n",
       "Get.person_id"
      ]
     },
     "execution_count": 13,
     "metadata": {},
     "output_type": "execute_result"
    }
   ],
   "source": [
    "q = From(person)\n",
    "q = Where(Fun(\"=\", q >> Get(S.year_of_birth), 2000))\n",
    "q = q >> Get.person_id\n",
    "q"
   ]
  },
  {
   "cell_type": "markdown",
   "metadata": {},
   "source": [
    "Contrast this with an unbound reference, where the reference is resolved at render time by looking into the references available at the parent node. "
   ]
  },
  {
   "cell_type": "code",
   "execution_count": 14,
   "metadata": {
    "execution": {
     "iopub.execute_input": "2022-07-18T08:08:55.035049Z",
     "iopub.status.busy": "2022-07-18T08:08:55.034749Z",
     "iopub.status.idle": "2022-07-18T08:08:55.036226Z",
     "shell.execute_reply": "2022-07-18T08:08:55.036446Z"
    }
   },
   "outputs": [
    {
     "data": {
      "text/plain": [
       "let person = SQLTable(person, ...),\n",
       "    q1 = From(person),\n",
       "    q2 = q1 >> Group(Get.city),\n",
       "    q3 = q2 >> Select(Get.city),\n",
       "    q3\n",
       "end"
      ]
     },
     "execution_count": 14,
     "metadata": {},
     "output_type": "execute_result"
    }
   ],
   "source": [
    "q = From(person) >> Group(Get.city) >> Select(Get.city)\n",
    "q"
   ]
  },
  {
   "cell_type": "markdown",
   "metadata": {},
   "source": [
    "`Get` is used to dereference an alias created using the `As` node."
   ]
  },
  {
   "cell_type": "code",
   "execution_count": 15,
   "metadata": {
    "execution": {
     "iopub.execute_input": "2022-07-18T08:08:55.038619Z",
     "iopub.status.busy": "2022-07-18T08:08:55.038329Z",
     "iopub.status.idle": "2022-07-18T08:08:55.039679Z",
     "shell.execute_reply": "2022-07-18T08:08:55.039836Z"
    }
   },
   "outputs": [
    {
     "data": {
      "text/plain": [
       "query: \n",
       "SELECT \"person_1\".\"person_id\"\n",
       "FROM \"person\" AS \"person_1\""
      ]
     },
     "execution_count": 15,
     "metadata": {},
     "output_type": "execute_result"
    }
   ],
   "source": [
    "q = From(person) >> As(S.p) >> Select(Get.p.person_id)\n",
    "render(q)"
   ]
  },
  {
   "cell_type": "markdown",
   "metadata": {},
   "source": [
    "This is useful when say, disambiguating the results of a Join."
   ]
  },
  {
   "cell_type": "code",
   "execution_count": 16,
   "metadata": {
    "execution": {
     "iopub.execute_input": "2022-07-18T08:08:55.042555Z",
     "iopub.status.busy": "2022-07-18T08:08:55.042228Z",
     "iopub.status.idle": "2022-07-18T08:08:55.043464Z",
     "shell.execute_reply": "2022-07-18T08:08:55.043628Z"
    }
   },
   "outputs": [
    {
     "data": {
      "text/plain": [
       "query: \n",
       "SELECT\n",
       "  \"person_1\".\"person_id\", \n",
       "  \"location_1\".\"state\"\n",
       "FROM \"person\" AS \"person_1\"\n",
       "INNER JOIN \"location\" AS \"location_1\" ON (\"person_1\".\"location_id\" = \"location_1\".\"location_id\")"
      ]
     },
     "execution_count": 16,
     "metadata": {},
     "output_type": "execute_result"
    }
   ],
   "source": [
    "q = (\n",
    "    From(person)\n",
    "    >> As(S.p)\n",
    "    >> Join(\n",
    "        From(location) >> As(S.l), on=Fun(\"=\", Get.p.location_id, Get.l.location_id)\n",
    "    )\n",
    "    >> Select(Get.p.person_id, Get.l.state)\n",
    ")\n",
    "render(q)"
   ]
  },
  {
   "cell_type": "markdown",
   "metadata": {},
   "source": [
    "This could also be done using `bound` references. "
   ]
  },
  {
   "cell_type": "code",
   "execution_count": 17,
   "metadata": {
    "execution": {
     "iopub.execute_input": "2022-07-18T08:08:55.046178Z",
     "iopub.status.busy": "2022-07-18T08:08:55.045891Z",
     "iopub.status.idle": "2022-07-18T08:08:55.047200Z",
     "shell.execute_reply": "2022-07-18T08:08:55.047428Z"
    }
   },
   "outputs": [
    {
     "data": {
      "text/plain": [
       "query: \n",
       "SELECT\n",
       "  \"person_1\".\"person_id\", \n",
       "  \"location_1\".\"state\"\n",
       "FROM \"person\" AS \"person_1\"\n",
       "INNER JOIN \"location\" AS \"location_1\" ON (\"person_1\".\"location_id\" = \"location_1\".\"location_id\")"
      ]
     },
     "execution_count": 17,
     "metadata": {},
     "output_type": "execute_result"
    }
   ],
   "source": [
    "s1 = From(person)\n",
    "s2 = From(location)\n",
    "q = (\n",
    "    s1\n",
    "    >> Join(s2, on=Fun(\"=\", s1 >> Get.location_id, s2 >> Get.location_id))\n",
    "    >> Select(s1 >> Get.person_id, s2 >> Get.state)\n",
    ")\n",
    "render(q)"
   ]
  },
  {
   "cell_type": "markdown",
   "metadata": {
    "tags": []
   },
   "source": [
    "#### Incorrect references"
   ]
  },
  {
   "cell_type": "markdown",
   "metadata": {},
   "source": [
    "An error is raised when `Get` refers to an unknown attribute. "
   ]
  },
  {
   "cell_type": "code",
   "execution_count": 18,
   "metadata": {
    "execution": {
     "iopub.execute_input": "2022-07-18T08:08:55.049075Z",
     "iopub.status.busy": "2022-07-18T08:08:55.048787Z",
     "iopub.status.idle": "2022-07-18T08:08:55.050058Z",
     "shell.execute_reply": "2022-07-18T08:08:55.049868Z"
    }
   },
   "outputs": [],
   "source": [
    "q = Select(Get.person_id)\n",
    "# render(q)"
   ]
  },
  {
   "cell_type": "code",
   "execution_count": 19,
   "metadata": {
    "execution": {
     "iopub.execute_input": "2022-07-18T08:08:55.051560Z",
     "iopub.status.busy": "2022-07-18T08:08:55.051289Z",
     "iopub.status.idle": "2022-07-18T08:08:55.052497Z",
     "shell.execute_reply": "2022-07-18T08:08:55.052652Z"
    }
   },
   "outputs": [],
   "source": [
    "q = From(person) >> As(S.p) >> Select(Get.person_id)\n",
    "# render(q)"
   ]
  },
  {
   "cell_type": "markdown",
   "metadata": {},
   "source": [
    "An error is also raised when a reference can't be resolved unambiguously. "
   ]
  },
  {
   "cell_type": "code",
   "execution_count": 20,
   "metadata": {
    "execution": {
     "iopub.execute_input": "2022-07-18T08:08:55.054278Z",
     "iopub.status.busy": "2022-07-18T08:08:55.054001Z",
     "iopub.status.idle": "2022-07-18T08:08:55.055132Z",
     "shell.execute_reply": "2022-07-18T08:08:55.055289Z"
    }
   },
   "outputs": [],
   "source": [
    "q = From(person) >> Join(From(person), on=True) >> Select(Get.person_id)\n",
    "# render(q)"
   ]
  },
  {
   "cell_type": "markdown",
   "metadata": {},
   "source": [
    "Unexpected hierarchical references"
   ]
  },
  {
   "cell_type": "code",
   "execution_count": 21,
   "metadata": {
    "execution": {
     "iopub.execute_input": "2022-07-18T08:08:55.056915Z",
     "iopub.status.busy": "2022-07-18T08:08:55.056626Z",
     "iopub.status.idle": "2022-07-18T08:08:55.057700Z",
     "shell.execute_reply": "2022-07-18T08:08:55.057876Z"
    }
   },
   "outputs": [],
   "source": [
    "q = From(person) >> Select(Get.person_id.year_of_birth)\n",
    "# render(q)"
   ]
  },
  {
   "cell_type": "code",
   "execution_count": 22,
   "metadata": {
    "execution": {
     "iopub.execute_input": "2022-07-18T08:08:55.059484Z",
     "iopub.status.busy": "2022-07-18T08:08:55.059214Z",
     "iopub.status.idle": "2022-07-18T08:08:55.060379Z",
     "shell.execute_reply": "2022-07-18T08:08:55.060538Z"
    }
   },
   "outputs": [],
   "source": [
    "q = From(person) >> As(S.p) >> Select(Get.p)\n",
    "# render(q)"
   ]
  },
  {
   "cell_type": "markdown",
   "metadata": {},
   "source": [
    "Node bound references bound to an unrelated node, raise an error."
   ]
  },
  {
   "cell_type": "code",
   "execution_count": 23,
   "metadata": {
    "execution": {
     "iopub.execute_input": "2022-07-18T08:08:55.062257Z",
     "iopub.status.busy": "2022-07-18T08:08:55.061961Z",
     "iopub.status.idle": "2022-07-18T08:08:55.063125Z",
     "shell.execute_reply": "2022-07-18T08:08:55.063305Z"
    }
   },
   "outputs": [],
   "source": [
    "s1 = From(person)\n",
    "q = From(location) >> Where(Fun(\"=\", s1 >> Get.year_of_birth, 2000))\n",
    "# render(q)"
   ]
  },
  {
   "cell_type": "markdown",
   "metadata": {},
   "source": [
    "A node bound reference that can't be resolved unabiguously, also raises an error. "
   ]
  },
  {
   "cell_type": "code",
   "execution_count": 24,
   "metadata": {
    "execution": {
     "iopub.execute_input": "2022-07-18T08:08:55.065142Z",
     "iopub.status.busy": "2022-07-18T08:08:55.064866Z",
     "iopub.status.idle": "2022-07-18T08:08:55.065992Z",
     "shell.execute_reply": "2022-07-18T08:08:55.066167Z"
    }
   },
   "outputs": [],
   "source": [
    "s1 = From(person)\n",
    "q = (\n",
    "    s1\n",
    "    >> Join(aka(s1, \"another\"), on=Fun(\"!=\", Get.person_id, Get.another.person_id))\n",
    "    >> Select(s1 >> Get.person_id)\n",
    ")\n",
    "# render(q)"
   ]
  },
  {
   "cell_type": "markdown",
   "metadata": {
    "tags": []
   },
   "source": [
    "#### Define"
   ]
  },
  {
   "cell_type": "markdown",
   "metadata": {},
   "source": [
    "`Define` can be used to create a new expression, and attach it to a query. "
   ]
  },
  {
   "cell_type": "code",
   "execution_count": 25,
   "metadata": {
    "execution": {
     "iopub.execute_input": "2022-07-18T08:08:55.068602Z",
     "iopub.status.busy": "2022-07-18T08:08:55.068306Z",
     "iopub.status.idle": "2022-07-18T08:08:55.069611Z",
     "shell.execute_reply": "2022-07-18T08:08:55.069781Z"
    }
   },
   "outputs": [
    {
     "data": {
      "text/plain": [
       "query: \n",
       "SELECT\n",
       "  \"person_1\".\"person_id\", \n",
       "  (NOW() - \"person_1\".\"birth_datetime\") AS \"age\"\n",
       "FROM \"person\" AS \"person_1\""
      ]
     },
     "execution_count": 25,
     "metadata": {},
     "output_type": "execute_result"
    }
   ],
   "source": [
    "age = Fun(\"-\", Fun.now(), Get.birth_datetime)\n",
    "q = From(person) >> Define(aka(age, \"age\")) >> Select(Get.person_id, Get.age)\n",
    "render(q)"
   ]
  },
  {
   "cell_type": "markdown",
   "metadata": {},
   "source": [
    "The column added by `Define` is like a regular table/query column. "
   ]
  },
  {
   "cell_type": "code",
   "execution_count": 26,
   "metadata": {
    "execution": {
     "iopub.execute_input": "2022-07-18T08:08:55.072619Z",
     "iopub.status.busy": "2022-07-18T08:08:55.072329Z",
     "iopub.status.idle": "2022-07-18T08:08:55.073692Z",
     "shell.execute_reply": "2022-07-18T08:08:55.073852Z"
    }
   },
   "outputs": [
    {
     "data": {
      "text/plain": [
       "query: \n",
       "SELECT\n",
       "  \"person_1\".\"person_id\", \n",
       "  (NOW() - \"person_1\".\"birth_datetime\") AS \"age\"\n",
       "FROM \"person\" AS \"person_1\"\n",
       "WHERE ((NOW() - \"person_1\".\"birth_datetime\") >= 32)"
      ]
     },
     "execution_count": 26,
     "metadata": {},
     "output_type": "execute_result"
    }
   ],
   "source": [
    "age = Fun(\"-\", Fun.now(), Get.birth_datetime)\n",
    "person_w_age = From(person) >> Define(aka(age, \"age\"))\n",
    "q = person_w_age >> Where(Fun(\">=\", Get.age, 32)) >> Select(Get.person_id, Get.age)\n",
    "render(q)"
   ]
  },
  {
   "cell_type": "markdown",
   "metadata": {},
   "source": [
    "`Define` can be used to overwrite an existing field. "
   ]
  },
  {
   "cell_type": "code",
   "execution_count": 27,
   "metadata": {
    "execution": {
     "iopub.execute_input": "2022-07-18T08:08:55.075997Z",
     "iopub.status.busy": "2022-07-18T08:08:55.075675Z",
     "iopub.status.idle": "2022-07-18T08:08:55.077136Z",
     "shell.execute_reply": "2022-07-18T08:08:55.077286Z"
    }
   },
   "outputs": [
    {
     "data": {
      "text/plain": [
       "query: \n",
       "SELECT\n",
       "  \"person_1\".\"year_of_birth\", \n",
       "  \"person_1\".\"month_of_birth\", \n",
       "  \"person_1\".\"day_of_birth\", \n",
       "  \"person_1\".\"birth_datetime\", \n",
       "  \"person_1\".\"person_id\" AS \"location_id\", \n",
       "  \"person_1\".\"location_id\" AS \"person_id\"\n",
       "FROM \"person\" AS \"person_1\""
      ]
     },
     "execution_count": 27,
     "metadata": {},
     "output_type": "execute_result"
    }
   ],
   "source": [
    "q = From(person) >> Define(\n",
    "    aka(Get.person_id, \"location_id\"), aka(Get.location_id, \"person_id\")\n",
    ")\n",
    "render(q)"
   ]
  },
  {
   "cell_type": "markdown",
   "metadata": {},
   "source": [
    "`Define` can be used after a `Select`. "
   ]
  },
  {
   "cell_type": "code",
   "execution_count": 28,
   "metadata": {
    "execution": {
     "iopub.execute_input": "2022-07-18T08:08:55.079654Z",
     "iopub.status.busy": "2022-07-18T08:08:55.079328Z",
     "iopub.status.idle": "2022-07-18T08:08:55.080821Z",
     "shell.execute_reply": "2022-07-18T08:08:55.080973Z"
    }
   },
   "outputs": [
    {
     "data": {
      "text/plain": [
       "query: \n",
       "SELECT\n",
       "  \"person_2\".\"person_id\", \n",
       "  \"person_2\".\"year_of_birth\", \n",
       "  (NOW() - \"person_2\".\"year_of_birth\") AS \"age\"\n",
       "FROM (\n",
       "  SELECT\n",
       "    \"person_1\".\"person_id\", \n",
       "    \"person_1\".\"year_of_birth\"\n",
       "  FROM \"person\" AS \"person_1\"\n",
       ") AS \"person_2\""
      ]
     },
     "execution_count": 28,
     "metadata": {},
     "output_type": "execute_result"
    }
   ],
   "source": [
    "age = Fun(\"-\", Fun.now(), Get.year_of_birth)\n",
    "q = From(person) >> Select(Get.person_id, Get.year_of_birth) >> Define(aka(age, \"age\"))\n",
    "render(q)"
   ]
  },
  {
   "cell_type": "markdown",
   "metadata": {
    "tags": []
   },
   "source": [
    "### Variables"
   ]
  },
  {
   "cell_type": "markdown",
   "metadata": {},
   "source": [
    "`Var` is used to create a query variable. "
   ]
  },
  {
   "cell_type": "code",
   "execution_count": 29,
   "metadata": {
    "execution": {
     "iopub.execute_input": "2022-07-18T08:08:55.082762Z",
     "iopub.status.busy": "2022-07-18T08:08:55.082479Z",
     "iopub.status.idle": "2022-07-18T08:08:55.083901Z",
     "shell.execute_reply": "2022-07-18T08:08:55.084062Z"
    }
   },
   "outputs": [
    {
     "data": {
      "text/plain": [
       "Var.location_id"
      ]
     },
     "execution_count": 29,
     "metadata": {},
     "output_type": "execute_result"
    }
   ],
   "source": [
    "Var.location_id"
   ]
  },
  {
   "cell_type": "markdown",
   "metadata": {},
   "source": [
    "Unbound variables get serialized as query parameters. "
   ]
  },
  {
   "cell_type": "code",
   "execution_count": 30,
   "metadata": {
    "execution": {
     "iopub.execute_input": "2022-07-18T08:08:55.086217Z",
     "iopub.status.busy": "2022-07-18T08:08:55.085901Z",
     "iopub.status.idle": "2022-07-18T08:08:55.087316Z",
     "shell.execute_reply": "2022-07-18T08:08:55.087469Z"
    }
   },
   "outputs": [
    {
     "data": {
      "text/plain": [
       "query: \n",
       "SELECT \"person_1\".\"person_id\"\n",
       "FROM \"person\" AS \"person_1\"\n",
       "WHERE (\"person_1\".\"location_id\" = $1)\n",
       "\n",
       "vars: [location_id]"
      ]
     },
     "execution_count": 30,
     "metadata": {},
     "output_type": "execute_result"
    }
   ],
   "source": [
    "q = (\n",
    "    From(person)\n",
    "    >> Where(Fun(\"=\", Get.location_id, Var.location_id))\n",
    "    >> Select(Get.person_id)\n",
    ")\n",
    "render(q)"
   ]
  },
  {
   "cell_type": "markdown",
   "metadata": {},
   "source": [
    "query variables can be bound using the `Bind` operator. "
   ]
  },
  {
   "cell_type": "code",
   "execution_count": 31,
   "metadata": {
    "execution": {
     "iopub.execute_input": "2022-07-18T08:08:55.089846Z",
     "iopub.status.busy": "2022-07-18T08:08:55.089556Z",
     "iopub.status.idle": "2022-07-18T08:08:55.090929Z",
     "shell.execute_reply": "2022-07-18T08:08:55.091099Z"
    }
   },
   "outputs": [
    {
     "data": {
      "text/plain": [
       "query: \n",
       "SELECT\n",
       "  \"visit_occurence_1\".\"visit_occurence_id\", \n",
       "  \"visit_occurence_1\".\"person_id\", \n",
       "  \"visit_occurence_1\".\"visit_start_date\", \n",
       "  \"visit_occurence_1\".\"visit_end_date\"\n",
       "FROM \"visit_occurence\" AS \"visit_occurence_1\"\n",
       "WHERE (\"visit_occurence_1\".\"person_id\" = 210)"
      ]
     },
     "execution_count": 31,
     "metadata": {},
     "output_type": "execute_result"
    }
   ],
   "source": [
    "def q(p_id):\n",
    "    return (\n",
    "        From(visit_occurence)\n",
    "        >> Where(Fun(\"=\", Get.person_id, Var.PERSON))\n",
    "        >> Bind(aka(p_id, S.PERSON))\n",
    "    )\n",
    "\n",
    "\n",
    "render(q(210))"
   ]
  },
  {
   "cell_type": "markdown",
   "metadata": {},
   "source": [
    "`Bind` can also be used to create correlated queries. "
   ]
  },
  {
   "cell_type": "code",
   "execution_count": 32,
   "metadata": {
    "execution": {
     "iopub.execute_input": "2022-07-18T08:08:55.093748Z",
     "iopub.status.busy": "2022-07-18T08:08:55.093435Z",
     "iopub.status.idle": "2022-07-18T08:08:55.094951Z",
     "shell.execute_reply": "2022-07-18T08:08:55.095105Z"
    }
   },
   "outputs": [
    {
     "data": {
      "text/plain": [
       "query: \n",
       "SELECT \"person_1\".\"person_id\"\n",
       "FROM \"person\" AS \"person_1\"\n",
       "WHERE (EXISTS (\n",
       "  SELECT NULL\n",
       "  FROM \"visit_occurence\" AS \"visit_occurence_1\"\n",
       "  WHERE (\"visit_occurence_1\".\"person_id\" = \"person_1\".\"person_id\")\n",
       "))"
      ]
     },
     "execution_count": 32,
     "metadata": {},
     "output_type": "execute_result"
    }
   ],
   "source": [
    "def has_visit(p_id):\n",
    "    return (\n",
    "        From(visit_occurence)\n",
    "        >> Where(Fun(\"=\", Get.person_id, Var.PERSON))\n",
    "        >> Bind(aka(p_id, S.PERSON))\n",
    "    )\n",
    "\n",
    "\n",
    "q = From(person) >> Where(Fun.exists(has_visit(Get.person_id))) >> Select(Get.person_id)\n",
    "render(q)"
   ]
  },
  {
   "cell_type": "markdown",
   "metadata": {},
   "source": [
    "As a lateral `Join`."
   ]
  },
  {
   "cell_type": "code",
   "execution_count": 33,
   "metadata": {
    "execution": {
     "iopub.execute_input": "2022-07-18T08:08:55.097959Z",
     "iopub.status.busy": "2022-07-18T08:08:55.097651Z",
     "iopub.status.idle": "2022-07-18T08:08:55.099029Z",
     "shell.execute_reply": "2022-07-18T08:08:55.099199Z"
    }
   },
   "outputs": [
    {
     "data": {
      "text/plain": [
       "query: \n",
       "SELECT\n",
       "  \"person_1\".\"person_id\", \n",
       "  \"visit_1\".\"visit_start_date\"\n",
       "FROM \"person\" AS \"person_1\"\n",
       "LEFT JOIN LATERAL (\n",
       "  SELECT \"visit_occurence_1\".\"visit_start_date\"\n",
       "  FROM \"visit_occurence\" AS \"visit_occurence_1\"\n",
       "  WHERE (\"visit_occurence_1\".\"person_id\" = \"person_1\".\"person_id\")\n",
       ") AS \"visit_1\" ON TRUE"
      ]
     },
     "execution_count": 33,
     "metadata": {},
     "output_type": "execute_result"
    }
   ],
   "source": [
    "def visit_for_person(p_id):\n",
    "    return (\n",
    "        From(visit_occurence)\n",
    "        >> Where(Fun(\"=\", Get.person_id, Var.PERSON))\n",
    "        >> Bind(aka(p_id, S.PERSON))\n",
    "    )\n",
    "\n",
    "\n",
    "q = (\n",
    "    From(person)\n",
    "    >> Join(visit_for_person(Get.person_id) >> As(\"visit\"), on=True, left=True)\n",
    "    >> Select(Get.person_id, Get.visit.visit_start_date)\n",
    ")\n",
    "render(q)"
   ]
  },
  {
   "cell_type": "markdown",
   "metadata": {
    "tags": []
   },
   "source": [
    "### Functions and Operators"
   ]
  },
  {
   "cell_type": "markdown",
   "metadata": {},
   "source": [
    "Functions or Operators are represented using the `Fun` node. "
   ]
  },
  {
   "cell_type": "code",
   "execution_count": 34,
   "metadata": {
    "execution": {
     "iopub.execute_input": "2022-07-18T08:08:55.101073Z",
     "iopub.status.busy": "2022-07-18T08:08:55.100788Z",
     "iopub.status.idle": "2022-07-18T08:08:55.102214Z",
     "shell.execute_reply": "2022-07-18T08:08:55.102384Z"
    }
   },
   "outputs": [
    {
     "data": {
      "text/plain": [
       "Fun.\">\"(Get.year_of_birth, Lit(1940))"
      ]
     },
     "execution_count": 34,
     "metadata": {},
     "output_type": "execute_result"
    }
   ],
   "source": [
    "q = Fun(\">\", Get.year_of_birth, Lit(1940))\n",
    "q"
   ]
  },
  {
   "cell_type": "markdown",
   "metadata": {},
   "source": [
    "Function args can be nested queries. "
   ]
  },
  {
   "cell_type": "code",
   "execution_count": 35,
   "metadata": {
    "execution": {
     "iopub.execute_input": "2022-07-18T08:08:55.104614Z",
     "iopub.status.busy": "2022-07-18T08:08:55.104284Z",
     "iopub.status.idle": "2022-07-18T08:08:55.105718Z",
     "shell.execute_reply": "2022-07-18T08:08:55.105896Z"
    }
   },
   "outputs": [
    {
     "data": {
      "text/plain": [
       "query: \n",
       "SELECT (EXISTS (\n",
       "  SELECT NULL\n",
       "  FROM \"person\" AS \"person_1\"\n",
       "  WHERE (\"person_1\".\"year_of_birth\" < 2000)\n",
       ")) AS \"exists\""
      ]
     },
     "execution_count": 35,
     "metadata": {},
     "output_type": "execute_result"
    }
   ],
   "source": [
    "p = From(person) >> Where(Fun(\"<\", Get.year_of_birth, 2000))\n",
    "q = Select(Fun.exists(p))\n",
    "render(q)"
   ]
  },
  {
   "cell_type": "markdown",
   "metadata": {},
   "source": [
    "All kinds of SQL expressions and operators can be represented using the `Fun` node. "
   ]
  },
  {
   "cell_type": "code",
   "execution_count": 36,
   "metadata": {
    "execution": {
     "iopub.execute_input": "2022-07-18T08:08:55.108505Z",
     "iopub.status.busy": "2022-07-18T08:08:55.108215Z",
     "iopub.status.idle": "2022-07-18T08:08:55.109418Z",
     "shell.execute_reply": "2022-07-18T08:08:55.109702Z"
    }
   },
   "outputs": [
    {
     "data": {
      "text/plain": [
       "query: \n",
       "SELECT CAST(EXTRACT(YEAR FROM \"person_1\".\"birth_datetime\") AS INT) AS \"year_of_birth\"\n",
       "FROM \"person\" AS \"person_1\"\n",
       "WHERE ((\"person_1\".\"birth_datetime\" IS NULL) AND (\"person_1\".\"year_of_birth\" IS NOT NULL))"
      ]
     },
     "execution_count": 36,
     "metadata": {},
     "output_type": "execute_result"
    }
   ],
   "source": [
    "q = (\n",
    "    From(person)\n",
    "    >> Where(\n",
    "        Fun(\n",
    "            \"and\",\n",
    "            Fun(\"is null\", Get.birth_datetime),\n",
    "            Fun(\"is not null\", Get.year_of_birth),\n",
    "        )\n",
    "    )\n",
    "    >> Select(\n",
    "        aka(Fun.cast(Fun.extract(\"YEAR\", Get.birth_datetime), \"INT\"), \"year_of_birth\")\n",
    "    )\n",
    ")\n",
    "render(q)"
   ]
  },
  {
   "cell_type": "markdown",
   "metadata": {},
   "source": [
    "Redundant function expressions are not rendered. "
   ]
  },
  {
   "cell_type": "code",
   "execution_count": 37,
   "metadata": {
    "execution": {
     "iopub.execute_input": "2022-07-18T08:08:55.111735Z",
     "iopub.status.busy": "2022-07-18T08:08:55.111454Z",
     "iopub.status.idle": "2022-07-18T08:08:55.112823Z",
     "shell.execute_reply": "2022-07-18T08:08:55.113001Z"
    }
   },
   "outputs": [
    {
     "data": {
      "text/plain": [
       "query: \n",
       "SELECT \"person_1\".\"person_id\"\n",
       "FROM \"person\" AS \"person_1\""
      ]
     },
     "execution_count": 37,
     "metadata": {},
     "output_type": "execute_result"
    }
   ],
   "source": [
    "q = From(person) >> Select(Get.person_id) >> Where(Fun.AND())\n",
    "render(q)"
   ]
  },
  {
   "cell_type": "markdown",
   "metadata": {
    "tags": []
   },
   "source": [
    "### Append"
   ]
  },
  {
   "cell_type": "markdown",
   "metadata": {},
   "source": [
    "`Append` node represents a SQL UNION, that is it concatenates output from multiple queries."
   ]
  },
  {
   "cell_type": "code",
   "execution_count": 38,
   "metadata": {
    "execution": {
     "iopub.execute_input": "2022-07-18T08:08:55.115462Z",
     "iopub.status.busy": "2022-07-18T08:08:55.115168Z",
     "iopub.status.idle": "2022-07-18T08:08:55.116555Z",
     "shell.execute_reply": "2022-07-18T08:08:55.116729Z"
    }
   },
   "outputs": [
    {
     "data": {
      "text/plain": [
       "query: \n",
       "SELECT\n",
       "  \"measurement_1\".\"measurement_date\" AS \"date\", \n",
       "  \"measurement_1\".\"person_id\"\n",
       "FROM \"measurement\" AS \"measurement_1\"\n",
       "UNION ALL\n",
       "SELECT\n",
       "  \"observation_1\".\"observation_date\" AS \"date\", \n",
       "  \"observation_1\".\"person_id\"\n",
       "FROM \"observation\" AS \"observation_1\""
      ]
     },
     "execution_count": 38,
     "metadata": {},
     "output_type": "execute_result"
    }
   ],
   "source": [
    "q1 = From(measurement) >> Define(aka(Get.measurement_date, \"date\"))\n",
    "q2 = From(observation) >> Define(aka(Get.observation_date, \"date\"))\n",
    "q = q1 >> Append(q2)\n",
    "render(q)"
   ]
  },
  {
   "cell_type": "markdown",
   "metadata": {},
   "source": [
    "Another example"
   ]
  },
  {
   "cell_type": "code",
   "execution_count": 39,
   "metadata": {
    "execution": {
     "iopub.execute_input": "2022-07-18T08:08:55.120086Z",
     "iopub.status.busy": "2022-07-18T08:08:55.119777Z",
     "iopub.status.idle": "2022-07-18T08:08:55.121140Z",
     "shell.execute_reply": "2022-07-18T08:08:55.121306Z"
    }
   },
   "outputs": [
    {
     "data": {
      "text/plain": [
       "query: \n",
       "SELECT\n",
       "  \"union_1\".\"person_id\", \n",
       "  \"union_1\".\"count\", \n",
       "  \"union_1\".\"count_2\" AS \"count_distinct\"\n",
       "FROM (\n",
       "  SELECT\n",
       "    \"measurement_1\".\"person_id\", \n",
       "    count(*) AS \"count\", \n",
       "    count(DISTINCT \"measurement_1\".\"measurement_concept_id\") AS \"count_2\"\n",
       "  FROM \"measurement\" AS \"measurement_1\"\n",
       "  GROUP BY \"measurement_1\".\"person_id\"\n",
       "  UNION ALL\n",
       "  SELECT\n",
       "    \"observation_1\".\"person_id\", \n",
       "    count(*) AS \"count\", \n",
       "    count(DISTINCT \"observation_1\".\"observation_concept_id\") AS \"count_2\"\n",
       "  FROM \"observation\" AS \"observation_1\"\n",
       "  GROUP BY \"observation_1\".\"person_id\"\n",
       ") AS \"union_1\""
      ]
     },
     "execution_count": 39,
     "metadata": {},
     "output_type": "execute_result"
    }
   ],
   "source": [
    "q1 = (\n",
    "    From(measurement)\n",
    "    >> Define(aka(Get.measurement_concept_id, \"concept_id\"))\n",
    "    >> Group(Get.person_id)\n",
    ")\n",
    "q2 = (\n",
    "    From(observation)\n",
    "    >> Define(aka(Get.observation_concept_id, \"concept_id\"))\n",
    "    >> Group(Get.person_id)\n",
    ")\n",
    "q = (\n",
    "    q1\n",
    "    >> Append(q2)\n",
    "    >> Select(\n",
    "        Get.person_id,\n",
    "        aka(Agg.count(), \"count\"),\n",
    "        aka(Agg.count(Get.concept_id, distinct=True), \"count_distinct\"),\n",
    "    )\n",
    ")\n",
    "render(q)"
   ]
  },
  {
   "cell_type": "markdown",
   "metadata": {},
   "source": [
    "`Append` aligns the columns of its subqueries before doing a UNION. "
   ]
  },
  {
   "cell_type": "code",
   "execution_count": 40,
   "metadata": {
    "execution": {
     "iopub.execute_input": "2022-07-18T08:08:55.123895Z",
     "iopub.status.busy": "2022-07-18T08:08:55.123611Z",
     "iopub.status.idle": "2022-07-18T08:08:55.124934Z",
     "shell.execute_reply": "2022-07-18T08:08:55.125115Z"
    }
   },
   "outputs": [
    {
     "data": {
      "text/plain": [
       "query: \n",
       "SELECT\n",
       "  \"measurement_2\".\"date\", \n",
       "  \"measurement_2\".\"person_id\"\n",
       "FROM (\n",
       "  SELECT\n",
       "    \"measurement_1\".\"person_id\", \n",
       "    \"measurement_1\".\"measurement_date\" AS \"date\"\n",
       "  FROM \"measurement\" AS \"measurement_1\"\n",
       ") AS \"measurement_2\"\n",
       "UNION ALL\n",
       "SELECT\n",
       "  \"observation_1\".\"observation_date\" AS \"date\", \n",
       "  \"observation_1\".\"person_id\"\n",
       "FROM \"observation\" AS \"observation_1\""
      ]
     },
     "execution_count": 40,
     "metadata": {},
     "output_type": "execute_result"
    }
   ],
   "source": [
    "q1 = From(measurement) >> Select(Get.person_id, aka(Get.measurement_date, \"date\"))\n",
    "q2 = From(observation) >> Select(aka(Get.observation_date, \"date\"), Get.person_id)\n",
    "q = q1 >> Append(q2)\n",
    "render(q)"
   ]
  },
  {
   "cell_type": "markdown",
   "metadata": {},
   "source": [
    "If an explicit `Select` is missing, the output includes only the columns common to the nested queries. "
   ]
  },
  {
   "cell_type": "code",
   "execution_count": 41,
   "metadata": {
    "execution": {
     "iopub.execute_input": "2022-07-18T08:08:55.127152Z",
     "iopub.status.busy": "2022-07-18T08:08:55.126856Z",
     "iopub.status.idle": "2022-07-18T08:08:55.128110Z",
     "shell.execute_reply": "2022-07-18T08:08:55.128325Z"
    }
   },
   "outputs": [
    {
     "data": {
      "text/plain": [
       "query: \n",
       "SELECT \"measurement_1\".\"person_id\"\n",
       "FROM \"measurement\" AS \"measurement_1\"\n",
       "UNION ALL\n",
       "SELECT \"observation_1\".\"person_id\"\n",
       "FROM \"observation\" AS \"observation_1\""
      ]
     },
     "execution_count": 41,
     "metadata": {},
     "output_type": "execute_result"
    }
   ],
   "source": [
    "q = From(measurement) >> Append(From(observation))\n",
    "render(q)"
   ]
  },
  {
   "cell_type": "markdown",
   "metadata": {
    "tags": []
   },
   "source": [
    "### Iterate"
   ]
  },
  {
   "cell_type": "markdown",
   "metadata": {},
   "source": [
    "The `Iterate` node can be used to create a recursive CTE. "
   ]
  },
  {
   "cell_type": "code",
   "execution_count": 42,
   "metadata": {
    "execution": {
     "iopub.execute_input": "2022-07-18T08:08:55.131568Z",
     "iopub.status.busy": "2022-07-18T08:08:55.131268Z",
     "iopub.status.idle": "2022-07-18T08:08:55.132696Z",
     "shell.execute_reply": "2022-07-18T08:08:55.132881Z"
    }
   },
   "outputs": [
    {
     "data": {
      "text/plain": [
       "query: \n",
       "WITH RECURSIVE \"factorial_1\" (\"n\", \"prod\")  AS (\n",
       "  SELECT\n",
       "    1 AS \"n\", \n",
       "    1 AS \"prod\"\n",
       "  UNION ALL\n",
       "  SELECT\n",
       "    (\"factorial_2\".\"n\" + 1) AS \"n\", \n",
       "    ((\"factorial_2\".\"n\" + 1) * \"factorial_2\".\"prod\") AS \"prod\"\n",
       "  FROM \"factorial_1\" AS \"factorial_2\"\n",
       "  WHERE ((\"factorial_2\".\"n\" + 1) <= 10)\n",
       ")\n",
       "SELECT\n",
       "  \"factorial_1\".\"n\", \n",
       "  \"factorial_1\".\"prod\"\n",
       "FROM \"factorial_1\""
      ]
     },
     "execution_count": 42,
     "metadata": {},
     "output_type": "execute_result"
    }
   ],
   "source": [
    "q = Define(aka(1, \"n\"), aka(1, \"prod\")) >> Iterate(\n",
    "    From(S.factorial)\n",
    "    >> Define(aka(Fun(\"+\", Get.n, 1), \"n\"))\n",
    "    >> Define(aka(Fun(\"*\", Get.n, Get.prod), \"prod\"))\n",
    "    >> Where(Fun(\"<=\", Get.n, 10))\n",
    "    >> As(S.factorial)\n",
    ")\n",
    "render(q)"
   ]
  },
  {
   "cell_type": "markdown",
   "metadata": {},
   "source": [
    "The `Iterate` node output preserves only the columns present in both the base query and the iterator query. "
   ]
  },
  {
   "cell_type": "code",
   "execution_count": 43,
   "metadata": {
    "execution": {
     "iopub.execute_input": "2022-07-18T08:08:55.135803Z",
     "iopub.status.busy": "2022-07-18T08:08:55.135477Z",
     "iopub.status.idle": "2022-07-18T08:08:55.136858Z",
     "shell.execute_reply": "2022-07-18T08:08:55.137076Z"
    }
   },
   "outputs": [
    {
     "data": {
      "text/plain": [
       "query: \n",
       "WITH RECURSIVE \"self_1\" (\"m\")  AS (\n",
       "  SELECT 0 AS \"m\"\n",
       "  UNION ALL\n",
       "  SELECT (\"self_2\".\"m\" + 1) AS \"m\"\n",
       "  FROM \"self_1\" AS \"self_2\"\n",
       "  WHERE (\"self_2\".\"m\" < 10)\n",
       ")\n",
       "SELECT \"self_1\".\"m\"\n",
       "FROM \"self_1\""
      ]
     },
     "execution_count": 43,
     "metadata": {},
     "output_type": "execute_result"
    }
   ],
   "source": [
    "q = Define(aka(0, \"k\"), aka(0, \"m\")) >> Iterate(\n",
    "    From(S.self)\n",
    "    >> As(S.previous)\n",
    "    >> Where(Fun(\"<\", Get.previous.m, 10))\n",
    "    >> Define(aka(0, \"n\"), aka(Fun(\"+\", Get.previous.m, 1), \"m\"))\n",
    "    >> As(S.self)\n",
    ")\n",
    "render(q)"
   ]
  },
  {
   "cell_type": "markdown",
   "metadata": {
    "tags": []
   },
   "source": [
    "### As"
   ]
  },
  {
   "cell_type": "markdown",
   "metadata": {},
   "source": [
    "`As` node creates an alias for an expression. "
   ]
  },
  {
   "cell_type": "code",
   "execution_count": 44,
   "metadata": {
    "execution": {
     "iopub.execute_input": "2022-07-18T08:08:55.139242Z",
     "iopub.status.busy": "2022-07-18T08:08:55.138948Z",
     "iopub.status.idle": "2022-07-18T08:08:55.140310Z",
     "shell.execute_reply": "2022-07-18T08:08:55.140462Z"
    }
   },
   "outputs": [
    {
     "data": {
      "text/plain": [
       "query: \n",
       "SELECT \"person_2\".\"user\"\n",
       "FROM (\n",
       "  SELECT \"person_1\".\"person_id\" AS \"user\"\n",
       "  FROM \"person\" AS \"person_1\"\n",
       ") AS \"person_2\""
      ]
     },
     "execution_count": 44,
     "metadata": {},
     "output_type": "execute_result"
    }
   ],
   "source": [
    "q = From(person) >> Select(Get.person_id >> As(\"user\")) >> Select(Get.user)\n",
    "render(q)"
   ]
  },
  {
   "cell_type": "markdown",
   "metadata": {},
   "source": [
    "`As` can also create an alias for a subquery. "
   ]
  },
  {
   "cell_type": "code",
   "execution_count": 45,
   "metadata": {
    "execution": {
     "iopub.execute_input": "2022-07-18T08:08:55.142427Z",
     "iopub.status.busy": "2022-07-18T08:08:55.142126Z",
     "iopub.status.idle": "2022-07-18T08:08:55.143475Z",
     "shell.execute_reply": "2022-07-18T08:08:55.143690Z"
    }
   },
   "outputs": [
    {
     "data": {
      "text/plain": [
       "query: \n",
       "SELECT \"person_1\".\"person_id\"\n",
       "FROM \"person\" AS \"person_1\""
      ]
     },
     "execution_count": 45,
     "metadata": {},
     "output_type": "execute_result"
    }
   ],
   "source": [
    "q = From(person) >> As(S.p) >> Select(Get.p.person_id)\n",
    "render(q)"
   ]
  },
  {
   "cell_type": "markdown",
   "metadata": {},
   "source": [
    "This blocks the columns in the subquery from the output. To reference them, you need to subscript the alias first. "
   ]
  },
  {
   "cell_type": "code",
   "execution_count": 46,
   "metadata": {
    "execution": {
     "iopub.execute_input": "2022-07-18T08:08:55.145352Z",
     "iopub.status.busy": "2022-07-18T08:08:55.145082Z",
     "iopub.status.idle": "2022-07-18T08:08:55.146409Z",
     "shell.execute_reply": "2022-07-18T08:08:55.146249Z"
    }
   },
   "outputs": [],
   "source": [
    "# error\n",
    "q = From(person) >> As(S.p) >> Select(Get.person_id)\n",
    "# render(q)"
   ]
  },
  {
   "cell_type": "code",
   "execution_count": 47,
   "metadata": {
    "execution": {
     "iopub.execute_input": "2022-07-18T08:08:55.148309Z",
     "iopub.status.busy": "2022-07-18T08:08:55.148009Z",
     "iopub.status.idle": "2022-07-18T08:08:55.149421Z",
     "shell.execute_reply": "2022-07-18T08:08:55.149596Z"
    }
   },
   "outputs": [
    {
     "data": {
      "text/plain": [
       "query: \n",
       "SELECT \"person_1\".\"person_id\"\n",
       "FROM \"person\" AS \"person_1\""
      ]
     },
     "execution_count": 47,
     "metadata": {},
     "output_type": "execute_result"
    }
   ],
   "source": [
    "# works\n",
    "q = From(person) >> As(S.p) >> Select(Get.p.person_id)\n",
    "render(q)"
   ]
  },
  {
   "cell_type": "markdown",
   "metadata": {},
   "source": [
    "Node bound references are not blocked. "
   ]
  },
  {
   "cell_type": "code",
   "execution_count": 48,
   "metadata": {
    "execution": {
     "iopub.execute_input": "2022-07-18T08:08:55.151670Z",
     "iopub.status.busy": "2022-07-18T08:08:55.151345Z",
     "iopub.status.idle": "2022-07-18T08:08:55.152776Z",
     "shell.execute_reply": "2022-07-18T08:08:55.152930Z"
    }
   },
   "outputs": [
    {
     "data": {
      "text/plain": [
       "query: \n",
       "SELECT \"person_1\".\"person_id\"\n",
       "FROM \"person\" AS \"person_1\""
      ]
     },
     "execution_count": 48,
     "metadata": {},
     "output_type": "execute_result"
    }
   ],
   "source": [
    "s1 = From(person)\n",
    "q = s1 >> As(S.p) >> Select(s1 >> Get.person_id)\n",
    "render(q)"
   ]
  },
  {
   "cell_type": "markdown",
   "metadata": {
    "tags": []
   },
   "source": [
    "### From"
   ]
  },
  {
   "cell_type": "markdown",
   "metadata": {},
   "source": [
    "`From` can be used to select columns from the table specified. "
   ]
  },
  {
   "cell_type": "code",
   "execution_count": 49,
   "metadata": {
    "execution": {
     "iopub.execute_input": "2022-07-18T08:08:55.154786Z",
     "iopub.status.busy": "2022-07-18T08:08:55.154496Z",
     "iopub.status.idle": "2022-07-18T08:08:55.155948Z",
     "shell.execute_reply": "2022-07-18T08:08:55.156095Z"
    }
   },
   "outputs": [
    {
     "data": {
      "text/plain": [
       "From(SQLTable(person, ...))"
      ]
     },
     "execution_count": 49,
     "metadata": {},
     "output_type": "execute_result"
    }
   ],
   "source": [
    "q = From(person)\n",
    "q"
   ]
  },
  {
   "cell_type": "markdown",
   "metadata": {},
   "source": [
    "By default, all the columns are selected. "
   ]
  },
  {
   "cell_type": "code",
   "execution_count": 50,
   "metadata": {
    "execution": {
     "iopub.execute_input": "2022-07-18T08:08:55.158011Z",
     "iopub.status.busy": "2022-07-18T08:08:55.157719Z",
     "iopub.status.idle": "2022-07-18T08:08:55.159117Z",
     "shell.execute_reply": "2022-07-18T08:08:55.159293Z"
    }
   },
   "outputs": [
    {
     "data": {
      "text/plain": [
       "query: \n",
       "SELECT\n",
       "  \"person_1\".\"person_id\", \n",
       "  \"person_1\".\"year_of_birth\", \n",
       "  \"person_1\".\"month_of_birth\", \n",
       "  \"person_1\".\"day_of_birth\", \n",
       "  \"person_1\".\"birth_datetime\", \n",
       "  \"person_1\".\"location_id\"\n",
       "FROM \"person\" AS \"person_1\""
      ]
     },
     "execution_count": 50,
     "metadata": {},
     "output_type": "execute_result"
    }
   ],
   "source": [
    "q = From(person)\n",
    "render(q)"
   ]
  },
  {
   "cell_type": "markdown",
   "metadata": {},
   "source": [
    "If the table has a schema specified, the qualifier gets added in the rendered query. "
   ]
  },
  {
   "cell_type": "code",
   "execution_count": 51,
   "metadata": {
    "execution": {
     "iopub.execute_input": "2022-07-18T08:08:55.161319Z",
     "iopub.status.busy": "2022-07-18T08:08:55.161011Z",
     "iopub.status.idle": "2022-07-18T08:08:55.162360Z",
     "shell.execute_reply": "2022-07-18T08:08:55.162530Z"
    }
   },
   "outputs": [
    {
     "data": {
      "text/plain": [
       "query: \n",
       "SELECT\n",
       "  \"madeup_table_1\".\"colA\", \n",
       "  \"madeup_table_1\".\"colB\"\n",
       "FROM \"madeup_schema\".\"madeup_table\" AS \"madeup_table_1\""
      ]
     },
     "execution_count": 51,
     "metadata": {},
     "output_type": "execute_result"
    }
   ],
   "source": [
    "tab = SQLTable(\"madeup_table\", [\"colA\", \"colB\"], schema=\"madeup_schema\")\n",
    "q = From(tab)\n",
    "render(q)"
   ]
  },
  {
   "cell_type": "markdown",
   "metadata": {},
   "source": [
    "Queries with a `VALUES` query can be generated. "
   ]
  },
  {
   "cell_type": "code",
   "execution_count": 52,
   "metadata": {
    "execution": {
     "iopub.execute_input": "2022-07-18T08:08:55.164641Z",
     "iopub.status.busy": "2022-07-18T08:08:55.164346Z",
     "iopub.status.idle": "2022-07-18T08:08:55.165830Z",
     "shell.execute_reply": "2022-07-18T08:08:55.166010Z"
    }
   },
   "outputs": [
    {
     "data": {
      "text/plain": [
       "query: \n",
       "SELECT\n",
       "  \"values_1\".\"name\", \n",
       "  \"values_1\".\"year\"\n",
       "FROM (\n",
       "  VALUES\n",
       "    ('SQL', 1974),\n",
       "    ('Python', 1990),\n",
       "    ('FunSQL', 2022)\n",
       ") AS \"values_1\" (\"name\", \"year\") "
      ]
     },
     "execution_count": 52,
     "metadata": {},
     "output_type": "execute_result"
    }
   ],
   "source": [
    "tab = ValuesTable((\"name\", \"year\"), [(\"SQL\", 1974), (\"Python\", 1990), (\"FunSQL\", 2022)])\n",
    "q = From(tab)\n",
    "render(q)"
   ]
  },
  {
   "cell_type": "markdown",
   "metadata": {},
   "source": [
    "Only columns used in the query are serialized for a `VALUES` clause. "
   ]
  },
  {
   "cell_type": "code",
   "execution_count": 53,
   "metadata": {
    "execution": {
     "iopub.execute_input": "2022-07-18T08:08:55.168235Z",
     "iopub.status.busy": "2022-07-18T08:08:55.167944Z",
     "iopub.status.idle": "2022-07-18T08:08:55.169323Z",
     "shell.execute_reply": "2022-07-18T08:08:55.169474Z"
    }
   },
   "outputs": [
    {
     "data": {
      "text/plain": [
       "query: \n",
       "SELECT \"values_1\".\"name\"\n",
       "FROM (\n",
       "  VALUES\n",
       "    ('SQL'),\n",
       "    ('Python'),\n",
       "    ('FunSQL')\n",
       ") AS \"values_1\" (\"name\") "
      ]
     },
     "execution_count": 53,
     "metadata": {},
     "output_type": "execute_result"
    }
   ],
   "source": [
    "tab = ValuesTable((\"name\", \"year\"), [(\"SQL\", 1974), (\"Python\", 1990), (\"FunSQL\", 2022)])\n",
    "q = From(tab) >> Select(Get(\"name\"))\n",
    "render(q)"
   ]
  },
  {
   "cell_type": "markdown",
   "metadata": {},
   "source": [
    "If no columns are selected, the values are replaced with nulls. "
   ]
  },
  {
   "cell_type": "code",
   "execution_count": 54,
   "metadata": {
    "execution": {
     "iopub.execute_input": "2022-07-18T08:08:55.171733Z",
     "iopub.status.busy": "2022-07-18T08:08:55.171433Z",
     "iopub.status.idle": "2022-07-18T08:08:55.172854Z",
     "shell.execute_reply": "2022-07-18T08:08:55.173006Z"
    }
   },
   "outputs": [
    {
     "data": {
      "text/plain": [
       "query: \n",
       "SELECT Count(*) AS \"Count\"\n",
       "FROM (\n",
       "  VALUES (NULL, NULL, NULL)\n",
       ") AS \"values_1\" (\"_\") "
      ]
     },
     "execution_count": 54,
     "metadata": {},
     "output_type": "execute_result"
    }
   ],
   "source": [
    "tab = ValuesTable((\"name\", \"year\"), [(\"SQL\", 1974), (\"Python\", 1990), (\"FunSQL\", 2022)])\n",
    "q = From(tab) >> Group() >> Select(Agg.Count())\n",
    "render(q)"
   ]
  },
  {
   "cell_type": "markdown",
   "metadata": {},
   "source": [
    "The `VALUES` clause requires at least one row of data. "
   ]
  },
  {
   "cell_type": "code",
   "execution_count": 55,
   "metadata": {
    "execution": {
     "iopub.execute_input": "2022-07-18T08:08:55.175033Z",
     "iopub.status.busy": "2022-07-18T08:08:55.174722Z",
     "iopub.status.idle": "2022-07-18T08:08:55.176167Z",
     "shell.execute_reply": "2022-07-18T08:08:55.176326Z"
    }
   },
   "outputs": [
    {
     "data": {
      "text/plain": [
       "query: \n",
       "SELECT\n",
       "  NULL AS \"name\", \n",
       "  NULL AS \"year\"\n",
       "WHERE FALSE"
      ]
     },
     "execution_count": 55,
     "metadata": {},
     "output_type": "execute_result"
    }
   ],
   "source": [
    "tab = ValuesTable((\"name\", \"year\"), [])\n",
    "q = From(tab)\n",
    "render(q)"
   ]
  },
  {
   "cell_type": "markdown",
   "metadata": {},
   "source": [
    "A null source generates a dataset with one row. "
   ]
  },
  {
   "cell_type": "code",
   "execution_count": 56,
   "metadata": {
    "execution": {
     "iopub.execute_input": "2022-07-18T08:08:55.178088Z",
     "iopub.status.busy": "2022-07-18T08:08:55.177771Z",
     "iopub.status.idle": "2022-07-18T08:08:55.179218Z",
     "shell.execute_reply": "2022-07-18T08:08:55.179391Z"
    }
   },
   "outputs": [
    {
     "data": {
      "text/plain": [
       "query: \n",
       "SELECT NULL"
      ]
     },
     "execution_count": 56,
     "metadata": {},
     "output_type": "execute_result"
    }
   ],
   "source": [
    "q = From(None)\n",
    "render(q)"
   ]
  },
  {
   "cell_type": "markdown",
   "metadata": {
    "tags": []
   },
   "source": [
    "### With"
   ]
  },
  {
   "cell_type": "markdown",
   "metadata": {},
   "source": [
    "SQL has a `WITH` clause to create temporary tables for reuse in a query. They can be created using the `With` node. "
   ]
  },
  {
   "cell_type": "code",
   "execution_count": 57,
   "metadata": {
    "execution": {
     "iopub.execute_input": "2022-07-18T08:08:55.181797Z",
     "iopub.status.busy": "2022-07-18T08:08:55.181491Z",
     "iopub.status.idle": "2022-07-18T08:08:55.182894Z",
     "shell.execute_reply": "2022-07-18T08:08:55.183047Z"
    }
   },
   "outputs": [
    {
     "data": {
      "text/plain": [
       "query: \n",
       "WITH \"thirty_1\" (\"person_id\")  AS (\n",
       "  SELECT \"person_1\".\"person_id\"\n",
       "  FROM \"person\" AS \"person_1\"\n",
       "  WHERE (\"person_1\".\"year_of_birth\" = 1990)\n",
       ")\n",
       "SELECT \"thirty_2\".\"person_id\"\n",
       "FROM \"thirty_1\" AS \"thirty_2\""
      ]
     },
     "execution_count": 57,
     "metadata": {},
     "output_type": "execute_result"
    }
   ],
   "source": [
    "q = (\n",
    "    From(S.thirty)\n",
    "    >> With(From(person) >> Where(Fun(\"=\", Get.year_of_birth, 1990)) >> As(\"thirty\"))\n",
    "    >> Select(Get.person_id)\n",
    ")\n",
    "render(q)"
   ]
  },
  {
   "cell_type": "markdown",
   "metadata": {},
   "source": [
    "NOTE: Coming from SQL, the order of `From` and `With` nodes might seem odd since the `With` definition usually comes first. The reason is that FunSQL builds a query starting from the last node, and propagates up. Since the `From` node refers to a temporary table declared using `With`, to resolve it correctly, we must have encountered the `With` node first. "
   ]
  },
  {
   "cell_type": "markdown",
   "metadata": {},
   "source": [
    "`With` nodes can also declare multiple subqueries. "
   ]
  },
  {
   "cell_type": "code",
   "execution_count": 58,
   "metadata": {
    "execution": {
     "iopub.execute_input": "2022-07-18T08:08:55.186226Z",
     "iopub.status.busy": "2022-07-18T08:08:55.185933Z",
     "iopub.status.idle": "2022-07-18T08:08:55.187390Z",
     "shell.execute_reply": "2022-07-18T08:08:55.187545Z"
    }
   },
   "outputs": [
    {
     "data": {
      "text/plain": [
       "query: \n",
       "WITH \"thirty_1\" (\"_\")  AS (\n",
       "  SELECT NULL\n",
       "  FROM \"person\" AS \"person_1\"\n",
       "  WHERE (\"person_1\".\"year_of_birth\" = 1990)\n",
       "), \n",
       "\"forty_1\" (\"_\")  AS (\n",
       "  SELECT NULL\n",
       "  FROM \"person\" AS \"person_2\"\n",
       "  WHERE (\"person_2\".\"year_of_birth\" = 1980)\n",
       ")\n",
       "SELECT\n",
       "  (\n",
       "    SELECT Count(*) AS \"Count\"\n",
       "    FROM \"thirty_1\" AS \"thirty_2\"\n",
       "  ) AS \"count_30s\", \n",
       "  (\n",
       "    SELECT Count(*) AS \"Count\"\n",
       "    FROM \"forty_1\" AS \"forty_2\"\n",
       "  ) AS \"count_40s\""
      ]
     },
     "execution_count": 58,
     "metadata": {},
     "output_type": "execute_result"
    }
   ],
   "source": [
    "q = Select(\n",
    "    From(S.thirty) >> Group() >> Select(Agg.Count()) >> As(\"count_30s\"),\n",
    "    From(S.forty) >> Group() >> Select(Agg.Count()) >> As(\"count_40s\"),\n",
    ") >> With(\n",
    "    From(person) >> Where(Fun(\"=\", Get.year_of_birth, 1990)) >> As(\"thirty\"),\n",
    "    From(person) >> Where(Fun(\"=\", Get.year_of_birth, 1980)) >> As(\"forty\"),\n",
    ")\n",
    "render(q)"
   ]
  },
  {
   "cell_type": "markdown",
   "metadata": {},
   "source": [
    "Tables defined using a `With` node must have explicit, unique labels. "
   ]
  },
  {
   "cell_type": "code",
   "execution_count": 59,
   "metadata": {
    "execution": {
     "iopub.execute_input": "2022-07-18T08:08:55.189181Z",
     "iopub.status.busy": "2022-07-18T08:08:55.188902Z",
     "iopub.status.idle": "2022-07-18T08:08:55.190217Z",
     "shell.execute_reply": "2022-07-18T08:08:55.190036Z"
    }
   },
   "outputs": [],
   "source": [
    "q = From(S.person) >> With(From(person))\n",
    "# render(q)"
   ]
  },
  {
   "cell_type": "markdown",
   "metadata": {
    "tags": []
   },
   "source": [
    "### Group"
   ]
  },
  {
   "cell_type": "markdown",
   "metadata": {},
   "source": [
    "`Group` node is used to partition rows with the given keys, and summarize over them. "
   ]
  },
  {
   "cell_type": "code",
   "execution_count": 60,
   "metadata": {
    "execution": {
     "iopub.execute_input": "2022-07-18T08:08:55.192285Z",
     "iopub.status.busy": "2022-07-18T08:08:55.192004Z",
     "iopub.status.idle": "2022-07-18T08:08:55.193408Z",
     "shell.execute_reply": "2022-07-18T08:08:55.193562Z"
    }
   },
   "outputs": [
    {
     "data": {
      "text/plain": [
       "query: \n",
       "SELECT\n",
       "  \"person_1\".\"year_of_birth\", \n",
       "  count(*) AS \"count\"\n",
       "FROM \"person\" AS \"person_1\"\n",
       "GROUP BY \"person_1\".\"year_of_birth\""
      ]
     },
     "execution_count": 60,
     "metadata": {},
     "output_type": "execute_result"
    }
   ],
   "source": [
    "q = From(person) >> Group(Get.year_of_birth) >> Select(Get.year_of_birth, Agg.count())\n",
    "render(q)"
   ]
  },
  {
   "cell_type": "markdown",
   "metadata": {},
   "source": [
    "By splitting the grouping logic from the aggregate expressions, queries get easier to construct."
   ]
  },
  {
   "cell_type": "code",
   "execution_count": 61,
   "metadata": {
    "execution": {
     "iopub.execute_input": "2022-07-18T08:08:55.196463Z",
     "iopub.status.busy": "2022-07-18T08:08:55.196145Z",
     "iopub.status.idle": "2022-07-18T08:08:55.197609Z",
     "shell.execute_reply": "2022-07-18T08:08:55.197758Z"
    }
   },
   "outputs": [
    {
     "data": {
      "text/plain": [
       "query: \n",
       "SELECT\n",
       "  \"person_1\".\"person_id\", \n",
       "  \"visit_group_1\".\"count\"\n",
       "FROM \"person\" AS \"person_1\"\n",
       "INNER JOIN (\n",
       "  SELECT\n",
       "    \"visit_occurence_1\".\"person_id\", \n",
       "    count(*) AS \"count\"\n",
       "  FROM \"visit_occurence\" AS \"visit_occurence_1\"\n",
       "  GROUP BY \"visit_occurence_1\".\"person_id\"\n",
       ") AS \"visit_group_1\" ON (\"person_1\".\"person_id\" = \"visit_group_1\".\"person_id\")\n",
       "WHERE (\"visit_group_1\".\"count\" > 2)"
      ]
     },
     "execution_count": 61,
     "metadata": {},
     "output_type": "execute_result"
    }
   ],
   "source": [
    "visit_group = From(visit_occurence) >> Group(Get.person_id) >> As(\"visit_group\")\n",
    "num_visits = lambda: Agg.count(\n",
    "    over=Get.visit_group\n",
    ")  # regular assignment instead of a function works too\n",
    "q = (\n",
    "    From(person)\n",
    "    >> Join(visit_group, on=Fun(\"=\", Get.person_id, Get.visit_group.person_id))\n",
    "    >> Where(Fun(\">\", num_visits(), 2))\n",
    "    >> Select(Get.person_id, num_visits())\n",
    ")\n",
    "\n",
    "render(q)"
   ]
  },
  {
   "cell_type": "markdown",
   "metadata": {},
   "source": [
    "Grouping can be done in succession. "
   ]
  },
  {
   "cell_type": "code",
   "execution_count": 62,
   "metadata": {
    "execution": {
     "iopub.execute_input": "2022-07-18T08:08:55.200273Z",
     "iopub.status.busy": "2022-07-18T08:08:55.199990Z",
     "iopub.status.idle": "2022-07-18T08:08:55.201324Z",
     "shell.execute_reply": "2022-07-18T08:08:55.201554Z"
    }
   },
   "outputs": [
    {
     "data": {
      "text/plain": [
       "query: \n",
       "SELECT\n",
       "  \"measurement_2\".\"count\" AS \"count_for_measure\", \n",
       "  count(*) AS \"size\"\n",
       "FROM (\n",
       "  SELECT count(*) AS \"count\"\n",
       "  FROM \"measurement\" AS \"measurement_1\"\n",
       "  GROUP BY \"measurement_1\".\"measurement_concept_id\"\n",
       ") AS \"measurement_2\"\n",
       "GROUP BY \"measurement_2\".\"count\""
      ]
     },
     "execution_count": 62,
     "metadata": {},
     "output_type": "execute_result"
    }
   ],
   "source": [
    "# counting measurements for each concept, then counting frequency for each count\n",
    "q = (\n",
    "    From(measurement)\n",
    "    >> Group(Get.measurement_concept_id)\n",
    "    >> Group(aka(Agg.count(), \"count_for_measure\"))\n",
    "    >> Select(Get.count_for_measure, aka(Agg.count(), \"size\"))\n",
    ")\n",
    "render(q)"
   ]
  },
  {
   "cell_type": "markdown",
   "metadata": {},
   "source": [
    "`Group` can work with an empty list of keys. "
   ]
  },
  {
   "cell_type": "code",
   "execution_count": 63,
   "metadata": {
    "execution": {
     "iopub.execute_input": "2022-07-18T08:08:55.203815Z",
     "iopub.status.busy": "2022-07-18T08:08:55.203525Z",
     "iopub.status.idle": "2022-07-18T08:08:55.204887Z",
     "shell.execute_reply": "2022-07-18T08:08:55.205061Z"
    }
   },
   "outputs": [
    {
     "data": {
      "text/plain": [
       "query: \n",
       "SELECT\n",
       "  count(*) AS \"count\", \n",
       "  max(\"person_1\".\"year_of_birth\") AS \"max\", \n",
       "  min(\"person_1\".\"year_of_birth\") AS \"min\"\n",
       "FROM \"person\" AS \"person_1\""
      ]
     },
     "execution_count": 63,
     "metadata": {},
     "output_type": "execute_result"
    }
   ],
   "source": [
    "q = (\n",
    "    From(person)\n",
    "    >> Group()\n",
    "    >> Select(Agg.count(), Agg.max(Get.year_of_birth), Agg.min(Get.year_of_birth))\n",
    ")\n",
    "render(q)"
   ]
  },
  {
   "cell_type": "markdown",
   "metadata": {},
   "source": [
    "Each aggregate expression gets a unique alias. "
   ]
  },
  {
   "cell_type": "code",
   "execution_count": 64,
   "metadata": {
    "execution": {
     "iopub.execute_input": "2022-07-18T08:08:55.208206Z",
     "iopub.status.busy": "2022-07-18T08:08:55.207896Z",
     "iopub.status.idle": "2022-07-18T08:08:55.209070Z",
     "shell.execute_reply": "2022-07-18T08:08:55.209363Z"
    }
   },
   "outputs": [
    {
     "data": {
      "text/plain": [
       "query: \n",
       "SELECT\n",
       "  \"person_1\".\"person_id\", \n",
       "  \"visit_group_1\".\"max\" AS \"max_start_date\", \n",
       "  \"visit_group_1\".\"max_2\" AS \"max_end_date\"\n",
       "FROM \"person\" AS \"person_1\"\n",
       "INNER JOIN (\n",
       "  SELECT\n",
       "    \"visit_occurence_1\".\"person_id\", \n",
       "    max(\"visit_occurence_1\".\"visit_start_date\") AS \"max\", \n",
       "    max(\"visit_occurence_1\".\"visit_end_date\") AS \"max_2\"\n",
       "  FROM \"visit_occurence\" AS \"visit_occurence_1\"\n",
       "  GROUP BY \"visit_occurence_1\".\"person_id\"\n",
       ") AS \"visit_group_1\" ON (\"person_1\".\"person_id\" = \"visit_group_1\".\"person_id\")"
      ]
     },
     "execution_count": 64,
     "metadata": {},
     "output_type": "execute_result"
    }
   ],
   "source": [
    "visit_group = From(visit_occurence) >> Group(Get.person_id) >> As(\"visit_group\")\n",
    "person_visits = From(person) >> Join(\n",
    "    visit_group, on=Fun(\"=\", Get.person_id, Get.visit_group.person_id)\n",
    ")\n",
    "\n",
    "max_start_date = aka(Get.visit_group >> Agg.max(Get.visit_start_date), \"max_start_date\")\n",
    "max_end_date = aka(Get.visit_group >> Agg.max(Get.visit_end_date), \"max_end_date\")\n",
    "q = person_visits >> Select(Get.person_id, max_start_date, max_end_date)\n",
    "\n",
    "render(q)"
   ]
  },
  {
   "cell_type": "markdown",
   "metadata": {},
   "source": [
    "Aggregate expressions can be applied to only the distinct values in a partition. "
   ]
  },
  {
   "cell_type": "code",
   "execution_count": 65,
   "metadata": {
    "execution": {
     "iopub.execute_input": "2022-07-18T08:08:55.211463Z",
     "iopub.status.busy": "2022-07-18T08:08:55.211158Z",
     "iopub.status.idle": "2022-07-18T08:08:55.212581Z",
     "shell.execute_reply": "2022-07-18T08:08:55.212736Z"
    }
   },
   "outputs": [
    {
     "data": {
      "text/plain": [
       "query: \n",
       "SELECT count(DISTINCT \"person_1\".\"year_of_birth\") AS \"count\"\n",
       "FROM \"person\" AS \"person_1\""
      ]
     },
     "execution_count": 65,
     "metadata": {},
     "output_type": "execute_result"
    }
   ],
   "source": [
    "q = From(person) >> Group() >> Select(Agg.count(Get.year_of_birth, distinct=True))\n",
    "render(q)"
   ]
  },
  {
   "cell_type": "markdown",
   "metadata": {},
   "source": [
    "Aggregates can be applied to filtered portion of a partition. "
   ]
  },
  {
   "cell_type": "code",
   "execution_count": 66,
   "metadata": {
    "execution": {
     "iopub.execute_input": "2022-07-18T08:08:55.214979Z",
     "iopub.status.busy": "2022-07-18T08:08:55.214659Z",
     "iopub.status.idle": "2022-07-18T08:08:55.216066Z",
     "shell.execute_reply": "2022-07-18T08:08:55.216290Z"
    }
   },
   "outputs": [
    {
     "data": {
      "text/plain": [
       "query: \n",
       "SELECT (count(*) FILTER (WHERE (\"person_1\".\"year_of_birth\" < 2000))) AS \"count\"\n",
       "FROM \"person\" AS \"person_1\""
      ]
     },
     "execution_count": 66,
     "metadata": {},
     "output_type": "execute_result"
    }
   ],
   "source": [
    "measure = Agg.count(filter_=Fun(\"<\", Get.year_of_birth, 2000))\n",
    "q = From(person) >> Group() >> Select(measure)\n",
    "render(q)"
   ]
  },
  {
   "cell_type": "markdown",
   "metadata": {},
   "source": [
    "Aggregate expressions can't be used without a `Group` node. "
   ]
  },
  {
   "cell_type": "code",
   "execution_count": 67,
   "metadata": {
    "execution": {
     "iopub.execute_input": "2022-07-18T08:08:55.217956Z",
     "iopub.status.busy": "2022-07-18T08:08:55.217659Z",
     "iopub.status.idle": "2022-07-18T08:08:55.218769Z",
     "shell.execute_reply": "2022-07-18T08:08:55.218941Z"
    }
   },
   "outputs": [],
   "source": [
    "q = From(person) >> Select(Agg.max(Get.year_of_birth))\n",
    "# render(q)"
   ]
  },
  {
   "cell_type": "markdown",
   "metadata": {},
   "source": [
    "Aggregate expressions need to unabiguously determine the corresponding `Group` node. "
   ]
  },
  {
   "cell_type": "code",
   "execution_count": 68,
   "metadata": {
    "execution": {
     "iopub.execute_input": "2022-07-18T08:08:55.221115Z",
     "iopub.status.busy": "2022-07-18T08:08:55.220846Z",
     "iopub.status.idle": "2022-07-18T08:08:55.222027Z",
     "shell.execute_reply": "2022-07-18T08:08:55.222179Z"
    }
   },
   "outputs": [],
   "source": [
    "q1 = From(person)\n",
    "q2 = From(measurement) >> Group(Get.person_id)\n",
    "q3 = From(visit_occurence) >> Group(Get.person_id)\n",
    "\n",
    "q = (\n",
    "    q1\n",
    "    >> Join(q2, on=Fun(\"=\", Get.person_id, q2 >> Get.person_id))\n",
    "    >> Join(q3, on=Fun(\"=\", Get.person_id, q3 >> Get.person_id))\n",
    "    >> Select(q1 >> Get.person_id, Agg.count())\n",
    ")\n",
    "# render(q)"
   ]
  },
  {
   "cell_type": "markdown",
   "metadata": {
    "tags": []
   },
   "source": [
    "### Partition"
   ]
  },
  {
   "cell_type": "markdown",
   "metadata": {},
   "source": [
    "`Partition` node creates a subquery that partitions rows by the specified keys. For each row, an aggregate can be calculated across all the rows in its partition (called `WINDOW` functions in SQL). "
   ]
  },
  {
   "cell_type": "code",
   "execution_count": 69,
   "metadata": {
    "execution": {
     "iopub.execute_input": "2022-07-18T08:08:55.224633Z",
     "iopub.status.busy": "2022-07-18T08:08:55.224341Z",
     "iopub.status.idle": "2022-07-18T08:08:55.225708Z",
     "shell.execute_reply": "2022-07-18T08:08:55.225866Z"
    }
   },
   "outputs": [
    {
     "data": {
      "text/plain": [
       "query: \n",
       "SELECT\n",
       "  \"person_1\".\"person_id\", \n",
       "  (row_number() OVER (PARTITION BY \"person_1\".\"year_of_birth\" ORDER BY \"person_1\".\"month_of_birth\")) AS \"row_number\"\n",
       "FROM \"person\" AS \"person_1\""
      ]
     },
     "execution_count": 69,
     "metadata": {},
     "output_type": "execute_result"
    }
   ],
   "source": [
    "q = (\n",
    "    From(person)\n",
    "    >> Partition(Get.year_of_birth, order_by=[Get.month_of_birth])\n",
    "    >> Select(Get.person_id, Agg.row_number())\n",
    ")\n",
    "render(q)"
   ]
  },
  {
   "cell_type": "markdown",
   "metadata": {},
   "source": [
    "A Partition node may specify a window frame. "
   ]
  },
  {
   "cell_type": "code",
   "execution_count": 70,
   "metadata": {
    "execution": {
     "iopub.execute_input": "2022-07-18T08:08:55.228803Z",
     "iopub.status.busy": "2022-07-18T08:08:55.228518Z",
     "iopub.status.idle": "2022-07-18T08:08:55.229999Z",
     "shell.execute_reply": "2022-07-18T08:08:55.230147Z"
    }
   },
   "outputs": [
    {
     "data": {
      "text/plain": [
       "query: \n",
       "SELECT\n",
       "  \"person_2\".\"year_of_birth\", \n",
       "  (sum(\"person_2\".\"count\") OVER (ORDER BY \"person_2\".\"year_of_birth\" ROWS BETWEEN UNBOUNDED PRECEDING AND CURRENT ROW)) AS \"sum\"\n",
       "FROM (\n",
       "  SELECT\n",
       "    \"person_1\".\"year_of_birth\", \n",
       "    count(*) AS \"count\"\n",
       "  FROM \"person\" AS \"person_1\"\n",
       "  GROUP BY \"person_1\".\"year_of_birth\"\n",
       ") AS \"person_2\""
      ]
     },
     "execution_count": 70,
     "metadata": {},
     "output_type": "execute_result"
    }
   ],
   "source": [
    "births_by_year = (\n",
    "    From(person) >> Group(Get.year_of_birth) >> Select(Get.year_of_birth, Agg.count())\n",
    ")\n",
    "cumulative_births_by_year = (\n",
    "    births_by_year\n",
    "    >> Partition(\n",
    "        order_by=[Get.year_of_birth],\n",
    "        frame=Frame(\n",
    "            FrameMode.ROWS,\n",
    "            FrameEdge(FrameEdgeSide.PRECEDING, None),\n",
    "            FrameEdge(FrameEdgeSide.CURRENT_ROW),\n",
    "        ),\n",
    "    )\n",
    "    >> Select(Get.year_of_birth, Agg.sum(Get.count))\n",
    ")\n",
    "\n",
    "render(cumulative_births_by_year)"
   ]
  },
  {
   "cell_type": "markdown",
   "metadata": {},
   "source": [
    "Defining a Frame node gets a bit mouthful, so the regular constructs are available through an alias class, `F`. \n",
    "\n",
    "In this example, Partition nodes are used one after the other to simplify a nested SQL query. We want to get the set of non overlapping visits made by a person. "
   ]
  },
  {
   "cell_type": "code",
   "execution_count": 71,
   "metadata": {
    "execution": {
     "iopub.execute_input": "2022-07-18T08:08:55.235222Z",
     "iopub.status.busy": "2022-07-18T08:08:55.234879Z",
     "iopub.status.idle": "2022-07-18T08:08:55.236382Z",
     "shell.execute_reply": "2022-07-18T08:08:55.236552Z"
    }
   },
   "outputs": [
    {
     "data": {
      "text/plain": [
       "query: \n",
       "SELECT\n",
       "  \"visit_occurence_3\".\"person_id\", \n",
       "  min(\"visit_occurence_3\".\"visit_start_date\") AS \"start_date\", \n",
       "  max(\"visit_occurence_3\".\"visit_end_date\") AS \"end_date\"\n",
       "FROM (\n",
       "  SELECT\n",
       "    \"visit_occurence_2\".\"person_id\", \n",
       "    (sum(\"visit_occurence_2\".\"new\") OVER (PARTITION BY \"visit_occurence_2\".\"person_id\" ORDER BY \"visit_occurence_2\".\"visit_start_date\", (- \"visit_occurence_2\".\"new\") ROWS BETWEEN UNBOUNDED PRECEDING AND CURRENT ROW)) AS \"group\", \n",
       "    \"visit_occurence_2\".\"visit_start_date\", \n",
       "    \"visit_occurence_2\".\"visit_end_date\"\n",
       "  FROM (\n",
       "    SELECT\n",
       "      \"visit_occurence_1\".\"person_id\", \n",
       "      (CASE WHEN ((\"visit_occurence_1\".\"visit_start_date\" - (max(\"visit_occurence_1\".\"visit_end_date\") OVER (PARTITION BY \"visit_occurence_1\".\"person_id\" ORDER BY \"visit_occurence_1\".\"visit_start_date\" ROWS BETWEEN UNBOUNDED PRECEDING AND 1 PRECEDING))) <= 0) THEN 0 ELSE 1 END) AS \"new\", \n",
       "      \"visit_occurence_1\".\"visit_start_date\", \n",
       "      \"visit_occurence_1\".\"visit_end_date\"\n",
       "    FROM \"visit_occurence\" AS \"visit_occurence_1\"\n",
       "  ) AS \"visit_occurence_2\"\n",
       ") AS \"visit_occurence_3\"\n",
       "GROUP BY\n",
       "  \"visit_occurence_3\".\"person_id\", \n",
       "  \"visit_occurence_3\".\"group\""
      ]
     },
     "execution_count": 71,
     "metadata": {},
     "output_type": "execute_result"
    }
   ],
   "source": [
    "# for all visits by a person\n",
    "# gather all the visits made prior\n",
    "# find the one that ended last\n",
    "# TODO: I can't really follow\n",
    "\n",
    "q = (\n",
    "    From(visit_occurence)\n",
    "    >> Partition(\n",
    "        Get.person_id,\n",
    "        order_by=[Get.visit_start_date],\n",
    "        frame=Frame(F.ROWS, F.pre(None), F.pre(1)),\n",
    "    )\n",
    "    >> Define(aka(Agg.max(Get.visit_end_date), \"boundary\"))\n",
    "    >> Define(aka(Fun(\"-\", Get.visit_start_date, Get.boundary), \"gap\"))\n",
    "    >> Define(aka(Fun.case(Fun(\"<=\", Get.gap, 0), 0, 1), \"new\"))\n",
    "    >> Partition(\n",
    "        Get.person_id,\n",
    "        order_by=[Get.visit_start_date, Fun(\"-\", Get.new)],\n",
    "        frame=Frame(F.ROWS, F.pre(None), F.curr_row()),\n",
    "    )\n",
    "    >> Define(aka(Agg.sum(Get.new), \"group\"))\n",
    "    >> Group(Get.person_id, Get.group)\n",
    "    >> Define(\n",
    "        aka(Agg.min(Get.visit_start_date), \"start_date\"),\n",
    "        aka(Agg.max(Get.visit_end_date), \"end_date\"),\n",
    "    )\n",
    "    >> Select(Get.person_id, Get.start_date, Get.end_date)\n",
    ")\n",
    "\n",
    "render(q)"
   ]
  },
  {
   "cell_type": "markdown",
   "metadata": {
    "tags": []
   },
   "source": [
    "### Join"
   ]
  },
  {
   "cell_type": "markdown",
   "metadata": {},
   "source": [
    "A Join query combines the output of two subqueries. "
   ]
  },
  {
   "cell_type": "code",
   "execution_count": 72,
   "metadata": {
    "execution": {
     "iopub.execute_input": "2022-07-18T08:08:55.238869Z",
     "iopub.status.busy": "2022-07-18T08:08:55.238581Z",
     "iopub.status.idle": "2022-07-18T08:08:55.239915Z",
     "shell.execute_reply": "2022-07-18T08:08:55.240156Z"
    }
   },
   "outputs": [
    {
     "data": {
      "text/plain": [
       "query: \n",
       "SELECT\n",
       "  \"person_1\".\"birth_datetime\", \n",
       "  \"person_1\".\"year_of_birth\", \n",
       "  \"person_1\".\"day_of_birth\", \n",
       "  \"person_1\".\"month_of_birth\", \n",
       "  \"person_1\".\"location_id\", \n",
       "  \"person_1\".\"person_id\"\n",
       "FROM \"person\" AS \"person_1\"\n",
       "INNER JOIN \"location\" AS \"location_1\" ON (\"person_1\".\"location_id\" = \"location_1\".\"location_id\")"
      ]
     },
     "execution_count": 72,
     "metadata": {},
     "output_type": "execute_result"
    }
   ],
   "source": [
    "q = From(person) >> Join(\n",
    "    aka(From(location), \"location\"),\n",
    "    on=Fun(\"=\", Get.location_id, Get.location.location_id),\n",
    ")\n",
    "render(q)"
   ]
  },
  {
   "cell_type": "markdown",
   "metadata": {},
   "source": [
    "Different variants of the `SQL JOIN` operation can be constructed using the relevant keyword args. "
   ]
  },
  {
   "cell_type": "code",
   "execution_count": 73,
   "metadata": {
    "execution": {
     "iopub.execute_input": "2022-07-18T08:08:55.242554Z",
     "iopub.status.busy": "2022-07-18T08:08:55.242257Z",
     "iopub.status.idle": "2022-07-18T08:08:55.243542Z",
     "shell.execute_reply": "2022-07-18T08:08:55.243713Z"
    }
   },
   "outputs": [
    {
     "data": {
      "text/plain": [
       "query: \n",
       "SELECT\n",
       "  \"person_1\".\"birth_datetime\", \n",
       "  \"person_1\".\"year_of_birth\", \n",
       "  \"person_1\".\"day_of_birth\", \n",
       "  \"person_1\".\"month_of_birth\", \n",
       "  \"person_1\".\"location_id\", \n",
       "  \"person_1\".\"person_id\"\n",
       "FROM \"person\" AS \"person_1\"\n",
       "RIGHT JOIN \"location\" AS \"location_1\" ON (\"person_1\".\"location_id\" = \"location_1\".\"location_id\")"
      ]
     },
     "execution_count": 73,
     "metadata": {},
     "output_type": "execute_result"
    }
   ],
   "source": [
    "# right join\n",
    "q = From(person) >> Join(\n",
    "    aka(From(location), \"location\"),\n",
    "    on=Fun(\"=\", Get.location_id, Get.location.location_id),\n",
    "    right=True,\n",
    ")\n",
    "render(q)"
   ]
  },
  {
   "cell_type": "markdown",
   "metadata": {},
   "source": [
    "Joins with correlated subqueries are supported too. "
   ]
  },
  {
   "cell_type": "code",
   "execution_count": 74,
   "metadata": {
    "execution": {
     "iopub.execute_input": "2022-07-18T08:08:55.247011Z",
     "iopub.status.busy": "2022-07-18T08:08:55.246710Z",
     "iopub.status.idle": "2022-07-18T08:08:55.248120Z",
     "shell.execute_reply": "2022-07-18T08:08:55.248304Z"
    }
   },
   "outputs": [
    {
     "data": {
      "text/plain": [
       "query: \n",
       "SELECT\n",
       "  \"person_1\".\"person_id\", \n",
       "  \"visit_1\".\"visit_occurence_id\", \n",
       "  \"visit_1\".\"visit_start_date\"\n",
       "FROM \"person\" AS \"person_1\"\n",
       "LEFT JOIN LATERAL (\n",
       "  SELECT\n",
       "    \"visit_occurence_2\".\"visit_occurence_id\", \n",
       "    \"visit_occurence_2\".\"visit_start_date\"\n",
       "  FROM (\n",
       "    SELECT\n",
       "      \"visit_occurence_1\".\"visit_occurence_id\", \n",
       "      \"visit_occurence_1\".\"visit_start_date\", \n",
       "      (row_number() OVER (ORDER BY \"visit_occurence_1\".\"visit_start_date\")) AS \"row_number\"\n",
       "    FROM \"visit_occurence\" AS \"visit_occurence_1\"\n",
       "    WHERE (\"visit_occurence_1\".\"person_id\" = \"person_1\".\"person_id\")\n",
       "  ) AS \"visit_occurence_2\"\n",
       "  WHERE (\"visit_occurence_2\".\"row_number\" = 2)\n",
       ") AS \"visit_1\" ON TRUE"
      ]
     },
     "execution_count": 74,
     "metadata": {},
     "output_type": "execute_result"
    }
   ],
   "source": [
    "# gets the _second_ visit made by a person\n",
    "def second_visit(p_id):\n",
    "    return (\n",
    "        From(visit_occurence)\n",
    "        >> Where(Fun(\"=\", Get.person_id, Var.PERSON_ID))\n",
    "        >> Partition(order_by=[Get.visit_start_date])\n",
    "        >> Where(Fun(\"=\", Agg.row_number(), 2))\n",
    "        >> Bind(aka(p_id, \"PERSON_ID\"))\n",
    "    )\n",
    "\n",
    "\n",
    "# gets all people and if they made any second visits\n",
    "q = (\n",
    "    From(person)\n",
    "    >> Join(aka(second_visit(Get.person_id), \"visit\"), on=True, left=True)\n",
    "    >> Select(Get.person_id, Get.visit.visit_occurence_id, Get.visit.visit_start_date)\n",
    ")\n",
    "render(q)"
   ]
  },
  {
   "cell_type": "markdown",
   "metadata": {
    "tags": []
   },
   "source": [
    "### Order"
   ]
  },
  {
   "cell_type": "markdown",
   "metadata": {},
   "source": [
    "The `Order` operator creates a subquery to sort the output. "
   ]
  },
  {
   "cell_type": "code",
   "execution_count": 75,
   "metadata": {
    "execution": {
     "iopub.execute_input": "2022-07-18T08:08:55.250403Z",
     "iopub.status.busy": "2022-07-18T08:08:55.250120Z",
     "iopub.status.idle": "2022-07-18T08:08:55.251463Z",
     "shell.execute_reply": "2022-07-18T08:08:55.251712Z"
    }
   },
   "outputs": [
    {
     "data": {
      "text/plain": [
       "query: \n",
       "SELECT\n",
       "  \"person_1\".\"person_id\", \n",
       "  \"person_1\".\"year_of_birth\", \n",
       "  \"person_1\".\"month_of_birth\", \n",
       "  \"person_1\".\"day_of_birth\", \n",
       "  \"person_1\".\"birth_datetime\", \n",
       "  \"person_1\".\"location_id\"\n",
       "FROM \"person\" AS \"person_1\"\n",
       "ORDER BY \"person_1\".\"year_of_birth\""
      ]
     },
     "execution_count": 75,
     "metadata": {},
     "output_type": "execute_result"
    }
   ],
   "source": [
    "q = From(person) >> Order(Get.year_of_birth)\n",
    "render(q)"
   ]
  },
  {
   "cell_type": "markdown",
   "metadata": {},
   "source": [
    "The num of rows in the result set can also be limited. "
   ]
  },
  {
   "cell_type": "code",
   "execution_count": 76,
   "metadata": {
    "execution": {
     "iopub.execute_input": "2022-07-18T08:08:55.254198Z",
     "iopub.status.busy": "2022-07-18T08:08:55.253892Z",
     "iopub.status.idle": "2022-07-18T08:08:55.255173Z",
     "shell.execute_reply": "2022-07-18T08:08:55.255461Z"
    }
   },
   "outputs": [
    {
     "data": {
      "text/plain": [
       "query: \n",
       "SELECT\n",
       "  \"person_2\".\"person_id\", \n",
       "  \"person_2\".\"location_id\"\n",
       "FROM (\n",
       "  SELECT\n",
       "    \"person_1\".\"person_id\", \n",
       "    \"person_1\".\"location_id\"\n",
       "  FROM \"person\" AS \"person_1\"\n",
       "  ORDER BY \"person_1\".\"year_of_birth\"\n",
       "  LIMIT 10\n",
       ") AS \"person_2\"\n",
       "ORDER BY \"person_2\".\"person_id\""
      ]
     },
     "execution_count": 76,
     "metadata": {},
     "output_type": "execute_result"
    }
   ],
   "source": [
    "q = (\n",
    "    From(person)\n",
    "    >> Order(Get.year_of_birth)\n",
    "    >> Limit(10)\n",
    "    >> Order(Get.person_id)\n",
    "    >> Select(Get.person_id, Get.location_id)\n",
    ")\n",
    "render(q)"
   ]
  },
  {
   "cell_type": "markdown",
   "metadata": {},
   "source": [
    "The direction of the sort column can be specified too. "
   ]
  },
  {
   "cell_type": "code",
   "execution_count": 77,
   "metadata": {
    "execution": {
     "iopub.execute_input": "2022-07-18T08:08:55.257732Z",
     "iopub.status.busy": "2022-07-18T08:08:55.257432Z",
     "iopub.status.idle": "2022-07-18T08:08:55.258765Z",
     "shell.execute_reply": "2022-07-18T08:08:55.258994Z"
    }
   },
   "outputs": [
    {
     "data": {
      "text/plain": [
       "query: \n",
       "SELECT\n",
       "  \"person_1\".\"person_id\", \n",
       "  \"person_1\".\"year_of_birth\", \n",
       "  \"person_1\".\"month_of_birth\", \n",
       "  \"person_1\".\"day_of_birth\", \n",
       "  \"person_1\".\"birth_datetime\", \n",
       "  \"person_1\".\"location_id\"\n",
       "FROM \"person\" AS \"person_1\"\n",
       "ORDER BY\n",
       "  \"person_1\".\"year_of_birth\" DESC NULLS FIRST, \n",
       "  \"person_1\".\"person_id\" ASC"
      ]
     },
     "execution_count": 77,
     "metadata": {},
     "output_type": "execute_result"
    }
   ],
   "source": [
    "q = From(person) >> Order(\n",
    "    Get.year_of_birth >> Desc(NullsOrder.FIRST), Get.person_id >> Asc()\n",
    ")\n",
    "\n",
    "render(q)"
   ]
  },
  {
   "cell_type": "markdown",
   "metadata": {
    "tags": []
   },
   "source": [
    "### Limit"
   ]
  },
  {
   "cell_type": "markdown",
   "metadata": {},
   "source": [
    "The `Limit` node selects a fixed number of rows from a subquery, typically in conjunction with an `Order` node. "
   ]
  },
  {
   "cell_type": "code",
   "execution_count": 78,
   "metadata": {
    "execution": {
     "iopub.execute_input": "2022-07-18T08:08:55.261101Z",
     "iopub.status.busy": "2022-07-18T08:08:55.260808Z",
     "iopub.status.idle": "2022-07-18T08:08:55.262060Z",
     "shell.execute_reply": "2022-07-18T08:08:55.262356Z"
    }
   },
   "outputs": [
    {
     "data": {
      "text/plain": [
       "query: \n",
       "SELECT\n",
       "  \"person_1\".\"person_id\", \n",
       "  \"person_1\".\"year_of_birth\", \n",
       "  \"person_1\".\"month_of_birth\", \n",
       "  \"person_1\".\"day_of_birth\", \n",
       "  \"person_1\".\"birth_datetime\", \n",
       "  \"person_1\".\"location_id\"\n",
       "FROM \"person\" AS \"person_1\"\n",
       "ORDER BY \"person_1\".\"person_id\"\n",
       "LIMIT 20"
      ]
     },
     "execution_count": 78,
     "metadata": {},
     "output_type": "execute_result"
    }
   ],
   "source": [
    "q = From(person) >> Order(Get.person_id) >> Limit(20)\n",
    "render(q)"
   ]
  },
  {
   "cell_type": "markdown",
   "metadata": {},
   "source": [
    "`Limit` also lets you specify an offset. "
   ]
  },
  {
   "cell_type": "code",
   "execution_count": 79,
   "metadata": {
    "execution": {
     "iopub.execute_input": "2022-07-18T08:08:55.264500Z",
     "iopub.status.busy": "2022-07-18T08:08:55.264207Z",
     "iopub.status.idle": "2022-07-18T08:08:55.265530Z",
     "shell.execute_reply": "2022-07-18T08:08:55.265746Z"
    }
   },
   "outputs": [
    {
     "data": {
      "text/plain": [
       "query: \n",
       "SELECT\n",
       "  \"person_1\".\"person_id\", \n",
       "  \"person_1\".\"year_of_birth\", \n",
       "  \"person_1\".\"month_of_birth\", \n",
       "  \"person_1\".\"day_of_birth\", \n",
       "  \"person_1\".\"birth_datetime\", \n",
       "  \"person_1\".\"location_id\"\n",
       "FROM \"person\" AS \"person_1\"\n",
       "ORDER BY \"person_1\".\"person_id\"\n",
       "LIMIT 100\n",
       "OFFSET 10"
      ]
     },
     "execution_count": 79,
     "metadata": {},
     "output_type": "execute_result"
    }
   ],
   "source": [
    "q = From(person) >> Order(Get.person_id) >> Limit(100, offset=10)\n",
    "render(q)"
   ]
  },
  {
   "cell_type": "markdown",
   "metadata": {},
   "source": [
    "You could also specify just the offset. "
   ]
  },
  {
   "cell_type": "code",
   "execution_count": 80,
   "metadata": {
    "execution": {
     "iopub.execute_input": "2022-07-18T08:08:55.267823Z",
     "iopub.status.busy": "2022-07-18T08:08:55.267523Z",
     "iopub.status.idle": "2022-07-18T08:08:55.268889Z",
     "shell.execute_reply": "2022-07-18T08:08:55.269105Z"
    }
   },
   "outputs": [
    {
     "data": {
      "text/plain": [
       "query: \n",
       "SELECT\n",
       "  \"person_1\".\"person_id\", \n",
       "  \"person_1\".\"year_of_birth\", \n",
       "  \"person_1\".\"month_of_birth\", \n",
       "  \"person_1\".\"day_of_birth\", \n",
       "  \"person_1\".\"birth_datetime\", \n",
       "  \"person_1\".\"location_id\"\n",
       "FROM \"person\" AS \"person_1\"\n",
       "ORDER BY \"person_1\".\"person_id\"\n",
       "LIMIT -1\n",
       "OFFSET 10"
      ]
     },
     "execution_count": 80,
     "metadata": {},
     "output_type": "execute_result"
    }
   ],
   "source": [
    "q = From(person) >> Order(Get.person_id) >> Limit(offset=10)\n",
    "render(q)"
   ]
  },
  {
   "cell_type": "markdown",
   "metadata": {
    "tags": []
   },
   "source": [
    "### Select"
   ]
  },
  {
   "cell_type": "markdown",
   "metadata": {},
   "source": [
    "The Select node specifies the output columns for a subquery. "
   ]
  },
  {
   "cell_type": "code",
   "execution_count": 81,
   "metadata": {
    "execution": {
     "iopub.execute_input": "2022-07-18T08:08:55.271097Z",
     "iopub.status.busy": "2022-07-18T08:08:55.270811Z",
     "iopub.status.idle": "2022-07-18T08:08:55.272275Z",
     "shell.execute_reply": "2022-07-18T08:08:55.272446Z"
    }
   },
   "outputs": [
    {
     "data": {
      "text/plain": [
       "query: \n",
       "SELECT\n",
       "  \"person_1\".\"person_id\", \n",
       "  \"person_1\".\"year_of_birth\"\n",
       "FROM \"person\" AS \"person_1\""
      ]
     },
     "execution_count": 81,
     "metadata": {},
     "output_type": "execute_result"
    }
   ],
   "source": [
    "q = From(person) >> Select(Get.person_id, Get.year_of_birth)\n",
    "render(q)"
   ]
  },
  {
   "cell_type": "markdown",
   "metadata": {},
   "source": [
    "`Select` always creates a complete subquery. So, it creates nesting if it isn't the last node. "
   ]
  },
  {
   "cell_type": "code",
   "execution_count": 82,
   "metadata": {
    "execution": {
     "iopub.execute_input": "2022-07-18T08:08:55.274582Z",
     "iopub.status.busy": "2022-07-18T08:08:55.274303Z",
     "iopub.status.idle": "2022-07-18T08:08:55.275653Z",
     "shell.execute_reply": "2022-07-18T08:08:55.275870Z"
    }
   },
   "outputs": [
    {
     "data": {
      "text/plain": [
       "query: \n",
       "SELECT \"person_2\".\"year_of_birth\"\n",
       "FROM (\n",
       "  SELECT \"person_1\".\"year_of_birth\"\n",
       "  FROM \"person\" AS \"person_1\"\n",
       ") AS \"person_2\"\n",
       "WHERE (\"person_2\".\"year_of_birth\" > 2000)"
      ]
     },
     "execution_count": 82,
     "metadata": {},
     "output_type": "execute_result"
    }
   ],
   "source": [
    "q = (\n",
    "    From(person)\n",
    "    >> Select(Get.year_of_birth)\n",
    "    >> Where(Fun(\">\", Get.year_of_birth, 2000))\n",
    ")\n",
    "\n",
    "render(q)"
   ]
  },
  {
   "cell_type": "markdown",
   "metadata": {},
   "source": [
    "All columns passed to a Select node must have unique aliases."
   ]
  },
  {
   "cell_type": "code",
   "execution_count": 83,
   "metadata": {
    "execution": {
     "iopub.execute_input": "2022-07-18T08:08:55.277932Z",
     "iopub.status.busy": "2022-07-18T08:08:55.277661Z",
     "iopub.status.idle": "2022-07-18T08:08:55.279100Z",
     "shell.execute_reply": "2022-07-18T08:08:55.279247Z"
    }
   },
   "outputs": [
    {
     "data": {
      "text/plain": [
       "query: \n",
       "SELECT\n",
       "  \"person_1\".\"person_id\", \n",
       "  \"person_1\".\"person_id\" AS \"duplicate_id\"\n",
       "FROM \"person\" AS \"person_1\""
      ]
     },
     "execution_count": 83,
     "metadata": {},
     "output_type": "execute_result"
    }
   ],
   "source": [
    "# doesn't work\n",
    "# q = From(person) >> Select(Get.person_id, Get.person_id)\n",
    "\n",
    "# works\n",
    "q = From(person) >> Select(Get.person_id, aka(Get.person_id, \"duplicate_id\"))\n",
    "\n",
    "render(q)"
   ]
  },
  {
   "cell_type": "markdown",
   "metadata": {
    "tags": []
   },
   "source": [
    "### Where"
   ]
  },
  {
   "cell_type": "markdown",
   "metadata": {},
   "source": [
    "`Where` can be used to filter the query output by a condition. "
   ]
  },
  {
   "cell_type": "code",
   "execution_count": 84,
   "metadata": {
    "execution": {
     "iopub.execute_input": "2022-07-18T08:08:55.281294Z",
     "iopub.status.busy": "2022-07-18T08:08:55.281020Z",
     "iopub.status.idle": "2022-07-18T08:08:55.282387Z",
     "shell.execute_reply": "2022-07-18T08:08:55.282532Z"
    }
   },
   "outputs": [
    {
     "data": {
      "text/plain": [
       "query: \n",
       "SELECT\n",
       "  \"person_1\".\"person_id\", \n",
       "  \"person_1\".\"year_of_birth\", \n",
       "  \"person_1\".\"month_of_birth\", \n",
       "  \"person_1\".\"day_of_birth\", \n",
       "  \"person_1\".\"birth_datetime\", \n",
       "  \"person_1\".\"location_id\"\n",
       "FROM \"person\" AS \"person_1\"\n",
       "WHERE (\"person_1\".\"year_of_birth\" = 2000)"
      ]
     },
     "execution_count": 84,
     "metadata": {},
     "output_type": "execute_result"
    }
   ],
   "source": [
    "q = From(person) >> Where(Fun(\"=\", Get.year_of_birth, 2000))\n",
    "render(q)"
   ]
  },
  {
   "cell_type": "markdown",
   "metadata": {},
   "source": [
    "Multiple `Where` nodes in sequence are collapsed into a single clause. "
   ]
  },
  {
   "cell_type": "code",
   "execution_count": 85,
   "metadata": {
    "execution": {
     "iopub.execute_input": "2022-07-18T08:08:55.284928Z",
     "iopub.status.busy": "2022-07-18T08:08:55.284655Z",
     "iopub.status.idle": "2022-07-18T08:08:55.285986Z",
     "shell.execute_reply": "2022-07-18T08:08:55.286197Z"
    }
   },
   "outputs": [
    {
     "data": {
      "text/plain": [
       "query: \n",
       "SELECT\n",
       "  \"person_1\".\"person_id\", \n",
       "  \"person_1\".\"year_of_birth\", \n",
       "  \"person_1\".\"month_of_birth\", \n",
       "  \"person_1\".\"day_of_birth\", \n",
       "  \"person_1\".\"birth_datetime\", \n",
       "  \"person_1\".\"location_id\"\n",
       "FROM \"person\" AS \"person_1\"\n",
       "WHERE ((\"person_1\".\"year_of_birth\" > 1980) AND (\"person_1\".\"year_of_birth\" < 2000) AND (\"person_1\".\"year_of_birth\" <> 1990))"
      ]
     },
     "execution_count": 85,
     "metadata": {},
     "output_type": "execute_result"
    }
   ],
   "source": [
    "q = (\n",
    "    From(person)\n",
    "    >> Where(Fun(\">\", Get.year_of_birth, 1980))\n",
    "    >> Where(Fun(\"<\", Get.year_of_birth, 2000))\n",
    "    >> Where(Fun(\"!=\", Get.year_of_birth, 1990))\n",
    ")\n",
    "render(q)"
   ]
  },
  {
   "cell_type": "markdown",
   "metadata": {},
   "source": [
    "`Where` node following a `Group` subquery is translated into a `HAVING` clause. "
   ]
  },
  {
   "cell_type": "code",
   "execution_count": 86,
   "metadata": {
    "execution": {
     "iopub.execute_input": "2022-07-18T08:08:55.288776Z",
     "iopub.status.busy": "2022-07-18T08:08:55.288479Z",
     "iopub.status.idle": "2022-07-18T08:08:55.289777Z",
     "shell.execute_reply": "2022-07-18T08:08:55.290063Z"
    }
   },
   "outputs": [
    {
     "data": {
      "text/plain": [
       "query: \n",
       "SELECT \"location_1\".\"state\"\n",
       "FROM \"location\" AS \"location_1\"\n",
       "GROUP BY \"location_1\".\"state\"\n",
       "HAVING ((count(DISTINCT \"location_1\".\"city\") > 5) AND (count(DISTINCT \"location_1\".\"city\") < 10))"
      ]
     },
     "execution_count": 86,
     "metadata": {},
     "output_type": "execute_result"
    }
   ],
   "source": [
    "q = (\n",
    "    From(location)\n",
    "    >> Group(Get.state)\n",
    "    >> Where(Fun(\">\", Agg.count(Get.city, distinct=True), 5))\n",
    "    >> Where(Fun(\"<\", Agg.count(Get.city, distinct=True), 10))\n",
    ")\n",
    "\n",
    "render(q)"
   ]
  },
  {
   "cell_type": "code",
   "execution_count": null,
   "metadata": {},
   "outputs": [],
   "source": []
  }
 ],
 "metadata": {
  "interpreter": {
   "hash": "bee13da5dfd8cc2ab21d09493523ce7a17f20d31f50093ee24dd9a0766090f17"
  },
  "kernelspec": {
   "display_name": "Python 3",
   "language": "python",
   "name": "python3"
  },
  "language_info": {
   "codemirror_mode": {
    "name": "ipython",
    "version": 3
   },
   "file_extension": ".py",
   "mimetype": "text/x-python",
   "name": "python",
   "nbconvert_exporter": "python",
   "pygments_lexer": "ipython3",
   "version": "3.9.5"
  }
 },
 "nbformat": 4,
 "nbformat_minor": 4
}
