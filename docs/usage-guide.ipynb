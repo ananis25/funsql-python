{
 "cells": [
  {
   "cell_type": "markdown",
   "id": "35dc0ccd-1d45-4cb3-965a-ea0b34947c2a",
   "metadata": {},
   "source": [
    "# Usage guide"
   ]
  },
  {
   "cell_type": "markdown",
   "id": "a228616b-a704-4975-b7b8-a1cce6376152",
   "metadata": {},
   "source": [
    "This notebook shows how to assemble SQL queries using FunSQL. It introduce the different constructs available and how to compose them. \n",
    "\n",
    "**NOTE**: This document plagiarizes heavily from the corresponding guide for the [original library](https://mechanicalrabbit.github.io/FunSQL.jl/stable/guide) in Julia."
   ]
  },
  {
   "cell_type": "markdown",
   "id": "6ce4b6fb-af83-4e4d-bc39-e22438d51b99",
   "metadata": {},
   "source": [
    "For illustration, we use the dataset used in the web project, [SQL Murder Mystery](https://mystery.knightlab.com/), which is a really fun way to practice SQL.  The premise is that a crime has taken place, and you go through the data to nail down the suspects.  All records are available as tables in a _sqlite_ database file, which is included in the `docs` directory. "
   ]
  },
  {
   "cell_type": "markdown",
   "id": "d621017d-7418-48bc-ae43-6b6667dac97e",
   "metadata": {},
   "source": [
    "![Database schema](assets/mystery_schema.png)"
   ]
  },
  {
   "cell_type": "markdown",
   "id": "cf3832f2-ed94-4b78-b912-cc8ca3fac9d5",
   "metadata": {},
   "source": [
    "Most tables are personal records, visits to a fitness centre, or interactions with the police. To interact with the data, we use the python stadard library for sqlite. "
   ]
  },
  {
   "cell_type": "code",
   "execution_count": 1,
   "id": "016511ce-0601-4c64-83bf-eda50aadb031",
   "metadata": {
    "execution": {
     "iopub.execute_input": "2022-07-07T13:54:37.757820Z",
     "iopub.status.busy": "2022-07-07T13:54:37.756992Z",
     "iopub.status.idle": "2022-07-07T13:54:37.767510Z",
     "shell.execute_reply": "2022-07-07T13:54:37.768015Z"
    }
   },
   "outputs": [
    {
     "data": {
      "text/plain": [
       "[('crime_scene_report',),\n",
       " ('drivers_license',),\n",
       " ('person',),\n",
       " ('facebook_event_checkin',),\n",
       " ('interview',),\n",
       " ('get_fit_now_member',),\n",
       " ('get_fit_now_check_in',),\n",
       " ('income',),\n",
       " ('solution',)]"
      ]
     },
     "execution_count": 1,
     "metadata": {},
     "output_type": "execute_result"
    }
   ],
   "source": [
    "import sqlite3\n",
    "\n",
    "conn = sqlite3.connect(\"assets/mystery_database.db\")\n",
    "\n",
    "\n",
    "def run_query(q_str):\n",
    "    curr = conn.cursor()\n",
    "    curr.execute(q_str)\n",
    "    return curr.fetchall()\n",
    "\n",
    "\n",
    "# list of all tables\n",
    "_curr = conn.cursor()\n",
    "_curr.execute(\"SELECT name FROM sqlite_master where type = 'table'\")\n",
    "_curr.fetchall()"
   ]
  },
  {
   "cell_type": "markdown",
   "id": "81acab8b-5af3-4b64-8661-c6e919504ced",
   "metadata": {},
   "source": [
    "## Using FunSQL"
   ]
  },
  {
   "cell_type": "markdown",
   "id": "dc920f04-443b-4c57-bb54-9b33d130aabf",
   "metadata": {},
   "source": [
    "To compile queries, FunSQL needs to know schemas of the corresponding tables and the sql dialect to generate. This information is put into a `SQLCatalog` object, which can be reused across queries. "
   ]
  },
  {
   "cell_type": "code",
   "execution_count": 2,
   "id": "2fef64fd-ee8f-4fb9-a028-9a82e87fb41e",
   "metadata": {
    "execution": {
     "iopub.execute_input": "2022-07-07T13:54:37.771718Z",
     "iopub.status.busy": "2022-07-07T13:54:37.771207Z",
     "iopub.status.idle": "2022-07-07T13:54:37.787483Z",
     "shell.execute_reply": "2022-07-07T13:54:37.787753Z"
    }
   },
   "outputs": [],
   "source": [
    "from funsql import *\n",
    "from funsql.tools import dialect_sqlite, make_sql_tables, reflect_sqlite"
   ]
  },
  {
   "cell_type": "code",
   "execution_count": 3,
   "id": "6e8aec86-bfa7-47ae-960a-9b08f4751c7a",
   "metadata": {
    "execution": {
     "iopub.execute_input": "2022-07-07T13:54:37.791009Z",
     "iopub.status.busy": "2022-07-07T13:54:37.790433Z",
     "iopub.status.idle": "2022-07-07T13:54:37.792351Z",
     "shell.execute_reply": "2022-07-07T13:54:37.792695Z"
    }
   },
   "outputs": [],
   "source": [
    "# `reflect_sqlite` is an SQL query to fetch all table schemas in the database\n",
    "_curr = conn.cursor()\n",
    "_curr.execute(reflect_sqlite())\n",
    "list_tables = _curr.fetchall()\n",
    "\n",
    "dialect = dialect_sqlite()\n",
    "catalog = SQLCatalog(dialect, {tab.name: tab for tab in make_sql_tables(list_tables)})"
   ]
  },
  {
   "cell_type": "markdown",
   "id": "fcf84059-aaa4-4214-a0fc-ac8d04716e45",
   "metadata": {},
   "source": [
    "We created an SQLCatalog object with all database tables mapped to their original names.  To get the query results formatted neatly, we use the pandas library since Jupyter knows how to render dataframes. "
   ]
  },
  {
   "cell_type": "code",
   "execution_count": 4,
   "id": "2a1aecc4-1e71-4096-b7c6-08ee6439202e",
   "metadata": {
    "execution": {
     "iopub.execute_input": "2022-07-07T13:54:37.796097Z",
     "iopub.status.busy": "2022-07-07T13:54:37.795704Z",
     "iopub.status.idle": "2022-07-07T13:54:38.078451Z",
     "shell.execute_reply": "2022-07-07T13:54:38.078661Z"
    }
   },
   "outputs": [],
   "source": [
    "import pandas as pd\n",
    "\n",
    "\n",
    "def render_query(query):\n",
    "    \"\"\"returns an SQL string which can be executed\"\"\"\n",
    "    return render(query, catalog=catalog)\n",
    "\n",
    "\n",
    "def run_fun_query(query):\n",
    "    \"\"\"take a FunSQL node object and return results\"\"\"\n",
    "    q_str = render_query(query).query\n",
    "    return pd.read_sql_query(q_str, conn)\n",
    "\n",
    "\n",
    "def run_query(q_str):\n",
    "    \"\"\"take a SQL query string and return results\"\"\"\n",
    "    return pd.read_sql_query(q_str, conn)"
   ]
  },
  {
   "cell_type": "markdown",
   "id": "17ceb6a9-0281-4cb9-a807-695d56a7062f",
   "metadata": {},
   "source": [
    "We are good to go. For a first query, lets look at all personal records. "
   ]
  },
  {
   "cell_type": "code",
   "execution_count": 5,
   "id": "0f2a914a-d659-45c8-8a00-8bb807560520",
   "metadata": {
    "execution": {
     "iopub.execute_input": "2022-07-07T13:54:38.080777Z",
     "iopub.status.busy": "2022-07-07T13:54:38.080434Z",
     "iopub.status.idle": "2022-07-07T13:54:38.110324Z",
     "shell.execute_reply": "2022-07-07T13:54:38.110522Z"
    }
   },
   "outputs": [
    {
     "data": {
      "text/html": [
       "<div>\n",
       "<style scoped>\n",
       "    .dataframe tbody tr th:only-of-type {\n",
       "        vertical-align: middle;\n",
       "    }\n",
       "\n",
       "    .dataframe tbody tr th {\n",
       "        vertical-align: top;\n",
       "    }\n",
       "\n",
       "    .dataframe thead th {\n",
       "        text-align: right;\n",
       "    }\n",
       "</style>\n",
       "<table border=\"1\" class=\"dataframe\">\n",
       "  <thead>\n",
       "    <tr style=\"text-align: right;\">\n",
       "      <th></th>\n",
       "      <th>id</th>\n",
       "      <th>name</th>\n",
       "      <th>license_id</th>\n",
       "      <th>address_number</th>\n",
       "      <th>address_street_name</th>\n",
       "      <th>ssn</th>\n",
       "    </tr>\n",
       "  </thead>\n",
       "  <tbody>\n",
       "    <tr>\n",
       "      <th>0</th>\n",
       "      <td>10000</td>\n",
       "      <td>Christoper Peteuil</td>\n",
       "      <td>993845</td>\n",
       "      <td>624</td>\n",
       "      <td>Bankhall Ave</td>\n",
       "      <td>747714076</td>\n",
       "    </tr>\n",
       "    <tr>\n",
       "      <th>1</th>\n",
       "      <td>10007</td>\n",
       "      <td>Kourtney Calderwood</td>\n",
       "      <td>861794</td>\n",
       "      <td>2791</td>\n",
       "      <td>Gustavus Blvd</td>\n",
       "      <td>477972044</td>\n",
       "    </tr>\n",
       "    <tr>\n",
       "      <th>2</th>\n",
       "      <td>10010</td>\n",
       "      <td>Muoi Cary</td>\n",
       "      <td>385336</td>\n",
       "      <td>741</td>\n",
       "      <td>Northwestern Dr</td>\n",
       "      <td>828638512</td>\n",
       "    </tr>\n",
       "    <tr>\n",
       "      <th>3</th>\n",
       "      <td>10016</td>\n",
       "      <td>Era Moselle</td>\n",
       "      <td>431897</td>\n",
       "      <td>1987</td>\n",
       "      <td>Wood Glade St</td>\n",
       "      <td>614621061</td>\n",
       "    </tr>\n",
       "    <tr>\n",
       "      <th>4</th>\n",
       "      <td>10025</td>\n",
       "      <td>Trena Hornby</td>\n",
       "      <td>550890</td>\n",
       "      <td>276</td>\n",
       "      <td>Daws Hill Way</td>\n",
       "      <td>223877684</td>\n",
       "    </tr>\n",
       "    <tr>\n",
       "      <th>...</th>\n",
       "      <td>...</td>\n",
       "      <td>...</td>\n",
       "      <td>...</td>\n",
       "      <td>...</td>\n",
       "      <td>...</td>\n",
       "      <td>...</td>\n",
       "    </tr>\n",
       "    <tr>\n",
       "      <th>10006</th>\n",
       "      <td>99936</td>\n",
       "      <td>Luba Benser</td>\n",
       "      <td>274427</td>\n",
       "      <td>680</td>\n",
       "      <td>Carnage Blvd</td>\n",
       "      <td>685095054</td>\n",
       "    </tr>\n",
       "    <tr>\n",
       "      <th>10007</th>\n",
       "      <td>99941</td>\n",
       "      <td>Roxana Mckimley</td>\n",
       "      <td>975942</td>\n",
       "      <td>1613</td>\n",
       "      <td>Gate St</td>\n",
       "      <td>512136801</td>\n",
       "    </tr>\n",
       "    <tr>\n",
       "      <th>10008</th>\n",
       "      <td>99965</td>\n",
       "      <td>Cherie Zeimantz</td>\n",
       "      <td>287627</td>\n",
       "      <td>3661</td>\n",
       "      <td>The Water Ave</td>\n",
       "      <td>362877324</td>\n",
       "    </tr>\n",
       "    <tr>\n",
       "      <th>10009</th>\n",
       "      <td>99982</td>\n",
       "      <td>Allen Cruse</td>\n",
       "      <td>251350</td>\n",
       "      <td>3126</td>\n",
       "      <td>N Jean Dr</td>\n",
       "      <td>348734531</td>\n",
       "    </tr>\n",
       "    <tr>\n",
       "      <th>10010</th>\n",
       "      <td>99990</td>\n",
       "      <td>Vance Hunten</td>\n",
       "      <td>830407</td>\n",
       "      <td>3056</td>\n",
       "      <td>Lancefield St</td>\n",
       "      <td>896677562</td>\n",
       "    </tr>\n",
       "  </tbody>\n",
       "</table>\n",
       "<p>10011 rows × 6 columns</p>\n",
       "</div>"
      ],
      "text/plain": [
       "          id                 name  license_id  address_number  \\\n",
       "0      10000   Christoper Peteuil      993845             624   \n",
       "1      10007  Kourtney Calderwood      861794            2791   \n",
       "2      10010            Muoi Cary      385336             741   \n",
       "3      10016          Era Moselle      431897            1987   \n",
       "4      10025         Trena Hornby      550890             276   \n",
       "...      ...                  ...         ...             ...   \n",
       "10006  99936          Luba Benser      274427             680   \n",
       "10007  99941      Roxana Mckimley      975942            1613   \n",
       "10008  99965      Cherie Zeimantz      287627            3661   \n",
       "10009  99982          Allen Cruse      251350            3126   \n",
       "10010  99990         Vance Hunten      830407            3056   \n",
       "\n",
       "      address_street_name        ssn  \n",
       "0            Bankhall Ave  747714076  \n",
       "1           Gustavus Blvd  477972044  \n",
       "2         Northwestern Dr  828638512  \n",
       "3           Wood Glade St  614621061  \n",
       "4           Daws Hill Way  223877684  \n",
       "...                   ...        ...  \n",
       "10006        Carnage Blvd  685095054  \n",
       "10007             Gate St  512136801  \n",
       "10008       The Water Ave  362877324  \n",
       "10009           N Jean Dr  348734531  \n",
       "10010       Lancefield St  896677562  \n",
       "\n",
       "[10011 rows x 6 columns]"
      ]
     },
     "execution_count": 5,
     "metadata": {},
     "output_type": "execute_result"
    }
   ],
   "source": [
    "q = From(S.person)\n",
    "run_fun_query(q)"
   ]
  },
  {
   "cell_type": "markdown",
   "id": "29ac3848-6037-4ef3-9850-6a5065dc89fe",
   "metadata": {
    "tags": [],
    "toc-hr-collapsed": true
   },
   "source": [
    "## Why FunSQL?"
   ]
  },
  {
   "cell_type": "markdown",
   "id": "b924aeb8-86fd-4333-b846-eff004f2a214",
   "metadata": {},
   "source": [
    "Consider a question from the given dataset. For example, \n",
    "\n",
    "_Find all people and the cars they drive, who live somewhere on `Franklin Ave` and are between 30 and 40 years old._"
   ]
  },
  {
   "cell_type": "markdown",
   "id": "c477bf78-1489-482a-911d-7641b1c1d7a8",
   "metadata": {},
   "source": [
    "It can be answered with the following SQL query. "
   ]
  },
  {
   "cell_type": "markdown",
   "id": "889689d2-5d2a-4dd0-87d5-3555af6aa5fe",
   "metadata": {},
   "source": [
    "```sql\n",
    "SELECT name, car_make FROM person \n",
    "JOIN drivers_license AS license\n",
    "ON license_id = license.id\n",
    "WHERE (license.age BETWEEN 30 AND 40)\n",
    "AND address_street_name LIKE '%Franklin Ave%'\n",
    "```"
   ]
  },
  {
   "cell_type": "markdown",
   "id": "8b757140-fdc6-4e21-8197-102465af7ccf",
   "metadata": {},
   "source": [
    "The execute this query from python code, we can embed it as a string literal. "
   ]
  },
  {
   "cell_type": "code",
   "execution_count": 6,
   "id": "4c5c71b7-5df6-4bab-9751-c5f7875ecc6f",
   "metadata": {
    "execution": {
     "iopub.execute_input": "2022-07-07T13:54:38.112531Z",
     "iopub.status.busy": "2022-07-07T13:54:38.112217Z",
     "iopub.status.idle": "2022-07-07T13:54:38.117581Z",
     "shell.execute_reply": "2022-07-07T13:54:38.117767Z"
    }
   },
   "outputs": [
    {
     "data": {
      "text/html": [
       "<div>\n",
       "<style scoped>\n",
       "    .dataframe tbody tr th:only-of-type {\n",
       "        vertical-align: middle;\n",
       "    }\n",
       "\n",
       "    .dataframe tbody tr th {\n",
       "        vertical-align: top;\n",
       "    }\n",
       "\n",
       "    .dataframe thead th {\n",
       "        text-align: right;\n",
       "    }\n",
       "</style>\n",
       "<table border=\"1\" class=\"dataframe\">\n",
       "  <thead>\n",
       "    <tr style=\"text-align: right;\">\n",
       "      <th></th>\n",
       "      <th>name</th>\n",
       "      <th>car_make</th>\n",
       "    </tr>\n",
       "  </thead>\n",
       "  <tbody>\n",
       "    <tr>\n",
       "      <th>0</th>\n",
       "      <td>Annabel Miller</td>\n",
       "      <td>Toyota</td>\n",
       "    </tr>\n",
       "    <tr>\n",
       "      <th>1</th>\n",
       "      <td>Shelby Dezeeuw</td>\n",
       "      <td>Toyota</td>\n",
       "    </tr>\n",
       "    <tr>\n",
       "      <th>2</th>\n",
       "      <td>Whitney Herkenratt</td>\n",
       "      <td>Maserati</td>\n",
       "    </tr>\n",
       "    <tr>\n",
       "      <th>3</th>\n",
       "      <td>Maria Walsh</td>\n",
       "      <td>Chevrolet</td>\n",
       "    </tr>\n",
       "    <tr>\n",
       "      <th>4</th>\n",
       "      <td>Raul Eads</td>\n",
       "      <td>Chevrolet</td>\n",
       "    </tr>\n",
       "  </tbody>\n",
       "</table>\n",
       "</div>"
      ],
      "text/plain": [
       "                 name   car_make\n",
       "0      Annabel Miller     Toyota\n",
       "1      Shelby Dezeeuw     Toyota\n",
       "2  Whitney Herkenratt   Maserati\n",
       "3         Maria Walsh  Chevrolet\n",
       "4           Raul Eads  Chevrolet"
      ]
     },
     "execution_count": 6,
     "metadata": {},
     "output_type": "execute_result"
    }
   ],
   "source": [
    "sql = \"\"\"\n",
    "SELECT name, car_make FROM person \n",
    "JOIN drivers_license AS license\n",
    "ON license_id = license.id\n",
    "WHERE (license.age BETWEEN 30 AND 40)\n",
    "AND address_street_name LIKE '%Franklin Ave%'\n",
    "\"\"\"\n",
    "\n",
    "run_query(sql)"
   ]
  },
  {
   "cell_type": "markdown",
   "id": "a01ff83c-916e-4a04-9ab7-8217747c3d6a",
   "metadata": {},
   "source": [
    "With FunSQL, instead of embedding the SQL query directly into code, we construct a query object. "
   ]
  },
  {
   "cell_type": "code",
   "execution_count": 7,
   "id": "90550b66-6344-404c-9d77-ada6166e6d1d",
   "metadata": {
    "execution": {
     "iopub.execute_input": "2022-07-07T13:54:38.119961Z",
     "iopub.status.busy": "2022-07-07T13:54:38.119675Z",
     "iopub.status.idle": "2022-07-07T13:54:38.120857Z",
     "shell.execute_reply": "2022-07-07T13:54:38.121027Z"
    }
   },
   "outputs": [],
   "source": [
    "q = (\n",
    "    From(S.person)\n",
    "    >> Join(\n",
    "        From(S.drivers_license) >> Where(Fun.between(Get.age, 30, 40)) >> As(S.l),\n",
    "        on=Fun(\"=\", Get.license_id, Get.l.id),\n",
    "    )\n",
    "    >> Where(Fun.LIKE(Get.address_street_name, \"%Franklin Ave%\"))\n",
    "    >> Select(Get.name, Get.l.car_make)\n",
    ")"
   ]
  },
  {
   "cell_type": "markdown",
   "id": "a0bbb56c-be8f-44ae-abab-d02d2b48ea8d",
   "metadata": {},
   "source": [
    "The value of q is a composite object of type `SQLNode`. \"Composite\" means that q is assembled from components (also of type `SQLNode`), which themselves are either atomic or assembled from smaller components. Different kinds of components are created by `SQLNode` constructors such as `From`, `Where`, `Fun`, `Get`, etc.\n",
    "\n",
    "We can then serialize the query object as a SQL statement and execute it. "
   ]
  },
  {
   "cell_type": "code",
   "execution_count": 8,
   "id": "6d077660-1516-4bdf-a45c-247c441ca674",
   "metadata": {
    "execution": {
     "iopub.execute_input": "2022-07-07T13:54:38.123248Z",
     "iopub.status.busy": "2022-07-07T13:54:38.122958Z",
     "iopub.status.idle": "2022-07-07T13:54:38.126275Z",
     "shell.execute_reply": "2022-07-07T13:54:38.126454Z"
    }
   },
   "outputs": [
    {
     "data": {
      "text/html": [
       "<div>\n",
       "<style scoped>\n",
       "    .dataframe tbody tr th:only-of-type {\n",
       "        vertical-align: middle;\n",
       "    }\n",
       "\n",
       "    .dataframe tbody tr th {\n",
       "        vertical-align: top;\n",
       "    }\n",
       "\n",
       "    .dataframe thead th {\n",
       "        text-align: right;\n",
       "    }\n",
       "</style>\n",
       "<table border=\"1\" class=\"dataframe\">\n",
       "  <thead>\n",
       "    <tr style=\"text-align: right;\">\n",
       "      <th></th>\n",
       "      <th>name</th>\n",
       "      <th>car_make</th>\n",
       "    </tr>\n",
       "  </thead>\n",
       "  <tbody>\n",
       "    <tr>\n",
       "      <th>0</th>\n",
       "      <td>Annabel Miller</td>\n",
       "      <td>Toyota</td>\n",
       "    </tr>\n",
       "    <tr>\n",
       "      <th>1</th>\n",
       "      <td>Shelby Dezeeuw</td>\n",
       "      <td>Toyota</td>\n",
       "    </tr>\n",
       "    <tr>\n",
       "      <th>2</th>\n",
       "      <td>Whitney Herkenratt</td>\n",
       "      <td>Maserati</td>\n",
       "    </tr>\n",
       "    <tr>\n",
       "      <th>3</th>\n",
       "      <td>Maria Walsh</td>\n",
       "      <td>Chevrolet</td>\n",
       "    </tr>\n",
       "    <tr>\n",
       "      <th>4</th>\n",
       "      <td>Raul Eads</td>\n",
       "      <td>Chevrolet</td>\n",
       "    </tr>\n",
       "  </tbody>\n",
       "</table>\n",
       "</div>"
      ],
      "text/plain": [
       "                 name   car_make\n",
       "0      Annabel Miller     Toyota\n",
       "1      Shelby Dezeeuw     Toyota\n",
       "2  Whitney Herkenratt   Maserati\n",
       "3         Maria Walsh  Chevrolet\n",
       "4           Raul Eads  Chevrolet"
      ]
     },
     "execution_count": 8,
     "metadata": {},
     "output_type": "execute_result"
    }
   ],
   "source": [
    "run_fun_query(q)"
   ]
  },
  {
   "cell_type": "markdown",
   "id": "f7f4a659-91b0-4c61-b8bc-2ae6ec7bba6a",
   "metadata": {},
   "source": [
    "Why write a query indirectly, instead of executing the original SQL string? Consider that, in an application, queries are generally parameterized. The previous question will look like, \n",
    "\n",
    "_Find all people and the cars they drive, who live somewhere on {address} and are between {start_age} and {end_age} years old._\n"
   ]
  },
  {
   "cell_type": "markdown",
   "id": "19ef747d-7554-4f27-ae37-7bb5b22b080d",
   "metadata": {},
   "source": [
    "This is still solvable by introducing placeholder parameters in the query string, and providing them at runtime. "
   ]
  },
  {
   "cell_type": "code",
   "execution_count": 9,
   "id": "67220125-7de3-4c2d-9e4a-be96d614e667",
   "metadata": {
    "execution": {
     "iopub.execute_input": "2022-07-07T13:54:38.128208Z",
     "iopub.status.busy": "2022-07-07T13:54:38.127919Z",
     "iopub.status.idle": "2022-07-07T13:54:38.131080Z",
     "shell.execute_reply": "2022-07-07T13:54:38.131363Z"
    }
   },
   "outputs": [
    {
     "data": {
      "text/html": [
       "<div>\n",
       "<style scoped>\n",
       "    .dataframe tbody tr th:only-of-type {\n",
       "        vertical-align: middle;\n",
       "    }\n",
       "\n",
       "    .dataframe tbody tr th {\n",
       "        vertical-align: top;\n",
       "    }\n",
       "\n",
       "    .dataframe thead th {\n",
       "        text-align: right;\n",
       "    }\n",
       "</style>\n",
       "<table border=\"1\" class=\"dataframe\">\n",
       "  <thead>\n",
       "    <tr style=\"text-align: right;\">\n",
       "      <th></th>\n",
       "      <th>name</th>\n",
       "      <th>car_make</th>\n",
       "    </tr>\n",
       "  </thead>\n",
       "  <tbody>\n",
       "    <tr>\n",
       "      <th>0</th>\n",
       "      <td>Annabel Miller</td>\n",
       "      <td>Toyota</td>\n",
       "    </tr>\n",
       "    <tr>\n",
       "      <th>1</th>\n",
       "      <td>Shelby Dezeeuw</td>\n",
       "      <td>Toyota</td>\n",
       "    </tr>\n",
       "    <tr>\n",
       "      <th>2</th>\n",
       "      <td>Whitney Herkenratt</td>\n",
       "      <td>Maserati</td>\n",
       "    </tr>\n",
       "    <tr>\n",
       "      <th>3</th>\n",
       "      <td>Maria Walsh</td>\n",
       "      <td>Chevrolet</td>\n",
       "    </tr>\n",
       "    <tr>\n",
       "      <th>4</th>\n",
       "      <td>Raul Eads</td>\n",
       "      <td>Chevrolet</td>\n",
       "    </tr>\n",
       "  </tbody>\n",
       "</table>\n",
       "</div>"
      ],
      "text/plain": [
       "                 name   car_make\n",
       "0      Annabel Miller     Toyota\n",
       "1      Shelby Dezeeuw     Toyota\n",
       "2  Whitney Herkenratt   Maserati\n",
       "3         Maria Walsh  Chevrolet\n",
       "4           Raul Eads  Chevrolet"
      ]
     },
     "execution_count": 9,
     "metadata": {},
     "output_type": "execute_result"
    }
   ],
   "source": [
    "sql = \"\"\"\n",
    "SELECT name, car_make FROM person \n",
    "JOIN drivers_license AS license\n",
    "ON license_id = license.id\n",
    "WHERE (license.age BETWEEN ? AND ?)\n",
    "AND address_street_name LIKE ?\n",
    "\"\"\"\n",
    "pd.read_sql_query(sql, conn, params=[30, 40, \"Franklin Ave\"])"
   ]
  },
  {
   "cell_type": "markdown",
   "id": "09b51bee-2e7d-4d62-b833-72863a9873ed",
   "metadata": {},
   "source": [
    "However, say if we don't want to use the age filter now, or maybe use a different table to get people ages since the license information migth be outdated. Then, the SQL query cannot be prepared in advance and must be assembled on the fly using string concatenation, which is error prone. Building the query as a python data structure is verbose but robust. \n",
    "\n",
    "The FunSQL query can be constructed as below. "
   ]
  },
  {
   "cell_type": "code",
   "execution_count": 10,
   "id": "0bb32795-aeda-419d-b372-af20b8dc5c8e",
   "metadata": {
    "execution": {
     "iopub.execute_input": "2022-07-07T13:54:38.134184Z",
     "iopub.status.busy": "2022-07-07T13:54:38.133902Z",
     "iopub.status.idle": "2022-07-07T13:54:38.135008Z",
     "shell.execute_reply": "2022-07-07T13:54:38.135238Z"
    }
   },
   "outputs": [],
   "source": [
    "def find_people(start_age, end_age, address):\n",
    "    q = From(S.person) >> Join(\n",
    "        From(S.drivers_license)\n",
    "        >> Where(age_range(Get.age, start_age, end_age))\n",
    "        >> As(\"l\"),\n",
    "        on=Fun(\"=\", Get.license_id, Get.l.id),\n",
    "    )\n",
    "    if address is not None:\n",
    "        q = q >> Where(Fun.LIKE(Get.address_street_name, address))\n",
    "    return q >> Select(Get.name, Get.l.car_make)\n",
    "\n",
    "\n",
    "def age_range(age_col, start_age, end_age):\n",
    "    if start_age is None and end_age is None:\n",
    "        return True\n",
    "    elif start_age is None:\n",
    "        return Fun(\"<=\", age_col, end_age)\n",
    "    elif end_age is None:\n",
    "        return Fun(\">=\", age_col, start_age)\n",
    "    else:\n",
    "        return Fun.BETWEEN(age_col, start_age, end_age)"
   ]
  },
  {
   "cell_type": "code",
   "execution_count": 11,
   "id": "86c5edf7-b0b6-489b-9d81-5b373b3dba71",
   "metadata": {
    "execution": {
     "iopub.execute_input": "2022-07-07T13:54:38.137375Z",
     "iopub.status.busy": "2022-07-07T13:54:38.137095Z",
     "iopub.status.idle": "2022-07-07T13:54:38.140331Z",
     "shell.execute_reply": "2022-07-07T13:54:38.140509Z"
    }
   },
   "outputs": [
    {
     "data": {
      "text/html": [
       "<div>\n",
       "<style scoped>\n",
       "    .dataframe tbody tr th:only-of-type {\n",
       "        vertical-align: middle;\n",
       "    }\n",
       "\n",
       "    .dataframe tbody tr th {\n",
       "        vertical-align: top;\n",
       "    }\n",
       "\n",
       "    .dataframe thead th {\n",
       "        text-align: right;\n",
       "    }\n",
       "</style>\n",
       "<table border=\"1\" class=\"dataframe\">\n",
       "  <thead>\n",
       "    <tr style=\"text-align: right;\">\n",
       "      <th></th>\n",
       "      <th>name</th>\n",
       "      <th>car_make</th>\n",
       "    </tr>\n",
       "  </thead>\n",
       "  <tbody>\n",
       "    <tr>\n",
       "      <th>0</th>\n",
       "      <td>Annabel Miller</td>\n",
       "      <td>Toyota</td>\n",
       "    </tr>\n",
       "    <tr>\n",
       "      <th>1</th>\n",
       "      <td>Shelby Dezeeuw</td>\n",
       "      <td>Toyota</td>\n",
       "    </tr>\n",
       "    <tr>\n",
       "      <th>2</th>\n",
       "      <td>Whitney Herkenratt</td>\n",
       "      <td>Maserati</td>\n",
       "    </tr>\n",
       "    <tr>\n",
       "      <th>3</th>\n",
       "      <td>Maria Walsh</td>\n",
       "      <td>Chevrolet</td>\n",
       "    </tr>\n",
       "    <tr>\n",
       "      <th>4</th>\n",
       "      <td>Raul Eads</td>\n",
       "      <td>Chevrolet</td>\n",
       "    </tr>\n",
       "  </tbody>\n",
       "</table>\n",
       "</div>"
      ],
      "text/plain": [
       "                 name   car_make\n",
       "0      Annabel Miller     Toyota\n",
       "1      Shelby Dezeeuw     Toyota\n",
       "2  Whitney Herkenratt   Maserati\n",
       "3         Maria Walsh  Chevrolet\n",
       "4           Raul Eads  Chevrolet"
      ]
     },
     "execution_count": 11,
     "metadata": {},
     "output_type": "execute_result"
    }
   ],
   "source": [
    "run_fun_query(find_people(30, 40, \"%Franklin Ave%\"))"
   ]
  },
  {
   "cell_type": "markdown",
   "id": "4cd14b9f-4a1a-49b2-8fe1-2a384334960b",
   "metadata": {},
   "source": [
    "The function `find_people` is effectively a new `SQLNode` constructor, which can be used directly, or as a component of a larger query. Queries are now easier to tweak. "
   ]
  },
  {
   "cell_type": "markdown",
   "id": "7eaf3132-24ee-43e0-a123-d9c704d75273",
   "metadata": {},
   "source": [
    "_List all people living on Franklin Ave_ (no age filter)"
   ]
  },
  {
   "cell_type": "code",
   "execution_count": 12,
   "id": "f81d8614-06fc-4c8b-875c-ef32698cd641",
   "metadata": {
    "execution": {
     "iopub.execute_input": "2022-07-07T13:54:38.142503Z",
     "iopub.status.busy": "2022-07-07T13:54:38.142227Z",
     "iopub.status.idle": "2022-07-07T13:54:38.146280Z",
     "shell.execute_reply": "2022-07-07T13:54:38.146496Z"
    },
    "scrolled": true,
    "tags": []
   },
   "outputs": [
    {
     "data": {
      "text/html": [
       "<div>\n",
       "<style scoped>\n",
       "    .dataframe tbody tr th:only-of-type {\n",
       "        vertical-align: middle;\n",
       "    }\n",
       "\n",
       "    .dataframe tbody tr th {\n",
       "        vertical-align: top;\n",
       "    }\n",
       "\n",
       "    .dataframe thead th {\n",
       "        text-align: right;\n",
       "    }\n",
       "</style>\n",
       "<table border=\"1\" class=\"dataframe\">\n",
       "  <thead>\n",
       "    <tr style=\"text-align: right;\">\n",
       "      <th></th>\n",
       "      <th>name</th>\n",
       "      <th>car_make</th>\n",
       "    </tr>\n",
       "  </thead>\n",
       "  <tbody>\n",
       "    <tr>\n",
       "      <th>0</th>\n",
       "      <td>Wilmer Wolever</td>\n",
       "      <td>Nissan</td>\n",
       "    </tr>\n",
       "    <tr>\n",
       "      <th>1</th>\n",
       "      <td>Annabel Miller</td>\n",
       "      <td>Toyota</td>\n",
       "    </tr>\n",
       "    <tr>\n",
       "      <th>2</th>\n",
       "      <td>Johnnie Schee</td>\n",
       "      <td>Honda</td>\n",
       "    </tr>\n",
       "    <tr>\n",
       "      <th>3</th>\n",
       "      <td>Carleen Etoll</td>\n",
       "      <td>Mitsubishi</td>\n",
       "    </tr>\n",
       "    <tr>\n",
       "      <th>4</th>\n",
       "      <td>Zachary Ybarbo</td>\n",
       "      <td>Ford</td>\n",
       "    </tr>\n",
       "    <tr>\n",
       "      <th>5</th>\n",
       "      <td>Gema Nantz</td>\n",
       "      <td>BMW</td>\n",
       "    </tr>\n",
       "    <tr>\n",
       "      <th>6</th>\n",
       "      <td>Clarita Rickels</td>\n",
       "      <td>Chrysler</td>\n",
       "    </tr>\n",
       "    <tr>\n",
       "      <th>7</th>\n",
       "      <td>Shelby Dezeeuw</td>\n",
       "      <td>Toyota</td>\n",
       "    </tr>\n",
       "    <tr>\n",
       "      <th>8</th>\n",
       "      <td>Amado Mattan</td>\n",
       "      <td>Acura</td>\n",
       "    </tr>\n",
       "    <tr>\n",
       "      <th>9</th>\n",
       "      <td>Cordell Lindamood</td>\n",
       "      <td>Toyota</td>\n",
       "    </tr>\n",
       "    <tr>\n",
       "      <th>10</th>\n",
       "      <td>Domenic Laun</td>\n",
       "      <td>Mercury</td>\n",
       "    </tr>\n",
       "    <tr>\n",
       "      <th>11</th>\n",
       "      <td>Noe Pancoast</td>\n",
       "      <td>Dodge</td>\n",
       "    </tr>\n",
       "    <tr>\n",
       "      <th>12</th>\n",
       "      <td>Katelyn Schwerin</td>\n",
       "      <td>Chevrolet</td>\n",
       "    </tr>\n",
       "    <tr>\n",
       "      <th>13</th>\n",
       "      <td>Bev Billiter</td>\n",
       "      <td>BMW</td>\n",
       "    </tr>\n",
       "    <tr>\n",
       "      <th>14</th>\n",
       "      <td>Jordan Pelton</td>\n",
       "      <td>Mazda</td>\n",
       "    </tr>\n",
       "    <tr>\n",
       "      <th>15</th>\n",
       "      <td>Ezra Phy</td>\n",
       "      <td>Jeep</td>\n",
       "    </tr>\n",
       "    <tr>\n",
       "      <th>16</th>\n",
       "      <td>Yelena Whitler</td>\n",
       "      <td>Aston Martin</td>\n",
       "    </tr>\n",
       "    <tr>\n",
       "      <th>17</th>\n",
       "      <td>Guy Bustard</td>\n",
       "      <td>Volkswagen</td>\n",
       "    </tr>\n",
       "    <tr>\n",
       "      <th>18</th>\n",
       "      <td>Patty Wamsley</td>\n",
       "      <td>Volvo</td>\n",
       "    </tr>\n",
       "    <tr>\n",
       "      <th>19</th>\n",
       "      <td>William Shiver</td>\n",
       "      <td>Chevrolet</td>\n",
       "    </tr>\n",
       "    <tr>\n",
       "      <th>20</th>\n",
       "      <td>Lavette Koehl</td>\n",
       "      <td>Lotus</td>\n",
       "    </tr>\n",
       "    <tr>\n",
       "      <th>21</th>\n",
       "      <td>Ronny Gumbert</td>\n",
       "      <td>Dodge</td>\n",
       "    </tr>\n",
       "    <tr>\n",
       "      <th>22</th>\n",
       "      <td>Ricki Bidding</td>\n",
       "      <td>Toyota</td>\n",
       "    </tr>\n",
       "    <tr>\n",
       "      <th>23</th>\n",
       "      <td>Laurine Bousman</td>\n",
       "      <td>GMC</td>\n",
       "    </tr>\n",
       "    <tr>\n",
       "      <th>24</th>\n",
       "      <td>Colette Hollomon</td>\n",
       "      <td>GMC</td>\n",
       "    </tr>\n",
       "    <tr>\n",
       "      <th>25</th>\n",
       "      <td>Isaiah Holsten</td>\n",
       "      <td>BMW</td>\n",
       "    </tr>\n",
       "    <tr>\n",
       "      <th>26</th>\n",
       "      <td>Mariah Lepetich</td>\n",
       "      <td>Kia</td>\n",
       "    </tr>\n",
       "    <tr>\n",
       "      <th>27</th>\n",
       "      <td>Renita Roperto</td>\n",
       "      <td>Mazda</td>\n",
       "    </tr>\n",
       "    <tr>\n",
       "      <th>28</th>\n",
       "      <td>Hope Arzabala</td>\n",
       "      <td>Volkswagen</td>\n",
       "    </tr>\n",
       "    <tr>\n",
       "      <th>29</th>\n",
       "      <td>Whitney Herkenratt</td>\n",
       "      <td>Maserati</td>\n",
       "    </tr>\n",
       "    <tr>\n",
       "      <th>30</th>\n",
       "      <td>Sebastian Ramnarase</td>\n",
       "      <td>Subaru</td>\n",
       "    </tr>\n",
       "    <tr>\n",
       "      <th>31</th>\n",
       "      <td>Ressie Razze</td>\n",
       "      <td>Mitsubishi</td>\n",
       "    </tr>\n",
       "    <tr>\n",
       "      <th>32</th>\n",
       "      <td>Graig Summy</td>\n",
       "      <td>Dodge</td>\n",
       "    </tr>\n",
       "    <tr>\n",
       "      <th>33</th>\n",
       "      <td>Dante Eschen</td>\n",
       "      <td>Ford</td>\n",
       "    </tr>\n",
       "    <tr>\n",
       "      <th>34</th>\n",
       "      <td>Blake Chrones</td>\n",
       "      <td>Kia</td>\n",
       "    </tr>\n",
       "    <tr>\n",
       "      <th>35</th>\n",
       "      <td>Candice Train</td>\n",
       "      <td>Dodge</td>\n",
       "    </tr>\n",
       "    <tr>\n",
       "      <th>36</th>\n",
       "      <td>Wilmer Casella</td>\n",
       "      <td>Toyota</td>\n",
       "    </tr>\n",
       "    <tr>\n",
       "      <th>37</th>\n",
       "      <td>Maria Walsh</td>\n",
       "      <td>Chevrolet</td>\n",
       "    </tr>\n",
       "    <tr>\n",
       "      <th>38</th>\n",
       "      <td>Edgar Mendieta</td>\n",
       "      <td>Pontiac</td>\n",
       "    </tr>\n",
       "    <tr>\n",
       "      <th>39</th>\n",
       "      <td>Moses Ikerd</td>\n",
       "      <td>Mazda</td>\n",
       "    </tr>\n",
       "    <tr>\n",
       "      <th>40</th>\n",
       "      <td>Raul Eads</td>\n",
       "      <td>Chevrolet</td>\n",
       "    </tr>\n",
       "    <tr>\n",
       "      <th>41</th>\n",
       "      <td>Omer Andreoni</td>\n",
       "      <td>Lincoln</td>\n",
       "    </tr>\n",
       "    <tr>\n",
       "      <th>42</th>\n",
       "      <td>Hong Lisa</td>\n",
       "      <td>Acura</td>\n",
       "    </tr>\n",
       "    <tr>\n",
       "      <th>43</th>\n",
       "      <td>Cameron Dilick</td>\n",
       "      <td>Chevrolet</td>\n",
       "    </tr>\n",
       "    <tr>\n",
       "      <th>44</th>\n",
       "      <td>Jordan Myntti</td>\n",
       "      <td>Chrysler</td>\n",
       "    </tr>\n",
       "  </tbody>\n",
       "</table>\n",
       "</div>"
      ],
      "text/plain": [
       "                   name      car_make\n",
       "0        Wilmer Wolever        Nissan\n",
       "1        Annabel Miller        Toyota\n",
       "2         Johnnie Schee         Honda\n",
       "3         Carleen Etoll    Mitsubishi\n",
       "4        Zachary Ybarbo          Ford\n",
       "5            Gema Nantz           BMW\n",
       "6       Clarita Rickels      Chrysler\n",
       "7        Shelby Dezeeuw        Toyota\n",
       "8          Amado Mattan         Acura\n",
       "9     Cordell Lindamood        Toyota\n",
       "10         Domenic Laun       Mercury\n",
       "11         Noe Pancoast         Dodge\n",
       "12     Katelyn Schwerin     Chevrolet\n",
       "13         Bev Billiter           BMW\n",
       "14        Jordan Pelton         Mazda\n",
       "15             Ezra Phy          Jeep\n",
       "16       Yelena Whitler  Aston Martin\n",
       "17          Guy Bustard    Volkswagen\n",
       "18        Patty Wamsley         Volvo\n",
       "19       William Shiver     Chevrolet\n",
       "20        Lavette Koehl         Lotus\n",
       "21        Ronny Gumbert         Dodge\n",
       "22        Ricki Bidding        Toyota\n",
       "23      Laurine Bousman           GMC\n",
       "24     Colette Hollomon           GMC\n",
       "25       Isaiah Holsten           BMW\n",
       "26      Mariah Lepetich           Kia\n",
       "27       Renita Roperto         Mazda\n",
       "28        Hope Arzabala    Volkswagen\n",
       "29   Whitney Herkenratt      Maserati\n",
       "30  Sebastian Ramnarase        Subaru\n",
       "31         Ressie Razze    Mitsubishi\n",
       "32          Graig Summy         Dodge\n",
       "33         Dante Eschen          Ford\n",
       "34        Blake Chrones           Kia\n",
       "35        Candice Train         Dodge\n",
       "36       Wilmer Casella        Toyota\n",
       "37          Maria Walsh     Chevrolet\n",
       "38       Edgar Mendieta       Pontiac\n",
       "39          Moses Ikerd         Mazda\n",
       "40            Raul Eads     Chevrolet\n",
       "41        Omer Andreoni       Lincoln\n",
       "42            Hong Lisa         Acura\n",
       "43       Cameron Dilick     Chevrolet\n",
       "44        Jordan Myntti      Chrysler"
      ]
     },
     "execution_count": 12,
     "metadata": {},
     "output_type": "execute_result"
    }
   ],
   "source": [
    "run_fun_query(find_people(None, None, \"Franklin Ave\"))"
   ]
  },
  {
   "cell_type": "markdown",
   "id": "0dbbf585-a6de-4e56-a5ec-5b7870229749",
   "metadata": {},
   "source": [
    "_List people less than 25 years old, living on Northwestern Dr_"
   ]
  },
  {
   "cell_type": "code",
   "execution_count": 13,
   "id": "715d0060-e6a0-438c-b715-189257c084de",
   "metadata": {
    "execution": {
     "iopub.execute_input": "2022-07-07T13:54:38.148719Z",
     "iopub.status.busy": "2022-07-07T13:54:38.148368Z",
     "iopub.status.idle": "2022-07-07T13:54:38.152524Z",
     "shell.execute_reply": "2022-07-07T13:54:38.152710Z"
    }
   },
   "outputs": [
    {
     "data": {
      "text/html": [
       "<div>\n",
       "<style scoped>\n",
       "    .dataframe tbody tr th:only-of-type {\n",
       "        vertical-align: middle;\n",
       "    }\n",
       "\n",
       "    .dataframe tbody tr th {\n",
       "        vertical-align: top;\n",
       "    }\n",
       "\n",
       "    .dataframe thead th {\n",
       "        text-align: right;\n",
       "    }\n",
       "</style>\n",
       "<table border=\"1\" class=\"dataframe\">\n",
       "  <thead>\n",
       "    <tr style=\"text-align: right;\">\n",
       "      <th></th>\n",
       "      <th>name</th>\n",
       "      <th>car_make</th>\n",
       "    </tr>\n",
       "  </thead>\n",
       "  <tbody>\n",
       "    <tr>\n",
       "      <th>0</th>\n",
       "      <td>Muoi Cary</td>\n",
       "      <td>Mercedes-Benz</td>\n",
       "    </tr>\n",
       "    <tr>\n",
       "      <th>1</th>\n",
       "      <td>Norman Apolito</td>\n",
       "      <td>Mazda</td>\n",
       "    </tr>\n",
       "    <tr>\n",
       "      <th>2</th>\n",
       "      <td>Abe Roeker</td>\n",
       "      <td>Dodge</td>\n",
       "    </tr>\n",
       "    <tr>\n",
       "      <th>3</th>\n",
       "      <td>Courtney Bordeaux</td>\n",
       "      <td>Mercury</td>\n",
       "    </tr>\n",
       "  </tbody>\n",
       "</table>\n",
       "</div>"
      ],
      "text/plain": [
       "                name       car_make\n",
       "0          Muoi Cary  Mercedes-Benz\n",
       "1     Norman Apolito          Mazda\n",
       "2         Abe Roeker          Dodge\n",
       "3  Courtney Bordeaux        Mercury"
      ]
     },
     "execution_count": 13,
     "metadata": {},
     "output_type": "execute_result"
    }
   ],
   "source": [
    "run_fun_query(find_people(None, 25, \"Northwestern Dr\"))"
   ]
  },
  {
   "cell_type": "markdown",
   "id": "6ab285ad-2f2d-4db0-af62-6bcc2946a2da",
   "metadata": {
    "tags": [],
    "toc-hr-collapsed": true
   },
   "source": [
    "## Tabular operations"
   ]
  },
  {
   "cell_type": "markdown",
   "id": "f69eeba4-2089-4693-bfe6-056cca0aa826",
   "metadata": {},
   "source": [
    "Lets look at the query from the previous section again. \n",
    "\n",
    "_Find all people and the cars they drive, who live somewhere on `Franklin Ave` and are between 30 and 40 years old._"
   ]
  },
  {
   "cell_type": "code",
   "execution_count": 14,
   "id": "af5fa6f6-cd98-4bc6-84d1-5a15d6ef0196",
   "metadata": {
    "execution": {
     "iopub.execute_input": "2022-07-07T13:54:38.154900Z",
     "iopub.status.busy": "2022-07-07T13:54:38.154608Z",
     "iopub.status.idle": "2022-07-07T13:54:38.155742Z",
     "shell.execute_reply": "2022-07-07T13:54:38.155931Z"
    }
   },
   "outputs": [],
   "source": [
    "q = (\n",
    "    From(S.person)\n",
    "    >> Join(\n",
    "        From(S.drivers_license) >> Where(Fun.between(Get.age, 30, 40)) >> As(S.l),\n",
    "        on=Fun(\"=\", Get.license_id, Get.l.id),\n",
    "    )\n",
    "    >> Where(Fun.LIKE(Get.address_street_name, \"%Franklin Ave%\"))\n",
    "    >> Select(Get.name, Get.l.car_make)\n",
    ")"
   ]
  },
  {
   "cell_type": "markdown",
   "id": "928e55dc-ae76-42dd-9287-295527e5b9a0",
   "metadata": {},
   "source": [
    "At the outer level, this query is constructed from tabular operations From, Where, Join, and Select arranged in a pipeline by the pipe (>>) operator. In SQL, a tabular operation takes a certain number of input datasets and produces an output dataset. \n",
    "\n",
    "It is helpful to visualize a tabular operation as a node with a certain number of input arrows and one output arrow."
   ]
  },
  {
   "cell_type": "markdown",
   "id": "72238dd5-8d29-4278-8bc4-6b4448d27909",
   "metadata": {},
   "source": [
    "<img src=\"assets/query-nodes.svg\" alt=\"query nodes\" width=800 />"
   ]
  },
  {
   "cell_type": "markdown",
   "id": "c0c40d41-2040-4c50-a015-e722a3328354",
   "metadata": {},
   "source": [
    "Then the whole query can be visualized as a pipeline diagram. Each arrow in this diagram represents a dataset, and each node represents an elementary data processing operation."
   ]
  },
  {
   "cell_type": "markdown",
   "id": "aed8e0c6-a4a2-4145-9c20-05a30a77e872",
   "metadata": {},
   "source": [
    "<img src=\"assets/funsql-example-query.svg\" alt=\"query nodes\" />"
   ]
  },
  {
   "cell_type": "markdown",
   "id": "d03762f0-6ef6-4471-af71-adcb5f81a0a6",
   "metadata": {},
   "source": [
    "The following tabular operations are available in FunSQL.\n",
    "\n",
    "* **Append** - concatenate datasets\n",
    "* **As** - wrap all columns in a nested record\n",
    "* **Define** - add an output column\n",
    "* **From** - produce the content of a database table\n",
    "* **Group** - partition the dataset into disjoint groups\n",
    "* **Iterate** - iterate a query\n",
    "* **Join** - correlate two datasets\n",
    "* **Limit** - truncate the dataset\n",
    "* **Order** - sort the dataset\n",
    "* **Partition** - relate dataset rows to each other\n",
    "* **Select** - specify output columns\n",
    "* **Where** - filter the dataset by the given condition\n",
    "* **With** - assign a name to a temporary dataset\n"
   ]
  },
  {
   "cell_type": "markdown",
   "id": "a3cb3888-b780-4b11-9e0b-98a51fd622af",
   "metadata": {
    "tags": [],
    "toc-hr-collapsed": true
   },
   "source": [
    "## From, Select and Define"
   ]
  },
  {
   "cell_type": "markdown",
   "id": "49955cfb-322a-4cc9-9699-4feb3974e702",
   "metadata": {},
   "source": [
    "The `From` node outputs the content of a database table. The constructor requires an `SQLTable` object that lists out the columns present in the table. It can either be an explicit SQLTable, or the name of an entry in the `SQLCatalog` (which lists all tables available). \n",
    "\n",
    "FunSQL queries don't need to have an explicit Select, and all columns available at the final node are output. For example, just rendering a `From` node lists all columns in the table. "
   ]
  },
  {
   "cell_type": "code",
   "execution_count": 15,
   "id": "33981aaa-9a65-4756-a0c8-316356f66a0b",
   "metadata": {
    "execution": {
     "iopub.execute_input": "2022-07-07T13:54:38.158061Z",
     "iopub.status.busy": "2022-07-07T13:54:38.157742Z",
     "iopub.status.idle": "2022-07-07T13:54:38.159106Z",
     "shell.execute_reply": "2022-07-07T13:54:38.159324Z"
    }
   },
   "outputs": [
    {
     "data": {
      "text/plain": [
       "query: \n",
       "SELECT\n",
       "  \"person_1\".\"id\", \n",
       "  \"person_1\".\"name\", \n",
       "  \"person_1\".\"license_id\", \n",
       "  \"person_1\".\"address_number\", \n",
       "  \"person_1\".\"address_street_name\", \n",
       "  \"person_1\".\"ssn\"\n",
       "FROM \"person\" AS \"person_1\""
      ]
     },
     "execution_count": 15,
     "metadata": {},
     "output_type": "execute_result"
    }
   ],
   "source": [
    "q = From(S.person)\n",
    "render_query(q)"
   ]
  },
  {
   "cell_type": "markdown",
   "id": "4c6f2ad2-9c28-4d20-9ef1-ca90dce6551e",
   "metadata": {},
   "source": [
    "When the query isn't made against a table, the `From` node can be skipped. For ex, a query to show the current timestamp. "
   ]
  },
  {
   "cell_type": "code",
   "execution_count": 16,
   "id": "426cbd9c-b9a6-4dc7-a90e-f2234cfb3dfc",
   "metadata": {
    "execution": {
     "iopub.execute_input": "2022-07-07T13:54:38.161362Z",
     "iopub.status.busy": "2022-07-07T13:54:38.161063Z",
     "iopub.status.idle": "2022-07-07T13:54:38.162471Z",
     "shell.execute_reply": "2022-07-07T13:54:38.162691Z"
    }
   },
   "outputs": [
    {
     "data": {
      "text/plain": [
       "query: \n",
       "SELECT CURRENT_TIMESTAMP AS \"current_timestamp\""
      ]
     },
     "execution_count": 16,
     "metadata": {},
     "output_type": "execute_result"
    }
   ],
   "source": [
    "q = Select(Fun.current_timestamp())\n",
    "render_query(q)"
   ]
  },
  {
   "cell_type": "markdown",
   "id": "dfbbb5e8-1e2b-40a2-ab3f-20ea0aecc23e",
   "metadata": {},
   "source": [
    "The `Select` node is used to specify the columns to output from a query. The name of the columns are either derived from the expression or set explicitly with `As`. "
   ]
  },
  {
   "cell_type": "code",
   "execution_count": 17,
   "id": "140ae147-a425-4a93-9323-73578799dc8c",
   "metadata": {
    "execution": {
     "iopub.execute_input": "2022-07-07T13:54:38.164903Z",
     "iopub.status.busy": "2022-07-07T13:54:38.164580Z",
     "iopub.status.idle": "2022-07-07T13:54:38.165908Z",
     "shell.execute_reply": "2022-07-07T13:54:38.166136Z"
    }
   },
   "outputs": [
    {
     "data": {
      "text/plain": [
       "query: \n",
       "SELECT\n",
       "  \"person_1\".\"name\", \n",
       "  \"person_1\".\"address_street_name\" AS \"street\"\n",
       "FROM \"person\" AS \"person_1\""
      ]
     },
     "execution_count": 17,
     "metadata": {},
     "output_type": "execute_result"
    }
   ],
   "source": [
    "q = From(S.person) >> Select(Get.name, Get.address_street_name >> As(S.street))\n",
    "render_query(q)"
   ]
  },
  {
   "cell_type": "markdown",
   "id": "c42bf9a5-0c9e-4bf2-bd0e-4f189ac0fc01",
   "metadata": {},
   "source": [
    "New columns can be added to a query using the `Define` node. \n",
    "\n",
    "_For all fitness centre members, find out how long have they been active_."
   ]
  },
  {
   "cell_type": "code",
   "execution_count": 18,
   "id": "618da7cf-8f38-4e0b-8b12-7dec841dc4af",
   "metadata": {
    "execution": {
     "iopub.execute_input": "2022-07-07T13:54:38.169004Z",
     "iopub.status.busy": "2022-07-07T13:54:38.168680Z",
     "iopub.status.idle": "2022-07-07T13:54:38.170080Z",
     "shell.execute_reply": "2022-07-07T13:54:38.170249Z"
    }
   },
   "outputs": [
    {
     "data": {
      "text/plain": [
       "query: \n",
       "SELECT\n",
       "  \"person_1\".\"name\", \n",
       "  ((20220000 - \"get_fit_now_member_1\".\"membership_start_date\") / 10000) AS \"member_for_years\"\n",
       "FROM \"person\" AS \"person_1\"\n",
       "INNER JOIN \"get_fit_now_member\" AS \"get_fit_now_member_1\" ON (\"person_1\".\"id\" = \"get_fit_now_member_1\".\"person_id\")"
      ]
     },
     "execution_count": 18,
     "metadata": {},
     "output_type": "execute_result"
    }
   ],
   "source": [
    "q = (\n",
    "    From(S.person)\n",
    "    >> Join(\n",
    "        From(S.get_fit_now_member) >> As(S.gym), Fun(\"=\", Get.id, Get.gym.person_id)\n",
    "    )\n",
    "    >> Define(\n",
    "        Fun(\"/\", Fun(\"-\", 20220000, Get.gym.membership_start_date), 10_000)\n",
    "        >> As(\"member_for_years\")\n",
    "    )\n",
    "    >> Select(Get.name, Get.member_for_years)\n",
    ")\n",
    "render_query(q)"
   ]
  },
  {
   "cell_type": "markdown",
   "id": "c1c7959f-a910-4968-af93-c829703c1220",
   "metadata": {},
   "source": [
    "The new column replaces an existing column of the same name. \n",
    "\n",
    "_Get names from all person records with salutations removed_."
   ]
  },
  {
   "cell_type": "code",
   "execution_count": 19,
   "id": "ba60e41e-e047-4469-b975-eb3975a34880",
   "metadata": {
    "execution": {
     "iopub.execute_input": "2022-07-07T13:54:38.172447Z",
     "iopub.status.busy": "2022-07-07T13:54:38.172157Z",
     "iopub.status.idle": "2022-07-07T13:54:38.173561Z",
     "shell.execute_reply": "2022-07-07T13:54:38.173739Z"
    }
   },
   "outputs": [
    {
     "data": {
      "text/plain": [
       "query: \n",
       "SELECT\n",
       "  \"person_1\".\"id\", \n",
       "  \"person_1\".\"license_id\", \n",
       "  \"person_1\".\"address_number\", \n",
       "  \"person_1\".\"address_street_name\", \n",
       "  \"person_1\".\"ssn\", \n",
       "  LTRIM(\"person_1\".\"name\", 'Dr. ') AS \"name\"\n",
       "FROM \"person\" AS \"person_1\""
      ]
     },
     "execution_count": 19,
     "metadata": {},
     "output_type": "execute_result"
    }
   ],
   "source": [
    "q = From(S.person) >> Define(Fun.LTRIM(Get.name, \"Dr. \") >> As(S.name))\n",
    "\n",
    "render_query(q)"
   ]
  },
  {
   "cell_type": "markdown",
   "id": "d29b4dd0-f01f-44cf-9997-ddb9c0ee0ad1",
   "metadata": {
    "tags": [],
    "toc-hr-collapsed": true
   },
   "source": [
    "## Join"
   ]
  },
  {
   "cell_type": "markdown",
   "id": "e744fbe8-f3a2-42b0-aab5-c0ad31c94e79",
   "metadata": {},
   "source": [
    "The `Join` node is used to pull together related rows from two input datasets.  In the following example, Join associates each person record with their driver's license using the key column `license_id` that uniquely identifies a license record.\n",
    "\n",
    "_Show all people along with their driver's license information_."
   ]
  },
  {
   "cell_type": "code",
   "execution_count": 20,
   "id": "70327f33-3097-4227-b09b-608fd4c418d6",
   "metadata": {
    "execution": {
     "iopub.execute_input": "2022-07-07T13:54:38.176377Z",
     "iopub.status.busy": "2022-07-07T13:54:38.176083Z",
     "iopub.status.idle": "2022-07-07T13:54:38.177489Z",
     "shell.execute_reply": "2022-07-07T13:54:38.177738Z"
    }
   },
   "outputs": [
    {
     "data": {
      "text/plain": [
       "query: \n",
       "SELECT\n",
       "  \"person_1\".\"name\", \n",
       "  \"person_1\".\"license_id\", \n",
       "  \"drivers_license_1\".\"car_make\"\n",
       "FROM \"person\" AS \"person_1\"\n",
       "LEFT JOIN \"drivers_license\" AS \"drivers_license_1\" ON (\"person_1\".\"license_id\" = \"drivers_license_1\".\"id\")"
      ]
     },
     "execution_count": 20,
     "metadata": {},
     "output_type": "execute_result"
    }
   ],
   "source": [
    "q = (\n",
    "    From(S.person)\n",
    "    >> Join(\n",
    "        From(S.drivers_license) >> As(S.l),\n",
    "        on=Fun(\"=\", Get.license_id, Get.l.id),\n",
    "        left=True,\n",
    "    )\n",
    "    >> Select(Get.name, Get.license_id, Get.l.car_make)\n",
    ")\n",
    "render_query(q)"
   ]
  },
  {
   "cell_type": "markdown",
   "id": "a4ad0b3b-17c1-457a-b7dc-944053c3fda9",
   "metadata": {},
   "source": [
    "The type of the join can be specified by passing different values for the boolean arguments `left` and `right` to the Join node. \n",
    "\n",
    "* INNER: `left=False, right=False`\n",
    "* LEFT: `left=True, right=False`\n",
    "* RIGHT: `left=False, right=True`\n",
    "* OUTER: `left=True, right=True`"
   ]
  },
  {
   "cell_type": "markdown",
   "id": "ce086976-c46c-4902-9c69-8815cab067da",
   "metadata": {},
   "source": [
    "A Join needs two input datasets, so it must be attached to two input pipelines. The first pipeline is attached using the `>>` operator and the second one is provided as an argument to the Join constructor. \n",
    "\n",
    "Alternatively, both input pipelines can be specified as keyword arguments, since the pipeline operator (`>>`) really works by setting the `over` attribute on the right hand side node. "
   ]
  },
  {
   "cell_type": "code",
   "execution_count": 21,
   "id": "e613f8f4-588c-4c74-84af-287865dcb81b",
   "metadata": {
    "execution": {
     "iopub.execute_input": "2022-07-07T13:54:38.179553Z",
     "iopub.status.busy": "2022-07-07T13:54:38.179286Z",
     "iopub.status.idle": "2022-07-07T13:54:38.180451Z",
     "shell.execute_reply": "2022-07-07T13:54:38.180605Z"
    }
   },
   "outputs": [],
   "source": [
    "q = Join(\n",
    "    over=From(S.person),\n",
    "    joinee=From(S.drivers_license) >> As(S.l),\n",
    "    on=Fun(\"=\", Get.license_id, Get.l.id),\n",
    "    left=True,\n",
    ")"
   ]
  },
  {
   "cell_type": "markdown",
   "id": "26b85b07-c5b5-4b21-9e28-629c35fcb28c",
   "metadata": {},
   "source": [
    "The output of Join combines columns of both input datasets, which will cause ambiguity if both datasets have a column with the same name. For example, both tables `person` and `license`, have a column called `id`. \n",
    "\n",
    "To disambiguate them, we can place all columns of one of the datasets into a nested record, using the `As` node. "
   ]
  },
  {
   "cell_type": "code",
   "execution_count": 22,
   "id": "5f98cf1e-509b-460e-96ae-d63677c12fc5",
   "metadata": {
    "execution": {
     "iopub.execute_input": "2022-07-07T13:54:38.182755Z",
     "iopub.status.busy": "2022-07-07T13:54:38.182481Z",
     "iopub.status.idle": "2022-07-07T13:54:38.183619Z",
     "shell.execute_reply": "2022-07-07T13:54:38.183800Z"
    }
   },
   "outputs": [],
   "source": [
    "q = (\n",
    "    Join(\n",
    "        over=From(S.person),\n",
    "        joinee=From(S.drivers_license) >> As(S.l),\n",
    "        on=Fun(\"=\", Get.license_id, Get.l.id),\n",
    "        left=True,\n",
    "    )\n",
    "    >> Select(Get.name, Get.license_id, Get.l.id, Get.l.car_make)\n",
    ")"
   ]
  },
  {
   "cell_type": "markdown",
   "id": "a52da07d-b22c-4af8-a4bb-58efdf9e3ab1",
   "metadata": {},
   "source": [
    "In the output of the join, columns from `drivers_license` are nested inside the field named \"l\" and can only be accessed as, `Get.l.*`. "
   ]
  },
  {
   "cell_type": "markdown",
   "id": "27b2f9a4-77e8-4152-9f81-f5d2fb438f1b",
   "metadata": {
    "tags": [],
    "toc-hr-collapsed": true
   },
   "source": [
    "## Scalar operations"
   ]
  },
  {
   "cell_type": "markdown",
   "id": "7c8f83aa-6967-408b-8c15-5d1a4ce42ffa",
   "metadata": {},
   "source": [
    "Many tabular operations including Join, Select and Where are parameterized with scalar operations. A scalar operation acts on an individual row of a dataset and produces a scalar value. Scalar operations are assembled from literal values, column references, and applications of SQL functions and operators. Below is a list of scalar operations available in FunSQL."
   ]
  },
  {
   "cell_type": "markdown",
   "id": "0a9ee211-ee52-4958-b1aa-044a29858026",
   "metadata": {},
   "source": [
    "* Agg - apply an aggregate function\n",
    "* As - assign a column alias\n",
    "* Bind - create a correlated subquery\n",
    "* Fun - apply a scalar function or a scalar operator\n",
    "* Get - produce the value of a column\n",
    "* Lit - produce a constant value\n",
    "* Sort - indicate the sort order\n",
    "* Var - produce the value of a query parameter"
   ]
  },
  {
   "cell_type": "markdown",
   "id": "31d05fc2-2c2c-423e-a474-d89ec9392b7c",
   "metadata": {
    "tags": [],
    "toc-hr-collapsed": true
   },
   "source": [
    "## Lit: SQL Literals"
   ]
  },
  {
   "cell_type": "markdown",
   "id": "c3a98015-f88d-4adf-bd8d-4bd802ab9068",
   "metadata": {},
   "source": [
    "The `Lit` node creates a literal value - numbers, timestamps, strings. "
   ]
  },
  {
   "cell_type": "code",
   "execution_count": 23,
   "id": "12c50a0e-bd55-4257-9e3d-3e44914e8ef7",
   "metadata": {
    "execution": {
     "iopub.execute_input": "2022-07-07T13:54:38.185992Z",
     "iopub.status.busy": "2022-07-07T13:54:38.185697Z",
     "iopub.status.idle": "2022-07-07T13:54:38.187096Z",
     "shell.execute_reply": "2022-07-07T13:54:38.187313Z"
    }
   },
   "outputs": [
    {
     "data": {
      "text/plain": [
       "Select(Lit(20))"
      ]
     },
     "execution_count": 23,
     "metadata": {},
     "output_type": "execute_result"
    }
   ],
   "source": [
    "Select(Lit(20))"
   ]
  },
  {
   "cell_type": "code",
   "execution_count": 24,
   "id": "8014dcee-dd28-4922-b666-8919b3f784f1",
   "metadata": {
    "execution": {
     "iopub.execute_input": "2022-07-07T13:54:38.189001Z",
     "iopub.status.busy": "2022-07-07T13:54:38.188719Z",
     "iopub.status.idle": "2022-07-07T13:54:38.190085Z",
     "shell.execute_reply": "2022-07-07T13:54:38.190262Z"
    }
   },
   "outputs": [
    {
     "data": {
      "text/plain": [
       "Select(Lit(\"hello world\"))"
      ]
     },
     "execution_count": 24,
     "metadata": {},
     "output_type": "execute_result"
    }
   ],
   "source": [
    "Select(Lit(\"hello world\"))"
   ]
  },
  {
   "cell_type": "markdown",
   "id": "9bbb7191-df43-406e-9112-f7b428d45d2d",
   "metadata": {},
   "source": [
    "When python literals are passed as arguments to node constructors, FunSQL casts them to a `Lit` node automatically. "
   ]
  },
  {
   "cell_type": "code",
   "execution_count": 25,
   "id": "ed2e45dc-5d4c-4c31-97e6-a5ef7cb6a863",
   "metadata": {
    "execution": {
     "iopub.execute_input": "2022-07-07T13:54:38.192066Z",
     "iopub.status.busy": "2022-07-07T13:54:38.191756Z",
     "iopub.status.idle": "2022-07-07T13:54:38.192918Z",
     "shell.execute_reply": "2022-07-07T13:54:38.193093Z"
    }
   },
   "outputs": [
    {
     "data": {
      "text/plain": [
       "Select(Lit(\"hello world\"))"
      ]
     },
     "execution_count": 25,
     "metadata": {},
     "output_type": "execute_result"
    }
   ],
   "source": [
    "Select(\"hello world\")"
   ]
  },
  {
   "cell_type": "code",
   "execution_count": 26,
   "id": "0bc6383b-49a8-4c88-9924-25fa54b92d89",
   "metadata": {
    "execution": {
     "iopub.execute_input": "2022-07-07T13:54:38.194901Z",
     "iopub.status.busy": "2022-07-07T13:54:38.194623Z",
     "iopub.status.idle": "2022-07-07T13:54:38.196060Z",
     "shell.execute_reply": "2022-07-07T13:54:38.196209Z"
    }
   },
   "outputs": [
    {
     "data": {
      "text/plain": [
       "Fun.\"=\"(Lit(100), Lit(200))"
      ]
     },
     "execution_count": 26,
     "metadata": {},
     "output_type": "execute_result"
    }
   ],
   "source": [
    "Fun(\"=\", 100, 200)"
   ]
  },
  {
   "cell_type": "markdown",
   "id": "db351316-0e63-4849-944d-ed58b222eee6",
   "metadata": {},
   "source": [
    "The SQL value NULL is represented by the Pyhton `None`. "
   ]
  },
  {
   "cell_type": "code",
   "execution_count": 27,
   "id": "4319e139-47cd-4b18-9c7f-bc97ecb0ec19",
   "metadata": {
    "execution": {
     "iopub.execute_input": "2022-07-07T13:54:38.198067Z",
     "iopub.status.busy": "2022-07-07T13:54:38.197778Z",
     "iopub.status.idle": "2022-07-07T13:54:38.199134Z",
     "shell.execute_reply": "2022-07-07T13:54:38.199278Z"
    }
   },
   "outputs": [
    {
     "data": {
      "text/plain": [
       "query: \n",
       "SELECT NULL AS \"_\""
      ]
     },
     "execution_count": 27,
     "metadata": {},
     "output_type": "execute_result"
    }
   ],
   "source": [
    "render(Select(None))"
   ]
  },
  {
   "cell_type": "markdown",
   "id": "3a372282-9e3d-4439-8264-acb2e525ffad",
   "metadata": {
    "tags": [],
    "toc-hr-collapsed": true
   },
   "source": [
    "## Get: Column References"
   ]
  },
  {
   "cell_type": "markdown",
   "id": "405293bd-e0a7-4a44-8314-2579538bd43d",
   "metadata": {},
   "source": [
    "The Get node creates a column reference, and can be created by passing the column name to the `Get` constructor. "
   ]
  },
  {
   "cell_type": "code",
   "execution_count": 28,
   "id": "07fa97b1-af61-4b5a-a34a-518b0e9ad3f4",
   "metadata": {
    "execution": {
     "iopub.execute_input": "2022-07-07T13:54:38.201142Z",
     "iopub.status.busy": "2022-07-07T13:54:38.200853Z",
     "iopub.status.idle": "2022-07-07T13:54:38.202215Z",
     "shell.execute_reply": "2022-07-07T13:54:38.202381Z"
    }
   },
   "outputs": [
    {
     "data": {
      "text/plain": [
       "Get.license_id"
      ]
     },
     "execution_count": 28,
     "metadata": {},
     "output_type": "execute_result"
    }
   ],
   "source": [
    "Get(S.license_id)"
   ]
  },
  {
   "cell_type": "markdown",
   "id": "2f45e1fe-949f-4b80-b961-6134c7931812",
   "metadata": {},
   "source": [
    "The `S.*` syntax is used to construct a \"symbol\", so FunSQL can distinguish literal string values from strings that refer to tables or columns. \n",
    "\n",
    "Most places where it is clear the string is a reference, FunSQL casts the input string to a symbol itself."
   ]
  },
  {
   "cell_type": "code",
   "execution_count": 29,
   "id": "8d27090d-d140-486a-82d9-0f4cd545c044",
   "metadata": {
    "execution": {
     "iopub.execute_input": "2022-07-07T13:54:38.204147Z",
     "iopub.status.busy": "2022-07-07T13:54:38.203840Z",
     "iopub.status.idle": "2022-07-07T13:54:38.205132Z",
     "shell.execute_reply": "2022-07-07T13:54:38.205417Z"
    }
   },
   "outputs": [
    {
     "data": {
      "text/plain": [
       "Get.license_id"
      ]
     },
     "execution_count": 29,
     "metadata": {},
     "output_type": "execute_result"
    }
   ],
   "source": [
    "Get(\"license_id\")"
   ]
  },
  {
   "cell_type": "markdown",
   "id": "cb6e2123-9f8a-4962-a45f-abb4fe0049fa",
   "metadata": {},
   "source": [
    "`Get` nodes can also be constructed using the _dot_ syntax. "
   ]
  },
  {
   "cell_type": "code",
   "execution_count": 30,
   "id": "a36eaa9c-cd52-4ee6-8ef1-a37635d6946f",
   "metadata": {
    "execution": {
     "iopub.execute_input": "2022-07-07T13:54:38.207217Z",
     "iopub.status.busy": "2022-07-07T13:54:38.206912Z",
     "iopub.status.idle": "2022-07-07T13:54:38.208290Z",
     "shell.execute_reply": "2022-07-07T13:54:38.208508Z"
    }
   },
   "outputs": [
    {
     "data": {
      "text/plain": [
       "Get.license_id"
      ]
     },
     "execution_count": 30,
     "metadata": {},
     "output_type": "execute_result"
    }
   ],
   "source": [
    "Get.license_id"
   ]
  },
  {
   "cell_type": "markdown",
   "id": "b82c3b04-dae0-4114-bba4-1298f61ff366",
   "metadata": {},
   "source": [
    "It works for nested references too. "
   ]
  },
  {
   "cell_type": "code",
   "execution_count": 31,
   "id": "01093bed-47f3-4293-8e5a-d6a9a304a2da",
   "metadata": {
    "execution": {
     "iopub.execute_input": "2022-07-07T13:54:38.210287Z",
     "iopub.status.busy": "2022-07-07T13:54:38.210007Z",
     "iopub.status.idle": "2022-07-07T13:54:38.211375Z",
     "shell.execute_reply": "2022-07-07T13:54:38.211538Z"
    }
   },
   "outputs": [
    {
     "data": {
      "text/plain": [
       "Get.alias.license_id"
      ]
     },
     "execution_count": 31,
     "metadata": {},
     "output_type": "execute_result"
    }
   ],
   "source": [
    "Get.alias.license_id"
   ]
  },
  {
   "cell_type": "markdown",
   "id": "4d08cf4f-7d8a-428a-b9e4-de2c4ed7b9c9",
   "metadata": {},
   "source": [
    "FunSQL resolves column references at the place of use against the input dataset. This is much like SQL where the column names reference the dataset/query referred by the corresponding `From` clause. \n",
    "\n",
    "When the compiler can't resolve a reference umabiguously, it raises an error. Like below, both tables `person` and `drivers_license` have a column called `id`, so the compiler can't deduce which one the join condition is referring to. "
   ]
  },
  {
   "cell_type": "code",
   "execution_count": 32,
   "id": "38573641-5685-4244-8988-ca05be6580a9",
   "metadata": {
    "execution": {
     "iopub.execute_input": "2022-07-07T13:54:38.212994Z",
     "iopub.status.busy": "2022-07-07T13:54:38.212719Z",
     "iopub.status.idle": "2022-07-07T13:54:38.213923Z",
     "shell.execute_reply": "2022-07-07T13:54:38.213747Z"
    }
   },
   "outputs": [],
   "source": [
    "# query = From(S.person) >> Join(\n",
    "#     From(S.drivers_license), on=Fun(\"=\", Get.id, Get.license_id)\n",
    "# )\n",
    "# render_query(query)"
   ]
  },
  {
   "cell_type": "markdown",
   "id": "7df7e2e7-62b2-4cd5-8d97-50fcc2433f27",
   "metadata": {},
   "source": [
    "As pointed out with the `Join` node, one way to disambiguate columns is nesting column references for one of the tables in an alias. "
   ]
  },
  {
   "cell_type": "code",
   "execution_count": 33,
   "id": "7af3f2b1-aabf-4cf1-bbac-b2ce555a1481",
   "metadata": {
    "execution": {
     "iopub.execute_input": "2022-07-07T13:54:38.216249Z",
     "iopub.status.busy": "2022-07-07T13:54:38.215952Z",
     "iopub.status.idle": "2022-07-07T13:54:38.217269Z",
     "shell.execute_reply": "2022-07-07T13:54:38.217435Z"
    }
   },
   "outputs": [
    {
     "data": {
      "text/plain": [
       "query: \n",
       "SELECT\n",
       "  \"person_1\".\"address_street_name\", \n",
       "  \"person_1\".\"id\", \n",
       "  \"person_1\".\"address_number\", \n",
       "  \"person_1\".\"name\", \n",
       "  \"person_1\".\"ssn\", \n",
       "  \"person_1\".\"license_id\"\n",
       "FROM \"person\" AS \"person_1\"\n",
       "INNER JOIN \"drivers_license\" AS \"drivers_license_1\" ON (\"drivers_license_1\".\"id\" = \"person_1\".\"license_id\")"
      ]
     },
     "execution_count": 33,
     "metadata": {},
     "output_type": "execute_result"
    }
   ],
   "source": [
    "query = From(S.person) >> Join(\n",
    "    From(S.drivers_license) >> As(S.alias), on=Fun(\"=\", Get.alias.id, Get.license_id)\n",
    ")\n",
    "render_query(query)"
   ]
  },
  {
   "cell_type": "markdown",
   "id": "5c1d7f2e-692b-4992-a0f3-d56d3ad3bcfe",
   "metadata": {},
   "source": [
    "Another option is to bind the column reference to the node that produces it. "
   ]
  },
  {
   "cell_type": "code",
   "execution_count": 34,
   "id": "6e893aad-f5d9-4ef4-a872-17f7bf6001c7",
   "metadata": {
    "execution": {
     "iopub.execute_input": "2022-07-07T13:54:38.220035Z",
     "iopub.status.busy": "2022-07-07T13:54:38.219738Z",
     "iopub.status.idle": "2022-07-07T13:54:38.221052Z",
     "shell.execute_reply": "2022-07-07T13:54:38.221205Z"
    }
   },
   "outputs": [
    {
     "data": {
      "text/plain": [
       "query: \n",
       "SELECT\n",
       "  \"person_1\".\"address_street_name\", \n",
       "  \"person_1\".\"address_number\", \n",
       "  \"person_1\".\"name\", \n",
       "  \"person_1\".\"ssn\", \n",
       "  \"person_1\".\"license_id\", \n",
       "  \"drivers_license_1\".\"hair_color\", \n",
       "  \"drivers_license_1\".\"car_model\", \n",
       "  \"drivers_license_1\".\"plate_number\", \n",
       "  \"drivers_license_1\".\"eye_color\", \n",
       "  \"drivers_license_1\".\"age\", \n",
       "  \"drivers_license_1\".\"gender\", \n",
       "  \"drivers_license_1\".\"car_make\", \n",
       "  \"drivers_license_1\".\"height\"\n",
       "FROM \"person\" AS \"person_1\"\n",
       "INNER JOIN \"drivers_license\" AS \"drivers_license_1\" ON (\"drivers_license_1\".\"id\" = \"person_1\".\"license_id\")"
      ]
     },
     "execution_count": 34,
     "metadata": {},
     "output_type": "execute_result"
    }
   ],
   "source": [
    "q1 = From(S.person)\n",
    "q2 = From(S.drivers_license)\n",
    "query = q1 >> Join(q2, on=Fun(\"=\", q2 >> Get.id, Get.license_id))\n",
    "render_query(query)"
   ]
  },
  {
   "cell_type": "markdown",
   "id": "5b4d15e7-c3d6-46e8-b391-a397341a2242",
   "metadata": {
    "tags": [],
    "toc-hr-collapsed": true
   },
   "source": [
    "## Fun: SQL Functions and Operators"
   ]
  },
  {
   "cell_type": "markdown",
   "id": "2013d48b-0e3b-4d67-a90a-26d60c9bfae1",
   "metadata": {},
   "source": [
    "SQL functions and operators are represented using the Fun node, which can be created by passing the operator first, and the arguments after. "
   ]
  },
  {
   "cell_type": "code",
   "execution_count": 35,
   "id": "2d0ec475-f1b0-46b5-9515-59be8fbc1898",
   "metadata": {
    "execution": {
     "iopub.execute_input": "2022-07-07T13:54:38.223099Z",
     "iopub.status.busy": "2022-07-07T13:54:38.222805Z",
     "iopub.status.idle": "2022-07-07T13:54:38.224121Z",
     "shell.execute_reply": "2022-07-07T13:54:38.224287Z"
    }
   },
   "outputs": [
    {
     "data": {
      "text/plain": [
       "Fun.\">=\"(Get.age, Lit(40))"
      ]
     },
     "execution_count": 35,
     "metadata": {},
     "output_type": "execute_result"
    }
   ],
   "source": [
    "Fun(\">=\", Get.age, 40)"
   ]
  },
  {
   "cell_type": "markdown",
   "id": "b54d3a48-40db-42a7-b9e9-ef827ee39eed",
   "metadata": {},
   "source": [
    "Though if the operator is a string, `Fun` nodes allow the _dot_ syntax. "
   ]
  },
  {
   "cell_type": "code",
   "execution_count": 36,
   "id": "2c2ee77b-8405-4691-bb55-ca08d2018bdb",
   "metadata": {
    "execution": {
     "iopub.execute_input": "2022-07-07T13:54:38.226144Z",
     "iopub.status.busy": "2022-07-07T13:54:38.225808Z",
     "iopub.status.idle": "2022-07-07T13:54:38.227110Z",
     "shell.execute_reply": "2022-07-07T13:54:38.227279Z"
    }
   },
   "outputs": [
    {
     "data": {
      "text/plain": [
       "Fun.between(Get.age, Lit(30), Lit(40))"
      ]
     },
     "execution_count": 36,
     "metadata": {},
     "output_type": "execute_result"
    }
   ],
   "source": [
    "Fun.between(Get.age, 30, 40)"
   ]
  },
  {
   "cell_type": "code",
   "execution_count": 37,
   "id": "cd3c0f2f-6dd0-4ac4-a167-94a38524e004",
   "metadata": {
    "execution": {
     "iopub.execute_input": "2022-07-07T13:54:38.229104Z",
     "iopub.status.busy": "2022-07-07T13:54:38.228786Z",
     "iopub.status.idle": "2022-07-07T13:54:38.230132Z",
     "shell.execute_reply": "2022-07-07T13:54:38.230304Z"
    }
   },
   "outputs": [
    {
     "data": {
      "text/plain": [
       "Fun.LIKE(Get.address_street_name, Lit(\"%Franklin Ave%\"))"
      ]
     },
     "execution_count": 37,
     "metadata": {},
     "output_type": "execute_result"
    }
   ],
   "source": [
    "Fun.LIKE(Get.address_street_name, \"%Franklin Ave%\")"
   ]
  },
  {
   "cell_type": "markdown",
   "id": "4ade5ec8-e7c3-4077-8a4b-dd8c861feb5a",
   "metadata": {},
   "source": [
    "FunSQL is oblivious to if the SQL function or operator is used correctly or even whether it is supported by the execution engine. It just prints out the function expression in the final SQL query, which might fail to execute."
   ]
  },
  {
   "cell_type": "code",
   "execution_count": 38,
   "id": "e13d7f4f-65c3-4ae3-82f8-3d6602be66ca",
   "metadata": {
    "execution": {
     "iopub.execute_input": "2022-07-07T13:54:38.232552Z",
     "iopub.status.busy": "2022-07-07T13:54:38.232240Z",
     "iopub.status.idle": "2022-07-07T13:54:38.233581Z",
     "shell.execute_reply": "2022-07-07T13:54:38.233728Z"
    }
   },
   "outputs": [
    {
     "data": {
      "text/plain": [
       "query: \n",
       "SELECT UNAVAILABLE(\"person_1\".\"name\") AS \"unavailable\"\n",
       "FROM \"person\" AS \"person_1\""
      ]
     },
     "execution_count": 38,
     "metadata": {},
     "output_type": "execute_result"
    }
   ],
   "source": [
    "query = From(S.person) >> Select(Fun.unavailable(Get.name))\n",
    "render_query(query)\n",
    "\n",
    "# run_fun_query(query)\n",
    "# OperationalError: no such function: UNAVAILABLE"
   ]
  },
  {
   "cell_type": "markdown",
   "id": "e425c0d4-25b4-406f-9a91-de7d649f902d",
   "metadata": {},
   "source": [
    "On the other hand, FunSQL will correctly serialize many SQL functions and operators that have irregular syntax including AND, OR, NOT, IN, EXISTS, CASE, and others.\n",
    "\n",
    "_Categorize driving license holders by their age_."
   ]
  },
  {
   "cell_type": "code",
   "execution_count": 39,
   "id": "2880befe-279e-43c5-bcf7-07e0b81e0e92",
   "metadata": {
    "execution": {
     "iopub.execute_input": "2022-07-07T13:54:38.236515Z",
     "iopub.status.busy": "2022-07-07T13:54:38.236178Z",
     "iopub.status.idle": "2022-07-07T13:54:38.237563Z",
     "shell.execute_reply": "2022-07-07T13:54:38.237739Z"
    }
   },
   "outputs": [
    {
     "data": {
      "text/plain": [
       "query: \n",
       "SELECT\n",
       "  \"person_1\".\"name\", \n",
       "  (CASE WHEN (\"drivers_license_1\".\"age\" > 21) THEN 'adult' ELSE 'not yet' END) AS \"category\"\n",
       "FROM \"person\" AS \"person_1\"\n",
       "INNER JOIN \"drivers_license\" AS \"drivers_license_1\" ON (\"drivers_license_1\".\"id\" = \"person_1\".\"license_id\")"
      ]
     },
     "execution_count": 39,
     "metadata": {},
     "output_type": "execute_result"
    }
   ],
   "source": [
    "query = (\n",
    "    From(S.person)\n",
    "    >> Join(From(S.drivers_license) >> As(S.l), on=Fun(\"=\", Get.l.id, Get.license_id))\n",
    "    >> Select(\n",
    "        Get.name,\n",
    "        Fun.CASE(Fun(\">\", Get.l.age, 21), \"adult\", \"not yet\") >> As(S.category),\n",
    "    )\n",
    ")\n",
    "render_query(query)"
   ]
  },
  {
   "cell_type": "markdown",
   "id": "8986ac31-bcdd-4a38-835b-bd8898766a8d",
   "metadata": {
    "tags": [],
    "toc-hr-collapsed": true
   },
   "source": [
    "## Group and Aggregate Functions"
   ]
  },
  {
   "cell_type": "markdown",
   "id": "7be7b913-0e19-4a75-8de9-3c2e725331ef",
   "metadata": {},
   "source": [
    "Group and aggregate functions are used for summarizing data to report totals, averages and so on. \n",
    "\n",
    "FunSQL uses the `Group` node, which partitions the input dataset into disjoint groups. Then, for each group, we can calculate summary values using aggregate functions.  Aggregate functions are created using the `Agg` node. \n",
    "\n",
    "_Count the number of people living on each street_."
   ]
  },
  {
   "cell_type": "code",
   "execution_count": 40,
   "id": "66435eca-5a7a-4605-a512-3604ff8dffcc",
   "metadata": {
    "execution": {
     "iopub.execute_input": "2022-07-07T13:54:38.240097Z",
     "iopub.status.busy": "2022-07-07T13:54:38.239797Z",
     "iopub.status.idle": "2022-07-07T13:54:38.241120Z",
     "shell.execute_reply": "2022-07-07T13:54:38.241295Z"
    }
   },
   "outputs": [
    {
     "data": {
      "text/plain": [
       "query: \n",
       "SELECT\n",
       "  \"person_1\".\"address_street_name\", \n",
       "  count(*) AS \"count\"\n",
       "FROM \"person\" AS \"person_1\"\n",
       "GROUP BY \"person_1\".\"address_street_name\""
      ]
     },
     "execution_count": 40,
     "metadata": {},
     "output_type": "execute_result"
    }
   ],
   "source": [
    "query = (\n",
    "    From(S.person)\n",
    "    >> Group(Get.address_street_name)\n",
    "    >> Select(Get.address_street_name, Agg.count())\n",
    ")\n",
    "render_query(query)"
   ]
  },
  {
   "cell_type": "markdown",
   "id": "a9345e59-1d4b-4d94-873a-fbb3943c0de5",
   "metadata": {},
   "source": [
    "To indicate that aggregate functions must be applied to the dataset as a whole, we create a Group node without arguments. \n",
    "\n",
    "**NOTE**: This is different from regular SQL, where a GROUP BY clause is not needed when aggregating over the full dataset. However, FunSQL needs an empty group node to resolve aggregate expressions correctly. "
   ]
  },
  {
   "cell_type": "markdown",
   "id": "4ea0ca4b-55a1-41f5-a800-d2731b7898af",
   "metadata": {},
   "source": [
    "_Get the average age of a driving license holder._"
   ]
  },
  {
   "cell_type": "code",
   "execution_count": 41,
   "id": "f281f583-036e-4bf1-9347-942d8628cc45",
   "metadata": {
    "execution": {
     "iopub.execute_input": "2022-07-07T13:54:38.243388Z",
     "iopub.status.busy": "2022-07-07T13:54:38.243099Z",
     "iopub.status.idle": "2022-07-07T13:54:38.244516Z",
     "shell.execute_reply": "2022-07-07T13:54:38.244665Z"
    }
   },
   "outputs": [
    {
     "data": {
      "text/plain": [
       "query: \n",
       "SELECT avg(\"drivers_license_1\".\"age\") AS \"avg\"\n",
       "FROM \"drivers_license\" AS \"drivers_license_1\""
      ]
     },
     "execution_count": 41,
     "metadata": {},
     "output_type": "execute_result"
    }
   ],
   "source": [
    "query = From(S.drivers_license) >> Group() >> Select(Agg.avg(Get.age))\n",
    "render_query(query)"
   ]
  },
  {
   "cell_type": "markdown",
   "id": "f4ff8210-4e77-48e9-a6f1-7db86c364f9e",
   "metadata": {},
   "source": [
    "Like regular SQL, you can also group by multiple attributes by passing multiple column references to the `Group` node. The output of `Group` in that case contains all distinct values of the _grouping key_."
   ]
  },
  {
   "cell_type": "markdown",
   "id": "2a90a7ef-2355-4fb4-ab78-7b84850838a5",
   "metadata": {},
   "source": [
    "_Find the number of crime scene reports by type for each day._"
   ]
  },
  {
   "cell_type": "code",
   "execution_count": 42,
   "id": "744cca46-bb6f-404d-bc05-b2fbc5b76b2e",
   "metadata": {
    "execution": {
     "iopub.execute_input": "2022-07-07T13:54:38.247096Z",
     "iopub.status.busy": "2022-07-07T13:54:38.246760Z",
     "iopub.status.idle": "2022-07-07T13:54:38.248128Z",
     "shell.execute_reply": "2022-07-07T13:54:38.248279Z"
    }
   },
   "outputs": [
    {
     "data": {
      "text/plain": [
       "query: \n",
       "SELECT\n",
       "  \"crime_scene_report_1\".\"date\", \n",
       "  \"crime_scene_report_1\".\"type\", \n",
       "  count(*) AS \"count\"\n",
       "FROM \"crime_scene_report\" AS \"crime_scene_report_1\"\n",
       "GROUP BY\n",
       "  \"crime_scene_report_1\".\"date\", \n",
       "  \"crime_scene_report_1\".\"type\""
      ]
     },
     "execution_count": 42,
     "metadata": {},
     "output_type": "execute_result"
    }
   ],
   "source": [
    "query = (\n",
    "    From(S.crime_scene_report)\n",
    "    >> Group(Get.date, Get.type)\n",
    "    >> Select(Get.date, Get.type, Agg.count())\n",
    ")\n",
    "render_query(query)"
   ]
  },
  {
   "cell_type": "markdown",
   "id": "4ae793bb-2005-4a08-bf09-6b03687cefcc",
   "metadata": {},
   "source": [
    "FunSQL has no lexical limitations on the use of aggregate functions. While in SQL, aggregate functions can only be used in the SELECT or HAVING clauses, there is no such restriction in FunSQL; they could be used in any context where an ordinary expression is permitted. \n",
    "\n",
    "The only requirement is that for each aggregate function, FunSQL should be able to resolve which `Group` node it refers to.  It is convenient to imagine the output of Group contains the grouped rows, which cannot be observed directly, but whose presence in the output allows us to apply aggregate functions."
   ]
  },
  {
   "cell_type": "markdown",
   "id": "62b3d461-df6a-44ef-b6b2-db927ebb4956",
   "metadata": {},
   "source": [
    "For example, to filter grouped records, you can use a regular `Where` node, whereas SQL would require a HAVING clause.\n",
    "\n",
    "_Fetch all crime reports with more than two incidents of the same type in a day._"
   ]
  },
  {
   "cell_type": "code",
   "execution_count": 43,
   "id": "2a079b41-21bc-4b51-b2e7-3cefa3e0516b",
   "metadata": {
    "execution": {
     "iopub.execute_input": "2022-07-07T13:54:38.250640Z",
     "iopub.status.busy": "2022-07-07T13:54:38.250346Z",
     "iopub.status.idle": "2022-07-07T13:54:38.251733Z",
     "shell.execute_reply": "2022-07-07T13:54:38.251884Z"
    }
   },
   "outputs": [
    {
     "data": {
      "text/plain": [
       "query: \n",
       "SELECT\n",
       "  \"crime_scene_report_1\".\"date\", \n",
       "  \"crime_scene_report_1\".\"type\"\n",
       "FROM \"crime_scene_report\" AS \"crime_scene_report_1\"\n",
       "GROUP BY\n",
       "  \"crime_scene_report_1\".\"date\", \n",
       "  \"crime_scene_report_1\".\"type\"\n",
       "HAVING (count(*) > 2)"
      ]
     },
     "execution_count": 43,
     "metadata": {},
     "output_type": "execute_result"
    }
   ],
   "source": [
    "query = (\n",
    "    From(S.crime_scene_report)\n",
    "    >> Group(Get.date, Get.type)\n",
    "    >> Where(Fun(\">\", Agg.count(), 2))\n",
    ")\n",
    "render_query(query)"
   ]
  },
  {
   "cell_type": "markdown",
   "id": "585e1faa-1bd6-47d7-82b7-06d39021d599",
   "metadata": {},
   "source": [
    "When the output of Group is _nested_ inside an alias using an `As` node, you need to traverse it with `Get` in order to use an aggregate function.\n",
    "\n",
    "_When was the last time each `Get Fit Now` member visited the gym?_"
   ]
  },
  {
   "cell_type": "code",
   "execution_count": 44,
   "id": "53acb2da-4957-4f83-bf7f-461f522d2911",
   "metadata": {
    "execution": {
     "iopub.execute_input": "2022-07-07T13:54:38.254669Z",
     "iopub.status.busy": "2022-07-07T13:54:38.254373Z",
     "iopub.status.idle": "2022-07-07T13:54:38.255722Z",
     "shell.execute_reply": "2022-07-07T13:54:38.255891Z"
    }
   },
   "outputs": [
    {
     "data": {
      "text/plain": [
       "query: \n",
       "SELECT\n",
       "  \"get_fit_now_member_1\".\"name\", \n",
       "  \"check_ins_1\".\"max\"\n",
       "FROM \"get_fit_now_member\" AS \"get_fit_now_member_1\"\n",
       "LEFT JOIN (\n",
       "  SELECT\n",
       "    \"get_fit_now_check_in_1\".\"membership_id\", \n",
       "    max(\"get_fit_now_check_in_1\".\"check_in_date\") AS \"max\"\n",
       "  FROM \"get_fit_now_check_in\" AS \"get_fit_now_check_in_1\"\n",
       "  GROUP BY \"get_fit_now_check_in_1\".\"membership_id\"\n",
       ") AS \"check_ins_1\" ON (\"get_fit_now_member_1\".\"id\" = \"check_ins_1\".\"membership_id\")"
      ]
     },
     "execution_count": 44,
     "metadata": {},
     "output_type": "execute_result"
    }
   ],
   "source": [
    "query = (\n",
    "    From(S.get_fit_now_member)\n",
    "    >> Join(\n",
    "        From(S.get_fit_now_check_in) >> Group(Get.membership_id) >> As(S.check_ins),\n",
    "        on=Fun(\"=\", Get.id, Get.check_ins.membership_id),\n",
    "        left=True,\n",
    "    )\n",
    "    >> Select(Get.name, Get.check_ins >> Agg.max(Get.check_in_date))\n",
    ")\n",
    "\n",
    "render_query(query)"
   ]
  },
  {
   "cell_type": "markdown",
   "id": "9089315f-6fbe-429f-8a55-c38a3db200ba",
   "metadata": {
    "tags": [],
    "toc-hr-collapsed": true
   },
   "source": [
    "## Partition and Window Functions"
   ]
  },
  {
   "cell_type": "markdown",
   "id": "3306579b-1c20-412f-ab98-429dc7ed71aa",
   "metadata": {},
   "source": [
    "We can relate each row to other rows in the same dataset using the `Partition` node and `window` functions. \n",
    "\n",
    "The `Partition` node works similar to the `Group` node by partitioning the input rows into disjoint groups. However, unlike `Group`, which collapses each row group into a single row, the Partition node preserves the original rows, but allows us to relate each row to adjacent rows in the same partition. In particular, we can apply regular aggregate functions, which calculate the summary value of a subset of rows related to the current row.\n",
    "\n",
    "In the following example, the rows in `get_fit_now_check_in` table are partitioned by `check_in_date` and ordered by the `check_in_time` in increasing order. The frame clause specifies the subset of rows relative to the current row (the window frame) to be used by aggregate functions. In this example, the frame contains all rows prior to the current row.\n",
    "\n",
    "_For each check in to the fitness centre, show the number of people who checked in before on the same day._"
   ]
  },
  {
   "cell_type": "code",
   "execution_count": 45,
   "id": "16999072-fe4e-4f5a-9be7-f52f02a8e228",
   "metadata": {
    "execution": {
     "iopub.execute_input": "2022-07-07T13:54:38.258489Z",
     "iopub.status.busy": "2022-07-07T13:54:38.258205Z",
     "iopub.status.idle": "2022-07-07T13:54:38.259771Z",
     "shell.execute_reply": "2022-07-07T13:54:38.259606Z"
    }
   },
   "outputs": [
    {
     "data": {
      "text/plain": [
       "query: \n",
       "SELECT\n",
       "  \"get_fit_now_check_in_1\".\"membership_id\", \n",
       "  \"get_fit_now_check_in_1\".\"check_in_date\", \n",
       "  (count(*) OVER (PARTITION BY \"get_fit_now_check_in_1\".\"check_in_date\" ORDER BY \"get_fit_now_check_in_1\".\"check_in_time\" ROWS BETWEEN UNBOUNDED PRECEDING AND 1 PRECEDING)) AS \"count\"\n",
       "FROM \"get_fit_now_check_in\" AS \"get_fit_now_check_in_1\""
      ]
     },
     "execution_count": 45,
     "metadata": {},
     "output_type": "execute_result"
    }
   ],
   "source": [
    "query = (\n",
    "    From(S.get_fit_now_check_in)\n",
    "    >> Partition(\n",
    "        Get.check_in_date,\n",
    "        order_by=[Get.check_in_time],\n",
    "        frame=Frame(F.ROWS, F.pre(None), F.pre(1)),\n",
    "    )\n",
    "    >> Select(Get.membership_id, Get.check_in_date, Agg.count())\n",
    ")\n",
    "render_query(query)"
   ]
  },
  {
   "cell_type": "markdown",
   "id": "d11a6bc6-fb38-4f16-9c38-8d6904a709d8",
   "metadata": {
    "tags": [],
    "toc-hr-collapsed": true
   },
   "source": [
    "## Query Parameters"
   ]
  },
  {
   "cell_type": "markdown",
   "id": "5ea2aaf7-ff11-4703-8883-d2255259f26e",
   "metadata": {},
   "source": [
    "A SQL query may include a reference to a query parameter. The actual values for all parameters used in the query must then be provided at runtime. \n",
    "\n",
    "FunSQL can be used to construct a query with parameters. Similar to Get, parameter references are created using the Var node. "
   ]
  },
  {
   "cell_type": "markdown",
   "id": "3b929cf6-c051-4856-adcd-2ff00d996eab",
   "metadata": {},
   "source": [
    "_Find all driving license holders between 30 and 40 years of age._"
   ]
  },
  {
   "cell_type": "code",
   "execution_count": 46,
   "id": "d209ea27-a54c-43cb-a23f-29c999664a19",
   "metadata": {
    "execution": {
     "iopub.execute_input": "2022-07-07T13:54:38.262622Z",
     "iopub.status.busy": "2022-07-07T13:54:38.262294Z",
     "iopub.status.idle": "2022-07-07T13:54:38.263674Z",
     "shell.execute_reply": "2022-07-07T13:54:38.263893Z"
    }
   },
   "outputs": [
    {
     "data": {
      "text/plain": [
       "query: \n",
       "SELECT \"person_1\".\"name\"\n",
       "FROM \"person\" AS \"person_1\"\n",
       "INNER JOIN \"drivers_license\" AS \"drivers_license_1\" ON (\"person_1\".\"license_id\" = \"drivers_license_1\".\"id\")\n",
       "WHERE (\"drivers_license_1\".\"age\" BETWEEN ?1 AND ?2)\n",
       "\n",
       "vars: [age_lower, age_upper]"
      ]
     },
     "execution_count": 46,
     "metadata": {},
     "output_type": "execute_result"
    }
   ],
   "source": [
    "query = (\n",
    "    From(S.person)\n",
    "    >> Join(From(S.drivers_license) >> As(S.l), on=Fun(\"=\", Get.license_id, Get.l.id))\n",
    "    >> Where(Fun.between(Get.l.age, Var.age_lower, Var.age_upper))\n",
    "    >> Select(Get.name)\n",
    ")\n",
    "\n",
    "render_query(query)"
   ]
  },
  {
   "cell_type": "markdown",
   "id": "44947a71-d036-448a-8056-a144ceae3688",
   "metadata": {},
   "source": [
    "FunSQL serializes the placeholder for parameter values as per the dialect being used. You can provide parameter values to the execution engine to evaluate the query. "
   ]
  },
  {
   "cell_type": "code",
   "execution_count": 47,
   "id": "23cbbf52-2cec-444c-b21c-8fb922f80967",
   "metadata": {
    "execution": {
     "iopub.execute_input": "2022-07-07T13:54:38.265818Z",
     "iopub.status.busy": "2022-07-07T13:54:38.265542Z",
     "iopub.status.idle": "2022-07-07T13:54:38.275854Z",
     "shell.execute_reply": "2022-07-07T13:54:38.276045Z"
    }
   },
   "outputs": [
    {
     "data": {
      "text/html": [
       "<div>\n",
       "<style scoped>\n",
       "    .dataframe tbody tr th:only-of-type {\n",
       "        vertical-align: middle;\n",
       "    }\n",
       "\n",
       "    .dataframe tbody tr th {\n",
       "        vertical-align: top;\n",
       "    }\n",
       "\n",
       "    .dataframe thead th {\n",
       "        text-align: right;\n",
       "    }\n",
       "</style>\n",
       "<table border=\"1\" class=\"dataframe\">\n",
       "  <thead>\n",
       "    <tr style=\"text-align: right;\">\n",
       "      <th></th>\n",
       "      <th>name</th>\n",
       "    </tr>\n",
       "  </thead>\n",
       "  <tbody>\n",
       "    <tr>\n",
       "      <th>0</th>\n",
       "      <td>Cory Rodriquz</td>\n",
       "    </tr>\n",
       "    <tr>\n",
       "      <th>1</th>\n",
       "      <td>Dayna Hamiter</td>\n",
       "    </tr>\n",
       "    <tr>\n",
       "      <th>2</th>\n",
       "      <td>Marvella Rummler</td>\n",
       "    </tr>\n",
       "    <tr>\n",
       "      <th>3</th>\n",
       "      <td>Everette Arlia</td>\n",
       "    </tr>\n",
       "    <tr>\n",
       "      <th>4</th>\n",
       "      <td>Bruna Sumlin</td>\n",
       "    </tr>\n",
       "    <tr>\n",
       "      <th>...</th>\n",
       "      <td>...</td>\n",
       "    </tr>\n",
       "    <tr>\n",
       "      <th>1576</th>\n",
       "      <td>Kurt Leota</td>\n",
       "    </tr>\n",
       "    <tr>\n",
       "      <th>1577</th>\n",
       "      <td>Hattie Hertel</td>\n",
       "    </tr>\n",
       "    <tr>\n",
       "      <th>1578</th>\n",
       "      <td>Colene Newland</td>\n",
       "    </tr>\n",
       "    <tr>\n",
       "      <th>1579</th>\n",
       "      <td>Kirk Samperi</td>\n",
       "    </tr>\n",
       "    <tr>\n",
       "      <th>1580</th>\n",
       "      <td>Cherish Aspell</td>\n",
       "    </tr>\n",
       "  </tbody>\n",
       "</table>\n",
       "<p>1581 rows × 1 columns</p>\n",
       "</div>"
      ],
      "text/plain": [
       "                  name\n",
       "0        Cory Rodriquz\n",
       "1        Dayna Hamiter\n",
       "2     Marvella Rummler\n",
       "3       Everette Arlia\n",
       "4         Bruna Sumlin\n",
       "...                ...\n",
       "1576        Kurt Leota\n",
       "1577     Hattie Hertel\n",
       "1578    Colene Newland\n",
       "1579      Kirk Samperi\n",
       "1580    Cherish Aspell\n",
       "\n",
       "[1581 rows x 1 columns]"
      ]
     },
     "execution_count": 47,
     "metadata": {},
     "output_type": "execute_result"
    }
   ],
   "source": [
    "q_str = render_query(query).query  # get only the sql string\n",
    "pd.read_sql_query(q_str, conn, params=[30, 40])"
   ]
  },
  {
   "cell_type": "markdown",
   "id": "cffdd001-f5ca-497e-a2f9-faf69105763e",
   "metadata": {
    "tags": [],
    "toc-hr-collapsed": true
   },
   "source": [
    "## Correlated queries"
   ]
  },
  {
   "cell_type": "markdown",
   "id": "429f7546-7462-41eb-8dc9-a449d8d697fe",
   "metadata": {},
   "source": [
    "An inner query is a SQL query that is included into the outer query as a part of a scalar expression. An inner query must either produce a single value or be used as an argument of a query operator, such as IN or EXISTS, which transforms the query output to a scalar value.\n",
    "\n",
    "FunSQL lets you create inner queries like regular SQL. "
   ]
  },
  {
   "cell_type": "markdown",
   "id": "5b28a9b9-0ca9-464a-886b-b98ff76260a1",
   "metadata": {},
   "source": [
    "_Find the youngest driving license holders._"
   ]
  },
  {
   "cell_type": "code",
   "execution_count": 48,
   "id": "00b9ab59-9d24-4336-91b7-0fd978880f54",
   "metadata": {
    "execution": {
     "iopub.execute_input": "2022-07-07T13:54:38.278694Z",
     "iopub.status.busy": "2022-07-07T13:54:38.278390Z",
     "iopub.status.idle": "2022-07-07T13:54:38.279750Z",
     "shell.execute_reply": "2022-07-07T13:54:38.279927Z"
    }
   },
   "outputs": [
    {
     "data": {
      "text/plain": [
       "query: \n",
       "SELECT\n",
       "  \"drivers_license_1\".\"id\", \n",
       "  \"drivers_license_1\".\"age\"\n",
       "FROM \"drivers_license\" AS \"drivers_license_1\"\n",
       "WHERE (\"drivers_license_1\".\"age\" = (\n",
       "  SELECT min(\"drivers_license_2\".\"age\") AS \"min\"\n",
       "  FROM \"drivers_license\" AS \"drivers_license_2\"\n",
       "))"
      ]
     },
     "execution_count": 48,
     "metadata": {},
     "output_type": "execute_result"
    }
   ],
   "source": [
    "q1 = From(S.drivers_license) >> Group() >> Select(Agg.min(Get.age))\n",
    "\n",
    "query = (\n",
    "    From(S.drivers_license) >> Where(Fun(\"=\", Get.age, q1)) >> Select(Get.id, Get.age)\n",
    ")\n",
    "render_query(query)"
   ]
  },
  {
   "cell_type": "markdown",
   "id": "a4b93121-05ec-46a9-a7b1-a52fa6fa0eec",
   "metadata": {},
   "source": [
    "The inner query may depend on the data from the outer query. Such inner queries are called **correlated**. \n",
    "\n",
    "In FunSQL, correlated queries are created using the `Bind` node. Specifically, in the body of a correlated query we use query parameters to refer to the external data. The Bind node, which wrap the correlated query, binds each parameter to an expression evaluated in the context of the outer query."
   ]
  },
  {
   "cell_type": "markdown",
   "id": "e7d193bc-5e20-4c7a-8975-b5f44f040aae",
   "metadata": {},
   "source": [
    "_Find fitness centre members who spent more than 100 minutes at the centre some time._"
   ]
  },
  {
   "cell_type": "code",
   "execution_count": 49,
   "id": "6217ed29-07b1-446e-a8f3-89f8115f50a0",
   "metadata": {
    "execution": {
     "iopub.execute_input": "2022-07-07T13:54:38.283001Z",
     "iopub.status.busy": "2022-07-07T13:54:38.282692Z",
     "iopub.status.idle": "2022-07-07T13:54:38.284126Z",
     "shell.execute_reply": "2022-07-07T13:54:38.284302Z"
    }
   },
   "outputs": [
    {
     "data": {
      "text/plain": [
       "query: \n",
       "SELECT \"get_fit_now_member_1\".\"name\"\n",
       "FROM \"get_fit_now_member\" AS \"get_fit_now_member_1\"\n",
       "WHERE (EXISTS (\n",
       "  SELECT NULL\n",
       "  FROM \"get_fit_now_check_in\" AS \"get_fit_now_check_in_1\"\n",
       "  WHERE (((\"get_fit_now_check_in_1\".\"check_out_time\" - \"get_fit_now_check_in_1\".\"check_in_time\") > 100) AND (\"get_fit_now_check_in_1\".\"membership_id\" = \"get_fit_now_member_1\".\"id\"))\n",
       "))"
      ]
     },
     "execution_count": 49,
     "metadata": {},
     "output_type": "execute_result"
    }
   ],
   "source": [
    "visits_over_duration = (\n",
    "    From(S.get_fit_now_check_in)\n",
    "    >> Where(Fun(\">\", Fun(\"-\", Get.check_out_time, Get.check_in_time), Var.DURATION))\n",
    "    >> Where(Fun(\"=\", Get.membership_id, Var.MEMBER_ID))\n",
    ")\n",
    "\n",
    "query = (\n",
    "    From(S.get_fit_now_member)\n",
    "    >> Where(\n",
    "        Fun.exists(\n",
    "            visits_over_duration\n",
    "            >> Bind(Get.id >> As(S.MEMBER_ID), Lit(100) >> As(S.DURATION))\n",
    "        )\n",
    "    )\n",
    "    >> Select(Get.name)\n",
    ")\n",
    "\n",
    "render_query(query)"
   ]
  },
  {
   "cell_type": "markdown",
   "id": "e18c4da4-3c20-451e-babc-9422ce2d45b8",
   "metadata": {
    "tags": [],
    "toc-hr-collapsed": true
   },
   "source": [
    "## Order and Limit"
   ]
  },
  {
   "cell_type": "markdown",
   "id": "343abc24-14e8-4e33-b263-d3e901d4a8b6",
   "metadata": {},
   "source": [
    "To get output rows from a query in a specific order, FunSQL provides the `Order` node. "
   ]
  },
  {
   "cell_type": "markdown",
   "id": "59945776-9f34-4c00-884e-1ed908fbf901",
   "metadata": {},
   "source": [
    "_List all the Toyota owners by age._"
   ]
  },
  {
   "cell_type": "code",
   "execution_count": 50,
   "id": "c2fbe8dc-87f4-420a-b8fe-930029665724",
   "metadata": {
    "execution": {
     "iopub.execute_input": "2022-07-07T13:54:38.287291Z",
     "iopub.status.busy": "2022-07-07T13:54:38.286964Z",
     "iopub.status.idle": "2022-07-07T13:54:38.288290Z",
     "shell.execute_reply": "2022-07-07T13:54:38.288515Z"
    }
   },
   "outputs": [
    {
     "data": {
      "text/plain": [
       "query: \n",
       "SELECT\n",
       "  \"person_2\".\"name\", \n",
       "  \"person_2\".\"age\"\n",
       "FROM (\n",
       "  SELECT\n",
       "    \"person_1\".\"name\", \n",
       "    \"drivers_license_1\".\"age\"\n",
       "  FROM \"person\" AS \"person_1\"\n",
       "  INNER JOIN \"drivers_license\" AS \"drivers_license_1\" ON (\"drivers_license_1\".\"id\" = \"person_1\".\"license_id\")\n",
       "  WHERE (\"drivers_license_1\".\"car_make\" LIKE '%Toyota%')\n",
       ") AS \"person_2\"\n",
       "ORDER BY \"person_2\".\"age\""
      ]
     },
     "execution_count": 50,
     "metadata": {},
     "output_type": "execute_result"
    }
   ],
   "source": [
    "query = (\n",
    "    From(S.person)\n",
    "    >> Join(From(S.drivers_license) >> As(S.l), on=Fun(\"=\", Get.l.id, Get.license_id))\n",
    "    >> Where(Fun.LIKE(Get.l.car_make, \"%Toyota%\"))\n",
    "    >> Select(Get.name, Get.l.age >> As(S.age))\n",
    "    >> Order(Get.age)\n",
    ")\n",
    "\n",
    "render_query(query)"
   ]
  },
  {
   "cell_type": "markdown",
   "id": "b1f93259-5141-4004-8121-191a42cd932f",
   "metadata": {},
   "source": [
    "The Asc and the Desc modifiers specify whether to sort the rows in an ascending or in a descending order.\n",
    "\n",
    "_List all the Toyota owners by age, in decreasing order._"
   ]
  },
  {
   "cell_type": "code",
   "execution_count": 51,
   "id": "01b9a86f-ae17-4ec3-b44b-98fc9c3e9c45",
   "metadata": {
    "execution": {
     "iopub.execute_input": "2022-07-07T13:54:38.291458Z",
     "iopub.status.busy": "2022-07-07T13:54:38.291157Z",
     "iopub.status.idle": "2022-07-07T13:54:38.292526Z",
     "shell.execute_reply": "2022-07-07T13:54:38.292745Z"
    }
   },
   "outputs": [
    {
     "data": {
      "text/plain": [
       "query: \n",
       "SELECT\n",
       "  \"person_2\".\"name\", \n",
       "  \"person_2\".\"age\"\n",
       "FROM (\n",
       "  SELECT\n",
       "    \"person_1\".\"name\", \n",
       "    \"drivers_license_1\".\"age\"\n",
       "  FROM \"person\" AS \"person_1\"\n",
       "  INNER JOIN \"drivers_license\" AS \"drivers_license_1\" ON (\"drivers_license_1\".\"id\" = \"person_1\".\"license_id\")\n",
       "  WHERE (\"drivers_license_1\".\"car_make\" LIKE '%Toyota%')\n",
       ") AS \"person_2\"\n",
       "ORDER BY \"person_2\".\"age\" DESC"
      ]
     },
     "execution_count": 51,
     "metadata": {},
     "output_type": "execute_result"
    }
   ],
   "source": [
    "query = (\n",
    "    From(S.person)\n",
    "    >> Join(From(S.drivers_license) >> As(S.l), on=Fun(\"=\", Get.l.id, Get.license_id))\n",
    "    >> Where(Fun.LIKE(Get.l.car_make, \"%Toyota%\"))\n",
    "    >> Select(Get.name, Get.l.age >> As(S.age))\n",
    "    >> Order(Get.age >> Desc())\n",
    ")\n",
    "\n",
    "render_query(query)"
   ]
  },
  {
   "cell_type": "markdown",
   "id": "5b86a1f5-5c48-4ba7-99cf-1d9733964ab4",
   "metadata": {},
   "source": [
    "The Limit node lets us take a slice of the input dataset. Since, the order of output rows is uncertain until you specify an `ORDER BY` clause, Limit is typically used along with an `Order` node. "
   ]
  },
  {
   "cell_type": "markdown",
   "id": "fa5d0efd-4d4e-4ff8-a6ce-050b38103768",
   "metadata": {},
   "source": [
    "_Get the last 10 members who joined the fitness centre._"
   ]
  },
  {
   "cell_type": "code",
   "execution_count": 52,
   "id": "44ff13fc-c435-48fc-8ac2-66633d75252e",
   "metadata": {
    "execution": {
     "iopub.execute_input": "2022-07-07T13:54:38.295073Z",
     "iopub.status.busy": "2022-07-07T13:54:38.294791Z",
     "iopub.status.idle": "2022-07-07T13:54:38.296196Z",
     "shell.execute_reply": "2022-07-07T13:54:38.296382Z"
    }
   },
   "outputs": [
    {
     "data": {
      "text/plain": [
       "query: \n",
       "SELECT\n",
       "  \"get_fit_now_member_1\".\"id\", \n",
       "  \"get_fit_now_member_1\".\"name\"\n",
       "FROM \"get_fit_now_member\" AS \"get_fit_now_member_1\"\n",
       "ORDER BY \"get_fit_now_member_1\".\"membership_start_date\" DESC\n",
       "LIMIT 10"
      ]
     },
     "execution_count": 52,
     "metadata": {},
     "output_type": "execute_result"
    }
   ],
   "source": [
    "query = (\n",
    "    From(S.get_fit_now_member)\n",
    "    >> Order(Get.membership_start_date >> Desc())\n",
    "    >> Limit(10)\n",
    "    >> Select(Get.id, Get.name)\n",
    ")\n",
    "\n",
    "render_query(query)"
   ]
  },
  {
   "cell_type": "markdown",
   "id": "57e8d374-264f-4fe2-9dee-a52d1e5e6073",
   "metadata": {},
   "source": [
    "## Append and Iterate"
   ]
  },
  {
   "cell_type": "markdown",
   "id": "4ed31118-27e1-443b-8c71-676613c32944",
   "metadata": {},
   "source": [
    "The `Append` node concatenates two or more input datasets, similar to the `UNION ALL` clause in SQL. Only the columns that are present in all input datasets is included in the output. "
   ]
  },
  {
   "cell_type": "markdown",
   "id": "9095bb36-f6f3-4211-9864-cd7bdd5a974e",
   "metadata": {},
   "source": [
    "_Fetch all people who attended an event or visited the fitness centre on the date of crime._"
   ]
  },
  {
   "cell_type": "code",
   "execution_count": 53,
   "id": "6c102a45-06b6-482b-9519-e585fbc899dc",
   "metadata": {
    "execution": {
     "iopub.execute_input": "2022-07-07T13:54:38.300813Z",
     "iopub.status.busy": "2022-07-07T13:54:38.300504Z",
     "iopub.status.idle": "2022-07-07T13:54:38.301843Z",
     "shell.execute_reply": "2022-07-07T13:54:38.302064Z"
    }
   },
   "outputs": [
    {
     "data": {
      "text/plain": [
       "query: \n",
       "SELECT \"person_3\".\"id\"\n",
       "FROM (\n",
       "  SELECT\n",
       "    \"person_1\".\"id\", \n",
       "    \"get_fit_now_check_in_1\".\"check_in_date\"\n",
       "  FROM \"person\" AS \"person_1\"\n",
       "  INNER JOIN \"get_fit_now_member\" AS \"get_fit_now_member_1\" ON (\"get_fit_now_member_1\".\"person_id\" = \"person_1\".\"id\")\n",
       "  INNER JOIN \"get_fit_now_check_in\" AS \"get_fit_now_check_in_1\" ON (\"get_fit_now_check_in_1\".\"membership_id\" = \"get_fit_now_member_1\".\"id\")\n",
       "  WHERE (\"get_fit_now_check_in_1\".\"check_in_date\" = 20180115)\n",
       ") AS \"person_3\"\n",
       "UNION ALL\n",
       "SELECT \"person_4\".\"id\"\n",
       "FROM (\n",
       "  SELECT\n",
       "    \"person_2\".\"id\", \n",
       "    \"facebook_event_checkin_1\".\"date\"\n",
       "  FROM \"person\" AS \"person_2\"\n",
       "  INNER JOIN \"facebook_event_checkin\" AS \"facebook_event_checkin_1\" ON (\"facebook_event_checkin_1\".\"person_id\" = \"person_2\".\"id\")\n",
       "  WHERE (\"facebook_event_checkin_1\".\"date\" = 20180115)\n",
       ") AS \"person_4\""
      ]
     },
     "execution_count": 53,
     "metadata": {},
     "output_type": "execute_result"
    }
   ],
   "source": [
    "visitors_get_fit = (\n",
    "    From(S.person)\n",
    "    >> Join(\n",
    "        From(S.get_fit_now_member) >> As(S.t1),\n",
    "        on=Fun(\"=\", Get.t1.person_id, Get.id),\n",
    "    )\n",
    "    >> Join(\n",
    "        From(S.get_fit_now_check_in) >> As(S.t2),\n",
    "        on=Fun(\"=\", Get.t2.membership_id, Get.t1.id),\n",
    "    )\n",
    "    >> Where(Fun(\"=\", Get.t2.check_in_date, Var.DATE))\n",
    "    >> Select(Get.id, Get.t2.check_in_date)\n",
    ")\n",
    "\n",
    "visitors_events = (\n",
    "    From(S.person)\n",
    "    >> Join(\n",
    "        From(S.facebook_event_checkin) >> As(S.t1),\n",
    "        on=Fun(\"=\", Get.t1.person_id, Get.id),\n",
    "    )\n",
    "    >> Where(Fun(\"=\", Get.t1.date, Var.DATE))\n",
    "    >> Select(Get.id, Get.t1.date)\n",
    ")\n",
    "\n",
    "query = visitors_get_fit >> Append(visitors_events) >> Bind(Lit(20180115) >> As(S.DATE))\n",
    "render_query(query)"
   ]
  },
  {
   "cell_type": "markdown",
   "id": "e0c037bf-bc32-4a7b-b9ff-f99e0576ad3a",
   "metadata": {},
   "source": [
    "The `Iterate` node lets us specify [recursive CTEs](https://www.sqlite.org/lang_with.html#recursive_common_table_expressions) queries, like those supported by a lot of SQL engines. \n",
    "\n",
    "The general form of an iterative query is: `base-query >> Iterate (iterator-query)`, where the `Iterator` query is run repeatedly."
   ]
  },
  {
   "cell_type": "markdown",
   "id": "bee01f78-8f71-4d5d-a423-015030c8b0ff",
   "metadata": {},
   "source": [
    "_List the first 20 fibonacci numbers_."
   ]
  },
  {
   "cell_type": "code",
   "execution_count": 54,
   "id": "a478cb68-4449-46b5-b224-026e968c4ad2",
   "metadata": {
    "execution": {
     "iopub.execute_input": "2022-07-07T13:54:38.305148Z",
     "iopub.status.busy": "2022-07-07T13:54:38.304867Z",
     "iopub.status.idle": "2022-07-07T13:54:38.306270Z",
     "shell.execute_reply": "2022-07-07T13:54:38.306431Z"
    }
   },
   "outputs": [
    {
     "data": {
      "text/plain": [
       "query: \n",
       "WITH RECURSIVE \"fibonacci_1\" (\"n1\", \"n2\")  AS (\n",
       "  SELECT\n",
       "    1 AS \"n1\", \n",
       "    1 AS \"n2\"\n",
       "  UNION ALL\n",
       "  SELECT\n",
       "    \"fibonacci_2\".\"n2\" AS \"n1\", \n",
       "    (\"fibonacci_2\".\"n1\" + \"fibonacci_2\".\"n2\") AS \"n2\"\n",
       "  FROM \"fibonacci_1\" AS \"fibonacci_2\"\n",
       "  LIMIT 20\n",
       ")\n",
       "SELECT\n",
       "  \"fibonacci_1\".\"n1\", \n",
       "  \"fibonacci_1\".\"n2\"\n",
       "FROM \"fibonacci_1\""
      ]
     },
     "execution_count": 54,
     "metadata": {},
     "output_type": "execute_result"
    }
   ],
   "source": [
    "base = Define(Lit(1) >> As(S.n1), Lit(1) >> As(S.n2))\n",
    "iterator = (\n",
    "    From(S.fibonacci)\n",
    "    >> Define(Get.n2 >> As(S.n1), Fun(\"+\", Get.n1, Get.n2) >> As(S.n2))\n",
    "    >> Limit(20)\n",
    "    >> As(S.fibonacci)\n",
    ")\n",
    "\n",
    "query = base >> Iterate(iterator)\n",
    "render_query(query)"
   ]
  },
  {
   "cell_type": "markdown",
   "id": "7b8a80d2-e853-4595-93bf-d088c2b42755",
   "metadata": {},
   "source": [
    "However, the support for `Iterate` is flaky, since the output of FunSQL compiler often runs into circular reference errors. "
   ]
  },
  {
   "cell_type": "code",
   "execution_count": null,
   "id": "6cecf447-6f76-494c-83c1-3803ac79a093",
   "metadata": {},
   "outputs": [],
   "source": []
  }
 ],
 "metadata": {
  "kernelspec": {
   "display_name": "Python 3",
   "language": "python",
   "name": "python3"
  },
  "language_info": {
   "codemirror_mode": {
    "name": "ipython",
    "version": 3
   },
   "file_extension": ".py",
   "mimetype": "text/x-python",
   "name": "python",
   "nbconvert_exporter": "python",
   "pygments_lexer": "ipython3",
   "version": "3.9.5"
  }
 },
 "nbformat": 4,
 "nbformat_minor": 5
}
