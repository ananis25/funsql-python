{
 "cells": [
  {
   "cell_type": "markdown",
   "id": "5a9d34ab",
   "metadata": {},
   "source": [
    "NOTE: This notebook gets rendered with all cells executed in the `docs` directory.     "
   ]
  },
  {
   "cell_type": "markdown",
   "id": "1c800dc3",
   "metadata": {},
   "source": [
    "## Working with clauses"
   ]
  },
  {
   "cell_type": "markdown",
   "id": "569ece8a",
   "metadata": {},
   "source": [
    "SQLClause objects correspond directly to the syntax of the SQL language. A SQL query can be assembled by constructing clauses and chaining them. The final object can then be rendered to a string."
   ]
  },
  {
   "cell_type": "code",
   "execution_count": 1,
   "id": "72a64d36-fa4c-4d44-ad97-2033ada388bf",
   "metadata": {
    "execution": {
     "iopub.execute_input": "2022-03-30T19:22:25.154427Z",
     "iopub.status.busy": "2022-03-30T19:22:25.153647Z",
     "iopub.status.idle": "2022-03-30T19:22:25.155749Z",
     "shell.execute_reply": "2022-03-30T19:22:25.156283Z"
    }
   },
   "outputs": [],
   "source": [
    "import sys\n",
    "\n",
    "sys.path.insert(0, \"/Users/ishananand/repos/pypypy/funsql_py/\")"
   ]
  },
  {
   "cell_type": "code",
   "execution_count": 2,
   "id": "f9cd52f0-e7da-42c9-8c54-27ecfe01db06",
   "metadata": {
    "execution": {
     "iopub.execute_input": "2022-03-30T19:22:25.160443Z",
     "iopub.status.busy": "2022-03-30T19:22:25.159800Z",
     "iopub.status.idle": "2022-03-30T19:22:25.179480Z",
     "shell.execute_reply": "2022-03-30T19:22:25.179781Z"
    }
   },
   "outputs": [],
   "source": [
    "from funsql.common import S\n",
    "from funsql.clausedefs import *\n",
    "from funsql.render import dialect_sqlite\n",
    "from funsql.compiler.serialize import SerializationContext, serialize"
   ]
  },
  {
   "cell_type": "markdown",
   "id": "61b0d2c3",
   "metadata": {},
   "source": [
    "The serialization of a query depends on the database dialect selected. This document uses `Sqlite`. "
   ]
  },
  {
   "cell_type": "code",
   "execution_count": 3,
   "id": "73a6b7da-1eb7-407d-be81-3b8a8cc4a42c",
   "metadata": {
    "execution": {
     "iopub.execute_input": "2022-03-30T19:22:25.183385Z",
     "iopub.status.busy": "2022-03-30T19:22:25.182921Z",
     "iopub.status.idle": "2022-03-30T19:22:25.184361Z",
     "shell.execute_reply": "2022-03-30T19:22:25.184693Z"
    }
   },
   "outputs": [],
   "source": [
    "def test_render(clause, only_query = False) -> None:\n",
    "    if not only_query:\n",
    "        print(\"clause: \\n\", clause, \"\\n\", sep=\"\")\n",
    "        print(\"-\" * 80)\n",
    "\n",
    "    ctx = SerializationContext(dialect_sqlite())\n",
    "    serialize(clause, ctx)\n",
    "    print(ctx.render())"
   ]
  },
  {
   "cell_type": "markdown",
   "id": "ab1e3a46-1fed-4db3-b26b-f53ba9650706",
   "metadata": {},
   "source": [
    "Constructing a query and serializing it."
   ]
  },
  {
   "cell_type": "code",
   "execution_count": 4,
   "id": "4fe5a61e-a52d-4c8b-be8a-c2443667d6ec",
   "metadata": {
    "execution": {
     "iopub.execute_input": "2022-03-30T19:22:25.187959Z",
     "iopub.status.busy": "2022-03-30T19:22:25.187497Z",
     "iopub.status.idle": "2022-03-30T19:22:25.189255Z",
     "shell.execute_reply": "2022-03-30T19:22:25.189511Z"
    }
   },
   "outputs": [
    {
     "name": "stdout",
     "output_type": "stream",
     "text": [
      "clause: \n",
      "ID(person) >> FROM() >> SELECT(ID(person_id), ID(date_of_birth))\n",
      "\n",
      "--------------------------------------------------------------------------------\n",
      "query: \n",
      "SELECT\n",
      "  \"person_id\", \n",
      "  \"date_of_birth\"\n",
      "FROM \"person\"\n"
     ]
    }
   ],
   "source": [
    "c = FROM(S.person) >> SELECT(S.person_id, S.date_of_birth)\n",
    "test_render(c)"
   ]
  },
  {
   "cell_type": "markdown",
   "id": "fbd28f59",
   "metadata": {},
   "source": [
    "#### Symbols"
   ]
  },
  {
   "cell_type": "markdown",
   "id": "88da2481",
   "metadata": {},
   "source": [
    "We need python strings to represent\n",
    "* identifiers (say, table/column/function names) \n",
    "* and also, literal values in SQL (say, values in the `user_name` column of type `TEXT`)\n",
    "\n",
    "To make it easy for clause constructors to distinguish between the two, we wrap identifiers in `Symbol` objects, which can be created using the shorthand `S`. So, \n",
    "* `SELECT(S(\"user_name\"))` corresponds to: `SELECT user_name`\n",
    "* `SELECT(\"user_name\")` corresponds to: `SELECT 'user_name'`"
   ]
  },
  {
   "cell_type": "markdown",
   "id": "ad2e4271",
   "metadata": {},
   "source": [
    "The fluent syntax also works, that is"
   ]
  },
  {
   "cell_type": "code",
   "execution_count": 5,
   "id": "eb84a8ae",
   "metadata": {
    "execution": {
     "iopub.execute_input": "2022-03-30T19:22:25.196012Z",
     "iopub.status.busy": "2022-03-30T19:22:25.195588Z",
     "iopub.status.idle": "2022-03-30T19:22:25.197122Z",
     "shell.execute_reply": "2022-03-30T19:22:25.197522Z"
    }
   },
   "outputs": [
    {
     "data": {
      "text/plain": [
       "funsql.common.Symbol"
      ]
     },
     "execution_count": 5,
     "metadata": {},
     "output_type": "execute_result"
    }
   ],
   "source": [
    "S.user_name == S(\"user_name\")\n",
    "type(S.user_name)"
   ]
  },
  {
   "cell_type": "markdown",
   "id": "84a2f66b",
   "metadata": {},
   "source": [
    "And to chain multiple symbols, use the utility method `qual` (for \"qualifier\"). FunSQL translates it to chained `ID` clauses."
   ]
  },
  {
   "cell_type": "code",
   "execution_count": 6,
   "id": "ee21ba6d",
   "metadata": {
    "execution": {
     "iopub.execute_input": "2022-03-30T19:22:25.200405Z",
     "iopub.status.busy": "2022-03-30T19:22:25.200008Z",
     "iopub.status.idle": "2022-03-30T19:22:25.201466Z",
     "shell.execute_reply": "2022-03-30T19:22:25.201701Z"
    }
   },
   "outputs": [
    {
     "data": {
      "text/plain": [
       "ID(schema_name) >> ID(table_name) >> ID(col_name)"
      ]
     },
     "execution_count": 6,
     "metadata": {},
     "output_type": "execute_result"
    }
   ],
   "source": [
    "qual(S.schema_name, S.table_name, S.col_name)"
   ]
  },
  {
   "cell_type": "markdown",
   "id": "7a8eaf23-9cef-4f12-b236-1addd0aedf22",
   "metadata": {
    "tags": []
   },
   "source": [
    "#### Literals"
   ]
  },
  {
   "cell_type": "markdown",
   "id": "4cbc21b1",
   "metadata": {},
   "source": [
    "These represent SQL literals and can be constructed using the `LIT` clause. "
   ]
  },
  {
   "cell_type": "code",
   "execution_count": 7,
   "id": "fe1c29be-24f1-41a0-956a-8437cafae22c",
   "metadata": {
    "execution": {
     "iopub.execute_input": "2022-03-30T19:22:25.204131Z",
     "iopub.status.busy": "2022-03-30T19:22:25.203753Z",
     "iopub.status.idle": "2022-03-30T19:22:25.205214Z",
     "shell.execute_reply": "2022-03-30T19:22:25.205579Z"
    }
   },
   "outputs": [
    {
     "data": {
      "text/plain": [
       "LIT(\"SQL is funny!\")"
      ]
     },
     "execution_count": 7,
     "metadata": {},
     "output_type": "execute_result"
    }
   ],
   "source": [
    "c = LIT(\"SQL is funny!\")\n",
    "c"
   ]
  },
  {
   "cell_type": "markdown",
   "id": "7c87d1d6",
   "metadata": {},
   "source": [
    "The common python types are converted to SQL literals when used with a clause. "
   ]
  },
  {
   "cell_type": "code",
   "execution_count": 8,
   "id": "0cc4b10e-97fe-4620-8a83-16efb0cca58c",
   "metadata": {
    "execution": {
     "iopub.execute_input": "2022-03-30T19:22:25.208168Z",
     "iopub.status.busy": "2022-03-30T19:22:25.207821Z",
     "iopub.status.idle": "2022-03-30T19:22:25.208959Z",
     "shell.execute_reply": "2022-03-30T19:22:25.209305Z"
    }
   },
   "outputs": [
    {
     "name": "stdout",
     "output_type": "stream",
     "text": [
      "clause: \n",
      "SELECT(LIT(NULL),\n",
      "       LIT(True),\n",
      "       LIT(100),\n",
      "       LIT(200.2),\n",
      "       LIT(\"FunSQL\"),\n",
      "       LIT('2022-02-01'))\n",
      "\n",
      "--------------------------------------------------------------------------------\n",
      "query: \n",
      "SELECT\n",
      "  NULL, \n",
      "  TRUE, \n",
      "  100, \n",
      "  200.2, \n",
      "  'FunSQL', \n",
      "  '2022-02-01'\n"
     ]
    }
   ],
   "source": [
    "import datetime\n",
    "\n",
    "c = SELECT(None, True, 100, 200.2, \"FunSQL\", datetime.date(2022, 2, 1))\n",
    "test_render(c)"
   ]
  },
  {
   "cell_type": "markdown",
   "id": "37f8d733-c77c-4481-8bd2-3b88e45241c6",
   "metadata": {
    "tags": [],
    "toc-hr-collapsed": true
   },
   "source": [
    "#### Identifiers"
   ]
  },
  {
   "cell_type": "markdown",
   "id": "c4e60aa6",
   "metadata": {},
   "source": [
    "A SQL identifier is constructed using the `ID` clause."
   ]
  },
  {
   "cell_type": "code",
   "execution_count": 9,
   "id": "ad67e6a7-7f6b-49c3-a360-d3ce7711318b",
   "metadata": {
    "execution": {
     "iopub.execute_input": "2022-03-30T19:22:25.211532Z",
     "iopub.status.busy": "2022-03-30T19:22:25.211191Z",
     "iopub.status.idle": "2022-03-30T19:22:25.212690Z",
     "shell.execute_reply": "2022-03-30T19:22:25.212906Z"
    }
   },
   "outputs": [
    {
     "data": {
      "text/plain": [
       "ID(person)"
      ]
     },
     "execution_count": 9,
     "metadata": {},
     "output_type": "execute_result"
    }
   ],
   "source": [
    "c = ID(S.person)\n",
    "c"
   ]
  },
  {
   "cell_type": "code",
   "execution_count": 10,
   "id": "9cf1d2bf-24a6-4035-8744-29f19d05aead",
   "metadata": {
    "execution": {
     "iopub.execute_input": "2022-03-30T19:22:25.215159Z",
     "iopub.status.busy": "2022-03-30T19:22:25.214809Z",
     "iopub.status.idle": "2022-03-30T19:22:25.216022Z",
     "shell.execute_reply": "2022-03-30T19:22:25.216353Z"
    }
   },
   "outputs": [
    {
     "data": {
      "text/plain": [
       "ID(person) >> ID(email_addr)"
      ]
     },
     "execution_count": 10,
     "metadata": {},
     "output_type": "execute_result"
    }
   ],
   "source": [
    "c = ID(S.person) >> ID(S.email_addr)\n",
    "c"
   ]
  },
  {
   "cell_type": "code",
   "execution_count": 11,
   "id": "c3c59f51-69cd-48bf-a173-c4442680596e",
   "metadata": {
    "execution": {
     "iopub.execute_input": "2022-03-30T19:22:25.218308Z",
     "iopub.status.busy": "2022-03-30T19:22:25.217983Z",
     "iopub.status.idle": "2022-03-30T19:22:25.219137Z",
     "shell.execute_reply": "2022-03-30T19:22:25.219393Z"
    }
   },
   "outputs": [
    {
     "name": "stdout",
     "output_type": "stream",
     "text": [
      "clause: \n",
      "ID(person) >> ID(person_id)\n",
      "\n",
      "--------------------------------------------------------------------------------\n",
      "query: \n",
      "\"person\".\"person_id\"\n"
     ]
    }
   ],
   "source": [
    "c = ID(S.person_id, over=ID(S.person))\n",
    "test_render(c)"
   ]
  },
  {
   "cell_type": "markdown",
   "id": "d6260394-176a-4310-bd11-b925202e6049",
   "metadata": {},
   "source": [
    "When used in the context of a SQL clause, `Symbol` objects are converted to `ID` clauses."
   ]
  },
  {
   "cell_type": "code",
   "execution_count": 12,
   "id": "ce9a45c2",
   "metadata": {
    "execution": {
     "iopub.execute_input": "2022-03-30T19:22:25.221635Z",
     "iopub.status.busy": "2022-03-30T19:22:25.221318Z",
     "iopub.status.idle": "2022-03-30T19:22:25.222816Z",
     "shell.execute_reply": "2022-03-30T19:22:25.222984Z"
    }
   },
   "outputs": [
    {
     "data": {
      "text/plain": [
       "ID(person) >> FROM() >> SELECT(ID(person_id), ID(date_of_birth))"
      ]
     },
     "execution_count": 12,
     "metadata": {},
     "output_type": "execute_result"
    }
   ],
   "source": [
    "FROM(S.person) >> SELECT(S.person_id, S.date_of_birth)"
   ]
  },
  {
   "cell_type": "markdown",
   "id": "3558fabf-b53a-4e30-a45a-95bb35a4862b",
   "metadata": {
    "tags": [],
    "toc-hr-collapsed": true
   },
   "source": [
    "#### Variables"
   ]
  },
  {
   "cell_type": "markdown",
   "id": "39a36ab6",
   "metadata": {},
   "source": [
    "SQL placeholder parameters are represented using the `VAR` clause. "
   ]
  },
  {
   "cell_type": "code",
   "execution_count": 13,
   "id": "b1e06de9-b6b3-4d32-bc32-0448fd7c58d2",
   "metadata": {
    "execution": {
     "iopub.execute_input": "2022-03-30T19:22:25.224959Z",
     "iopub.status.busy": "2022-03-30T19:22:25.224669Z",
     "iopub.status.idle": "2022-03-30T19:22:25.226051Z",
     "shell.execute_reply": "2022-03-30T19:22:25.226240Z"
    }
   },
   "outputs": [
    {
     "data": {
      "text/plain": [
       "VAR(year)"
      ]
     },
     "execution_count": 13,
     "metadata": {},
     "output_type": "execute_result"
    }
   ],
   "source": [
    "c=VAR(S.year)\n",
    "c"
   ]
  },
  {
   "cell_type": "markdown",
   "id": "da4d6eff",
   "metadata": {},
   "source": [
    "Serializing a clause yields a `SQLString` object which also contains a list of the variables used. They can be bound to values when executing the query."
   ]
  },
  {
   "cell_type": "code",
   "execution_count": 14,
   "id": "71fbaa57",
   "metadata": {
    "execution": {
     "iopub.execute_input": "2022-03-30T19:22:25.228527Z",
     "iopub.status.busy": "2022-03-30T19:22:25.228222Z",
     "iopub.status.idle": "2022-03-30T19:22:25.229403Z",
     "shell.execute_reply": "2022-03-30T19:22:25.229653Z"
    }
   },
   "outputs": [
    {
     "name": "stdout",
     "output_type": "stream",
     "text": [
      "query: \n",
      "SELECT \"flight_id\"\n",
      "FROM \"flights\"\n",
      "WHERE ((\"origin\" = ?0) OR (\"dest\" = ?0))\n",
      "\n",
      "vars: [city]\n"
     ]
    }
   ],
   "source": [
    "c = (\n",
    "    FROM(S.flights) >> \n",
    "    WHERE(OP(\"OR\", OP(\"=\", S.origin, VAR(S.city)), OP(\"=\", S.dest, VAR(S.city)))) >> \n",
    "    SELECT(S.flight_id)\n",
    ")\n",
    "test_render(c, only_query=True)"
   ]
  },
  {
   "cell_type": "markdown",
   "id": "2adb9831-1601-44f6-a839-03b46d62f422",
   "metadata": {
    "tags": [],
    "toc-hr-collapsed": true
   },
   "source": [
    "#### Operator"
   ]
  },
  {
   "cell_type": "markdown",
   "id": "030bb598",
   "metadata": {},
   "source": [
    "A SQL operator can be used using the `OP` clause."
   ]
  },
  {
   "cell_type": "code",
   "execution_count": 15,
   "id": "71031e74-ae72-4d82-9b81-225afec410bb",
   "metadata": {
    "execution": {
     "iopub.execute_input": "2022-03-30T19:22:25.231720Z",
     "iopub.status.busy": "2022-03-30T19:22:25.231424Z",
     "iopub.status.idle": "2022-03-30T19:22:25.232515Z",
     "shell.execute_reply": "2022-03-30T19:22:25.232748Z"
    }
   },
   "outputs": [
    {
     "name": "stdout",
     "output_type": "stream",
     "text": [
      "clause: \n",
      "OP(\"NOT\", OP(\"=\", ID(zip), LIT(42000)))\n",
      "\n",
      "--------------------------------------------------------------------------------\n",
      "query: \n",
      "(NOT (\"zip\" = 42000))\n"
     ]
    }
   ],
   "source": [
    "c = OP(S.NOT, OP(\"=\", S.zip, 42000))\n",
    "test_render(c)"
   ]
  },
  {
   "cell_type": "code",
   "execution_count": 16,
   "id": "f8191a15-881e-4ee5-900c-69516990c14e",
   "metadata": {
    "execution": {
     "iopub.execute_input": "2022-03-30T19:22:25.234515Z",
     "iopub.status.busy": "2022-03-30T19:22:25.234221Z",
     "iopub.status.idle": "2022-03-30T19:22:25.235235Z",
     "shell.execute_reply": "2022-03-30T19:22:25.235410Z"
    }
   },
   "outputs": [
    {
     "name": "stdout",
     "output_type": "stream",
     "text": [
      "clause: \n",
      "OP(\"CURRENT_TIMESTAMP\")\n",
      "\n",
      "--------------------------------------------------------------------------------\n",
      "query: \n",
      "CURRENT_TIMESTAMP\n"
     ]
    }
   ],
   "source": [
    "c = OP(S.CURRENT_TIMESTAMP)\n",
    "test_render(c)"
   ]
  },
  {
   "cell_type": "markdown",
   "id": "19917c65",
   "metadata": {},
   "source": [
    "Composite operators can be constructed using the `KW` clause."
   ]
  },
  {
   "cell_type": "code",
   "execution_count": 17,
   "id": "93395317-8276-404e-ad14-2f67d0374c7e",
   "metadata": {
    "execution": {
     "iopub.execute_input": "2022-03-30T19:22:25.237083Z",
     "iopub.status.busy": "2022-03-30T19:22:25.236752Z",
     "iopub.status.idle": "2022-03-30T19:22:25.238319Z",
     "shell.execute_reply": "2022-03-30T19:22:25.238480Z"
    }
   },
   "outputs": [
    {
     "name": "stdout",
     "output_type": "stream",
     "text": [
      "clause: \n",
      "OP(\"BETWEEN\", ID(year_of_birth), LIT(2000), LIT(2020) >> KW(AND))\n",
      "\n",
      "--------------------------------------------------------------------------------\n",
      "query: \n",
      "(\"year_of_birth\" BETWEEN 2000 AND 2020)\n"
     ]
    }
   ],
   "source": [
    "c = OP(\"BETWEEN\", S.year_of_birth, 2000, KW(S.AND, 2020))\n",
    "test_render(c)"
   ]
  },
  {
   "cell_type": "markdown",
   "id": "463015d4-5f11-4d97-b5fb-3dde674247b5",
   "metadata": {
    "tags": [],
    "toc-hr-collapsed": true
   },
   "source": [
    "#### Case"
   ]
  },
  {
   "cell_type": "markdown",
   "id": "c42d6489",
   "metadata": {},
   "source": [
    "Case expressions are constructed using the `CASE` clause. The arguments to the constructor is an interleaved sequence of conditions (`WHEN`) and corresponding values (`THEN`). \n",
    "\n",
    "When the total number of args is odd, the last argument is used as the default value."
   ]
  },
  {
   "cell_type": "code",
   "execution_count": 18,
   "id": "783f546d-808c-4766-8cac-efd46a7bdf20",
   "metadata": {
    "execution": {
     "iopub.execute_input": "2022-03-30T19:22:25.240376Z",
     "iopub.status.busy": "2022-03-30T19:22:25.240052Z",
     "iopub.status.idle": "2022-03-30T19:22:25.241193Z",
     "shell.execute_reply": "2022-03-30T19:22:25.241373Z"
    }
   },
   "outputs": [
    {
     "name": "stdout",
     "output_type": "stream",
     "text": [
      "clause: \n",
      "CASE(OP(\">\", ID(year_of_birth), LIT(2000)), LIT(\"youngling\"))\n",
      "\n",
      "--------------------------------------------------------------------------------\n",
      "query: \n",
      "(CASE WHEN (\"year_of_birth\" > 2000) THEN 'youngling' END)\n"
     ]
    }
   ],
   "source": [
    "c = CASE(OP(\">\", S.year_of_birth, 2000), \"youngling\")\n",
    "test_render(c)"
   ]
  },
  {
   "cell_type": "code",
   "execution_count": 19,
   "id": "dc472885-517b-4afc-9e0d-de158f6df702",
   "metadata": {
    "execution": {
     "iopub.execute_input": "2022-03-30T19:22:25.243196Z",
     "iopub.status.busy": "2022-03-30T19:22:25.242909Z",
     "iopub.status.idle": "2022-03-30T19:22:25.244150Z",
     "shell.execute_reply": "2022-03-30T19:22:25.244309Z"
    }
   },
   "outputs": [
    {
     "name": "stdout",
     "output_type": "stream",
     "text": [
      "clause: \n",
      "CASE(OP(\">\", ID(year_of_birth), LIT(2000)), LIT(\"youngling\"), LIT(\"millenial\"))\n",
      "\n",
      "--------------------------------------------------------------------------------\n",
      "query: \n",
      "(CASE WHEN (\"year_of_birth\" > 2000) THEN 'youngling' ELSE 'millenial' END)\n"
     ]
    }
   ],
   "source": [
    "c = CASE(OP(\">\", S.year_of_birth, 2000), \"youngling\", \"millenial\")\n",
    "test_render(c)"
   ]
  },
  {
   "cell_type": "markdown",
   "id": "98d60649-0cb7-495e-988d-e0dc55d3537b",
   "metadata": {
    "tags": [],
    "toc-hr-collapsed": true
   },
   "source": [
    "#### AS"
   ]
  },
  {
   "cell_type": "markdown",
   "id": "d6339e1c",
   "metadata": {},
   "source": [
    "A SQL `AS` expression is constructed using the `AS` clause.\n"
   ]
  },
  {
   "cell_type": "code",
   "execution_count": 20,
   "id": "277c4694-b6f1-4b5b-ba55-1bd988620ba2",
   "metadata": {
    "execution": {
     "iopub.execute_input": "2022-03-30T19:22:25.246174Z",
     "iopub.status.busy": "2022-03-30T19:22:25.245885Z",
     "iopub.status.idle": "2022-03-30T19:22:25.247132Z",
     "shell.execute_reply": "2022-03-30T19:22:25.247290Z"
    }
   },
   "outputs": [
    {
     "name": "stdout",
     "output_type": "stream",
     "text": [
      "clause: \n",
      "ID(person) >> AS(p)\n",
      "\n",
      "--------------------------------------------------------------------------------\n",
      "query: \n",
      "\"person\" AS \"p\"\n"
     ]
    }
   ],
   "source": [
    "c = ID(S.person) >> AS(S.p)\n",
    "test_render(c)"
   ]
  },
  {
   "cell_type": "code",
   "execution_count": 21,
   "id": "c56cebf4-8a11-4cd5-b2d4-cf8dfffc5216",
   "metadata": {
    "execution": {
     "iopub.execute_input": "2022-03-30T19:22:25.249165Z",
     "iopub.status.busy": "2022-03-30T19:22:25.248859Z",
     "iopub.status.idle": "2022-03-30T19:22:25.250091Z",
     "shell.execute_reply": "2022-03-30T19:22:25.250245Z"
    }
   },
   "outputs": [
    {
     "name": "stdout",
     "output_type": "stream",
     "text": [
      "clause: \n",
      "ID(person) >> AS(p) >> FROM() >> SELECT(ID(p) >> ID(person_id))\n",
      "\n",
      "--------------------------------------------------------------------------------\n",
      "query: \n",
      "SELECT \"p\".\"person_id\"\n",
      "FROM \"person\" AS \"p\"\n"
     ]
    }
   ],
   "source": [
    "c = FROM(alias(\"person\", \"p\")) >> SELECT(qual(\"p\", \"person_id\"))\n",
    "test_render(c)"
   ]
  },
  {
   "cell_type": "markdown",
   "id": "15608ef1-67b8-4daf-a9ab-b1a262be1eb4",
   "metadata": {
    "tags": [],
    "toc-hr-collapsed": true
   },
   "source": [
    "#### Function"
   ]
  },
  {
   "cell_type": "markdown",
   "id": "dc910bd3",
   "metadata": {},
   "source": [
    "SQL functions are represented using the `FUN` clause, with the first arg being the function name.  "
   ]
  },
  {
   "cell_type": "code",
   "execution_count": 22,
   "id": "d548be02-a799-49b3-95a1-15a8eefbd4a6",
   "metadata": {
    "execution": {
     "iopub.execute_input": "2022-03-30T19:22:25.252126Z",
     "iopub.status.busy": "2022-03-30T19:22:25.251846Z",
     "iopub.status.idle": "2022-03-30T19:22:25.252929Z",
     "shell.execute_reply": "2022-03-30T19:22:25.253099Z"
    }
   },
   "outputs": [
    {
     "name": "stdout",
     "output_type": "stream",
     "text": [
      "clause: \n",
      "FUN(\"CONCAT\", ID(city), LIT(\", \"), ID(state))\n",
      "\n",
      "--------------------------------------------------------------------------------\n",
      "query: \n",
      "CONCAT(\"city\", ', ', \"state\")\n"
     ]
    }
   ],
   "source": [
    "c = FUN(\"CONCAT\", S.city, \", \", S.state)\n",
    "test_render(c)"
   ]
  },
  {
   "cell_type": "markdown",
   "id": "ad90a855",
   "metadata": {},
   "source": [
    "Function with keyword arguments are constructed using the `KW` clause."
   ]
  },
  {
   "cell_type": "code",
   "execution_count": 23,
   "id": "44ba76bd-4d33-4bf3-bbd3-0c6e1b538de3",
   "metadata": {
    "execution": {
     "iopub.execute_input": "2022-03-30T19:22:25.255062Z",
     "iopub.status.busy": "2022-03-30T19:22:25.254755Z",
     "iopub.status.idle": "2022-03-30T19:22:25.255854Z",
     "shell.execute_reply": "2022-03-30T19:22:25.256037Z"
    }
   },
   "outputs": [
    {
     "name": "stdout",
     "output_type": "stream",
     "text": [
      "clause: \n",
      "FUN(\"SUBSTRING\", ID(zip), LIT(1) >> KW(FROM), LIT(3) >> KW(FOR))\n",
      "\n",
      "--------------------------------------------------------------------------------\n",
      "query: \n",
      "SUBSTRING(\"zip\" FROM 1 FOR 3)\n"
     ]
    }
   ],
   "source": [
    "c = FUN(\"SUBSTRING\", S.zip, KW(\"FROM\", 1), KW(\"FOR\", 3))\n",
    "test_render(c)"
   ]
  },
  {
   "cell_type": "markdown",
   "id": "683f1e3d",
   "metadata": {},
   "source": [
    "Function without any arguments"
   ]
  },
  {
   "cell_type": "code",
   "execution_count": 24,
   "id": "a8872553-71f4-4bdd-ad35-1840ae132384",
   "metadata": {
    "execution": {
     "iopub.execute_input": "2022-03-30T19:22:25.257704Z",
     "iopub.status.busy": "2022-03-30T19:22:25.257417Z",
     "iopub.status.idle": "2022-03-30T19:22:25.258657Z",
     "shell.execute_reply": "2022-03-30T19:22:25.258492Z"
    }
   },
   "outputs": [
    {
     "name": "stdout",
     "output_type": "stream",
     "text": [
      "clause: \n",
      "FUN(\"NOW\")\n",
      "\n",
      "--------------------------------------------------------------------------------\n",
      "query: \n",
      "NOW()\n"
     ]
    }
   ],
   "source": [
    "c = FUN(\"NOW\")\n",
    "test_render(c)"
   ]
  },
  {
   "cell_type": "markdown",
   "id": "c1da0120-047c-42d0-92e6-3842fd8e2bcf",
   "metadata": {
    "tags": [],
    "toc-hr-collapsed": true
   },
   "source": [
    "#### Aggregates"
   ]
  },
  {
   "cell_type": "markdown",
   "id": "6cef6f08",
   "metadata": {},
   "source": [
    "Aggregates are defined using the `AGG` clause."
   ]
  },
  {
   "cell_type": "code",
   "execution_count": 25,
   "id": "501e1f27-1074-4c91-8f85-230ce5e46718",
   "metadata": {
    "execution": {
     "iopub.execute_input": "2022-03-30T19:22:25.260405Z",
     "iopub.status.busy": "2022-03-30T19:22:25.260114Z",
     "iopub.status.idle": "2022-03-30T19:22:25.261347Z",
     "shell.execute_reply": "2022-03-30T19:22:25.261499Z"
    }
   },
   "outputs": [
    {
     "name": "stdout",
     "output_type": "stream",
     "text": [
      "clause: \n",
      "AGG(\"COUNT\", OP(\"*\"))\n",
      "\n",
      "--------------------------------------------------------------------------------\n",
      "query: \n",
      "COUNT(*)\n"
     ]
    }
   ],
   "source": [
    "c = AGG(\"COUNT\", S(\"*\"))\n",
    "test_render(c)"
   ]
  },
  {
   "cell_type": "markdown",
   "id": "46b964f1",
   "metadata": {},
   "source": [
    "With a `DISTINCT` modifier"
   ]
  },
  {
   "cell_type": "code",
   "execution_count": 26,
   "id": "20f53dc1-ba97-4225-b1dd-eaef6bafb3fe",
   "metadata": {
    "execution": {
     "iopub.execute_input": "2022-03-30T19:22:25.263263Z",
     "iopub.status.busy": "2022-03-30T19:22:25.262982Z",
     "iopub.status.idle": "2022-03-30T19:22:25.264195Z",
     "shell.execute_reply": "2022-03-30T19:22:25.264366Z"
    }
   },
   "outputs": [
    {
     "name": "stdout",
     "output_type": "stream",
     "text": [
      "clause: \n",
      "AGG(\"COUNT\", distinct = True, ID(birth_year))\n",
      "\n",
      "--------------------------------------------------------------------------------\n",
      "query: \n",
      "COUNT(DISTINCT \"birth_year\")\n"
     ]
    }
   ],
   "source": [
    "c = AGG(\"COUNT\", S.birth_year, distinct=True)\n",
    "test_render(c)"
   ]
  },
  {
   "cell_type": "markdown",
   "id": "c2949004",
   "metadata": {},
   "source": [
    "With a `FILTER` modifier"
   ]
  },
  {
   "cell_type": "code",
   "execution_count": 27,
   "id": "4552c36f-801c-4b22-ad1e-434de8c6df09",
   "metadata": {
    "execution": {
     "iopub.execute_input": "2022-03-30T19:22:25.266338Z",
     "iopub.status.busy": "2022-03-30T19:22:25.265997Z",
     "iopub.status.idle": "2022-03-30T19:22:25.267069Z",
     "shell.execute_reply": "2022-03-30T19:22:25.267301Z"
    }
   },
   "outputs": [
    {
     "name": "stdout",
     "output_type": "stream",
     "text": [
      "clause: \n",
      "AGG(\"COUNT\", OP(\"*\"), filter = OP(\"=\", ID(year_of_birth), LIT(1970)))\n",
      "\n",
      "--------------------------------------------------------------------------------\n",
      "query: \n",
      "(COUNT(*) FILTER (WHERE (\"year_of_birth\" = 1970)))\n"
     ]
    }
   ],
   "source": [
    "c = AGG(\"COUNT\", S(\"*\"), filter_=OP(\"=\", S.year_of_birth, 1970))\n",
    "test_render(c)"
   ]
  },
  {
   "cell_type": "markdown",
   "id": "4588a577-b047-492a-b037-61a7ab85108e",
   "metadata": {
    "tags": [],
    "toc-hr-collapsed": true
   },
   "source": [
    "#### Partition"
   ]
  },
  {
   "cell_type": "markdown",
   "id": "2d74f64a",
   "metadata": {},
   "source": [
    "Window functions can be constructed by chaining a `PARTITION` clause to an `AGG` clause. \n"
   ]
  },
  {
   "cell_type": "code",
   "execution_count": 28,
   "id": "da93171a-26b3-4803-b575-9246710fb336",
   "metadata": {
    "execution": {
     "iopub.execute_input": "2022-03-30T19:22:25.269392Z",
     "iopub.status.busy": "2022-03-30T19:22:25.269104Z",
     "iopub.status.idle": "2022-03-30T19:22:25.270163Z",
     "shell.execute_reply": "2022-03-30T19:22:25.270342Z"
    }
   },
   "outputs": [
    {
     "name": "stdout",
     "output_type": "stream",
     "text": [
      "clause: \n",
      "AGG(\"ROW_NUMBER\",\n",
      "    over = PARTITION(ID(year_of_birth),\n",
      "                     order_by = [ID(month_of_birth), ID(day_of_birth)]))\n",
      "\n",
      "--------------------------------------------------------------------------------\n",
      "query: \n",
      "(ROW_NUMBER() OVER (PARTITION BY \"year_of_birth\" ORDER BY \"month_of_birth\", \"day_of_birth\"))\n"
     ]
    }
   ],
   "source": [
    "c = PARTITION(S.year_of_birth, order_by = [S.month_of_birth, S.day_of_birth]) >> AGG(\"ROW_NUMBER\")\n",
    "test_render(c)"
   ]
  },
  {
   "cell_type": "markdown",
   "id": "b15c7261",
   "metadata": {},
   "source": [
    "The `frame` argument is a `Frame` object to specify the aggregation window explicitly. Unlike regular SQL, you must specify the start/end of the window explicitly. "
   ]
  },
  {
   "cell_type": "code",
   "execution_count": 29,
   "id": "c492c3fc-e3ff-47b4-bae3-3fddf2bf14d7",
   "metadata": {
    "execution": {
     "iopub.execute_input": "2022-03-30T19:22:25.272423Z",
     "iopub.status.busy": "2022-03-30T19:22:25.272106Z",
     "iopub.status.idle": "2022-03-30T19:22:25.273264Z",
     "shell.execute_reply": "2022-03-30T19:22:25.273482Z"
    }
   },
   "outputs": [
    {
     "name": "stdout",
     "output_type": "stream",
     "text": [
      "clause: \n",
      "PARTITION(order_by = [ID(year_of_birth)],\n",
      "          frame = [mode = GROUPS, start = PRECEDING(2), end = CURRENT_ROW])\n",
      "\n",
      "--------------------------------------------------------------------------------\n",
      "query: \n",
      "ORDER BY \"year_of_birth\" GROUPS BETWEEN 2 PRECEDING AND CURRENT ROW\n"
     ]
    }
   ],
   "source": [
    "c = PARTITION(\n",
    "    order_by = [S.year_of_birth], \n",
    "    frame = Frame(\n",
    "        FrameMode.GROUPS, \n",
    "        start=FrameEdge(FrameEdgeSide.PRECEDING, 2), \n",
    "        end=FrameEdge(FrameEdgeSide.CURRENT_ROW)\n",
    "    )\n",
    ")\n",
    "test_render(c)"
   ]
  },
  {
   "cell_type": "code",
   "execution_count": 30,
   "id": "8d7aee64-5999-425c-96a4-55e67f3a2508",
   "metadata": {
    "execution": {
     "iopub.execute_input": "2022-03-30T19:22:25.275477Z",
     "iopub.status.busy": "2022-03-30T19:22:25.275196Z",
     "iopub.status.idle": "2022-03-30T19:22:25.276246Z",
     "shell.execute_reply": "2022-03-30T19:22:25.276394Z"
    }
   },
   "outputs": [
    {
     "name": "stdout",
     "output_type": "stream",
     "text": [
      "query: \n",
      "ORDER BY \"year_of_birth\" ROWS BETWEEN 2 PRECEDING AND 2 FOLLOWING EXCLUDE CURRENT ROW\n"
     ]
    }
   ],
   "source": [
    "c = PARTITION(\n",
    "    order_by = [S.year_of_birth], \n",
    "    frame = Frame(\n",
    "        FrameMode.ROWS, \n",
    "        start=FrameEdge(FrameEdgeSide.PRECEDING, 2), \n",
    "        end=FrameEdge(FrameEdgeSide.FOLLOWING, 2), \n",
    "        exclude=FrameExclude.CURRENT_ROW\n",
    "    )\n",
    ")\n",
    "test_render(c, only_query=True)"
   ]
  },
  {
   "cell_type": "code",
   "execution_count": 31,
   "id": "9f923988-31d1-41cd-a55a-c177cdc06e04",
   "metadata": {
    "execution": {
     "iopub.execute_input": "2022-03-30T19:22:25.278224Z",
     "iopub.status.busy": "2022-03-30T19:22:25.277946Z",
     "iopub.status.idle": "2022-03-30T19:22:25.279086Z",
     "shell.execute_reply": "2022-03-30T19:22:25.279249Z"
    }
   },
   "outputs": [
    {
     "name": "stdout",
     "output_type": "stream",
     "text": [
      "query: \n",
      "ORDER BY \"year_of_birth\" RANGE BETWEEN UNBOUNDED PRECEDING AND CURRENT ROW\n"
     ]
    }
   ],
   "source": [
    "c = PARTITION(\n",
    "    order_by = [S.year_of_birth], \n",
    "    frame = Frame(FrameMode.RANGE, start=FrameEdge(FrameEdgeSide.PRECEDING), end=FrameEdge(FrameEdgeSide.CURRENT_ROW))\n",
    ")\n",
    "test_render(c, only_query=True)"
   ]
  },
  {
   "cell_type": "code",
   "execution_count": 32,
   "id": "34d28f12-020f-43fd-848f-7dbb39c7e4ac",
   "metadata": {
    "execution": {
     "iopub.execute_input": "2022-03-30T19:22:25.281216Z",
     "iopub.status.busy": "2022-03-30T19:22:25.280898Z",
     "iopub.status.idle": "2022-03-30T19:22:25.282036Z",
     "shell.execute_reply": "2022-03-30T19:22:25.282190Z"
    }
   },
   "outputs": [
    {
     "name": "stdout",
     "output_type": "stream",
     "text": [
      "query: \n",
      "ORDER BY \"year_of_birth\" RANGE BETWEEN UNBOUNDED PRECEDING AND UNBOUNDED FOLLOWING EXCLUDE TIES\n"
     ]
    }
   ],
   "source": [
    "c = PARTITION(\n",
    "    order_by = [S.year_of_birth], \n",
    "    frame = Frame(\n",
    "        FrameMode.RANGE, \n",
    "        start=FrameEdge(FrameEdgeSide.PRECEDING), \n",
    "        end=FrameEdge(FrameEdgeSide.FOLLOWING), \n",
    "        exclude=FrameExclude.TIES\n",
    "    )\n",
    ")\n",
    "test_render(c, only_query=True)"
   ]
  },
  {
   "cell_type": "markdown",
   "id": "efd285c7-23c9-4e8d-a49e-5f8cc6ff3708",
   "metadata": {
    "tags": [],
    "toc-hr-collapsed": true
   },
   "source": [
    "#### Where"
   ]
  },
  {
   "cell_type": "markdown",
   "id": "e79b37ba",
   "metadata": {},
   "source": [
    "The SQL `WHERE` expression is constructed using the `WHERE` clause."
   ]
  },
  {
   "cell_type": "code",
   "execution_count": 33,
   "id": "3264d0d0-1d4a-4e21-acea-ab682872a2e4",
   "metadata": {
    "execution": {
     "iopub.execute_input": "2022-03-30T19:22:25.284220Z",
     "iopub.status.busy": "2022-03-30T19:22:25.283936Z",
     "iopub.status.idle": "2022-03-30T19:22:25.285166Z",
     "shell.execute_reply": "2022-03-30T19:22:25.285385Z"
    }
   },
   "outputs": [
    {
     "name": "stdout",
     "output_type": "stream",
     "text": [
      "clause: \n",
      "ID(person) >> FROM() >> WHERE(OP(\"<\", ID(year_of_birth), LIT(2000))) >>\n",
      "SELECT(ID(person_id))\n",
      "\n",
      "--------------------------------------------------------------------------------\n",
      "query: \n",
      "SELECT \"person_id\"\n",
      "FROM \"person\"\n",
      "WHERE (\"year_of_birth\" < 2000)\n"
     ]
    }
   ],
   "source": [
    "c = FROM(S.person) >> WHERE(OP(\"<\", S.year_of_birth, 2000)) >> SELECT(S.person_id)\n",
    "test_render(c)"
   ]
  },
  {
   "cell_type": "markdown",
   "id": "d1bafb6b-92c2-40bb-8b7d-7a39377bcd5b",
   "metadata": {
    "tags": [],
    "toc-hr-collapsed": true
   },
   "source": [
    "#### Limit"
   ]
  },
  {
   "cell_type": "markdown",
   "id": "61d81bf7",
   "metadata": {},
   "source": [
    "A `LIMIT/OFFSET` expression is constructed using the `LIMIT` clause."
   ]
  },
  {
   "cell_type": "code",
   "execution_count": 34,
   "id": "4c4f5c58-9aba-4458-a9d3-61a21fda981a",
   "metadata": {
    "execution": {
     "iopub.execute_input": "2022-03-30T19:22:25.287392Z",
     "iopub.status.busy": "2022-03-30T19:22:25.287084Z",
     "iopub.status.idle": "2022-03-30T19:22:25.288100Z",
     "shell.execute_reply": "2022-03-30T19:22:25.288387Z"
    }
   },
   "outputs": [
    {
     "name": "stdout",
     "output_type": "stream",
     "text": [
      "query: \n",
      "\n",
      "FROM \"person\"\n",
      "LIMIT 100\n"
     ]
    }
   ],
   "source": [
    "c = FROM(S.person) >> LIMIT(100)\n",
    "test_render(c, only_query=True)"
   ]
  },
  {
   "cell_type": "code",
   "execution_count": 35,
   "id": "03de17e3-8f67-4acc-9560-984cfdbfc09c",
   "metadata": {
    "execution": {
     "iopub.execute_input": "2022-03-30T19:22:25.290035Z",
     "iopub.status.busy": "2022-03-30T19:22:25.289754Z",
     "iopub.status.idle": "2022-03-30T19:22:25.291046Z",
     "shell.execute_reply": "2022-03-30T19:22:25.291216Z"
    }
   },
   "outputs": [
    {
     "name": "stdout",
     "output_type": "stream",
     "text": [
      "query: \n",
      "SELECT \"person_id\"\n",
      "FROM \"person\"\n",
      "LIMIT 100\n",
      "OFFSET 20\n"
     ]
    }
   ],
   "source": [
    "c = FROM(S.person) >> LIMIT(100, offset=20) >> SELECT(S.person_id)\n",
    "test_render(c, only_query=True)"
   ]
  },
  {
   "cell_type": "markdown",
   "id": "79db2038",
   "metadata": {},
   "source": [
    "An offset can be specified without a limit value. "
   ]
  },
  {
   "cell_type": "code",
   "execution_count": 36,
   "id": "3ce26d6a-9e10-4a44-895a-a4b0ca7690db",
   "metadata": {
    "execution": {
     "iopub.execute_input": "2022-03-30T19:22:25.293227Z",
     "iopub.status.busy": "2022-03-30T19:22:25.292911Z",
     "iopub.status.idle": "2022-03-30T19:22:25.294006Z",
     "shell.execute_reply": "2022-03-30T19:22:25.294181Z"
    }
   },
   "outputs": [
    {
     "name": "stdout",
     "output_type": "stream",
     "text": [
      "query: \n",
      "SELECT \"person_id\"\n",
      "FROM \"person\"\n",
      "ORDER BY \"year_of_birth\"\n",
      "LIMIT -1\n",
      "OFFSET 100\n"
     ]
    }
   ],
   "source": [
    "c = FROM(S.person) >> ORDER(S.year_of_birth) >> SELECT(S.person_id) >> LIMIT(offset=100) \n",
    "test_render(c, only_query=True)"
   ]
  },
  {
   "cell_type": "markdown",
   "id": "3d44e542-25b6-484a-b544-f5783d841e3e",
   "metadata": {
    "tags": [],
    "toc-hr-collapsed": true
   },
   "source": [
    "#### Join"
   ]
  },
  {
   "cell_type": "markdown",
   "id": "cb84024b",
   "metadata": {},
   "source": [
    "The SQL join operation can be expressed using the `JOIN` clause.\n"
   ]
  },
  {
   "cell_type": "code",
   "execution_count": 37,
   "id": "b623b7b8-7187-4ca4-9392-93ec47c313d3",
   "metadata": {
    "execution": {
     "iopub.execute_input": "2022-03-30T19:22:25.296191Z",
     "iopub.status.busy": "2022-03-30T19:22:25.295892Z",
     "iopub.status.idle": "2022-03-30T19:22:25.297468Z",
     "shell.execute_reply": "2022-03-30T19:22:25.297642Z"
    }
   },
   "outputs": [
    {
     "name": "stdout",
     "output_type": "stream",
     "text": [
      "clause: \n",
      "ID(person) >> AS(p) >> FROM() >>\n",
      "JOIN(ID(location) >> AS(l),\n",
      "     OP(\"=\", ID(p) >> ID(location_id), ID(l) >> ID(location_id)),\n",
      "     left = True)\n",
      "\n",
      "--------------------------------------------------------------------------------\n",
      "query: \n",
      "\n",
      "FROM \"person\" AS \"p\"\n",
      "LEFT JOIN \"location\" AS \"l\" ON (\"p\".\"location_id\" = \"l\".\"location_id\")\n"
     ]
    }
   ],
   "source": [
    "c = (\n",
    "    FROM(alias(S.person, S.p)) >> \n",
    "    JOIN(\n",
    "        alias(S.location, S.l), \n",
    "        on=OP(\"=\", qual(S.p, S.location_id), qual(S.l, S.location_id)), \n",
    "        left = True\n",
    "    )\n",
    ")\n",
    "test_render(c)"
   ]
  },
  {
   "cell_type": "markdown",
   "id": "abbf6d7b",
   "metadata": {},
   "source": [
    "Different types of Joins can be expressed using the available args to the `JOIN` clause. "
   ]
  },
  {
   "cell_type": "code",
   "execution_count": 38,
   "id": "82609542-fdbf-45be-9549-25c105538610",
   "metadata": {
    "execution": {
     "iopub.execute_input": "2022-03-30T19:22:25.299613Z",
     "iopub.status.busy": "2022-03-30T19:22:25.299298Z",
     "iopub.status.idle": "2022-03-30T19:22:25.300795Z",
     "shell.execute_reply": "2022-03-30T19:22:25.300965Z"
    }
   },
   "outputs": [
    {
     "name": "stdout",
     "output_type": "stream",
     "text": [
      "clause: \n",
      "ID(person) >> AS(p) >>\n",
      "JOIN(ID(provider) >> AS(pr),\n",
      "     OP(\"=\", ID(p) >> ID(provider_id), ID(pr) >> ID(id)),\n",
      "     left = True,\n",
      "     right = True)\n",
      "\n",
      "--------------------------------------------------------------------------------\n",
      "query: \n",
      "\"person\" AS \"p\"\n",
      "FULL JOIN \"provider\" AS \"pr\" ON (\"p\".\"provider_id\" = \"pr\".\"id\")\n"
     ]
    }
   ],
   "source": [
    "t1 = alias(S.person, \"p\")\n",
    "t2 = alias(S.provider, \"pr\")\n",
    "c = t1 >> JOIN(t2, OP(\"=\", qual(\"p\", \"provider_id\"), qual(\"pr\", \"id\")), left=True, right=True)\n",
    "\n",
    "test_render(c)"
   ]
  },
  {
   "cell_type": "markdown",
   "id": "4156151b",
   "metadata": {},
   "source": [
    "A cross join can be constructed by setting the `on` argument to True."
   ]
  },
  {
   "cell_type": "code",
   "execution_count": 39,
   "id": "67ad6148-7053-4810-84d2-910fbff8f94c",
   "metadata": {
    "execution": {
     "iopub.execute_input": "2022-03-30T19:22:25.302918Z",
     "iopub.status.busy": "2022-03-30T19:22:25.302595Z",
     "iopub.status.idle": "2022-03-30T19:22:25.304103Z",
     "shell.execute_reply": "2022-03-30T19:22:25.304257Z"
    }
   },
   "outputs": [
    {
     "name": "stdout",
     "output_type": "stream",
     "text": [
      "clause: \n",
      "ID(person) >> AS(p) >> JOIN(ID(provider) >> AS(pr), LIT(True))\n",
      "\n",
      "--------------------------------------------------------------------------------\n",
      "query: \n",
      "\"person\" AS \"p\"\n",
      "CROSS JOIN \"provider\" AS \"pr\"\n"
     ]
    }
   ],
   "source": [
    "t1 = alias(S.person, \"p\")\n",
    "t2 = alias(S.provider, \"pr\")\n",
    "c = t1 >> JOIN(t2, on=True)\n",
    "\n",
    "test_render(c)"
   ]
  },
  {
   "cell_type": "markdown",
   "id": "00527f6c",
   "metadata": {},
   "source": [
    "Writing a lateral join"
   ]
  },
  {
   "cell_type": "code",
   "execution_count": 40,
   "id": "6886ed85-1565-4f57-b59a-eda5a46f7c5f",
   "metadata": {
    "execution": {
     "iopub.execute_input": "2022-03-30T19:22:25.306757Z",
     "iopub.status.busy": "2022-03-30T19:22:25.306467Z",
     "iopub.status.idle": "2022-03-30T19:22:25.307790Z",
     "shell.execute_reply": "2022-03-30T19:22:25.307965Z"
    }
   },
   "outputs": [
    {
     "name": "stdout",
     "output_type": "stream",
     "text": [
      "query: \n",
      "SELECT\n",
      "  \"p\".\"person_id\", \n",
      "  \"vo\".\"visit_start_date\"\n",
      "FROM \"person\" AS \"p\"\n",
      "LEFT JOIN LATERAL (\n",
      "  SELECT \"vo\".\"visit_start_date\"\n",
      "  FROM \"visit_occurence\" AS \"vo\"\n",
      "  WHERE (\"p\".\"person_id\" = \"vo\".\"person_id\")\n",
      "  ORDER BY \"vo\".\"start_date\" DESC\n",
      "  LIMIT 1\n",
      ") AS \"vo\" ON TRUE\n"
     ]
    }
   ],
   "source": [
    "t1 = FROM(alias(\"person\", \"p\"))\n",
    "t2 = (\n",
    "    FROM(alias(\"visit_occurence\", \"vo\")) >> \n",
    "    WHERE(OP(\"=\", qual(\"p\", \"person_id\"), qual(\"vo\", \"person_id\"))) >>\n",
    "    ORDER(qual(\"vo\", \"start_date\") >> SORT(ValueOrder.DESC)) >>\n",
    "    LIMIT(1) >>\n",
    "    SELECT(qual(\"vo\", \"visit_start_date\")) >>\n",
    "    AS(S(\"vo\"))\n",
    ")\n",
    "c = t1 >> JOIN(t2, on=True, left=True, lateral=True) >> SELECT(qual(\"p\", \"person_id\"), qual(\"vo\", \"visit_start_date\"))\n",
    "\n",
    "test_render(c, only_query=True)"
   ]
  },
  {
   "cell_type": "markdown",
   "id": "07e488da-06fe-40d5-a325-277c2ef9af47",
   "metadata": {
    "tags": [],
    "toc-hr-collapsed": true
   },
   "source": [
    "#### Group"
   ]
  },
  {
   "cell_type": "markdown",
   "id": "95bc58bd",
   "metadata": {},
   "source": [
    "A SQL `Group By` expression is constructed with the `GROUP` clause."
   ]
  },
  {
   "cell_type": "code",
   "execution_count": 41,
   "id": "aa813611-86df-4ba2-8d8c-cfef78b5ebf0",
   "metadata": {
    "execution": {
     "iopub.execute_input": "2022-03-30T19:22:25.309938Z",
     "iopub.status.busy": "2022-03-30T19:22:25.309660Z",
     "iopub.status.idle": "2022-03-30T19:22:25.310862Z",
     "shell.execute_reply": "2022-03-30T19:22:25.311011Z"
    }
   },
   "outputs": [
    {
     "name": "stdout",
     "output_type": "stream",
     "text": [
      "clause: \n",
      "ID(person) >> FROM() >> GROUP(ID(year_of_birth)) >>\n",
      "SELECT(ID(year_of_birth), AGG(\"COUNT\", OP(\"*\")))\n",
      "\n",
      "--------------------------------------------------------------------------------\n",
      "query: \n",
      "SELECT\n",
      "  \"year_of_birth\", \n",
      "  COUNT(*)\n",
      "FROM \"person\"\n",
      "GROUP BY \"year_of_birth\"\n"
     ]
    }
   ],
   "source": [
    "c = FROM(S.person) >> GROUP(S.year_of_birth) >> SELECT(S.year_of_birth, AGG(\"COUNT\", S(\"*\")))\n",
    "test_render(c)"
   ]
  },
  {
   "cell_type": "markdown",
   "id": "1880db8d-f73b-4bba-9f64-19b351c7ff9c",
   "metadata": {
    "tags": [],
    "toc-hr-collapsed": true
   },
   "source": [
    "#### Having"
   ]
  },
  {
   "cell_type": "markdown",
   "id": "0f8b0e55",
   "metadata": {},
   "source": [
    "The SQL `Having` expression is constructed using the `HAVING` clause."
   ]
  },
  {
   "cell_type": "code",
   "execution_count": 42,
   "id": "58bfe8ec-bc5a-49f3-8871-e0fb992c082c",
   "metadata": {
    "execution": {
     "iopub.execute_input": "2022-03-30T19:22:25.313019Z",
     "iopub.status.busy": "2022-03-30T19:22:25.312715Z",
     "iopub.status.idle": "2022-03-30T19:22:25.313979Z",
     "shell.execute_reply": "2022-03-30T19:22:25.314126Z"
    }
   },
   "outputs": [
    {
     "name": "stdout",
     "output_type": "stream",
     "text": [
      "clause: \n",
      "ID(person) >> FROM() >> GROUP(ID(year_of_birth)) >>\n",
      "HAVING(OP(\">\", AGG(\"COUNT\", OP(\"*\")), LIT(10))) >>\n",
      "SELECT(ID(year_of_birth))\n",
      "\n",
      "--------------------------------------------------------------------------------\n",
      "query: \n",
      "SELECT \"year_of_birth\"\n",
      "FROM \"person\"\n",
      "GROUP BY \"year_of_birth\"\n",
      "HAVING (COUNT(*) > 10)\n"
     ]
    }
   ],
   "source": [
    "c = FROM(S.person) >> GROUP(S.year_of_birth) >> HAVING(OP(\">\", AGG(\"COUNT\", S(\"*\")), 10)) >> SELECT(S.year_of_birth)\n",
    "test_render(c)"
   ]
  },
  {
   "cell_type": "markdown",
   "id": "18cb31b7-5119-4509-9daa-f568e74cff9a",
   "metadata": {
    "tags": [],
    "toc-hr-collapsed": true
   },
   "source": [
    "#### Order"
   ]
  },
  {
   "cell_type": "markdown",
   "id": "bb885a1e",
   "metadata": {},
   "source": [
    "An `ORDER BY` expression is constructed using the `ORDER` clause. The order of values in a column is specified using a `SORT` object. "
   ]
  },
  {
   "cell_type": "code",
   "execution_count": 43,
   "id": "d3edba00",
   "metadata": {
    "execution": {
     "iopub.execute_input": "2022-03-30T19:22:25.316163Z",
     "iopub.status.busy": "2022-03-30T19:22:25.315854Z",
     "iopub.status.idle": "2022-03-30T19:22:25.317192Z",
     "shell.execute_reply": "2022-03-30T19:22:25.317363Z"
    }
   },
   "outputs": [
    {
     "name": "stdout",
     "output_type": "stream",
     "text": [
      "clause: \n",
      "ID(person) >> FROM() >> ORDER(ID(year_of_birth) >> SORT(ASC), ID(person_id)) >>\n",
      "SELECT(ID(person_id))\n",
      "\n",
      "--------------------------------------------------------------------------------\n",
      "query: \n",
      "SELECT \"person_id\"\n",
      "FROM \"person\"\n",
      "ORDER BY\n",
      "  \"year_of_birth\" ASC, \n",
      "  \"person_id\"\n"
     ]
    }
   ],
   "source": [
    "c = FROM(S.person) >> ORDER(\n",
    "    S.year_of_birth >> SORT(ValueOrder.ASC), \n",
    "    S.person_id\n",
    ") >> SELECT(S.person_id)\n",
    "test_render(c)"
   ]
  },
  {
   "cell_type": "markdown",
   "id": "1263b12d",
   "metadata": {},
   "source": [
    "`ASC` and `DESC` are shorthands for the `SORT` object. "
   ]
  },
  {
   "cell_type": "code",
   "execution_count": 44,
   "id": "d9090f0c-d163-4441-977d-8904931d4075",
   "metadata": {
    "execution": {
     "iopub.execute_input": "2022-03-30T19:22:25.319268Z",
     "iopub.status.busy": "2022-03-30T19:22:25.318981Z",
     "iopub.status.idle": "2022-03-30T19:22:25.320347Z",
     "shell.execute_reply": "2022-03-30T19:22:25.320501Z"
    }
   },
   "outputs": [
    {
     "name": "stdout",
     "output_type": "stream",
     "text": [
      "query: \n",
      "SELECT \"person_id\"\n",
      "FROM \"person\"\n",
      "ORDER BY\n",
      "  \"year_of_birth\" DESC NULLS FIRST, \n",
      "  \"city\" ASC, \n",
      "  \"person_id\"\n"
     ]
    }
   ],
   "source": [
    "c = FROM(S.person) >> ORDER(\n",
    "    S.year_of_birth >> SORT(ValueOrder.DESC, nulls=NullsOrder.FIRST), \n",
    "    S.city >> SORT(ValueOrder.ASC),\n",
    "    S.person_id\n",
    ") >> SELECT(S.person_id)\n",
    "test_render(c, only_query=True)"
   ]
  },
  {
   "cell_type": "markdown",
   "id": "3f933860-9251-4479-a3d4-a44bb8c93927",
   "metadata": {
    "tags": [],
    "toc-hr-collapsed": true
   },
   "source": [
    "#### Union"
   ]
  },
  {
   "cell_type": "markdown",
   "id": "d46168a9",
   "metadata": {},
   "source": [
    "`UNION` expressions are constructed using the `UNION` clause."
   ]
  },
  {
   "cell_type": "code",
   "execution_count": 45,
   "id": "7b4e76a3-db17-4425-93b6-2f179dbb8417",
   "metadata": {
    "execution": {
     "iopub.execute_input": "2022-03-30T19:22:25.322537Z",
     "iopub.status.busy": "2022-03-30T19:22:25.322256Z",
     "iopub.status.idle": "2022-03-30T19:22:25.323627Z",
     "shell.execute_reply": "2022-03-30T19:22:25.323776Z"
    }
   },
   "outputs": [
    {
     "name": "stdout",
     "output_type": "stream",
     "text": [
      "query: \n",
      "SELECT\n",
      "  \"person_id\", \n",
      "  \"measurement_date\" AS \"date\"\n",
      "FROM \"measurement\"\n",
      "UNION\n",
      "SELECT\n",
      "  \"person_id\", \n",
      "  \"observation_date\" AS \"date\"\n",
      "FROM \"observation\"\n"
     ]
    }
   ],
   "source": [
    "t1 = FROM(S.measurement) >> SELECT(S.person_id, alias(\"measurement_date\", \"date\"))\n",
    "t2 = FROM(S.observation) >> SELECT(S.person_id, alias(\"observation_date\", \"date\"))\n",
    "c = t1 >> UNION(t2)\n",
    "\n",
    "test_render(c, only_query=True)"
   ]
  },
  {
   "cell_type": "markdown",
   "id": "547b1c4d",
   "metadata": {},
   "source": [
    "Using the `all_` keyword arg to construct a `UNION ALL` expression."
   ]
  },
  {
   "cell_type": "code",
   "execution_count": 46,
   "id": "8ed3c47c-70e5-46fb-8305-3cb04050aaa5",
   "metadata": {
    "execution": {
     "iopub.execute_input": "2022-03-30T19:22:25.325794Z",
     "iopub.status.busy": "2022-03-30T19:22:25.325486Z",
     "iopub.status.idle": "2022-03-30T19:22:25.326873Z",
     "shell.execute_reply": "2022-03-30T19:22:25.327042Z"
    }
   },
   "outputs": [
    {
     "name": "stdout",
     "output_type": "stream",
     "text": [
      "query: \n",
      "SELECT\n",
      "  \"person_id\", \n",
      "  \"measurement_date\" AS \"date\"\n",
      "FROM \"measurement\"\n",
      "UNION ALL\n",
      "SELECT\n",
      "  \"person_id\", \n",
      "  \"observation_date\" AS \"date\"\n",
      "FROM \"observation\"\n"
     ]
    }
   ],
   "source": [
    "t1 = FROM(S.measurement) >> SELECT(S.person_id, alias(\"measurement_date\", \"date\"))\n",
    "t2 = FROM(S.observation) >> SELECT(S.person_id, alias(\"observation_date\", \"date\"))\n",
    "c = t1 >> UNION(t2, all_=True)\n",
    "\n",
    "test_render(c, only_query=True)"
   ]
  },
  {
   "cell_type": "markdown",
   "id": "d91d65d5",
   "metadata": {},
   "source": [
    "Example of a nested UNION clause"
   ]
  },
  {
   "cell_type": "code",
   "execution_count": 47,
   "id": "35ec25b4-5741-4a4e-b365-f8ba690936c9",
   "metadata": {
    "execution": {
     "iopub.execute_input": "2022-03-30T19:22:25.329317Z",
     "iopub.status.busy": "2022-03-30T19:22:25.329030Z",
     "iopub.status.idle": "2022-03-30T19:22:25.330343Z",
     "shell.execute_reply": "2022-03-30T19:22:25.330511Z"
    }
   },
   "outputs": [
    {
     "name": "stdout",
     "output_type": "stream",
     "text": [
      "query: \n",
      "SELECT \"person_id\"\n",
      "FROM (\n",
      "  SELECT\n",
      "    \"person_id\", \n",
      "    \"measurement_date\" AS \"date\"\n",
      "  FROM \"measurement\"\n",
      "  UNION ALL\n",
      "  SELECT\n",
      "    \"person_id\", \n",
      "    \"observation_date\" AS \"date\"\n",
      "  FROM \"observation\"\n",
      ") AS \"union\"\n",
      "WHERE (\"date\" > '2000-01-01')\n"
     ]
    }
   ],
   "source": [
    "import datetime\n",
    "\n",
    "t1 = FROM(S.measurement) >> SELECT(S.person_id, alias(\"measurement_date\", \"date\"))\n",
    "t2 = FROM(S.observation) >> SELECT(S.person_id, alias(\"observation_date\", \"date\"))\n",
    "c = t1 >> UNION(t2, all_=True) >> FROM() >> AS(S.union) >> WHERE(OP(\">\", S.date, datetime.date(2000, 1, 1))) >> SELECT(S.person_id)\n",
    "\n",
    "test_render(c, only_query=True)"
   ]
  },
  {
   "cell_type": "markdown",
   "id": "b6550543-9122-4af8-a8c9-cfe4fff463aa",
   "metadata": {
    "tags": [],
    "toc-hr-collapsed": true
   },
   "source": [
    "#### Values"
   ]
  },
  {
   "cell_type": "markdown",
   "id": "ba1ae41a",
   "metadata": {},
   "source": [
    "`VALUES` expressions are constructed using the `VALUES` clause. The common python data types are cast as SQL literals. "
   ]
  },
  {
   "cell_type": "code",
   "execution_count": 48,
   "id": "8b01cb18-a6c4-4fd4-a4a0-2620ee3949ad",
   "metadata": {
    "execution": {
     "iopub.execute_input": "2022-03-30T19:22:25.332392Z",
     "iopub.status.busy": "2022-03-30T19:22:25.332081Z",
     "iopub.status.idle": "2022-03-30T19:22:25.333338Z",
     "shell.execute_reply": "2022-03-30T19:22:25.333508Z"
    }
   },
   "outputs": [
    {
     "name": "stdout",
     "output_type": "stream",
     "text": [
      "query: \n",
      "VALUES\n",
      "  ('SQL', 1974),\n",
      "  ('Julia', 2012),\n",
      "  ('FunSQL', 2021)\n"
     ]
    }
   ],
   "source": [
    "c = VALUES([(\"SQL\", 1974), (\"Julia\", 2012), (\"FunSQL\", 2021)])\n",
    "test_render(c, only_query=True)"
   ]
  },
  {
   "cell_type": "markdown",
   "id": "a15c45bf",
   "metadata": {},
   "source": [
    "With only a single row of values"
   ]
  },
  {
   "cell_type": "code",
   "execution_count": 49,
   "id": "45fc2398-f296-4f39-86ed-f53bfc9e4c67",
   "metadata": {
    "execution": {
     "iopub.execute_input": "2022-03-30T19:22:25.335282Z",
     "iopub.status.busy": "2022-03-30T19:22:25.334985Z",
     "iopub.status.idle": "2022-03-30T19:22:25.336076Z",
     "shell.execute_reply": "2022-03-30T19:22:25.336290Z"
    }
   },
   "outputs": [
    {
     "name": "stdout",
     "output_type": "stream",
     "text": [
      "query: \n",
      "VALUES ('SQL', 'Julia', 'FunSQL')\n"
     ]
    }
   ],
   "source": [
    "c = VALUES([(\"SQL\", \"Julia\", \"FunSQL\")])\n",
    "test_render(c, only_query=True)"
   ]
  },
  {
   "cell_type": "markdown",
   "id": "d1a75de5",
   "metadata": {},
   "source": [
    "Nested `Values` expression in a `FROM` clause"
   ]
  },
  {
   "cell_type": "code",
   "execution_count": 50,
   "id": "26a57ef0-2ce1-4772-a2de-2b020c9c70e5",
   "metadata": {
    "execution": {
     "iopub.execute_input": "2022-03-30T19:22:25.338546Z",
     "iopub.status.busy": "2022-03-30T19:22:25.338274Z",
     "iopub.status.idle": "2022-03-30T19:22:25.339278Z",
     "shell.execute_reply": "2022-03-30T19:22:25.339501Z"
    }
   },
   "outputs": [
    {
     "name": "stdout",
     "output_type": "stream",
     "text": [
      "query: \n",
      "SELECT *\n",
      "FROM (\n",
      "  VALUES\n",
      "    ('SQL', 1974),\n",
      "    ('Julia', 2012),\n",
      "    ('FunSQL', 2021)\n",
      ") AS \"values\" (\"name\", \"year\") \n"
     ]
    }
   ],
   "source": [
    "c = (\n",
    "    VALUES([(\"SQL\", 1974), (\"Julia\", 2012), (\"FunSQL\", 2021)]) >> \n",
    "    AS(S.values, columns = [S.name, S.year]) >>\n",
    "    FROM() >>\n",
    "    SELECT(OP(\"*\"))\n",
    ")\n",
    "\n",
    "test_render(c, only_query=True)"
   ]
  },
  {
   "cell_type": "markdown",
   "id": "397c7d9d-70ad-4462-abd0-94dd1d6a1a26",
   "metadata": {
    "tags": [],
    "toc-hr-collapsed": true
   },
   "source": [
    "#### Window"
   ]
  },
  {
   "cell_type": "markdown",
   "id": "d96233ab",
   "metadata": {},
   "source": [
    "Window expressions are constructed using the `WINDOW` clause."
   ]
  },
  {
   "cell_type": "code",
   "execution_count": 51,
   "id": "e99ca204-fb1f-43fd-a72d-d648d5dafd44",
   "metadata": {
    "execution": {
     "iopub.execute_input": "2022-03-30T19:22:25.342198Z",
     "iopub.status.busy": "2022-03-30T19:22:25.341887Z",
     "iopub.status.idle": "2022-03-30T19:22:25.343087Z",
     "shell.execute_reply": "2022-03-30T19:22:25.343257Z"
    }
   },
   "outputs": [
    {
     "name": "stdout",
     "output_type": "stream",
     "text": [
      "clause: \n",
      "ID(person) >> FROM() >>\n",
      "WINDOW(PARTITION(ID(gender)) >> AS(w1),\n",
      "       ID(w1) >>\n",
      "       PARTITION(ID(year_of_birth),\n",
      "                 order_by = [ID(month_of_birth), ID(date_of_birth)]) >>\n",
      "       AS(w2)) >>\n",
      "SELECT(AGG(\"ROW_NUMBER\", over = ID(w1)), AGG(\"ROW_NUMBER\", over = ID(w2)))\n",
      "\n",
      "--------------------------------------------------------------------------------\n",
      "query: \n",
      "SELECT\n",
      "  (ROW_NUMBER() OVER (\"w1\")), \n",
      "  (ROW_NUMBER() OVER (\"w2\"))\n",
      "FROM \"person\"\n",
      "WINDOW\n",
      "  \"w1\" AS (PARTITION BY \"gender\"), \n",
      "  \"w2\" AS (\"w1\" PARTITION BY \"year_of_birth\" ORDER BY \"month_of_birth\", \"date_of_birth\")\n"
     ]
    }
   ],
   "source": [
    "t1 = PARTITION(S.gender) >> AS(S.w1)\n",
    "t2 = S.w1 >> PARTITION(S.year_of_birth, order_by=[S.month_of_birth, S.date_of_birth]) >> AS(S.w2)\n",
    "\n",
    "c = FROM(S.person) >> WINDOW(t1, t2) >> SELECT(S.w1 >> AGG(\"ROW_NUMBER\"), S.w2 >> AGG(\"ROW_NUMBER\"))\n",
    "test_render(c)"
   ]
  },
  {
   "cell_type": "markdown",
   "id": "5bf8ed3f-1cc2-4b07-a01f-5efb195c7d0e",
   "metadata": {
    "tags": [],
    "toc-hr-collapsed": true
   },
   "source": [
    "#### With"
   ]
  },
  {
   "cell_type": "markdown",
   "id": "9aafaf94",
   "metadata": {},
   "source": [
    "`CTE` (Common Table Expression) clauses are constructed using the `WITH` clause."
   ]
  },
  {
   "cell_type": "code",
   "execution_count": 52,
   "id": "13241c4a-a0fb-406c-97e3-449b46f09415",
   "metadata": {
    "execution": {
     "iopub.execute_input": "2022-03-30T19:22:25.345668Z",
     "iopub.status.busy": "2022-03-30T19:22:25.345381Z",
     "iopub.status.idle": "2022-03-30T19:22:25.346605Z",
     "shell.execute_reply": "2022-03-30T19:22:25.346762Z"
    }
   },
   "outputs": [
    {
     "name": "stdout",
     "output_type": "stream",
     "text": [
      "clause: \n",
      "ID(flights_from_mumbai) >> FROM() >> SELECT(OP(\"*\")) >>\n",
      "WITH(ID(flights) >> FROM() >> WHERE(OP(\"=\", ID(dest), LIT(\"Mumbai\"))) >>\n",
      "     SELECT(ID(flight_id), ID(airline)) >>\n",
      "     AS(flights_to_mumbai))\n",
      "\n",
      "--------------------------------------------------------------------------------\n",
      "query: \n",
      "WITH \"flights_to_mumbai\" AS (\n",
      "  SELECT\n",
      "    \"flight_id\", \n",
      "    \"airline\"\n",
      "  FROM \"flights\"\n",
      "  WHERE (\"dest\" = 'Mumbai')\n",
      ")\n",
      "SELECT *\n",
      "FROM \"flights_from_mumbai\"\n"
     ]
    }
   ],
   "source": [
    "cte = (\n",
    "    FROM(S.flights) >> \n",
    "    WHERE(OP(\"=\", S.dest, \"Mumbai\")) >>\n",
    "    SELECT(S.flight_id, S.airline) >>\n",
    "    AS(S.flights_to_mumbai)\n",
    ")\n",
    "\n",
    "c = FROM(S.flights_from_mumbai) >> SELECT(S(\"*\")) >> WITH(cte)\n",
    "test_render(c)"
   ]
  },
  {
   "cell_type": "markdown",
   "id": "122c78a2-7ca8-4534-814f-60782fdc572d",
   "metadata": {},
   "source": [
    "The `WITH` clause can also be used to construct a recursive CTE."
   ]
  },
  {
   "cell_type": "code",
   "execution_count": 53,
   "id": "04d12aff-1a71-4e41-a62a-0dfe520fa284",
   "metadata": {
    "execution": {
     "iopub.execute_input": "2022-03-30T19:22:25.349191Z",
     "iopub.status.busy": "2022-03-30T19:22:25.348905Z",
     "iopub.status.idle": "2022-03-30T19:22:25.350214Z",
     "shell.execute_reply": "2022-03-30T19:22:25.350364Z"
    }
   },
   "outputs": [
    {
     "name": "stdout",
     "output_type": "stream",
     "text": [
      "clause: \n",
      "ID(counter) >> FROM() >> SELECT(ID(x)) >>\n",
      "WITH(recursive = True,\n",
      "     SELECT(LIT(1)) >> UNION(SELECT(OP(\"+\", ID(x), LIT(1))) >> LIMIT(100)) >>\n",
      "     AS(counter, columns = [x]))\n",
      "\n",
      "--------------------------------------------------------------------------------\n",
      "query: \n",
      "WITH RECURSIVE \"counter\" (\"x\")  AS (\n",
      "  SELECT 1\n",
      "  UNION\n",
      "  SELECT (\"x\" + 1)\n",
      "  LIMIT 100\n",
      ")\n",
      "SELECT \"x\"\n",
      "FROM \"counter\"\n"
     ]
    }
   ],
   "source": [
    "cte = SELECT(1) >> UNION(SELECT(OP(\"+\", S.x, 1)) >> LIMIT(100)) >> AS(S.counter, columns=[S.x])\n",
    "\n",
    "c = FROM(S.counter) >> SELECT(S.x) >> WITH(cte, recursive=True)\n",
    "test_render(c)"
   ]
  },
  {
   "cell_type": "code",
   "execution_count": null,
   "id": "311b6a1e",
   "metadata": {},
   "outputs": [],
   "source": []
  }
 ],
 "metadata": {
  "kernelspec": {
   "display_name": "Python 3",
   "language": "python",
   "name": "python3"
  },
  "language_info": {
   "codemirror_mode": {
    "name": "ipython",
    "version": 3
   },
   "file_extension": ".py",
   "mimetype": "text/x-python",
   "name": "python",
   "nbconvert_exporter": "python",
   "pygments_lexer": "ipython3",
   "version": "3.9.5"
  }
 },
 "nbformat": 4,
 "nbformat_minor": 5
}
