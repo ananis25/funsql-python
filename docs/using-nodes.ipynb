{
 "cells": [
  {
   "cell_type": "markdown",
   "metadata": {},
   "source": [
    "NOTE: This notebook gets rendered with all cells executed in the `docs` directory.     "
   ]
  },
  {
   "cell_type": "markdown",
   "metadata": {},
   "source": [
    "## Working with Nodes"
   ]
  },
  {
   "cell_type": "code",
   "execution_count": 1,
   "metadata": {
    "execution": {
     "iopub.execute_input": "2022-06-29T19:59:13.990227Z",
     "iopub.status.busy": "2022-06-29T19:59:13.989363Z",
     "iopub.status.idle": "2022-06-29T19:59:14.008415Z",
     "shell.execute_reply": "2022-06-29T19:59:14.008762Z"
    }
   },
   "outputs": [],
   "source": [
    "from funsql import *"
   ]
  },
  {
   "cell_type": "markdown",
   "metadata": {},
   "source": [
    "To start constructing queries, we first need specify the database model - the tables and schemas we write queries against. "
   ]
  },
  {
   "cell_type": "code",
   "execution_count": 2,
   "metadata": {
    "execution": {
     "iopub.execute_input": "2022-06-29T19:59:14.014336Z",
     "iopub.status.busy": "2022-06-29T19:59:14.013800Z",
     "iopub.status.idle": "2022-06-29T19:59:14.015318Z",
     "shell.execute_reply": "2022-06-29T19:59:14.015744Z"
    }
   },
   "outputs": [],
   "source": [
    "concept = SQLTable(S.concept, [S.concept_id, S.vocab_id, S.concept_code])\n",
    "\n",
    "location = SQLTable(S.location, [S.location_id, S.city, S.state])\n",
    "\n",
    "person = SQLTable(\n",
    "    S.person,\n",
    "    [\n",
    "        S.person_id,\n",
    "        S.year_of_birth,\n",
    "        S.month_of_birth,\n",
    "        S.day_of_birth,\n",
    "        S.birth_datetime,\n",
    "        S.location_id,\n",
    "    ],\n",
    ")\n",
    "\n",
    "visit_occurence = SQLTable(\n",
    "    S.visit_occurence,\n",
    "    [S.visit_occurence_id, S.person_id, S.visit_start_date, S.visit_end_date],\n",
    ")\n",
    "\n",
    "measurement = SQLTable(\n",
    "    S.measurement,\n",
    "    [S.measurement_id, S.person_id, S.measurement_concept_id, S.measurement_date],\n",
    ")\n",
    "\n",
    "observation = SQLTable(\n",
    "    S.observation,\n",
    "    [S.observation_id, S.person_id, S.observation_concept_id, S.observation_date],\n",
    ")"
   ]
  },
  {
   "cell_type": "markdown",
   "metadata": {},
   "source": [
    "FunSQL code has a lot of objects of the form - `S.{...}`, which is a shorthand to create `Symbol` objects. A `Symbol` is a wrapper around a string, so we can distinguish between identifiers (table/column/function names)\n",
    "and literal strings values (say, values in the TEXT column _user_name_). So, \n",
    "* `SELECT(S(\"user_name\"))` corresponds to: SELECT user_name\n",
    "* `SELECT(\"user_name\")` corresponds to: SELECT 'user_name'\n",
    "\n"
   ]
  },
  {
   "cell_type": "markdown",
   "metadata": {},
   "source": [
    "However, most class constructors accept both strings and Symbols if it is clear that an identifier is expected. "
   ]
  },
  {
   "cell_type": "markdown",
   "metadata": {
    "tags": []
   },
   "source": [
    "### Writing a query"
   ]
  },
  {
   "cell_type": "markdown",
   "metadata": {},
   "source": [
    "FunSQL generates SQL queries by constructing a tree of SQL nodes. The node objects correspond to regular SQL words (or, close to it), and are connected together using the `>>` (rshift) operator. "
   ]
  },
  {
   "cell_type": "code",
   "execution_count": 3,
   "metadata": {
    "execution": {
     "iopub.execute_input": "2022-06-29T19:59:14.024305Z",
     "iopub.status.busy": "2022-06-29T19:59:14.023727Z",
     "iopub.status.idle": "2022-06-29T19:59:14.026324Z",
     "shell.execute_reply": "2022-06-29T19:59:14.026616Z"
    }
   },
   "outputs": [
    {
     "data": {
      "text/plain": [
       "let person = SQLTable(person, ...),\n",
       "    q1 = From(person),\n",
       "    q2 = q1 >> Where(Fun.\">\"(Get.year_of_birth, Lit(2000))),\n",
       "    q3 = q2 >> Select(Get.person_id),\n",
       "    q3\n",
       "end"
      ]
     },
     "execution_count": 3,
     "metadata": {},
     "output_type": "execute_result"
    }
   ],
   "source": [
    "q = From(person) >> Where(Fun(\">\", Get.year_of_birth, 2000)) >> Select(Get.person_id)\n",
    "q"
   ]
  },
  {
   "cell_type": "markdown",
   "metadata": {},
   "source": [
    "The SQL query can be generated using the `render` function. "
   ]
  },
  {
   "cell_type": "code",
   "execution_count": 4,
   "metadata": {
    "execution": {
     "iopub.execute_input": "2022-06-29T19:59:14.030349Z",
     "iopub.status.busy": "2022-06-29T19:59:14.029908Z",
     "iopub.status.idle": "2022-06-29T19:59:14.031455Z",
     "shell.execute_reply": "2022-06-29T19:59:14.031779Z"
    }
   },
   "outputs": [
    {
     "data": {
      "text/plain": [
       "query: \n",
       "SELECT \"person_1\".\"person_id\"\n",
       "FROM \"person\" AS \"person_1\"\n",
       "WHERE (\"person_1\".\"year_of_birth\" > 2000)"
      ]
     },
     "execution_count": 4,
     "metadata": {},
     "output_type": "execute_result"
    }
   ],
   "source": [
    "q = From(person) >> Where(Fun(\">\", Get.year_of_birth, 2000)) >> Select(Get.person_id)\n",
    "render(q, depth=RenderDepth.SERIALIZE)"
   ]
  },
  {
   "cell_type": "markdown",
   "metadata": {},
   "source": [
    "Queries with a parameter are rendered with a placeholder in the query string and a list of all the parameter names. "
   ]
  },
  {
   "cell_type": "code",
   "execution_count": 5,
   "metadata": {
    "execution": {
     "iopub.execute_input": "2022-06-29T19:59:14.035001Z",
     "iopub.status.busy": "2022-06-29T19:59:14.034563Z",
     "iopub.status.idle": "2022-06-29T19:59:14.036175Z",
     "shell.execute_reply": "2022-06-29T19:59:14.036492Z"
    }
   },
   "outputs": [
    {
     "data": {
      "text/plain": [
       "query: \n",
       "SELECT \"location_1\".\"state\"\n",
       "FROM \"location\" AS \"location_1\"\n",
       "WHERE (\"location_1\".\"city\" - $1)\n",
       "\n",
       "vars: [CITY_INPUT]"
      ]
     },
     "execution_count": 5,
     "metadata": {},
     "output_type": "execute_result"
    }
   ],
   "source": [
    "q = From(location) >> Where(Fun(\"-\", Get.city, Var.CITY_INPUT)) >> Select(Get.state)\n",
    "render(q, depth=RenderDepth.SERIALIZE)"
   ]
  },
  {
   "cell_type": "markdown",
   "metadata": {},
   "source": [
    "Ill formed queries raise an error. "
   ]
  },
  {
   "cell_type": "code",
   "execution_count": 6,
   "metadata": {
    "execution": {
     "iopub.execute_input": "2022-06-29T19:59:14.038735Z",
     "iopub.status.busy": "2022-06-29T19:59:14.038366Z",
     "iopub.status.idle": "2022-06-29T19:59:14.039553Z",
     "shell.execute_reply": "2022-06-29T19:59:14.039842Z"
    }
   },
   "outputs": [],
   "source": [
    "q = From(person) >> Agg.Count() >> Select(Get.person_id)\n",
    "# render(q)"
   ]
  },
  {
   "cell_type": "markdown",
   "metadata": {
    "tags": []
   },
   "source": [
    "## Node definitions"
   ]
  },
  {
   "cell_type": "markdown",
   "metadata": {
    "tags": []
   },
   "source": [
    "### Literals"
   ]
  },
  {
   "cell_type": "markdown",
   "metadata": {},
   "source": [
    "The `Lit` node is used to create SQL values. "
   ]
  },
  {
   "cell_type": "code",
   "execution_count": 7,
   "metadata": {
    "execution": {
     "iopub.execute_input": "2022-06-29T19:59:14.042338Z",
     "iopub.status.busy": "2022-06-29T19:59:14.041926Z",
     "iopub.status.idle": "2022-06-29T19:59:14.043419Z",
     "shell.execute_reply": "2022-06-29T19:59:14.043657Z"
    }
   },
   "outputs": [
    {
     "data": {
      "text/plain": [
       "Lit(\"SQL is fun!\")"
      ]
     },
     "execution_count": 7,
     "metadata": {},
     "output_type": "execute_result"
    }
   ],
   "source": [
    "q = Lit(\"SQL is fun!\")\n",
    "q"
   ]
  },
  {
   "cell_type": "markdown",
   "metadata": {},
   "source": [
    "In a `SELECT` clause, literal expressions without a name, get the alias `_`."
   ]
  },
  {
   "cell_type": "code",
   "execution_count": 8,
   "metadata": {
    "execution": {
     "iopub.execute_input": "2022-06-29T19:59:14.046076Z",
     "iopub.status.busy": "2022-06-29T19:59:14.045712Z",
     "iopub.status.idle": "2022-06-29T19:59:14.047259Z",
     "shell.execute_reply": "2022-06-29T19:59:14.047493Z"
    }
   },
   "outputs": [
    {
     "data": {
      "text/plain": [
       "query: \n",
       "SELECT 'SQL is fun!' AS \"_\""
      ]
     },
     "execution_count": 8,
     "metadata": {},
     "output_type": "execute_result"
    }
   ],
   "source": [
    "q = Select(\"SQL is fun!\")\n",
    "render(q)"
   ]
  },
  {
   "cell_type": "markdown",
   "metadata": {},
   "source": [
    "The regular python datatypes are automatically converted to a SQL literal, when used in the context of a SQL node. "
   ]
  },
  {
   "cell_type": "code",
   "execution_count": 9,
   "metadata": {
    "execution": {
     "iopub.execute_input": "2022-06-29T19:59:14.050561Z",
     "iopub.status.busy": "2022-06-29T19:59:14.050227Z",
     "iopub.status.idle": "2022-06-29T19:59:14.051725Z",
     "shell.execute_reply": "2022-06-29T19:59:14.051992Z"
    }
   },
   "outputs": [
    {
     "data": {
      "text/plain": [
       "Select(Lit(NULL) >> As(null),\n",
       "       Lit(10) >> As(number),\n",
       "       Lit(\"funsql\") >> As(string),\n",
       "       Lit(TIMESTAMP '2020-01-01T00:00:00') >> As(time))"
      ]
     },
     "execution_count": 9,
     "metadata": {},
     "output_type": "execute_result"
    }
   ],
   "source": [
    "import datetime\n",
    "\n",
    "q = Select(\n",
    "    aka(None, \"null\"),\n",
    "    aka(10, S.number),\n",
    "    aka(\"funsql\", S.string),\n",
    "    aka(datetime.datetime(2020, 1, 1, 0, 0, 0), \"time\"),\n",
    ")\n",
    "q"
   ]
  },
  {
   "cell_type": "markdown",
   "metadata": {
    "tags": []
   },
   "source": [
    "### Attributes"
   ]
  },
  {
   "cell_type": "markdown",
   "metadata": {
    "tags": []
   },
   "source": [
    "#### Creating references"
   ]
  },
  {
   "cell_type": "markdown",
   "metadata": {},
   "source": [
    "The `Get` node is used to create table/column references. "
   ]
  },
  {
   "cell_type": "code",
   "execution_count": 10,
   "metadata": {
    "execution": {
     "iopub.execute_input": "2022-06-29T19:59:14.054327Z",
     "iopub.status.busy": "2022-06-29T19:59:14.053971Z",
     "iopub.status.idle": "2022-06-29T19:59:14.055215Z",
     "shell.execute_reply": "2022-06-29T19:59:14.055469Z"
    }
   },
   "outputs": [
    {
     "data": {
      "text/plain": [
       "Get.person_id"
      ]
     },
     "execution_count": 10,
     "metadata": {},
     "output_type": "execute_result"
    }
   ],
   "source": [
    "q = Get(S.person_id)\n",
    "q"
   ]
  },
  {
   "cell_type": "markdown",
   "metadata": {},
   "source": [
    "Hierarchical references can also be created. "
   ]
  },
  {
   "cell_type": "code",
   "execution_count": 11,
   "metadata": {
    "execution": {
     "iopub.execute_input": "2022-06-29T19:59:14.057605Z",
     "iopub.status.busy": "2022-06-29T19:59:14.057250Z",
     "iopub.status.idle": "2022-06-29T19:59:14.058586Z",
     "shell.execute_reply": "2022-06-29T19:59:14.058798Z"
    }
   },
   "outputs": [
    {
     "data": {
      "text/plain": [
       "Get.person.person_id"
      ]
     },
     "execution_count": 11,
     "metadata": {},
     "output_type": "execute_result"
    }
   ],
   "source": [
    "q = Get.person.person_id  # equivalent to: Get.person >> Get.person_id\n",
    "q"
   ]
  },
  {
   "cell_type": "markdown",
   "metadata": {},
   "source": [
    "For reference names starting with an underscore, use the function call syntax instead of the `.` accessor. This is just so we don't get name conflicts with python internal methods."
   ]
  },
  {
   "cell_type": "code",
   "execution_count": 12,
   "metadata": {
    "execution": {
     "iopub.execute_input": "2022-06-29T19:59:14.060837Z",
     "iopub.status.busy": "2022-06-29T19:59:14.060501Z",
     "iopub.status.idle": "2022-06-29T19:59:14.061766Z",
     "shell.execute_reply": "2022-06-29T19:59:14.061971Z"
    }
   },
   "outputs": [
    {
     "data": {
      "text/plain": [
       "Get._person"
      ]
     },
     "execution_count": 12,
     "metadata": {},
     "output_type": "execute_result"
    }
   ],
   "source": [
    "Get(\"_person\")"
   ]
  },
  {
   "cell_type": "markdown",
   "metadata": {},
   "source": [
    "`Get` can also be used to create bound references. "
   ]
  },
  {
   "cell_type": "code",
   "execution_count": 13,
   "metadata": {
    "execution": {
     "iopub.execute_input": "2022-06-29T19:59:14.064327Z",
     "iopub.status.busy": "2022-06-29T19:59:14.064010Z",
     "iopub.status.idle": "2022-06-29T19:59:14.065225Z",
     "shell.execute_reply": "2022-06-29T19:59:14.065471Z"
    }
   },
   "outputs": [
    {
     "data": {
      "text/plain": [
       "Where(Fun.\"=\"(From(SQLTable(person, ...)) >> Get.year_of_birth, Lit(2000))) >>\n",
       "Get.person_id"
      ]
     },
     "execution_count": 13,
     "metadata": {},
     "output_type": "execute_result"
    }
   ],
   "source": [
    "q = From(person)\n",
    "q = Where(Fun(\"=\", q >> Get(S.year_of_birth), 2000))\n",
    "q = q >> Get.person_id\n",
    "q"
   ]
  },
  {
   "cell_type": "markdown",
   "metadata": {},
   "source": [
    "Contrast this with an unbound reference, where the reference is resolved at render time by looking into the references available at the parent node. "
   ]
  },
  {
   "cell_type": "code",
   "execution_count": 14,
   "metadata": {
    "execution": {
     "iopub.execute_input": "2022-06-29T19:59:14.067773Z",
     "iopub.status.busy": "2022-06-29T19:59:14.067459Z",
     "iopub.status.idle": "2022-06-29T19:59:14.068749Z",
     "shell.execute_reply": "2022-06-29T19:59:14.068953Z"
    }
   },
   "outputs": [
    {
     "data": {
      "text/plain": [
       "let person = SQLTable(person, ...),\n",
       "    q1 = From(person),\n",
       "    q2 = q1 >> Group(Get.city),\n",
       "    q3 = q2 >> Select(Get.city),\n",
       "    q3\n",
       "end"
      ]
     },
     "execution_count": 14,
     "metadata": {},
     "output_type": "execute_result"
    }
   ],
   "source": [
    "q = From(person) >> Group(Get.city) >> Select(Get.city)\n",
    "q"
   ]
  },
  {
   "cell_type": "markdown",
   "metadata": {},
   "source": [
    "`Get` is used to dereference an alias created using the `As` node."
   ]
  },
  {
   "cell_type": "code",
   "execution_count": 15,
   "metadata": {
    "execution": {
     "iopub.execute_input": "2022-06-29T19:59:14.071239Z",
     "iopub.status.busy": "2022-06-29T19:59:14.070941Z",
     "iopub.status.idle": "2022-06-29T19:59:14.072277Z",
     "shell.execute_reply": "2022-06-29T19:59:14.072466Z"
    }
   },
   "outputs": [
    {
     "data": {
      "text/plain": [
       "query: \n",
       "SELECT \"person_1\".\"person_id\"\n",
       "FROM \"person\" AS \"person_1\""
      ]
     },
     "execution_count": 15,
     "metadata": {},
     "output_type": "execute_result"
    }
   ],
   "source": [
    "q = From(person) >> As(S.p) >> Select(Get.p.person_id)\n",
    "render(q)"
   ]
  },
  {
   "cell_type": "markdown",
   "metadata": {},
   "source": [
    "This is useful when say, disambiguating the results of a Join."
   ]
  },
  {
   "cell_type": "code",
   "execution_count": 16,
   "metadata": {
    "execution": {
     "iopub.execute_input": "2022-06-29T19:59:14.075213Z",
     "iopub.status.busy": "2022-06-29T19:59:14.074919Z",
     "iopub.status.idle": "2022-06-29T19:59:14.076157Z",
     "shell.execute_reply": "2022-06-29T19:59:14.076448Z"
    }
   },
   "outputs": [
    {
     "data": {
      "text/plain": [
       "query: \n",
       "SELECT\n",
       "  \"person_1\".\"person_id\", \n",
       "  \"location_1\".\"state\"\n",
       "FROM \"person\" AS \"person_1\"\n",
       "INNER JOIN \"location\" AS \"location_1\" ON (\"person_1\".\"location_id\" = \"location_1\".\"location_id\")"
      ]
     },
     "execution_count": 16,
     "metadata": {},
     "output_type": "execute_result"
    }
   ],
   "source": [
    "q = (\n",
    "    From(person)\n",
    "    >> As(S.p)\n",
    "    >> Join(\n",
    "        From(location) >> As(S.l), on=Fun(\"=\", Get.p.location_id, Get.l.location_id)\n",
    "    )\n",
    "    >> Select(Get.p.person_id, Get.l.state)\n",
    ")\n",
    "render(q)"
   ]
  },
  {
   "cell_type": "markdown",
   "metadata": {},
   "source": [
    "This could also be done using `bound` references. "
   ]
  },
  {
   "cell_type": "code",
   "execution_count": 17,
   "metadata": {
    "execution": {
     "iopub.execute_input": "2022-06-29T19:59:14.079049Z",
     "iopub.status.busy": "2022-06-29T19:59:14.078745Z",
     "iopub.status.idle": "2022-06-29T19:59:14.080052Z",
     "shell.execute_reply": "2022-06-29T19:59:14.080279Z"
    }
   },
   "outputs": [
    {
     "data": {
      "text/plain": [
       "query: \n",
       "SELECT\n",
       "  \"person_1\".\"person_id\", \n",
       "  \"location_1\".\"state\"\n",
       "FROM \"person\" AS \"person_1\"\n",
       "INNER JOIN \"location\" AS \"location_1\" ON (\"person_1\".\"location_id\" = \"location_1\".\"location_id\")"
      ]
     },
     "execution_count": 17,
     "metadata": {},
     "output_type": "execute_result"
    }
   ],
   "source": [
    "s1 = From(person)\n",
    "s2 = From(location)\n",
    "q = (\n",
    "    s1\n",
    "    >> Join(s2, on=Fun(\"=\", s1 >> Get.location_id, s2 >> Get.location_id))\n",
    "    >> Select(s1 >> Get.person_id, s2 >> Get.state)\n",
    ")\n",
    "render(q)"
   ]
  },
  {
   "cell_type": "markdown",
   "metadata": {
    "tags": []
   },
   "source": [
    "#### Incorrect references"
   ]
  },
  {
   "cell_type": "markdown",
   "metadata": {},
   "source": [
    "An error is raised when `Get` refers to an unknown attribute. "
   ]
  },
  {
   "cell_type": "code",
   "execution_count": 18,
   "metadata": {
    "execution": {
     "iopub.execute_input": "2022-06-29T19:59:14.081880Z",
     "iopub.status.busy": "2022-06-29T19:59:14.081597Z",
     "iopub.status.idle": "2022-06-29T19:59:14.082893Z",
     "shell.execute_reply": "2022-06-29T19:59:14.082711Z"
    }
   },
   "outputs": [],
   "source": [
    "q = Select(Get.person_id)\n",
    "# render(q)"
   ]
  },
  {
   "cell_type": "code",
   "execution_count": 19,
   "metadata": {
    "execution": {
     "iopub.execute_input": "2022-06-29T19:59:14.084446Z",
     "iopub.status.busy": "2022-06-29T19:59:14.084168Z",
     "iopub.status.idle": "2022-06-29T19:59:14.085249Z",
     "shell.execute_reply": "2022-06-29T19:59:14.085468Z"
    }
   },
   "outputs": [],
   "source": [
    "q = From(person) >> As(S.p) >> Select(Get.person_id)\n",
    "# render(q)"
   ]
  },
  {
   "cell_type": "markdown",
   "metadata": {},
   "source": [
    "An error is also raised when a reference can't be resolved unambiguously. "
   ]
  },
  {
   "cell_type": "code",
   "execution_count": 20,
   "metadata": {
    "execution": {
     "iopub.execute_input": "2022-06-29T19:59:14.087155Z",
     "iopub.status.busy": "2022-06-29T19:59:14.086878Z",
     "iopub.status.idle": "2022-06-29T19:59:14.087954Z",
     "shell.execute_reply": "2022-06-29T19:59:14.088131Z"
    }
   },
   "outputs": [],
   "source": [
    "q = From(person) >> Join(From(person), on=True) >> Select(Get.person_id)\n",
    "# render(q)"
   ]
  },
  {
   "cell_type": "markdown",
   "metadata": {},
   "source": [
    "Unexpected hierarchical references"
   ]
  },
  {
   "cell_type": "code",
   "execution_count": 21,
   "metadata": {
    "execution": {
     "iopub.execute_input": "2022-06-29T19:59:14.089706Z",
     "iopub.status.busy": "2022-06-29T19:59:14.089431Z",
     "iopub.status.idle": "2022-06-29T19:59:14.090533Z",
     "shell.execute_reply": "2022-06-29T19:59:14.090705Z"
    }
   },
   "outputs": [],
   "source": [
    "q = From(person) >> Select(Get.person_id.year_of_birth)\n",
    "# render(q)"
   ]
  },
  {
   "cell_type": "code",
   "execution_count": 22,
   "metadata": {
    "execution": {
     "iopub.execute_input": "2022-06-29T19:59:14.092277Z",
     "iopub.status.busy": "2022-06-29T19:59:14.092003Z",
     "iopub.status.idle": "2022-06-29T19:59:14.093034Z",
     "shell.execute_reply": "2022-06-29T19:59:14.093205Z"
    }
   },
   "outputs": [],
   "source": [
    "q = From(person) >> As(S.p) >> Select(Get.p)\n",
    "# render(q)"
   ]
  },
  {
   "cell_type": "markdown",
   "metadata": {},
   "source": [
    "Node bound references bound to an unrelated node, raise an error."
   ]
  },
  {
   "cell_type": "code",
   "execution_count": 23,
   "metadata": {
    "execution": {
     "iopub.execute_input": "2022-06-29T19:59:14.094952Z",
     "iopub.status.busy": "2022-06-29T19:59:14.094652Z",
     "iopub.status.idle": "2022-06-29T19:59:14.095802Z",
     "shell.execute_reply": "2022-06-29T19:59:14.095976Z"
    }
   },
   "outputs": [],
   "source": [
    "s1 = From(person)\n",
    "q = From(location) >> Where(Fun(\"=\", s1 >> Get.year_of_birth, 2000))\n",
    "# render(q)"
   ]
  },
  {
   "cell_type": "markdown",
   "metadata": {},
   "source": [
    "A node bound reference that can't be resolved unabiguously, also raises an error. "
   ]
  },
  {
   "cell_type": "code",
   "execution_count": 24,
   "metadata": {
    "execution": {
     "iopub.execute_input": "2022-06-29T19:59:14.097860Z",
     "iopub.status.busy": "2022-06-29T19:59:14.097570Z",
     "iopub.status.idle": "2022-06-29T19:59:14.098832Z",
     "shell.execute_reply": "2022-06-29T19:59:14.098650Z"
    }
   },
   "outputs": [],
   "source": [
    "s1 = From(person)\n",
    "q = (\n",
    "    s1\n",
    "    >> Join(aka(s1, \"another\"), on=Fun(\"!=\", Get.person_id, Get.another.person_id))\n",
    "    >> Select(s1 >> Get.person_id)\n",
    ")\n",
    "# render(q)"
   ]
  },
  {
   "cell_type": "markdown",
   "metadata": {
    "tags": []
   },
   "source": [
    "#### Define"
   ]
  },
  {
   "cell_type": "markdown",
   "metadata": {},
   "source": [
    "`Define` can be used to create a new expression, and attach it to a query. "
   ]
  },
  {
   "cell_type": "code",
   "execution_count": 25,
   "metadata": {
    "execution": {
     "iopub.execute_input": "2022-06-29T19:59:14.101213Z",
     "iopub.status.busy": "2022-06-29T19:59:14.100903Z",
     "iopub.status.idle": "2022-06-29T19:59:14.102316Z",
     "shell.execute_reply": "2022-06-29T19:59:14.102493Z"
    }
   },
   "outputs": [
    {
     "data": {
      "text/plain": [
       "query: \n",
       "SELECT\n",
       "  \"person_1\".\"person_id\", \n",
       "  (NOW() - \"person_1\".\"birth_datetime\") AS \"age\"\n",
       "FROM \"person\" AS \"person_1\""
      ]
     },
     "execution_count": 25,
     "metadata": {},
     "output_type": "execute_result"
    }
   ],
   "source": [
    "age = Fun(\"-\", Fun.now(), Get.birth_datetime)\n",
    "q = From(person) >> Define(aka(age, \"age\")) >> Select(Get.person_id, Get.age)\n",
    "render(q)"
   ]
  },
  {
   "cell_type": "markdown",
   "metadata": {},
   "source": [
    "The column added by `Define` is like a regular table/query column. "
   ]
  },
  {
   "cell_type": "code",
   "execution_count": 26,
   "metadata": {
    "execution": {
     "iopub.execute_input": "2022-06-29T19:59:14.105031Z",
     "iopub.status.busy": "2022-06-29T19:59:14.104724Z",
     "iopub.status.idle": "2022-06-29T19:59:14.106153Z",
     "shell.execute_reply": "2022-06-29T19:59:14.106325Z"
    }
   },
   "outputs": [
    {
     "data": {
      "text/plain": [
       "query: \n",
       "SELECT\n",
       "  \"person_1\".\"person_id\", \n",
       "  (NOW() - \"person_1\".\"birth_datetime\") AS \"age\"\n",
       "FROM \"person\" AS \"person_1\"\n",
       "WHERE ((NOW() - \"person_1\".\"birth_datetime\") >= 32)"
      ]
     },
     "execution_count": 26,
     "metadata": {},
     "output_type": "execute_result"
    }
   ],
   "source": [
    "age = Fun(\"-\", Fun.now(), Get.birth_datetime)\n",
    "person_w_age = From(person) >> Define(aka(age, \"age\"))\n",
    "q = person_w_age >> Where(Fun(\">=\", Get.age, 32)) >> Select(Get.person_id, Get.age)\n",
    "render(q)"
   ]
  },
  {
   "cell_type": "markdown",
   "metadata": {},
   "source": [
    "`Define` can be used to overwrite an existing field. "
   ]
  },
  {
   "cell_type": "code",
   "execution_count": 27,
   "metadata": {
    "execution": {
     "iopub.execute_input": "2022-06-29T19:59:14.108495Z",
     "iopub.status.busy": "2022-06-29T19:59:14.108155Z",
     "iopub.status.idle": "2022-06-29T19:59:14.109630Z",
     "shell.execute_reply": "2022-06-29T19:59:14.109783Z"
    }
   },
   "outputs": [
    {
     "data": {
      "text/plain": [
       "query: \n",
       "SELECT\n",
       "  \"person_1\".\"year_of_birth\", \n",
       "  \"person_1\".\"month_of_birth\", \n",
       "  \"person_1\".\"day_of_birth\", \n",
       "  \"person_1\".\"birth_datetime\", \n",
       "  \"person_1\".\"person_id\" AS \"location_id\", \n",
       "  \"person_1\".\"location_id\" AS \"person_id\"\n",
       "FROM \"person\" AS \"person_1\""
      ]
     },
     "execution_count": 27,
     "metadata": {},
     "output_type": "execute_result"
    }
   ],
   "source": [
    "q = From(person) >> Define(\n",
    "    aka(Get.person_id, \"location_id\"), aka(Get.location_id, \"person_id\")\n",
    ")\n",
    "render(q)"
   ]
  },
  {
   "cell_type": "markdown",
   "metadata": {},
   "source": [
    "`Define` can be used after a `Select`. "
   ]
  },
  {
   "cell_type": "code",
   "execution_count": 28,
   "metadata": {
    "execution": {
     "iopub.execute_input": "2022-06-29T19:59:14.112146Z",
     "iopub.status.busy": "2022-06-29T19:59:14.111803Z",
     "iopub.status.idle": "2022-06-29T19:59:14.113262Z",
     "shell.execute_reply": "2022-06-29T19:59:14.113436Z"
    }
   },
   "outputs": [
    {
     "data": {
      "text/plain": [
       "query: \n",
       "SELECT\n",
       "  \"person_2\".\"person_id\", \n",
       "  \"person_2\".\"year_of_birth\", \n",
       "  (NOW() - \"person_2\".\"year_of_birth\") AS \"age\"\n",
       "FROM (\n",
       "  SELECT\n",
       "    \"person_1\".\"person_id\", \n",
       "    \"person_1\".\"year_of_birth\"\n",
       "  FROM \"person\" AS \"person_1\"\n",
       ") AS \"person_2\""
      ]
     },
     "execution_count": 28,
     "metadata": {},
     "output_type": "execute_result"
    }
   ],
   "source": [
    "age = Fun(\"-\", Fun.now(), Get.year_of_birth)\n",
    "q = From(person) >> Select(Get.person_id, Get.year_of_birth) >> Define(aka(age, \"age\"))\n",
    "render(q)"
   ]
  },
  {
   "cell_type": "markdown",
   "metadata": {
    "tags": []
   },
   "source": [
    "### Variables"
   ]
  },
  {
   "cell_type": "markdown",
   "metadata": {},
   "source": [
    "`Var` is used to create a query variable. "
   ]
  },
  {
   "cell_type": "code",
   "execution_count": 29,
   "metadata": {
    "execution": {
     "iopub.execute_input": "2022-06-29T19:59:14.115266Z",
     "iopub.status.busy": "2022-06-29T19:59:14.114955Z",
     "iopub.status.idle": "2022-06-29T19:59:14.116404Z",
     "shell.execute_reply": "2022-06-29T19:59:14.116554Z"
    }
   },
   "outputs": [
    {
     "data": {
      "text/plain": [
       "Var.location_id"
      ]
     },
     "execution_count": 29,
     "metadata": {},
     "output_type": "execute_result"
    }
   ],
   "source": [
    "Var.location_id"
   ]
  },
  {
   "cell_type": "markdown",
   "metadata": {},
   "source": [
    "Unbound variables get serialized as query parameters. "
   ]
  },
  {
   "cell_type": "code",
   "execution_count": 30,
   "metadata": {
    "execution": {
     "iopub.execute_input": "2022-06-29T19:59:14.118692Z",
     "iopub.status.busy": "2022-06-29T19:59:14.118409Z",
     "iopub.status.idle": "2022-06-29T19:59:14.119968Z",
     "shell.execute_reply": "2022-06-29T19:59:14.119810Z"
    }
   },
   "outputs": [
    {
     "data": {
      "text/plain": [
       "query: \n",
       "SELECT \"person_1\".\"person_id\"\n",
       "FROM \"person\" AS \"person_1\"\n",
       "WHERE (\"person_1\".\"location_id\" = $1)\n",
       "\n",
       "vars: [location_id]"
      ]
     },
     "execution_count": 30,
     "metadata": {},
     "output_type": "execute_result"
    }
   ],
   "source": [
    "q = (\n",
    "    From(person)\n",
    "    >> Where(Fun(\"=\", Get.location_id, Var.location_id))\n",
    "    >> Select(Get.person_id)\n",
    ")\n",
    "render(q)"
   ]
  },
  {
   "cell_type": "markdown",
   "metadata": {},
   "source": [
    "query variables can be bound using the `Bind` operator. "
   ]
  },
  {
   "cell_type": "code",
   "execution_count": 31,
   "metadata": {
    "execution": {
     "iopub.execute_input": "2022-06-29T19:59:14.122389Z",
     "iopub.status.busy": "2022-06-29T19:59:14.122093Z",
     "iopub.status.idle": "2022-06-29T19:59:14.123484Z",
     "shell.execute_reply": "2022-06-29T19:59:14.123654Z"
    }
   },
   "outputs": [
    {
     "data": {
      "text/plain": [
       "query: \n",
       "SELECT\n",
       "  \"visit_occurence_1\".\"visit_occurence_id\", \n",
       "  \"visit_occurence_1\".\"person_id\", \n",
       "  \"visit_occurence_1\".\"visit_start_date\", \n",
       "  \"visit_occurence_1\".\"visit_end_date\"\n",
       "FROM \"visit_occurence\" AS \"visit_occurence_1\"\n",
       "WHERE (\"visit_occurence_1\".\"person_id\" = 210)"
      ]
     },
     "execution_count": 31,
     "metadata": {},
     "output_type": "execute_result"
    }
   ],
   "source": [
    "def q(p_id):\n",
    "    return (\n",
    "        From(visit_occurence)\n",
    "        >> Where(Fun(\"=\", Get.person_id, Var.PERSON))\n",
    "        >> Bind(aka(p_id, S.PERSON))\n",
    "    )\n",
    "\n",
    "\n",
    "render(q(210))"
   ]
  },
  {
   "cell_type": "markdown",
   "metadata": {},
   "source": [
    "`Bind` can also be used to create correlated queries. "
   ]
  },
  {
   "cell_type": "code",
   "execution_count": 32,
   "metadata": {
    "execution": {
     "iopub.execute_input": "2022-06-29T19:59:14.126303Z",
     "iopub.status.busy": "2022-06-29T19:59:14.126010Z",
     "iopub.status.idle": "2022-06-29T19:59:14.127334Z",
     "shell.execute_reply": "2022-06-29T19:59:14.127503Z"
    }
   },
   "outputs": [
    {
     "data": {
      "text/plain": [
       "query: \n",
       "SELECT \"person_1\".\"person_id\"\n",
       "FROM \"person\" AS \"person_1\"\n",
       "WHERE (EXISTS (\n",
       "  SELECT NULL\n",
       "  FROM \"visit_occurence\" AS \"visit_occurence_1\"\n",
       "  WHERE (\"visit_occurence_1\".\"person_id\" = \"person_1\".\"person_id\")\n",
       "))"
      ]
     },
     "execution_count": 32,
     "metadata": {},
     "output_type": "execute_result"
    }
   ],
   "source": [
    "def has_visit(p_id):\n",
    "    return (\n",
    "        From(visit_occurence)\n",
    "        >> Where(Fun(\"=\", Get.person_id, Var.PERSON))\n",
    "        >> Bind(aka(p_id, S.PERSON))\n",
    "    )\n",
    "\n",
    "\n",
    "q = From(person) >> Where(Fun.exists(has_visit(Get.person_id))) >> Select(Get.person_id)\n",
    "render(q)"
   ]
  },
  {
   "cell_type": "markdown",
   "metadata": {},
   "source": [
    "As a lateral `Join`."
   ]
  },
  {
   "cell_type": "code",
   "execution_count": 33,
   "metadata": {
    "execution": {
     "iopub.execute_input": "2022-06-29T19:59:14.130419Z",
     "iopub.status.busy": "2022-06-29T19:59:14.130129Z",
     "iopub.status.idle": "2022-06-29T19:59:14.131528Z",
     "shell.execute_reply": "2022-06-29T19:59:14.131707Z"
    }
   },
   "outputs": [
    {
     "data": {
      "text/plain": [
       "query: \n",
       "SELECT\n",
       "  \"person_1\".\"person_id\", \n",
       "  \"visit_1\".\"visit_start_date\"\n",
       "FROM \"person\" AS \"person_1\"\n",
       "LEFT JOIN LATERAL (\n",
       "  SELECT \"visit_occurence_1\".\"visit_start_date\"\n",
       "  FROM \"visit_occurence\" AS \"visit_occurence_1\"\n",
       "  WHERE (\"visit_occurence_1\".\"person_id\" = \"person_1\".\"person_id\")\n",
       ") AS \"visit_1\" ON TRUE"
      ]
     },
     "execution_count": 33,
     "metadata": {},
     "output_type": "execute_result"
    }
   ],
   "source": [
    "def visit_for_person(p_id):\n",
    "    return (\n",
    "        From(visit_occurence)\n",
    "        >> Where(Fun(\"=\", Get.person_id, Var.PERSON))\n",
    "        >> Bind(aka(p_id, S.PERSON))\n",
    "    )\n",
    "\n",
    "\n",
    "q = (\n",
    "    From(person)\n",
    "    >> Join(visit_for_person(Get.person_id) >> As(\"visit\"), on=True, left=True)\n",
    "    >> Select(Get.person_id, Get.visit.visit_start_date)\n",
    ")\n",
    "render(q)"
   ]
  },
  {
   "cell_type": "markdown",
   "metadata": {
    "tags": []
   },
   "source": [
    "### Functions and Operators"
   ]
  },
  {
   "cell_type": "markdown",
   "metadata": {},
   "source": [
    "Functions or Operators are represented using the `Fun` node. "
   ]
  },
  {
   "cell_type": "code",
   "execution_count": 34,
   "metadata": {
    "execution": {
     "iopub.execute_input": "2022-06-29T19:59:14.133675Z",
     "iopub.status.busy": "2022-06-29T19:59:14.133391Z",
     "iopub.status.idle": "2022-06-29T19:59:14.134774Z",
     "shell.execute_reply": "2022-06-29T19:59:14.134992Z"
    }
   },
   "outputs": [
    {
     "data": {
      "text/plain": [
       "Fun.\">\"(Get.year_of_birth, Lit(1940))"
      ]
     },
     "execution_count": 34,
     "metadata": {},
     "output_type": "execute_result"
    }
   ],
   "source": [
    "q = Fun(\">\", Get.year_of_birth, Lit(1940))\n",
    "q"
   ]
  },
  {
   "cell_type": "markdown",
   "metadata": {},
   "source": [
    "Function args can be nested queries. "
   ]
  },
  {
   "cell_type": "code",
   "execution_count": 35,
   "metadata": {
    "execution": {
     "iopub.execute_input": "2022-06-29T19:59:14.137274Z",
     "iopub.status.busy": "2022-06-29T19:59:14.136989Z",
     "iopub.status.idle": "2022-06-29T19:59:14.138287Z",
     "shell.execute_reply": "2022-06-29T19:59:14.138517Z"
    }
   },
   "outputs": [
    {
     "data": {
      "text/plain": [
       "query: \n",
       "SELECT (EXISTS (\n",
       "  SELECT NULL\n",
       "  FROM \"person\" AS \"person_1\"\n",
       "  WHERE (\"person_1\".\"year_of_birth\" < 2000)\n",
       ")) AS \"exists\""
      ]
     },
     "execution_count": 35,
     "metadata": {},
     "output_type": "execute_result"
    }
   ],
   "source": [
    "p = From(person) >> Where(Fun(\"<\", Get.year_of_birth, 2000))\n",
    "q = Select(Fun.exists(p))\n",
    "render(q)"
   ]
  },
  {
   "cell_type": "markdown",
   "metadata": {},
   "source": [
    "All kinds of SQL expressions and operators can be represented using the `Fun` node. "
   ]
  },
  {
   "cell_type": "code",
   "execution_count": 36,
   "metadata": {
    "execution": {
     "iopub.execute_input": "2022-06-29T19:59:14.141174Z",
     "iopub.status.busy": "2022-06-29T19:59:14.140865Z",
     "iopub.status.idle": "2022-06-29T19:59:14.142208Z",
     "shell.execute_reply": "2022-06-29T19:59:14.142430Z"
    }
   },
   "outputs": [
    {
     "data": {
      "text/plain": [
       "query: \n",
       "SELECT CAST(EXTRACT(YEAR FROM \"person_1\".\"birth_datetime\") AS INT) AS \"year_of_birth\"\n",
       "FROM \"person\" AS \"person_1\"\n",
       "WHERE ((\"person_1\".\"birth_datetime\" IS NULL) AND (\"person_1\".\"year_of_birth\" IS NOT NULL))"
      ]
     },
     "execution_count": 36,
     "metadata": {},
     "output_type": "execute_result"
    }
   ],
   "source": [
    "q = (\n",
    "    From(person)\n",
    "    >> Where(\n",
    "        Fun(\n",
    "            \"and\",\n",
    "            Fun(\"is null\", Get.birth_datetime),\n",
    "            Fun(\"is not null\", Get.year_of_birth),\n",
    "        )\n",
    "    )\n",
    "    >> Select(\n",
    "        aka(Fun.cast(Fun.extract(\"YEAR\", Get.birth_datetime), \"INT\"), \"year_of_birth\")\n",
    "    )\n",
    ")\n",
    "render(q)"
   ]
  },
  {
   "cell_type": "markdown",
   "metadata": {},
   "source": [
    "Redundant function expressions are not rendered. "
   ]
  },
  {
   "cell_type": "code",
   "execution_count": 37,
   "metadata": {
    "execution": {
     "iopub.execute_input": "2022-06-29T19:59:14.144494Z",
     "iopub.status.busy": "2022-06-29T19:59:14.144200Z",
     "iopub.status.idle": "2022-06-29T19:59:14.145565Z",
     "shell.execute_reply": "2022-06-29T19:59:14.145733Z"
    }
   },
   "outputs": [
    {
     "data": {
      "text/plain": [
       "query: \n",
       "SELECT \"person_1\".\"person_id\"\n",
       "FROM \"person\" AS \"person_1\""
      ]
     },
     "execution_count": 37,
     "metadata": {},
     "output_type": "execute_result"
    }
   ],
   "source": [
    "q = From(person) >> Select(Get.person_id) >> Where(Fun.AND())\n",
    "render(q)"
   ]
  },
  {
   "cell_type": "markdown",
   "metadata": {
    "tags": []
   },
   "source": [
    "### Append"
   ]
  },
  {
   "cell_type": "markdown",
   "metadata": {},
   "source": [
    "`Append` node represents a SQL UNION, that is it concatenates output from multiple queries."
   ]
  },
  {
   "cell_type": "code",
   "execution_count": 38,
   "metadata": {
    "execution": {
     "iopub.execute_input": "2022-06-29T19:59:14.148207Z",
     "iopub.status.busy": "2022-06-29T19:59:14.147891Z",
     "iopub.status.idle": "2022-06-29T19:59:14.149267Z",
     "shell.execute_reply": "2022-06-29T19:59:14.149414Z"
    }
   },
   "outputs": [
    {
     "data": {
      "text/plain": [
       "query: \n",
       "SELECT\n",
       "  \"measurement_1\".\"measurement_date\" AS \"date\", \n",
       "  \"measurement_1\".\"person_id\"\n",
       "FROM \"measurement\" AS \"measurement_1\"\n",
       "UNION ALL\n",
       "SELECT\n",
       "  \"observation_1\".\"observation_date\" AS \"date\", \n",
       "  \"observation_1\".\"person_id\"\n",
       "FROM \"observation\" AS \"observation_1\""
      ]
     },
     "execution_count": 38,
     "metadata": {},
     "output_type": "execute_result"
    }
   ],
   "source": [
    "q1 = From(measurement) >> Define(aka(Get.measurement_date, \"date\"))\n",
    "q2 = From(observation) >> Define(aka(Get.observation_date, \"date\"))\n",
    "q = q1 >> Append(q2)\n",
    "render(q)"
   ]
  },
  {
   "cell_type": "markdown",
   "metadata": {},
   "source": [
    "Another example"
   ]
  },
  {
   "cell_type": "code",
   "execution_count": 39,
   "metadata": {
    "execution": {
     "iopub.execute_input": "2022-06-29T19:59:14.152758Z",
     "iopub.status.busy": "2022-06-29T19:59:14.152467Z",
     "iopub.status.idle": "2022-06-29T19:59:14.153836Z",
     "shell.execute_reply": "2022-06-29T19:59:14.154018Z"
    }
   },
   "outputs": [
    {
     "data": {
      "text/plain": [
       "query: \n",
       "SELECT\n",
       "  \"union_1\".\"person_id\", \n",
       "  \"union_1\".\"count\", \n",
       "  \"union_1\".\"count_2\" AS \"count_distinct\"\n",
       "FROM (\n",
       "  SELECT\n",
       "    \"measurement_1\".\"person_id\", \n",
       "    count(*) AS \"count\", \n",
       "    count(DISTINCT \"measurement_1\".\"measurement_concept_id\") AS \"count_2\"\n",
       "  FROM \"measurement\" AS \"measurement_1\"\n",
       "  GROUP BY \"measurement_1\".\"person_id\"\n",
       "  UNION ALL\n",
       "  SELECT\n",
       "    \"observation_1\".\"person_id\", \n",
       "    count(*) AS \"count\", \n",
       "    count(DISTINCT \"observation_1\".\"observation_concept_id\") AS \"count_2\"\n",
       "  FROM \"observation\" AS \"observation_1\"\n",
       "  GROUP BY \"observation_1\".\"person_id\"\n",
       ") AS \"union_1\""
      ]
     },
     "execution_count": 39,
     "metadata": {},
     "output_type": "execute_result"
    }
   ],
   "source": [
    "q1 = (\n",
    "    From(measurement)\n",
    "    >> Define(aka(Get.measurement_concept_id, \"concept_id\"))\n",
    "    >> Group(Get.person_id)\n",
    ")\n",
    "q2 = (\n",
    "    From(observation)\n",
    "    >> Define(aka(Get.observation_concept_id, \"concept_id\"))\n",
    "    >> Group(Get.person_id)\n",
    ")\n",
    "q = (\n",
    "    q1\n",
    "    >> Append(q2)\n",
    "    >> Select(\n",
    "        Get.person_id,\n",
    "        aka(Agg.count(), \"count\"),\n",
    "        aka(Agg.count(Get.concept_id, distinct=True), \"count_distinct\"),\n",
    "    )\n",
    ")\n",
    "render(q)"
   ]
  },
  {
   "cell_type": "markdown",
   "metadata": {},
   "source": [
    "`Append` aligns the columns of its subqueries before doing a UNION. "
   ]
  },
  {
   "cell_type": "code",
   "execution_count": 40,
   "metadata": {
    "execution": {
     "iopub.execute_input": "2022-06-29T19:59:14.156495Z",
     "iopub.status.busy": "2022-06-29T19:59:14.156219Z",
     "iopub.status.idle": "2022-06-29T19:59:14.157570Z",
     "shell.execute_reply": "2022-06-29T19:59:14.157783Z"
    }
   },
   "outputs": [
    {
     "data": {
      "text/plain": [
       "query: \n",
       "SELECT\n",
       "  \"measurement_2\".\"date\", \n",
       "  \"measurement_2\".\"person_id\"\n",
       "FROM (\n",
       "  SELECT\n",
       "    \"measurement_1\".\"person_id\", \n",
       "    \"measurement_1\".\"measurement_date\" AS \"date\"\n",
       "  FROM \"measurement\" AS \"measurement_1\"\n",
       ") AS \"measurement_2\"\n",
       "UNION ALL\n",
       "SELECT\n",
       "  \"observation_1\".\"observation_date\" AS \"date\", \n",
       "  \"observation_1\".\"person_id\"\n",
       "FROM \"observation\" AS \"observation_1\""
      ]
     },
     "execution_count": 40,
     "metadata": {},
     "output_type": "execute_result"
    }
   ],
   "source": [
    "q1 = From(measurement) >> Select(Get.person_id, aka(Get.measurement_date, \"date\"))\n",
    "q2 = From(observation) >> Select(aka(Get.observation_date, \"date\"), Get.person_id)\n",
    "q = q1 >> Append(q2)\n",
    "render(q)"
   ]
  },
  {
   "cell_type": "markdown",
   "metadata": {},
   "source": [
    "If an explicit `Select` is missing, the output includes only the columns common to the nested queries. "
   ]
  },
  {
   "cell_type": "code",
   "execution_count": 41,
   "metadata": {
    "execution": {
     "iopub.execute_input": "2022-06-29T19:59:14.159704Z",
     "iopub.status.busy": "2022-06-29T19:59:14.159424Z",
     "iopub.status.idle": "2022-06-29T19:59:14.160809Z",
     "shell.execute_reply": "2022-06-29T19:59:14.160993Z"
    }
   },
   "outputs": [
    {
     "data": {
      "text/plain": [
       "query: \n",
       "SELECT \"measurement_1\".\"person_id\"\n",
       "FROM \"measurement\" AS \"measurement_1\"\n",
       "UNION ALL\n",
       "SELECT \"observation_1\".\"person_id\"\n",
       "FROM \"observation\" AS \"observation_1\""
      ]
     },
     "execution_count": 41,
     "metadata": {},
     "output_type": "execute_result"
    }
   ],
   "source": [
    "q = From(measurement) >> Append(From(observation))\n",
    "render(q)"
   ]
  },
  {
   "cell_type": "markdown",
   "metadata": {
    "tags": []
   },
   "source": [
    "### Iterate"
   ]
  },
  {
   "cell_type": "markdown",
   "metadata": {},
   "source": [
    "The `Iterate` node can be used to create a recursive CTE. "
   ]
  },
  {
   "cell_type": "code",
   "execution_count": 42,
   "metadata": {
    "execution": {
     "iopub.execute_input": "2022-06-29T19:59:14.164092Z",
     "iopub.status.busy": "2022-06-29T19:59:14.163760Z",
     "iopub.status.idle": "2022-06-29T19:59:14.165113Z",
     "shell.execute_reply": "2022-06-29T19:59:14.165332Z"
    }
   },
   "outputs": [
    {
     "data": {
      "text/plain": [
       "query: \n",
       "WITH RECURSIVE \"factorial_1\" (\"n\", \"prod\")  AS (\n",
       "  SELECT\n",
       "    1 AS \"n\", \n",
       "    1 AS \"prod\"\n",
       "  UNION ALL\n",
       "  SELECT\n",
       "    (\"factorial_2\".\"n\" + 1) AS \"n\", \n",
       "    ((\"factorial_2\".\"n\" + 1) * \"factorial_2\".\"prod\") AS \"prod\"\n",
       "  FROM \"factorial_1\" AS \"factorial_2\"\n",
       "  WHERE ((\"factorial_2\".\"n\" + 1) <= 10)\n",
       ")\n",
       "SELECT\n",
       "  \"factorial_1\".\"n\", \n",
       "  \"factorial_1\".\"prod\"\n",
       "FROM \"factorial_1\""
      ]
     },
     "execution_count": 42,
     "metadata": {},
     "output_type": "execute_result"
    }
   ],
   "source": [
    "q = Define(aka(1, \"n\"), aka(1, \"prod\")) >> Iterate(\n",
    "    From(S.factorial)\n",
    "    >> Define(aka(Fun(\"+\", Get.n, 1), \"n\"))\n",
    "    >> Define(aka(Fun(\"*\", Get.n, Get.prod), \"prod\"))\n",
    "    >> Where(Fun(\"<=\", Get.n, 10))\n",
    "    >> As(S.factorial)\n",
    ")\n",
    "render(q)"
   ]
  },
  {
   "cell_type": "markdown",
   "metadata": {},
   "source": [
    "The `Iterate` node output preserves only the columns present in both the base query and the iterator query. "
   ]
  },
  {
   "cell_type": "code",
   "execution_count": 43,
   "metadata": {
    "execution": {
     "iopub.execute_input": "2022-06-29T19:59:14.168179Z",
     "iopub.status.busy": "2022-06-29T19:59:14.167865Z",
     "iopub.status.idle": "2022-06-29T19:59:14.169245Z",
     "shell.execute_reply": "2022-06-29T19:59:14.169480Z"
    }
   },
   "outputs": [
    {
     "data": {
      "text/plain": [
       "query: \n",
       "WITH RECURSIVE \"self_1\" (\"m\")  AS (\n",
       "  SELECT 0 AS \"m\"\n",
       "  UNION ALL\n",
       "  SELECT (\"self_2\".\"m\" + 1) AS \"m\"\n",
       "  FROM \"self_1\" AS \"self_2\"\n",
       "  WHERE (\"self_2\".\"m\" < 10)\n",
       ")\n",
       "SELECT \"self_1\".\"m\"\n",
       "FROM \"self_1\""
      ]
     },
     "execution_count": 43,
     "metadata": {},
     "output_type": "execute_result"
    }
   ],
   "source": [
    "q = Define(aka(0, \"k\"), aka(0, \"m\")) >> Iterate(\n",
    "    From(S.self)\n",
    "    >> As(S.previous)\n",
    "    >> Where(Fun(\"<\", Get.previous.m, 10))\n",
    "    >> Define(aka(0, \"n\"), aka(Fun(\"+\", Get.previous.m, 1), \"m\"))\n",
    "    >> As(S.self)\n",
    ")\n",
    "render(q)"
   ]
  },
  {
   "cell_type": "markdown",
   "metadata": {
    "tags": []
   },
   "source": [
    "### As"
   ]
  },
  {
   "cell_type": "markdown",
   "metadata": {},
   "source": [
    "`As` node creates an alias for an expression. "
   ]
  },
  {
   "cell_type": "code",
   "execution_count": 44,
   "metadata": {
    "execution": {
     "iopub.execute_input": "2022-06-29T19:59:14.171574Z",
     "iopub.status.busy": "2022-06-29T19:59:14.171282Z",
     "iopub.status.idle": "2022-06-29T19:59:14.172628Z",
     "shell.execute_reply": "2022-06-29T19:59:14.172848Z"
    }
   },
   "outputs": [
    {
     "data": {
      "text/plain": [
       "query: \n",
       "SELECT \"person_2\".\"user\"\n",
       "FROM (\n",
       "  SELECT \"person_1\".\"person_id\" AS \"user\"\n",
       "  FROM \"person\" AS \"person_1\"\n",
       ") AS \"person_2\""
      ]
     },
     "execution_count": 44,
     "metadata": {},
     "output_type": "execute_result"
    }
   ],
   "source": [
    "q = From(person) >> Select(Get.person_id >> As(\"user\")) >> Select(Get.user)\n",
    "render(q)"
   ]
  },
  {
   "cell_type": "markdown",
   "metadata": {},
   "source": [
    "`As` can also create an alias for a subquery. "
   ]
  },
  {
   "cell_type": "code",
   "execution_count": 45,
   "metadata": {
    "execution": {
     "iopub.execute_input": "2022-06-29T19:59:14.174797Z",
     "iopub.status.busy": "2022-06-29T19:59:14.174496Z",
     "iopub.status.idle": "2022-06-29T19:59:14.175949Z",
     "shell.execute_reply": "2022-06-29T19:59:14.176098Z"
    }
   },
   "outputs": [
    {
     "data": {
      "text/plain": [
       "query: \n",
       "SELECT \"person_1\".\"person_id\"\n",
       "FROM \"person\" AS \"person_1\""
      ]
     },
     "execution_count": 45,
     "metadata": {},
     "output_type": "execute_result"
    }
   ],
   "source": [
    "q = From(person) >> As(S.p) >> Select(Get.p.person_id)\n",
    "render(q)"
   ]
  },
  {
   "cell_type": "markdown",
   "metadata": {},
   "source": [
    "This blocks the columns in the subquery from the output. To reference them, you need to subscript the alias first. "
   ]
  },
  {
   "cell_type": "code",
   "execution_count": 46,
   "metadata": {
    "execution": {
     "iopub.execute_input": "2022-06-29T19:59:14.177776Z",
     "iopub.status.busy": "2022-06-29T19:59:14.177505Z",
     "iopub.status.idle": "2022-06-29T19:59:14.178548Z",
     "shell.execute_reply": "2022-06-29T19:59:14.178698Z"
    }
   },
   "outputs": [],
   "source": [
    "# error\n",
    "q = From(person) >> As(S.p) >> Select(Get.person_id)\n",
    "# render(q)"
   ]
  },
  {
   "cell_type": "code",
   "execution_count": 47,
   "metadata": {
    "execution": {
     "iopub.execute_input": "2022-06-29T19:59:14.180710Z",
     "iopub.status.busy": "2022-06-29T19:59:14.180389Z",
     "iopub.status.idle": "2022-06-29T19:59:14.181702Z",
     "shell.execute_reply": "2022-06-29T19:59:14.181889Z"
    }
   },
   "outputs": [
    {
     "data": {
      "text/plain": [
       "query: \n",
       "SELECT \"person_1\".\"person_id\"\n",
       "FROM \"person\" AS \"person_1\""
      ]
     },
     "execution_count": 47,
     "metadata": {},
     "output_type": "execute_result"
    }
   ],
   "source": [
    "# works\n",
    "q = From(person) >> As(S.p) >> Select(Get.p.person_id)\n",
    "render(q)"
   ]
  },
  {
   "cell_type": "markdown",
   "metadata": {},
   "source": [
    "Node bound references are not blocked. "
   ]
  },
  {
   "cell_type": "code",
   "execution_count": 48,
   "metadata": {
    "execution": {
     "iopub.execute_input": "2022-06-29T19:59:14.184010Z",
     "iopub.status.busy": "2022-06-29T19:59:14.183697Z",
     "iopub.status.idle": "2022-06-29T19:59:14.185010Z",
     "shell.execute_reply": "2022-06-29T19:59:14.185227Z"
    }
   },
   "outputs": [
    {
     "data": {
      "text/plain": [
       "query: \n",
       "SELECT \"person_1\".\"person_id\"\n",
       "FROM \"person\" AS \"person_1\""
      ]
     },
     "execution_count": 48,
     "metadata": {},
     "output_type": "execute_result"
    }
   ],
   "source": [
    "s1 = From(person)\n",
    "q = s1 >> As(S.p) >> Select(s1 >> Get.person_id)\n",
    "render(q)"
   ]
  },
  {
   "cell_type": "markdown",
   "metadata": {
    "tags": []
   },
   "source": [
    "### From"
   ]
  },
  {
   "cell_type": "markdown",
   "metadata": {},
   "source": [
    "`From` can be used to select columns from the table specified. "
   ]
  },
  {
   "cell_type": "code",
   "execution_count": 49,
   "metadata": {
    "execution": {
     "iopub.execute_input": "2022-06-29T19:59:14.187063Z",
     "iopub.status.busy": "2022-06-29T19:59:14.186759Z",
     "iopub.status.idle": "2022-06-29T19:59:14.188152Z",
     "shell.execute_reply": "2022-06-29T19:59:14.188330Z"
    }
   },
   "outputs": [
    {
     "data": {
      "text/plain": [
       "From(SQLTable(person, ...))"
      ]
     },
     "execution_count": 49,
     "metadata": {},
     "output_type": "execute_result"
    }
   ],
   "source": [
    "q = From(person)\n",
    "q"
   ]
  },
  {
   "cell_type": "markdown",
   "metadata": {},
   "source": [
    "By default, all the columns are selected. "
   ]
  },
  {
   "cell_type": "code",
   "execution_count": 50,
   "metadata": {
    "execution": {
     "iopub.execute_input": "2022-06-29T19:59:14.190235Z",
     "iopub.status.busy": "2022-06-29T19:59:14.189925Z",
     "iopub.status.idle": "2022-06-29T19:59:14.191328Z",
     "shell.execute_reply": "2022-06-29T19:59:14.191501Z"
    }
   },
   "outputs": [
    {
     "data": {
      "text/plain": [
       "query: \n",
       "SELECT\n",
       "  \"person_1\".\"person_id\", \n",
       "  \"person_1\".\"year_of_birth\", \n",
       "  \"person_1\".\"month_of_birth\", \n",
       "  \"person_1\".\"day_of_birth\", \n",
       "  \"person_1\".\"birth_datetime\", \n",
       "  \"person_1\".\"location_id\"\n",
       "FROM \"person\" AS \"person_1\""
      ]
     },
     "execution_count": 50,
     "metadata": {},
     "output_type": "execute_result"
    }
   ],
   "source": [
    "q = From(person)\n",
    "render(q)"
   ]
  },
  {
   "cell_type": "markdown",
   "metadata": {},
   "source": [
    "If the table has a schema specified, the qualifier gets added in the rendered query. "
   ]
  },
  {
   "cell_type": "code",
   "execution_count": 51,
   "metadata": {
    "execution": {
     "iopub.execute_input": "2022-06-29T19:59:14.193480Z",
     "iopub.status.busy": "2022-06-29T19:59:14.193151Z",
     "iopub.status.idle": "2022-06-29T19:59:14.194545Z",
     "shell.execute_reply": "2022-06-29T19:59:14.194696Z"
    }
   },
   "outputs": [
    {
     "data": {
      "text/plain": [
       "query: \n",
       "SELECT\n",
       "  \"madeup_table_1\".\"colA\", \n",
       "  \"madeup_table_1\".\"colB\"\n",
       "FROM \"madeup_schema\".\"madeup_table\" AS \"madeup_table_1\""
      ]
     },
     "execution_count": 51,
     "metadata": {},
     "output_type": "execute_result"
    }
   ],
   "source": [
    "tab = SQLTable(\"madeup_table\", [\"colA\", \"colB\"], schema=\"madeup_schema\")\n",
    "q = From(tab)\n",
    "render(q)"
   ]
  },
  {
   "cell_type": "markdown",
   "metadata": {},
   "source": [
    "Queries with a `VALUES` query can be generated. "
   ]
  },
  {
   "cell_type": "code",
   "execution_count": 52,
   "metadata": {
    "execution": {
     "iopub.execute_input": "2022-06-29T19:59:14.196819Z",
     "iopub.status.busy": "2022-06-29T19:59:14.196518Z",
     "iopub.status.idle": "2022-06-29T19:59:14.197920Z",
     "shell.execute_reply": "2022-06-29T19:59:14.198141Z"
    }
   },
   "outputs": [
    {
     "data": {
      "text/plain": [
       "query: \n",
       "SELECT\n",
       "  \"values_1\".\"name\", \n",
       "  \"values_1\".\"year\"\n",
       "FROM (\n",
       "  VALUES\n",
       "    ('SQL', 1974),\n",
       "    ('Python', 1990),\n",
       "    ('FunSQL', 2022)\n",
       ") AS \"values_1\" (\"name\", \"year\") "
      ]
     },
     "execution_count": 52,
     "metadata": {},
     "output_type": "execute_result"
    }
   ],
   "source": [
    "tab = ValuesTable((\"name\", \"year\"), [(\"SQL\", 1974), (\"Python\", 1990), (\"FunSQL\", 2022)])\n",
    "q = From(tab)\n",
    "render(q)"
   ]
  },
  {
   "cell_type": "markdown",
   "metadata": {},
   "source": [
    "Only columns used in the query are serialized for a `VALUES` clause. "
   ]
  },
  {
   "cell_type": "code",
   "execution_count": 53,
   "metadata": {
    "execution": {
     "iopub.execute_input": "2022-06-29T19:59:14.200479Z",
     "iopub.status.busy": "2022-06-29T19:59:14.200176Z",
     "iopub.status.idle": "2022-06-29T19:59:14.201354Z",
     "shell.execute_reply": "2022-06-29T19:59:14.201528Z"
    }
   },
   "outputs": [
    {
     "data": {
      "text/plain": [
       "query: \n",
       "SELECT \"values_1\".\"name\"\n",
       "FROM (\n",
       "  VALUES\n",
       "    ('SQL'),\n",
       "    ('Python'),\n",
       "    ('FunSQL')\n",
       ") AS \"values_1\" (\"name\") "
      ]
     },
     "execution_count": 53,
     "metadata": {},
     "output_type": "execute_result"
    }
   ],
   "source": [
    "tab = ValuesTable((\"name\", \"year\"), [(\"SQL\", 1974), (\"Python\", 1990), (\"FunSQL\", 2022)])\n",
    "q = From(tab) >> Select(Get(\"name\"))\n",
    "render(q)"
   ]
  },
  {
   "cell_type": "markdown",
   "metadata": {},
   "source": [
    "If no columns are selected, the values are replaced with nulls. "
   ]
  },
  {
   "cell_type": "code",
   "execution_count": 54,
   "metadata": {
    "execution": {
     "iopub.execute_input": "2022-06-29T19:59:14.203875Z",
     "iopub.status.busy": "2022-06-29T19:59:14.203569Z",
     "iopub.status.idle": "2022-06-29T19:59:14.204998Z",
     "shell.execute_reply": "2022-06-29T19:59:14.205171Z"
    }
   },
   "outputs": [
    {
     "data": {
      "text/plain": [
       "query: \n",
       "SELECT Count(*) AS \"Count\"\n",
       "FROM (\n",
       "  VALUES (NULL, NULL, NULL)\n",
       ") AS \"values_1\" (\"_\") "
      ]
     },
     "execution_count": 54,
     "metadata": {},
     "output_type": "execute_result"
    }
   ],
   "source": [
    "tab = ValuesTable((\"name\", \"year\"), [(\"SQL\", 1974), (\"Python\", 1990), (\"FunSQL\", 2022)])\n",
    "q = From(tab) >> Group() >> Select(Agg.Count())\n",
    "render(q)"
   ]
  },
  {
   "cell_type": "markdown",
   "metadata": {},
   "source": [
    "The `VALUES` clause requires at least one row of data. "
   ]
  },
  {
   "cell_type": "code",
   "execution_count": 55,
   "metadata": {
    "execution": {
     "iopub.execute_input": "2022-06-29T19:59:14.207338Z",
     "iopub.status.busy": "2022-06-29T19:59:14.207043Z",
     "iopub.status.idle": "2022-06-29T19:59:14.208376Z",
     "shell.execute_reply": "2022-06-29T19:59:14.208597Z"
    }
   },
   "outputs": [
    {
     "data": {
      "text/plain": [
       "query: \n",
       "SELECT\n",
       "  NULL AS \"name\", \n",
       "  NULL AS \"year\"\n",
       "WHERE FALSE"
      ]
     },
     "execution_count": 55,
     "metadata": {},
     "output_type": "execute_result"
    }
   ],
   "source": [
    "tab = ValuesTable((\"name\", \"year\"), [])\n",
    "q = From(tab)\n",
    "render(q)"
   ]
  },
  {
   "cell_type": "markdown",
   "metadata": {},
   "source": [
    "A null source generates a dataset with one row. "
   ]
  },
  {
   "cell_type": "code",
   "execution_count": 56,
   "metadata": {
    "execution": {
     "iopub.execute_input": "2022-06-29T19:59:14.210466Z",
     "iopub.status.busy": "2022-06-29T19:59:14.210168Z",
     "iopub.status.idle": "2022-06-29T19:59:14.211403Z",
     "shell.execute_reply": "2022-06-29T19:59:14.211622Z"
    }
   },
   "outputs": [
    {
     "data": {
      "text/plain": [
       "query: \n",
       "SELECT NULL"
      ]
     },
     "execution_count": 56,
     "metadata": {},
     "output_type": "execute_result"
    }
   ],
   "source": [
    "q = From(None)\n",
    "render(q)"
   ]
  },
  {
   "cell_type": "markdown",
   "metadata": {
    "tags": []
   },
   "source": [
    "### With"
   ]
  },
  {
   "cell_type": "markdown",
   "metadata": {},
   "source": [
    "SQL has a `WITH` clause to create temporary tables for reuse in a query. They can be created using the `With` node. "
   ]
  },
  {
   "cell_type": "code",
   "execution_count": 57,
   "metadata": {
    "execution": {
     "iopub.execute_input": "2022-06-29T19:59:14.214063Z",
     "iopub.status.busy": "2022-06-29T19:59:14.213783Z",
     "iopub.status.idle": "2022-06-29T19:59:14.215095Z",
     "shell.execute_reply": "2022-06-29T19:59:14.215313Z"
    }
   },
   "outputs": [
    {
     "data": {
      "text/plain": [
       "query: \n",
       "WITH \"thirty_1\" (\"person_id\")  AS (\n",
       "  SELECT \"person_1\".\"person_id\"\n",
       "  FROM \"person\" AS \"person_1\"\n",
       "  WHERE (\"person_1\".\"year_of_birth\" = 1990)\n",
       ")\n",
       "SELECT \"thirty_2\".\"person_id\"\n",
       "FROM \"thirty_1\" AS \"thirty_2\""
      ]
     },
     "execution_count": 57,
     "metadata": {},
     "output_type": "execute_result"
    }
   ],
   "source": [
    "q = (\n",
    "    From(S.thirty)\n",
    "    >> With(From(person) >> Where(Fun(\"=\", Get.year_of_birth, 1990)) >> As(\"thirty\"))\n",
    "    >> Select(Get.person_id)\n",
    ")\n",
    "render(q)"
   ]
  },
  {
   "cell_type": "markdown",
   "metadata": {},
   "source": [
    "NOTE: Coming from SQL, the order of `From` and `With` nodes might seem odd since the `With` definition usually comes first. The reason is that FunSQL builds a query starting from the last node, and propagates up. Since the `From` node refers to a temporary table declared using `With`, to resolve it correctly, we must have encountered the `With` node first. "
   ]
  },
  {
   "cell_type": "markdown",
   "metadata": {},
   "source": [
    "`With` nodes can also declare multiple subqueries. "
   ]
  },
  {
   "cell_type": "code",
   "execution_count": 58,
   "metadata": {
    "execution": {
     "iopub.execute_input": "2022-06-29T19:59:14.218514Z",
     "iopub.status.busy": "2022-06-29T19:59:14.218210Z",
     "iopub.status.idle": "2022-06-29T19:59:14.219428Z",
     "shell.execute_reply": "2022-06-29T19:59:14.219596Z"
    }
   },
   "outputs": [
    {
     "data": {
      "text/plain": [
       "query: \n",
       "WITH \"thirty_1\" (\"_\")  AS (\n",
       "  SELECT NULL\n",
       "  FROM \"person\" AS \"person_1\"\n",
       "  WHERE (\"person_1\".\"year_of_birth\" = 1990)\n",
       "), \n",
       "\"forty_1\" (\"_\")  AS (\n",
       "  SELECT NULL\n",
       "  FROM \"person\" AS \"person_2\"\n",
       "  WHERE (\"person_2\".\"year_of_birth\" = 1980)\n",
       ")\n",
       "SELECT\n",
       "  (\n",
       "    SELECT Count(*) AS \"Count\"\n",
       "    FROM \"thirty_1\" AS \"thirty_2\"\n",
       "  ) AS \"count_30s\", \n",
       "  (\n",
       "    SELECT Count(*) AS \"Count\"\n",
       "    FROM \"forty_1\" AS \"forty_2\"\n",
       "  ) AS \"count_40s\""
      ]
     },
     "execution_count": 58,
     "metadata": {},
     "output_type": "execute_result"
    }
   ],
   "source": [
    "q = Select(\n",
    "    From(S.thirty) >> Group() >> Select(Agg.Count()) >> As(\"count_30s\"),\n",
    "    From(S.forty) >> Group() >> Select(Agg.Count()) >> As(\"count_40s\"),\n",
    ") >> With(\n",
    "    From(person) >> Where(Fun(\"=\", Get.year_of_birth, 1990)) >> As(\"thirty\"),\n",
    "    From(person) >> Where(Fun(\"=\", Get.year_of_birth, 1980)) >> As(\"forty\"),\n",
    ")\n",
    "render(q)"
   ]
  },
  {
   "cell_type": "markdown",
   "metadata": {},
   "source": [
    "Tables defined using a `With` node must have explicit, unique labels. "
   ]
  },
  {
   "cell_type": "code",
   "execution_count": 59,
   "metadata": {
    "execution": {
     "iopub.execute_input": "2022-06-29T19:59:14.221222Z",
     "iopub.status.busy": "2022-06-29T19:59:14.220949Z",
     "iopub.status.idle": "2022-06-29T19:59:14.222213Z",
     "shell.execute_reply": "2022-06-29T19:59:14.222036Z"
    }
   },
   "outputs": [],
   "source": [
    "q = From(S.person) >> With(From(person))\n",
    "# render(q)"
   ]
  },
  {
   "cell_type": "markdown",
   "metadata": {
    "tags": []
   },
   "source": [
    "### Group"
   ]
  },
  {
   "cell_type": "markdown",
   "metadata": {},
   "source": [
    "`Group` node is used to partition rows with the given keys, and summarize over them. "
   ]
  },
  {
   "cell_type": "code",
   "execution_count": 60,
   "metadata": {
    "execution": {
     "iopub.execute_input": "2022-06-29T19:59:14.224346Z",
     "iopub.status.busy": "2022-06-29T19:59:14.224053Z",
     "iopub.status.idle": "2022-06-29T19:59:14.225420Z",
     "shell.execute_reply": "2022-06-29T19:59:14.225567Z"
    }
   },
   "outputs": [
    {
     "data": {
      "text/plain": [
       "query: \n",
       "SELECT\n",
       "  \"person_1\".\"year_of_birth\", \n",
       "  count(*) AS \"count\"\n",
       "FROM \"person\" AS \"person_1\"\n",
       "GROUP BY \"person_1\".\"year_of_birth\""
      ]
     },
     "execution_count": 60,
     "metadata": {},
     "output_type": "execute_result"
    }
   ],
   "source": [
    "q = From(person) >> Group(Get.year_of_birth) >> Select(Get.year_of_birth, Agg.count())\n",
    "render(q)"
   ]
  },
  {
   "cell_type": "markdown",
   "metadata": {},
   "source": [
    "By splitting the grouping logic from the aggregate expressions, queries get easier to construct."
   ]
  },
  {
   "cell_type": "code",
   "execution_count": 61,
   "metadata": {
    "execution": {
     "iopub.execute_input": "2022-06-29T19:59:14.228559Z",
     "iopub.status.busy": "2022-06-29T19:59:14.228248Z",
     "iopub.status.idle": "2022-06-29T19:59:14.229621Z",
     "shell.execute_reply": "2022-06-29T19:59:14.229843Z"
    }
   },
   "outputs": [
    {
     "data": {
      "text/plain": [
       "query: \n",
       "SELECT\n",
       "  \"person_1\".\"person_id\", \n",
       "  \"visit_group_1\".\"count\"\n",
       "FROM \"person\" AS \"person_1\"\n",
       "INNER JOIN (\n",
       "  SELECT\n",
       "    \"visit_occurence_1\".\"person_id\", \n",
       "    count(*) AS \"count\"\n",
       "  FROM \"visit_occurence\" AS \"visit_occurence_1\"\n",
       "  GROUP BY \"visit_occurence_1\".\"person_id\"\n",
       ") AS \"visit_group_1\" ON (\"person_1\".\"person_id\" = \"visit_group_1\".\"person_id\")\n",
       "WHERE (\"visit_group_1\".\"count\" > 2)"
      ]
     },
     "execution_count": 61,
     "metadata": {},
     "output_type": "execute_result"
    }
   ],
   "source": [
    "visit_group = From(visit_occurence) >> Group(Get.person_id) >> As(\"visit_group\")\n",
    "num_visits = lambda: Agg.count(\n",
    "    over=Get.visit_group\n",
    ")  # regular assignment instead of a function works too\n",
    "q = (\n",
    "    From(person)\n",
    "    >> Join(visit_group, on=Fun(\"=\", Get.person_id, Get.visit_group.person_id))\n",
    "    >> Where(Fun(\">\", num_visits(), 2))\n",
    "    >> Select(Get.person_id, num_visits())\n",
    ")\n",
    "\n",
    "render(q)"
   ]
  },
  {
   "cell_type": "markdown",
   "metadata": {},
   "source": [
    "Grouping can be done in succession. "
   ]
  },
  {
   "cell_type": "code",
   "execution_count": 62,
   "metadata": {
    "execution": {
     "iopub.execute_input": "2022-06-29T19:59:14.232274Z",
     "iopub.status.busy": "2022-06-29T19:59:14.231982Z",
     "iopub.status.idle": "2022-06-29T19:59:14.233317Z",
     "shell.execute_reply": "2022-06-29T19:59:14.233489Z"
    }
   },
   "outputs": [
    {
     "data": {
      "text/plain": [
       "query: \n",
       "SELECT\n",
       "  \"measurement_2\".\"count\" AS \"count_for_measure\", \n",
       "  count(*) AS \"size\"\n",
       "FROM (\n",
       "  SELECT count(*) AS \"count\"\n",
       "  FROM \"measurement\" AS \"measurement_1\"\n",
       "  GROUP BY \"measurement_1\".\"measurement_concept_id\"\n",
       ") AS \"measurement_2\"\n",
       "GROUP BY \"measurement_2\".\"count\""
      ]
     },
     "execution_count": 62,
     "metadata": {},
     "output_type": "execute_result"
    }
   ],
   "source": [
    "# counting measurements for each concept, then counting frequency for each count\n",
    "q = (\n",
    "    From(measurement)\n",
    "    >> Group(Get.measurement_concept_id)\n",
    "    >> Group(aka(Agg.count(), \"count_for_measure\"))\n",
    "    >> Select(Get.count_for_measure, aka(Agg.count(), \"size\"))\n",
    ")\n",
    "render(q)"
   ]
  },
  {
   "cell_type": "markdown",
   "metadata": {},
   "source": [
    "`Group` can work with an empty list of keys. "
   ]
  },
  {
   "cell_type": "code",
   "execution_count": 63,
   "metadata": {
    "execution": {
     "iopub.execute_input": "2022-06-29T19:59:14.235753Z",
     "iopub.status.busy": "2022-06-29T19:59:14.235471Z",
     "iopub.status.idle": "2022-06-29T19:59:14.236836Z",
     "shell.execute_reply": "2022-06-29T19:59:14.237054Z"
    }
   },
   "outputs": [
    {
     "data": {
      "text/plain": [
       "query: \n",
       "SELECT\n",
       "  count(*) AS \"count\", \n",
       "  max(\"person_1\".\"year_of_birth\") AS \"max\", \n",
       "  min(\"person_1\".\"year_of_birth\") AS \"min\"\n",
       "FROM \"person\" AS \"person_1\""
      ]
     },
     "execution_count": 63,
     "metadata": {},
     "output_type": "execute_result"
    }
   ],
   "source": [
    "q = (\n",
    "    From(person)\n",
    "    >> Group()\n",
    "    >> Select(Agg.count(), Agg.max(Get.year_of_birth), Agg.min(Get.year_of_birth))\n",
    ")\n",
    "render(q)"
   ]
  },
  {
   "cell_type": "markdown",
   "metadata": {},
   "source": [
    "Each aggregate expression gets a unique alias. "
   ]
  },
  {
   "cell_type": "code",
   "execution_count": 64,
   "metadata": {
    "execution": {
     "iopub.execute_input": "2022-06-29T19:59:14.240181Z",
     "iopub.status.busy": "2022-06-29T19:59:14.239893Z",
     "iopub.status.idle": "2022-06-29T19:59:14.241127Z",
     "shell.execute_reply": "2022-06-29T19:59:14.241353Z"
    }
   },
   "outputs": [
    {
     "data": {
      "text/plain": [
       "query: \n",
       "SELECT\n",
       "  \"person_1\".\"person_id\", \n",
       "  \"visit_group_1\".\"max\" AS \"max_start_date\", \n",
       "  \"visit_group_1\".\"max_2\" AS \"max_end_date\"\n",
       "FROM \"person\" AS \"person_1\"\n",
       "INNER JOIN (\n",
       "  SELECT\n",
       "    \"visit_occurence_1\".\"person_id\", \n",
       "    max(\"visit_occurence_1\".\"visit_start_date\") AS \"max\", \n",
       "    max(\"visit_occurence_1\".\"visit_end_date\") AS \"max_2\"\n",
       "  FROM \"visit_occurence\" AS \"visit_occurence_1\"\n",
       "  GROUP BY \"visit_occurence_1\".\"person_id\"\n",
       ") AS \"visit_group_1\" ON (\"person_1\".\"person_id\" = \"visit_group_1\".\"person_id\")"
      ]
     },
     "execution_count": 64,
     "metadata": {},
     "output_type": "execute_result"
    }
   ],
   "source": [
    "visit_group = From(visit_occurence) >> Group(Get.person_id) >> As(\"visit_group\")\n",
    "person_visits = From(person) >> Join(\n",
    "    visit_group, on=Fun(\"=\", Get.person_id, Get.visit_group.person_id)\n",
    ")\n",
    "\n",
    "max_start_date = aka(Get.visit_group >> Agg.max(Get.visit_start_date), \"max_start_date\")\n",
    "max_end_date = aka(Get.visit_group >> Agg.max(Get.visit_end_date), \"max_end_date\")\n",
    "q = person_visits >> Select(Get.person_id, max_start_date, max_end_date)\n",
    "\n",
    "render(q)"
   ]
  },
  {
   "cell_type": "markdown",
   "metadata": {},
   "source": [
    "Aggregate expressions can be applied to only the distinct values in a partition. "
   ]
  },
  {
   "cell_type": "code",
   "execution_count": 65,
   "metadata": {
    "execution": {
     "iopub.execute_input": "2022-06-29T19:59:14.243424Z",
     "iopub.status.busy": "2022-06-29T19:59:14.243140Z",
     "iopub.status.idle": "2022-06-29T19:59:14.244571Z",
     "shell.execute_reply": "2022-06-29T19:59:14.244728Z"
    }
   },
   "outputs": [
    {
     "data": {
      "text/plain": [
       "query: \n",
       "SELECT count(DISTINCT \"person_1\".\"year_of_birth\") AS \"count\"\n",
       "FROM \"person\" AS \"person_1\""
      ]
     },
     "execution_count": 65,
     "metadata": {},
     "output_type": "execute_result"
    }
   ],
   "source": [
    "q = From(person) >> Group() >> Select(Agg.count(Get.year_of_birth, distinct=True))\n",
    "render(q)"
   ]
  },
  {
   "cell_type": "markdown",
   "metadata": {},
   "source": [
    "Aggregates can be applied to filtered portion of a partition. "
   ]
  },
  {
   "cell_type": "code",
   "execution_count": 66,
   "metadata": {
    "execution": {
     "iopub.execute_input": "2022-06-29T19:59:14.247001Z",
     "iopub.status.busy": "2022-06-29T19:59:14.246704Z",
     "iopub.status.idle": "2022-06-29T19:59:14.248096Z",
     "shell.execute_reply": "2022-06-29T19:59:14.248248Z"
    }
   },
   "outputs": [
    {
     "data": {
      "text/plain": [
       "query: \n",
       "SELECT (count(*) FILTER (WHERE (\"person_1\".\"year_of_birth\" < 2000))) AS \"count\"\n",
       "FROM \"person\" AS \"person_1\""
      ]
     },
     "execution_count": 66,
     "metadata": {},
     "output_type": "execute_result"
    }
   ],
   "source": [
    "measure = Agg.count(filter_=Fun(\"<\", Get.year_of_birth, 2000))\n",
    "q = From(person) >> Group() >> Select(measure)\n",
    "render(q)"
   ]
  },
  {
   "cell_type": "markdown",
   "metadata": {},
   "source": [
    "Aggregate expressions can't be used without a `Group` node. "
   ]
  },
  {
   "cell_type": "code",
   "execution_count": 67,
   "metadata": {
    "execution": {
     "iopub.execute_input": "2022-06-29T19:59:14.249951Z",
     "iopub.status.busy": "2022-06-29T19:59:14.249666Z",
     "iopub.status.idle": "2022-06-29T19:59:14.250987Z",
     "shell.execute_reply": "2022-06-29T19:59:14.250823Z"
    }
   },
   "outputs": [],
   "source": [
    "q = From(person) >> Select(Agg.max(Get.year_of_birth))\n",
    "# render(q)"
   ]
  },
  {
   "cell_type": "markdown",
   "metadata": {},
   "source": [
    "Aggregate expressions need to unabiguously determine the corresponding `Group` node. "
   ]
  },
  {
   "cell_type": "code",
   "execution_count": 68,
   "metadata": {
    "execution": {
     "iopub.execute_input": "2022-06-29T19:59:14.253144Z",
     "iopub.status.busy": "2022-06-29T19:59:14.252868Z",
     "iopub.status.idle": "2022-06-29T19:59:14.253969Z",
     "shell.execute_reply": "2022-06-29T19:59:14.254121Z"
    }
   },
   "outputs": [],
   "source": [
    "q1 = From(person)\n",
    "q2 = From(measurement) >> Group(Get.person_id)\n",
    "q3 = From(visit_occurence) >> Group(Get.person_id)\n",
    "\n",
    "q = (\n",
    "    q1\n",
    "    >> Join(q2, on=Fun(\"=\", Get.person_id, q2 >> Get.person_id))\n",
    "    >> Join(q3, on=Fun(\"=\", Get.person_id, q3 >> Get.person_id))\n",
    "    >> Select(q1 >> Get.person_id, Agg.count())\n",
    ")\n",
    "# render(q)"
   ]
  },
  {
   "cell_type": "markdown",
   "metadata": {
    "tags": []
   },
   "source": [
    "### Partition"
   ]
  },
  {
   "cell_type": "markdown",
   "metadata": {},
   "source": [
    "`Partition` node creates a subquery that partitions rows by the specified keys. For each row, an aggregate can be calculated across all the rows in its partition (called `WINDOW` functions in SQL). "
   ]
  },
  {
   "cell_type": "code",
   "execution_count": 69,
   "metadata": {
    "execution": {
     "iopub.execute_input": "2022-06-29T19:59:14.256411Z",
     "iopub.status.busy": "2022-06-29T19:59:14.256125Z",
     "iopub.status.idle": "2022-06-29T19:59:14.257524Z",
     "shell.execute_reply": "2022-06-29T19:59:14.257696Z"
    }
   },
   "outputs": [
    {
     "data": {
      "text/plain": [
       "query: \n",
       "SELECT\n",
       "  \"person_1\".\"person_id\", \n",
       "  (row_number() OVER (PARTITION BY \"person_1\".\"year_of_birth\" ORDER BY \"person_1\".\"month_of_birth\")) AS \"row_number\"\n",
       "FROM \"person\" AS \"person_1\""
      ]
     },
     "execution_count": 69,
     "metadata": {},
     "output_type": "execute_result"
    }
   ],
   "source": [
    "q = (\n",
    "    From(person)\n",
    "    >> Partition(Get.year_of_birth, order_by=[Get.month_of_birth])\n",
    "    >> Select(Get.person_id, Agg.row_number())\n",
    ")\n",
    "render(q)"
   ]
  },
  {
   "cell_type": "markdown",
   "metadata": {},
   "source": [
    "A Partition node may specify a window frame. "
   ]
  },
  {
   "cell_type": "code",
   "execution_count": 70,
   "metadata": {
    "execution": {
     "iopub.execute_input": "2022-06-29T19:59:14.260677Z",
     "iopub.status.busy": "2022-06-29T19:59:14.260339Z",
     "iopub.status.idle": "2022-06-29T19:59:14.261738Z",
     "shell.execute_reply": "2022-06-29T19:59:14.261907Z"
    }
   },
   "outputs": [
    {
     "data": {
      "text/plain": [
       "query: \n",
       "SELECT\n",
       "  \"person_2\".\"year_of_birth\", \n",
       "  (sum(\"person_2\".\"count\") OVER (ORDER BY \"person_2\".\"year_of_birth\" ROWS BETWEEN UNBOUNDED PRECEDING AND CURRENT ROW)) AS \"sum\"\n",
       "FROM (\n",
       "  SELECT\n",
       "    \"person_1\".\"year_of_birth\", \n",
       "    count(*) AS \"count\"\n",
       "  FROM \"person\" AS \"person_1\"\n",
       "  GROUP BY \"person_1\".\"year_of_birth\"\n",
       ") AS \"person_2\""
      ]
     },
     "execution_count": 70,
     "metadata": {},
     "output_type": "execute_result"
    }
   ],
   "source": [
    "births_by_year = (\n",
    "    From(person) >> Group(Get.year_of_birth) >> Select(Get.year_of_birth, Agg.count())\n",
    ")\n",
    "cumulative_births_by_year = (\n",
    "    births_by_year\n",
    "    >> Partition(\n",
    "        order_by=[Get.year_of_birth],\n",
    "        frame=Frame(\n",
    "            FrameMode.ROWS,\n",
    "            FrameEdge(FrameEdgeSide.PRECEDING, None),\n",
    "            FrameEdge(FrameEdgeSide.CURRENT_ROW),\n",
    "        ),\n",
    "    )\n",
    "    >> Select(Get.year_of_birth, Agg.sum(Get.count))\n",
    ")\n",
    "\n",
    "render(cumulative_births_by_year)"
   ]
  },
  {
   "cell_type": "markdown",
   "metadata": {},
   "source": [
    "Defining a Frame node gets a bit mouthful, so the regular constructs are available through an alias class, `F`. \n",
    "\n",
    "In this example, Partition nodes are used one after the other to simplify a nested SQL query. We want to get the set of non overlapping visits made by a person. "
   ]
  },
  {
   "cell_type": "code",
   "execution_count": 71,
   "metadata": {
    "execution": {
     "iopub.execute_input": "2022-06-29T19:59:14.266546Z",
     "iopub.status.busy": "2022-06-29T19:59:14.266231Z",
     "iopub.status.idle": "2022-06-29T19:59:14.267589Z",
     "shell.execute_reply": "2022-06-29T19:59:14.267805Z"
    }
   },
   "outputs": [
    {
     "data": {
      "text/plain": [
       "query: \n",
       "SELECT\n",
       "  \"visit_occurence_3\".\"person_id\", \n",
       "  min(\"visit_occurence_3\".\"visit_start_date\") AS \"start_date\", \n",
       "  max(\"visit_occurence_3\".\"visit_end_date\") AS \"end_date\"\n",
       "FROM (\n",
       "  SELECT\n",
       "    \"visit_occurence_2\".\"person_id\", \n",
       "    (sum(\"visit_occurence_2\".\"new\") OVER (PARTITION BY \"visit_occurence_2\".\"person_id\" ORDER BY \"visit_occurence_2\".\"visit_start_date\", (- \"visit_occurence_2\".\"new\") ROWS BETWEEN UNBOUNDED PRECEDING AND CURRENT ROW)) AS \"group\", \n",
       "    \"visit_occurence_2\".\"visit_start_date\", \n",
       "    \"visit_occurence_2\".\"visit_end_date\"\n",
       "  FROM (\n",
       "    SELECT\n",
       "      \"visit_occurence_1\".\"person_id\", \n",
       "      (CASE WHEN ((\"visit_occurence_1\".\"visit_start_date\" - (max(\"visit_occurence_1\".\"visit_end_date\") OVER (PARTITION BY \"visit_occurence_1\".\"person_id\" ORDER BY \"visit_occurence_1\".\"visit_start_date\" ROWS BETWEEN UNBOUNDED PRECEDING AND 1 PRECEDING))) <= 0) THEN 0 ELSE 1 END) AS \"new\", \n",
       "      \"visit_occurence_1\".\"visit_start_date\", \n",
       "      \"visit_occurence_1\".\"visit_end_date\"\n",
       "    FROM \"visit_occurence\" AS \"visit_occurence_1\"\n",
       "  ) AS \"visit_occurence_2\"\n",
       ") AS \"visit_occurence_3\"\n",
       "GROUP BY\n",
       "  \"visit_occurence_3\".\"person_id\", \n",
       "  \"visit_occurence_3\".\"group\""
      ]
     },
     "execution_count": 71,
     "metadata": {},
     "output_type": "execute_result"
    }
   ],
   "source": [
    "# for all visits by a person\n",
    "# gather all the visits made prior\n",
    "# find the one that ended last\n",
    "# TODO: I can't really follow\n",
    "\n",
    "q = (\n",
    "    From(visit_occurence)\n",
    "    >> Partition(\n",
    "        Get.person_id,\n",
    "        order_by=[Get.visit_start_date],\n",
    "        frame=Frame(F.ROWS, F.pre(None), F.pre(1)),\n",
    "    )\n",
    "    >> Define(aka(Agg.max(Get.visit_end_date), \"boundary\"))\n",
    "    >> Define(aka(Fun(\"-\", Get.visit_start_date, Get.boundary), \"gap\"))\n",
    "    >> Define(aka(Fun.case(Fun(\"<=\", Get.gap, 0), 0, 1), \"new\"))\n",
    "    >> Partition(\n",
    "        Get.person_id,\n",
    "        order_by=[Get.visit_start_date, Fun(\"-\", Get.new)],\n",
    "        frame=Frame(F.ROWS, F.pre(None), F.curr_row()),\n",
    "    )\n",
    "    >> Define(aka(Agg.sum(Get.new), \"group\"))\n",
    "    >> Group(Get.person_id, Get.group)\n",
    "    >> Define(\n",
    "        aka(Agg.min(Get.visit_start_date), \"start_date\"),\n",
    "        aka(Agg.max(Get.visit_end_date), \"end_date\"),\n",
    "    )\n",
    "    >> Select(Get.person_id, Get.start_date, Get.end_date)\n",
    ")\n",
    "\n",
    "render(q)"
   ]
  },
  {
   "cell_type": "markdown",
   "metadata": {
    "tags": []
   },
   "source": [
    "### Join"
   ]
  },
  {
   "cell_type": "markdown",
   "metadata": {},
   "source": [
    "A Join query combines the output of two subqueries. "
   ]
  },
  {
   "cell_type": "code",
   "execution_count": 72,
   "metadata": {
    "execution": {
     "iopub.execute_input": "2022-06-29T19:59:14.270131Z",
     "iopub.status.busy": "2022-06-29T19:59:14.269834Z",
     "iopub.status.idle": "2022-06-29T19:59:14.271184Z",
     "shell.execute_reply": "2022-06-29T19:59:14.271406Z"
    }
   },
   "outputs": [
    {
     "data": {
      "text/plain": [
       "query: \n",
       "SELECT\n",
       "  \"person_1\".\"year_of_birth\", \n",
       "  \"person_1\".\"location_id\", \n",
       "  \"person_1\".\"day_of_birth\", \n",
       "  \"person_1\".\"birth_datetime\", \n",
       "  \"person_1\".\"person_id\", \n",
       "  \"person_1\".\"month_of_birth\"\n",
       "FROM \"person\" AS \"person_1\"\n",
       "INNER JOIN \"location\" AS \"location_1\" ON (\"person_1\".\"location_id\" = \"location_1\".\"location_id\")"
      ]
     },
     "execution_count": 72,
     "metadata": {},
     "output_type": "execute_result"
    }
   ],
   "source": [
    "q = From(person) >> Join(\n",
    "    aka(From(location), \"location\"),\n",
    "    on=Fun(\"=\", Get.location_id, Get.location.location_id),\n",
    ")\n",
    "render(q)"
   ]
  },
  {
   "cell_type": "markdown",
   "metadata": {},
   "source": [
    "Different variants of the `SQL JOIN` operation can be constructed using the relevant keyword args. "
   ]
  },
  {
   "cell_type": "code",
   "execution_count": 73,
   "metadata": {
    "execution": {
     "iopub.execute_input": "2022-06-29T19:59:14.273659Z",
     "iopub.status.busy": "2022-06-29T19:59:14.273373Z",
     "iopub.status.idle": "2022-06-29T19:59:14.274744Z",
     "shell.execute_reply": "2022-06-29T19:59:14.274914Z"
    }
   },
   "outputs": [
    {
     "data": {
      "text/plain": [
       "query: \n",
       "SELECT\n",
       "  \"person_1\".\"year_of_birth\", \n",
       "  \"person_1\".\"location_id\", \n",
       "  \"person_1\".\"day_of_birth\", \n",
       "  \"person_1\".\"birth_datetime\", \n",
       "  \"person_1\".\"person_id\", \n",
       "  \"person_1\".\"month_of_birth\"\n",
       "FROM \"person\" AS \"person_1\"\n",
       "RIGHT JOIN \"location\" AS \"location_1\" ON (\"person_1\".\"location_id\" = \"location_1\".\"location_id\")"
      ]
     },
     "execution_count": 73,
     "metadata": {},
     "output_type": "execute_result"
    }
   ],
   "source": [
    "# right join\n",
    "q = From(person) >> Join(\n",
    "    aka(From(location), \"location\"),\n",
    "    on=Fun(\"=\", Get.location_id, Get.location.location_id),\n",
    "    right=True,\n",
    ")\n",
    "render(q)"
   ]
  },
  {
   "cell_type": "markdown",
   "metadata": {},
   "source": [
    "Joins with correlated subqueries are supported too. "
   ]
  },
  {
   "cell_type": "code",
   "execution_count": 74,
   "metadata": {
    "execution": {
     "iopub.execute_input": "2022-06-29T19:59:14.278219Z",
     "iopub.status.busy": "2022-06-29T19:59:14.277875Z",
     "iopub.status.idle": "2022-06-29T19:59:14.279388Z",
     "shell.execute_reply": "2022-06-29T19:59:14.279541Z"
    }
   },
   "outputs": [
    {
     "data": {
      "text/plain": [
       "query: \n",
       "SELECT\n",
       "  \"person_1\".\"person_id\", \n",
       "  \"visit_1\".\"visit_occurence_id\", \n",
       "  \"visit_1\".\"visit_start_date\"\n",
       "FROM \"person\" AS \"person_1\"\n",
       "LEFT JOIN LATERAL (\n",
       "  SELECT\n",
       "    \"visit_occurence_2\".\"visit_occurence_id\", \n",
       "    \"visit_occurence_2\".\"visit_start_date\"\n",
       "  FROM (\n",
       "    SELECT\n",
       "      \"visit_occurence_1\".\"visit_occurence_id\", \n",
       "      \"visit_occurence_1\".\"visit_start_date\", \n",
       "      (row_number() OVER (ORDER BY \"visit_occurence_1\".\"visit_start_date\")) AS \"row_number\"\n",
       "    FROM \"visit_occurence\" AS \"visit_occurence_1\"\n",
       "    WHERE (\"visit_occurence_1\".\"person_id\" = \"person_1\".\"person_id\")\n",
       "  ) AS \"visit_occurence_2\"\n",
       "  WHERE (\"visit_occurence_2\".\"row_number\" = 2)\n",
       ") AS \"visit_1\" ON TRUE"
      ]
     },
     "execution_count": 74,
     "metadata": {},
     "output_type": "execute_result"
    }
   ],
   "source": [
    "# gets the _second_ visit made by a person\n",
    "def second_visit(p_id):\n",
    "    return (\n",
    "        From(visit_occurence)\n",
    "        >> Where(Fun(\"=\", Get.person_id, Var.PERSON_ID))\n",
    "        >> Partition(order_by=[Get.visit_start_date])\n",
    "        >> Where(Fun(\"=\", Agg.row_number(), 2))\n",
    "        >> Bind(aka(p_id, \"PERSON_ID\"))\n",
    "    )\n",
    "\n",
    "\n",
    "# gets all people and if they made any second visits\n",
    "q = (\n",
    "    From(person)\n",
    "    >> Join(aka(second_visit(Get.person_id), \"visit\"), on=True, left=True)\n",
    "    >> Select(Get.person_id, Get.visit.visit_occurence_id, Get.visit.visit_start_date)\n",
    ")\n",
    "render(q)"
   ]
  },
  {
   "cell_type": "markdown",
   "metadata": {
    "tags": []
   },
   "source": [
    "### Order"
   ]
  },
  {
   "cell_type": "markdown",
   "metadata": {},
   "source": [
    "The `Order` operator creates a subquery to sort the output. "
   ]
  },
  {
   "cell_type": "code",
   "execution_count": 75,
   "metadata": {
    "execution": {
     "iopub.execute_input": "2022-06-29T19:59:14.281600Z",
     "iopub.status.busy": "2022-06-29T19:59:14.281330Z",
     "iopub.status.idle": "2022-06-29T19:59:14.282601Z",
     "shell.execute_reply": "2022-06-29T19:59:14.282815Z"
    }
   },
   "outputs": [
    {
     "data": {
      "text/plain": [
       "query: \n",
       "SELECT\n",
       "  \"person_1\".\"person_id\", \n",
       "  \"person_1\".\"year_of_birth\", \n",
       "  \"person_1\".\"month_of_birth\", \n",
       "  \"person_1\".\"day_of_birth\", \n",
       "  \"person_1\".\"birth_datetime\", \n",
       "  \"person_1\".\"location_id\"\n",
       "FROM \"person\" AS \"person_1\"\n",
       "ORDER BY \"person_1\".\"year_of_birth\""
      ]
     },
     "execution_count": 75,
     "metadata": {},
     "output_type": "execute_result"
    }
   ],
   "source": [
    "q = From(person) >> Order(Get.year_of_birth)\n",
    "render(q)"
   ]
  },
  {
   "cell_type": "markdown",
   "metadata": {},
   "source": [
    "The num of rows in the result set can also be limited. "
   ]
  },
  {
   "cell_type": "code",
   "execution_count": 76,
   "metadata": {
    "execution": {
     "iopub.execute_input": "2022-06-29T19:59:14.285232Z",
     "iopub.status.busy": "2022-06-29T19:59:14.284930Z",
     "iopub.status.idle": "2022-06-29T19:59:14.286283Z",
     "shell.execute_reply": "2022-06-29T19:59:14.286509Z"
    }
   },
   "outputs": [
    {
     "data": {
      "text/plain": [
       "query: \n",
       "SELECT\n",
       "  \"person_2\".\"person_id\", \n",
       "  \"person_2\".\"location_id\"\n",
       "FROM (\n",
       "  SELECT\n",
       "    \"person_1\".\"person_id\", \n",
       "    \"person_1\".\"location_id\"\n",
       "  FROM \"person\" AS \"person_1\"\n",
       "  ORDER BY \"person_1\".\"year_of_birth\"\n",
       "  LIMIT 10\n",
       ") AS \"person_2\"\n",
       "ORDER BY \"person_2\".\"person_id\""
      ]
     },
     "execution_count": 76,
     "metadata": {},
     "output_type": "execute_result"
    }
   ],
   "source": [
    "q = (\n",
    "    From(person)\n",
    "    >> Order(Get.year_of_birth)\n",
    "    >> Limit(10)\n",
    "    >> Order(Get.person_id)\n",
    "    >> Select(Get.person_id, Get.location_id)\n",
    ")\n",
    "render(q)"
   ]
  },
  {
   "cell_type": "markdown",
   "metadata": {},
   "source": [
    "The direction of the sort column can be specified too. "
   ]
  },
  {
   "cell_type": "code",
   "execution_count": 77,
   "metadata": {
    "execution": {
     "iopub.execute_input": "2022-06-29T19:59:14.288692Z",
     "iopub.status.busy": "2022-06-29T19:59:14.288417Z",
     "iopub.status.idle": "2022-06-29T19:59:14.289687Z",
     "shell.execute_reply": "2022-06-29T19:59:14.289974Z"
    }
   },
   "outputs": [
    {
     "data": {
      "text/plain": [
       "query: \n",
       "SELECT\n",
       "  \"person_1\".\"person_id\", \n",
       "  \"person_1\".\"year_of_birth\", \n",
       "  \"person_1\".\"month_of_birth\", \n",
       "  \"person_1\".\"day_of_birth\", \n",
       "  \"person_1\".\"birth_datetime\", \n",
       "  \"person_1\".\"location_id\"\n",
       "FROM \"person\" AS \"person_1\"\n",
       "ORDER BY\n",
       "  \"person_1\".\"year_of_birth\" DESC NULLS FIRST, \n",
       "  \"person_1\".\"person_id\" ASC"
      ]
     },
     "execution_count": 77,
     "metadata": {},
     "output_type": "execute_result"
    }
   ],
   "source": [
    "q = From(person) >> Order(\n",
    "    Get.year_of_birth >> Desc(NullsOrder.FIRST), Get.person_id >> Asc()\n",
    ")\n",
    "\n",
    "render(q)"
   ]
  },
  {
   "cell_type": "markdown",
   "metadata": {
    "tags": []
   },
   "source": [
    "### Limit"
   ]
  },
  {
   "cell_type": "markdown",
   "metadata": {},
   "source": [
    "The `Limit` node selects a fixed number of rows from a subquery, typically in conjunction with an `Order` node. "
   ]
  },
  {
   "cell_type": "code",
   "execution_count": 78,
   "metadata": {
    "execution": {
     "iopub.execute_input": "2022-06-29T19:59:14.292059Z",
     "iopub.status.busy": "2022-06-29T19:59:14.291751Z",
     "iopub.status.idle": "2022-06-29T19:59:14.293092Z",
     "shell.execute_reply": "2022-06-29T19:59:14.293320Z"
    }
   },
   "outputs": [
    {
     "data": {
      "text/plain": [
       "query: \n",
       "SELECT\n",
       "  \"person_1\".\"person_id\", \n",
       "  \"person_1\".\"year_of_birth\", \n",
       "  \"person_1\".\"month_of_birth\", \n",
       "  \"person_1\".\"day_of_birth\", \n",
       "  \"person_1\".\"birth_datetime\", \n",
       "  \"person_1\".\"location_id\"\n",
       "FROM \"person\" AS \"person_1\"\n",
       "ORDER BY \"person_1\".\"person_id\"\n",
       "LIMIT 20"
      ]
     },
     "execution_count": 78,
     "metadata": {},
     "output_type": "execute_result"
    }
   ],
   "source": [
    "q = From(person) >> Order(Get.person_id) >> Limit(20)\n",
    "render(q)"
   ]
  },
  {
   "cell_type": "markdown",
   "metadata": {},
   "source": [
    "`Limit` also lets you specify an offset. "
   ]
  },
  {
   "cell_type": "code",
   "execution_count": 79,
   "metadata": {
    "execution": {
     "iopub.execute_input": "2022-06-29T19:59:14.295566Z",
     "iopub.status.busy": "2022-06-29T19:59:14.295272Z",
     "iopub.status.idle": "2022-06-29T19:59:14.296537Z",
     "shell.execute_reply": "2022-06-29T19:59:14.296756Z"
    }
   },
   "outputs": [
    {
     "data": {
      "text/plain": [
       "query: \n",
       "SELECT\n",
       "  \"person_1\".\"person_id\", \n",
       "  \"person_1\".\"year_of_birth\", \n",
       "  \"person_1\".\"month_of_birth\", \n",
       "  \"person_1\".\"day_of_birth\", \n",
       "  \"person_1\".\"birth_datetime\", \n",
       "  \"person_1\".\"location_id\"\n",
       "FROM \"person\" AS \"person_1\"\n",
       "ORDER BY \"person_1\".\"person_id\"\n",
       "LIMIT 100\n",
       "OFFSET 10"
      ]
     },
     "execution_count": 79,
     "metadata": {},
     "output_type": "execute_result"
    }
   ],
   "source": [
    "q = From(person) >> Order(Get.person_id) >> Limit(100, offset=10)\n",
    "render(q)"
   ]
  },
  {
   "cell_type": "markdown",
   "metadata": {},
   "source": [
    "You could also specify just the offset. "
   ]
  },
  {
   "cell_type": "code",
   "execution_count": 80,
   "metadata": {
    "execution": {
     "iopub.execute_input": "2022-06-29T19:59:14.298882Z",
     "iopub.status.busy": "2022-06-29T19:59:14.298598Z",
     "iopub.status.idle": "2022-06-29T19:59:14.299879Z",
     "shell.execute_reply": "2022-06-29T19:59:14.300161Z"
    }
   },
   "outputs": [
    {
     "data": {
      "text/plain": [
       "query: \n",
       "SELECT\n",
       "  \"person_1\".\"person_id\", \n",
       "  \"person_1\".\"year_of_birth\", \n",
       "  \"person_1\".\"month_of_birth\", \n",
       "  \"person_1\".\"day_of_birth\", \n",
       "  \"person_1\".\"birth_datetime\", \n",
       "  \"person_1\".\"location_id\"\n",
       "FROM \"person\" AS \"person_1\"\n",
       "ORDER BY \"person_1\".\"person_id\"\n",
       "LIMIT -1\n",
       "OFFSET 10"
      ]
     },
     "execution_count": 80,
     "metadata": {},
     "output_type": "execute_result"
    }
   ],
   "source": [
    "q = From(person) >> Order(Get.person_id) >> Limit(offset=10)\n",
    "render(q)"
   ]
  },
  {
   "cell_type": "markdown",
   "metadata": {
    "tags": []
   },
   "source": [
    "### Select"
   ]
  },
  {
   "cell_type": "markdown",
   "metadata": {},
   "source": [
    "The Select node specifies the output columns for a subquery. "
   ]
  },
  {
   "cell_type": "code",
   "execution_count": 81,
   "metadata": {
    "execution": {
     "iopub.execute_input": "2022-06-29T19:59:14.302226Z",
     "iopub.status.busy": "2022-06-29T19:59:14.301942Z",
     "iopub.status.idle": "2022-06-29T19:59:14.303325Z",
     "shell.execute_reply": "2022-06-29T19:59:14.303508Z"
    }
   },
   "outputs": [
    {
     "data": {
      "text/plain": [
       "query: \n",
       "SELECT\n",
       "  \"person_1\".\"person_id\", \n",
       "  \"person_1\".\"year_of_birth\"\n",
       "FROM \"person\" AS \"person_1\""
      ]
     },
     "execution_count": 81,
     "metadata": {},
     "output_type": "execute_result"
    }
   ],
   "source": [
    "q = From(person) >> Select(Get.person_id, Get.year_of_birth)\n",
    "render(q)"
   ]
  },
  {
   "cell_type": "markdown",
   "metadata": {},
   "source": [
    "`Select` always creates a complete subquery. So, it creates nesting if it isn't the last node. "
   ]
  },
  {
   "cell_type": "code",
   "execution_count": 82,
   "metadata": {
    "execution": {
     "iopub.execute_input": "2022-06-29T19:59:14.305776Z",
     "iopub.status.busy": "2022-06-29T19:59:14.305447Z",
     "iopub.status.idle": "2022-06-29T19:59:14.306595Z",
     "shell.execute_reply": "2022-06-29T19:59:14.306810Z"
    }
   },
   "outputs": [
    {
     "data": {
      "text/plain": [
       "query: \n",
       "SELECT \"person_2\".\"year_of_birth\"\n",
       "FROM (\n",
       "  SELECT \"person_1\".\"year_of_birth\"\n",
       "  FROM \"person\" AS \"person_1\"\n",
       ") AS \"person_2\"\n",
       "WHERE (\"person_2\".\"year_of_birth\" > 2000)"
      ]
     },
     "execution_count": 82,
     "metadata": {},
     "output_type": "execute_result"
    }
   ],
   "source": [
    "q = (\n",
    "    From(person)\n",
    "    >> Select(Get.year_of_birth)\n",
    "    >> Where(Fun(\">\", Get.year_of_birth, 2000))\n",
    ")\n",
    "\n",
    "render(q)"
   ]
  },
  {
   "cell_type": "markdown",
   "metadata": {},
   "source": [
    "All columns passed to a Select node must have unique aliases."
   ]
  },
  {
   "cell_type": "code",
   "execution_count": 83,
   "metadata": {
    "execution": {
     "iopub.execute_input": "2022-06-29T19:59:14.308962Z",
     "iopub.status.busy": "2022-06-29T19:59:14.308671Z",
     "iopub.status.idle": "2022-06-29T19:59:14.310045Z",
     "shell.execute_reply": "2022-06-29T19:59:14.310221Z"
    }
   },
   "outputs": [
    {
     "data": {
      "text/plain": [
       "query: \n",
       "SELECT\n",
       "  \"person_1\".\"person_id\", \n",
       "  \"person_1\".\"person_id\" AS \"duplicate_id\"\n",
       "FROM \"person\" AS \"person_1\""
      ]
     },
     "execution_count": 83,
     "metadata": {},
     "output_type": "execute_result"
    }
   ],
   "source": [
    "# doesn't work\n",
    "# q = From(person) >> Select(Get.person_id, Get.person_id)\n",
    "\n",
    "# works\n",
    "q = From(person) >> Select(Get.person_id, aka(Get.person_id, \"duplicate_id\"))\n",
    "\n",
    "render(q)"
   ]
  },
  {
   "cell_type": "markdown",
   "metadata": {
    "tags": []
   },
   "source": [
    "### Where"
   ]
  },
  {
   "cell_type": "markdown",
   "metadata": {},
   "source": [
    "`Where` can be used to filter the query output by a condition. "
   ]
  },
  {
   "cell_type": "code",
   "execution_count": 84,
   "metadata": {
    "execution": {
     "iopub.execute_input": "2022-06-29T19:59:14.312370Z",
     "iopub.status.busy": "2022-06-29T19:59:14.312082Z",
     "iopub.status.idle": "2022-06-29T19:59:14.313515Z",
     "shell.execute_reply": "2022-06-29T19:59:14.313686Z"
    }
   },
   "outputs": [
    {
     "data": {
      "text/plain": [
       "query: \n",
       "SELECT\n",
       "  \"person_1\".\"person_id\", \n",
       "  \"person_1\".\"year_of_birth\", \n",
       "  \"person_1\".\"month_of_birth\", \n",
       "  \"person_1\".\"day_of_birth\", \n",
       "  \"person_1\".\"birth_datetime\", \n",
       "  \"person_1\".\"location_id\"\n",
       "FROM \"person\" AS \"person_1\"\n",
       "WHERE (\"person_1\".\"year_of_birth\" = 2000)"
      ]
     },
     "execution_count": 84,
     "metadata": {},
     "output_type": "execute_result"
    }
   ],
   "source": [
    "q = From(person) >> Where(Fun(\"=\", Get.year_of_birth, 2000))\n",
    "render(q)"
   ]
  },
  {
   "cell_type": "markdown",
   "metadata": {},
   "source": [
    "Multiple `Where` nodes in sequence are collapsed into a single clause. "
   ]
  },
  {
   "cell_type": "code",
   "execution_count": 85,
   "metadata": {
    "execution": {
     "iopub.execute_input": "2022-06-29T19:59:14.316099Z",
     "iopub.status.busy": "2022-06-29T19:59:14.315780Z",
     "iopub.status.idle": "2022-06-29T19:59:14.317102Z",
     "shell.execute_reply": "2022-06-29T19:59:14.317318Z"
    }
   },
   "outputs": [
    {
     "data": {
      "text/plain": [
       "query: \n",
       "SELECT\n",
       "  \"person_1\".\"person_id\", \n",
       "  \"person_1\".\"year_of_birth\", \n",
       "  \"person_1\".\"month_of_birth\", \n",
       "  \"person_1\".\"day_of_birth\", \n",
       "  \"person_1\".\"birth_datetime\", \n",
       "  \"person_1\".\"location_id\"\n",
       "FROM \"person\" AS \"person_1\"\n",
       "WHERE ((\"person_1\".\"year_of_birth\" > 1980) AND (\"person_1\".\"year_of_birth\" < 2000) AND (\"person_1\".\"year_of_birth\" <> 1990))"
      ]
     },
     "execution_count": 85,
     "metadata": {},
     "output_type": "execute_result"
    }
   ],
   "source": [
    "q = (\n",
    "    From(person)\n",
    "    >> Where(Fun(\">\", Get.year_of_birth, 1980))\n",
    "    >> Where(Fun(\"<\", Get.year_of_birth, 2000))\n",
    "    >> Where(Fun(\"!=\", Get.year_of_birth, 1990))\n",
    ")\n",
    "render(q)"
   ]
  },
  {
   "cell_type": "markdown",
   "metadata": {},
   "source": [
    "`Where` node following a `Group` subquery is translated into a `HAVING` clause. "
   ]
  },
  {
   "cell_type": "code",
   "execution_count": 86,
   "metadata": {
    "execution": {
     "iopub.execute_input": "2022-06-29T19:59:14.319785Z",
     "iopub.status.busy": "2022-06-29T19:59:14.319510Z",
     "iopub.status.idle": "2022-06-29T19:59:14.320832Z",
     "shell.execute_reply": "2022-06-29T19:59:14.321052Z"
    }
   },
   "outputs": [
    {
     "data": {
      "text/plain": [
       "query: \n",
       "SELECT \"location_1\".\"state\"\n",
       "FROM \"location\" AS \"location_1\"\n",
       "GROUP BY \"location_1\".\"state\"\n",
       "HAVING ((count(DISTINCT \"location_1\".\"city\") > 5) AND (count(DISTINCT \"location_1\".\"city\") < 10))"
      ]
     },
     "execution_count": 86,
     "metadata": {},
     "output_type": "execute_result"
    }
   ],
   "source": [
    "q = (\n",
    "    From(location)\n",
    "    >> Group(Get.state)\n",
    "    >> Where(Fun(\">\", Agg.count(Get.city, distinct=True), 5))\n",
    "    >> Where(Fun(\"<\", Agg.count(Get.city, distinct=True), 10))\n",
    ")\n",
    "\n",
    "render(q)"
   ]
  },
  {
   "cell_type": "code",
   "execution_count": null,
   "metadata": {},
   "outputs": [],
   "source": []
  }
 ],
 "metadata": {
  "interpreter": {
   "hash": "bee13da5dfd8cc2ab21d09493523ce7a17f20d31f50093ee24dd9a0766090f17"
  },
  "kernelspec": {
   "display_name": "Python 3",
   "language": "python",
   "name": "python3"
  },
  "language_info": {
   "codemirror_mode": {
    "name": "ipython",
    "version": 3
   },
   "file_extension": ".py",
   "mimetype": "text/x-python",
   "name": "python",
   "nbconvert_exporter": "python",
   "pygments_lexer": "ipython3",
   "version": "3.9.5"
  }
 },
 "nbformat": 4,
 "nbformat_minor": 4
}
